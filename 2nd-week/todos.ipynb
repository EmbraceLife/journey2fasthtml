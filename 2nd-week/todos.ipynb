{
 "cells": [
  {
   "cell_type": "markdown",
   "metadata": {},
   "source": [
    "# 00 Imports"
   ]
  },
  {
   "cell_type": "code",
   "execution_count": 1,
   "metadata": {},
   "outputs": [],
   "source": [
    "from fasthtml import common as fh \n",
    "from fasthtml.common import *\n",
    "\n",
    "from IPython.core.interactiveshell import InteractiveShell\n",
    "InteractiveShell.ast_node_interactivity = \"all\"\n",
    "\n",
    "import time\n",
    "\n",
    "from IPython import display\n",
    "from enum import Enum\n",
    "from pprint import pprint\n",
    "\n",
    "from fastcore.test import *\n",
    "from starlette.testclient import TestClient\n",
    "from starlette.requests import Headers\n",
    "from starlette.datastructures import UploadFile\n",
    "\n"
   ]
  },
  {
   "cell_type": "markdown",
   "metadata": {},
   "source": [
    "# initialization\n",
    "\n",
    "## what needed to start a web app\n",
    "\n",
    "- app: a server everything we need for a web app\n",
    "- rt: a router to manage the routes or paths to different pages in the app\n",
    "- todos: a database for the app\n",
    "- Todo: a data class for the todos\n",
    "\n",
    "## fast_app: what and how\n",
    "\n",
    "- fast_app: a function to initialize a web app by giving us all the above\n",
    "- 'todos1.db': specify the database file name\n",
    "- `live=True`: specify if the app is live mode or not\n",
    "- `id=int`, `title=str`, `done=bool` `pk='id'` are custom kwargs to specify the data types for each column of the database\n",
    "    - `id`, `title`, `done` are the columns of the database, \n",
    "    - and `id` is the primary key to uniquely identify each row"
   ]
  },
  {
   "cell_type": "markdown",
   "metadata": {},
   "source": [
    "## 01 initialize the app\n"
   ]
  },
  {
   "cell_type": "code",
   "execution_count": null,
   "metadata": {},
   "outputs": [],
   "source": [
    "app, rt, todos, Todo = fast_app('todos1.db', live=True,      \n",
    "                                id=int,\n",
    "                                title=str,\n",
    "                                done=bool,\n",
    "                                pk='id')\n",
    "\n"
   ]
  },
  {
   "cell_type": "markdown",
   "metadata": {},
   "source": [
    "### inspect what inside them\n"
   ]
  },
  {
   "cell_type": "code",
   "execution_count": null,
   "metadata": {},
   "outputs": [],
   "source": [
    "\n",
    "# app.\n",
    "# todos.\n",
    "# Todo.\n"
   ]
  },
  {
   "cell_type": "markdown",
   "metadata": {},
   "source": [
    "### 03 add initial data for database"
   ]
  },
  {
   "cell_type": "code",
   "execution_count": 69,
   "metadata": {},
   "outputs": [
    {
     "name": "stdout",
     "output_type": "stream",
     "text": [
      "Items(id=0, title='new todo', done=False)\n"
     ]
    },
    {
     "data": {
      "text/plain": [
       "<Table items (id, title, done)>"
      ]
     },
     "execution_count": 69,
     "metadata": {},
     "output_type": "execute_result"
    },
    {
     "data": {
      "text/plain": [
       "<Table items (id, title, done)>"
      ]
     },
     "execution_count": 69,
     "metadata": {},
     "output_type": "execute_result"
    },
    {
     "data": {
      "text/plain": [
       "<Table items (id, title, done)>"
      ]
     },
     "execution_count": 69,
     "metadata": {},
     "output_type": "execute_result"
    },
    {
     "data": {
      "text/plain": [
       "<Table items (id, title, done)>"
      ]
     },
     "execution_count": 69,
     "metadata": {},
     "output_type": "execute_result"
    },
    {
     "data": {
      "text/plain": [
       "<Table items (id, title, done)>"
      ]
     },
     "execution_count": 69,
     "metadata": {},
     "output_type": "execute_result"
    },
    {
     "data": {
      "text/plain": [
       "<Table items (id, title, done)>"
      ]
     },
     "execution_count": 69,
     "metadata": {},
     "output_type": "execute_result"
    },
    {
     "data": {
      "text/plain": [
       "<Table items (id, title, done)>"
      ]
     },
     "execution_count": 69,
     "metadata": {},
     "output_type": "execute_result"
    },
    {
     "data": {
      "text/plain": [
       "<Table items (id, title, done)>"
      ]
     },
     "execution_count": 69,
     "metadata": {},
     "output_type": "execute_result"
    },
    {
     "data": {
      "text/plain": [
       "<Table items (id, title, done)>"
      ]
     },
     "execution_count": 69,
     "metadata": {},
     "output_type": "execute_result"
    },
    {
     "data": {
      "text/plain": [
       "<Table items (id, title, done)>"
      ]
     },
     "execution_count": 69,
     "metadata": {},
     "output_type": "execute_result"
    },
    {
     "data": {
      "text/plain": [
       "<Table items (id, title, done)>"
      ]
     },
     "execution_count": 69,
     "metadata": {},
     "output_type": "execute_result"
    },
    {
     "data": {
      "text/plain": [
       "<Table items (id, title, done)>"
      ]
     },
     "execution_count": 69,
     "metadata": {},
     "output_type": "execute_result"
    },
    {
     "data": {
      "text/plain": [
       "<Table items (id, title, done)>"
      ]
     },
     "execution_count": 69,
     "metadata": {},
     "output_type": "execute_result"
    },
    {
     "data": {
      "text/plain": [
       "<Table items (id, title, done)>"
      ]
     },
     "execution_count": 69,
     "metadata": {},
     "output_type": "execute_result"
    },
    {
     "data": {
      "text/plain": [
       "<Table items (id, title, done)>"
      ]
     },
     "execution_count": 69,
     "metadata": {},
     "output_type": "execute_result"
    },
    {
     "data": {
      "text/plain": [
       "<Table items (id, title, done)>"
      ]
     },
     "execution_count": 69,
     "metadata": {},
     "output_type": "execute_result"
    },
    {
     "data": {
      "text/plain": [
       "<Table items (id, title, done)>"
      ]
     },
     "execution_count": 69,
     "metadata": {},
     "output_type": "execute_result"
    },
    {
     "data": {
      "text/plain": [
       "<Table items (id, title, done)>"
      ]
     },
     "execution_count": 69,
     "metadata": {},
     "output_type": "execute_result"
    },
    {
     "data": {
      "text/plain": [
       "Items(id=1, title='First todo', done=1)"
      ]
     },
     "execution_count": 69,
     "metadata": {},
     "output_type": "execute_result"
    },
    {
     "data": {
      "text/plain": [
       "Items(id=2, title='Second todo', done=None)"
      ]
     },
     "execution_count": 69,
     "metadata": {},
     "output_type": "execute_result"
    },
    {
     "data": {
      "text/plain": [
       "Items(id=3, title='Third todo', done=1)"
      ]
     },
     "execution_count": 69,
     "metadata": {},
     "output_type": "execute_result"
    },
    {
     "name": "stdout",
     "output_type": "stream",
     "text": [
      "Row 0: {'id': 1, 'title': 'First todo', 'done': 1}\n",
      "Row 1: {'id': 2, 'title': 'Second todo', 'done': None}\n",
      "Row 2: {'id': 3, 'title': 'Third todo', 'done': 1}\n"
     ]
    }
   ],
   "source": [
    "app, rt, todos, Todo = fast_app('todos1.db', live=True,      \n",
    "                                id=int,\n",
    "                                title=str,\n",
    "                                done=bool,\n",
    "                                pk='id')\n",
    "\n",
    "pprint(Todo(id=0, title='new todo', done=False))\n",
    "\n",
    "# delete all rows\n",
    "for i, row in enumerate(todos.rows):\n",
    "    todos.delete(row['id'])\n",
    "\n",
    "# initialize with 3 rows\n",
    "todos.insert(title='First todo', done=True)\n",
    "todos.insert(title='Second todo')\n",
    "todos.insert(title='Third todo', done=True)\n",
    "\n",
    "# print all rows\n",
    "for i, row in enumerate(todos.rows):\n",
    "    print(f\"Row {i}: {row}\")\n",
    "    # todos.get(row['id'])\n",
    "\n",
    "\n"
   ]
  },
  {
   "cell_type": "markdown",
   "metadata": {},
   "source": [
    "# design root page"
   ]
  },
  {
   "cell_type": "markdown",
   "metadata": {},
   "source": [
    "### 04 display a text"
   ]
  },
  {
   "cell_type": "code",
   "execution_count": 21,
   "metadata": {},
   "outputs": [
    {
     "name": "stdout",
     "output_type": "stream",
     "text": [
      "'Hello World'\n"
     ]
    }
   ],
   "source": [
    "from fasthtml.common import *\n",
    "\n",
    "app, rt, todos, Todo = fast_app('todos1.db', live=True,      \n",
    "                                id=int,\n",
    "                                title=str,\n",
    "                                done=bool,\n",
    "                                pk='id')\n",
    "\n",
    "@rt('/')\n",
    "def get():\n",
    "    return 'Hello World'\n",
    "\n",
    "\n",
    "cli = TestClient(app)\n",
    "pprint(cli.get('/').text)\n",
    "# serve()"
   ]
  },
  {
   "cell_type": "markdown",
   "metadata": {},
   "source": [
    "### 05 a Form to submit, a Ul to display\n",
    "\n",
    "basic but reasonable design for todo list"
   ]
  },
  {
   "cell_type": "code",
   "execution_count": 27,
   "metadata": {},
   "outputs": [
    {
     "name": "stdout",
     "output_type": "stream",
     "text": [
      "('<!doctype html>\\n'\n",
      " '\\n'\n",
      " '<html>\\n'\n",
      " '  <head>\\n'\n",
      " '    <title>Todos</title>\\n'\n",
      " '    <meta charset=\"utf-8\">\\n'\n",
      " '    <meta name=\"viewport\" content=\"width=device-width, initial-scale=1, '\n",
      " 'viewport-fit=cover\">\\n'\n",
      " '    <script '\n",
      " 'src=\"https://unpkg.com/htmx.org@next/dist/htmx.min.js\"></script>\\n'\n",
      " '    <script '\n",
      " 'src=\"https://cdn.jsdelivr.net/gh/answerdotai/surreal@1.3.0/surreal.js\"></script>\\n'\n",
      " '    <script '\n",
      " 'src=\"https://cdn.jsdelivr.net/gh/gnat/css-scope-inline@main/script.js\"></script>\\n'\n",
      " '    <link rel=\"stylesheet\" '\n",
      " 'href=\"https://cdn.jsdelivr.net/npm/@picocss/pico@latest/css/pico.min.css\">\\n'\n",
      " '    <style>:root { --pico-font-size: 100%; }</style>\\n'\n",
      " '    <script>\\n'\n",
      " '    (function() {\\n'\n",
      " '        var socket = new '\n",
      " 'WebSocket(`ws://${window.location.host}/live-reload`);\\n'\n",
      " '        var maxReloadAttempts = 1;\\n'\n",
      " '        var reloadInterval = 1000; // time between reload attempts in ms\\n'\n",
      " '        socket.onclose = function() {\\n'\n",
      " '            let reloadAttempts = 0;\\n'\n",
      " '            const intervalFn = setInterval(function(){\\n'\n",
      " '                window.location.reload();\\n'\n",
      " '                reloadAttempts++;\\n'\n",
      " '                if (reloadAttempts === maxReloadAttempts) '\n",
      " 'clearInterval(intervalFn);\\n'\n",
      " '            }, reloadInterval);\\n'\n",
      " '        }\\n'\n",
      " '    })();\\n'\n",
      " '</script>\\n'\n",
      " '  </head>\\n'\n",
      " '  <body reload-attempts=\"1\" reload-interval=\"1000\">\\n'\n",
      " '<main class=\"container\">\\n'\n",
      " '  <h1>Todos</h1>\\n'\n",
      " '  <form enctype=\"multipart/form-data\">\\n'\n",
      " '    <fieldset role=\"group\">\\n'\n",
      " '      <input placeholder=\"type your todo\" name=\"title\" id=\"todo-input\">\\n'\n",
      " '      <button>Add</button>\\n'\n",
      " '    </fieldset>\\n'\n",
      " '  </form>\\n'\n",
      " '</main>\\n'\n",
      " '  </body>\\n'\n",
      " '</html>\\n')\n"
     ]
    }
   ],
   "source": [
    "from fasthtml.common import *\n",
    "\n",
    "app, rt, todos, Todo = fast_app('todos1.db', live=True,      \n",
    "                                id=int,\n",
    "                                title=str,\n",
    "                                done=bool,\n",
    "                                pk='id')\n",
    "\n",
    "@rt('/')\n",
    "def get():\n",
    "    out = Titled(\"Todos\",\n",
    "                 Form(Group(\n",
    "                     Input(placeholder='type your todo', name='title', id='todo-input'), \n",
    "                     Button('Add')))\n",
    "                 )\n",
    "    return out\n",
    "\n",
    "\n",
    "cli = TestClient(app)\n",
    "pprint(cli.get('/').text) # same to what displayed in the browser\n",
    "\n",
    "# serve()"
   ]
  },
  {
   "cell_type": "markdown",
   "metadata": {},
   "source": [
    "#### 05.1: Titled\n",
    "\n"
   ]
  },
  {
   "cell_type": "code",
   "execution_count": 32,
   "metadata": {},
   "outputs": [
    {
     "name": "stdout",
     "output_type": "stream",
     "text": [
      "('<!doctype html>\\n'\n",
      " '\\n'\n",
      " '<html>\\n'\n",
      " '  <head>\\n'\n",
      " '    <title>FastHTML page</title>\\n'\n",
      " '    <meta charset=\"utf-8\">\\n'\n",
      " '    <meta name=\"viewport\" content=\"width=device-width, initial-scale=1, '\n",
      " 'viewport-fit=cover\">\\n'\n",
      " '    <script '\n",
      " 'src=\"https://unpkg.com/htmx.org@next/dist/htmx.min.js\"></script>\\n'\n",
      " '    <script '\n",
      " 'src=\"https://cdn.jsdelivr.net/gh/answerdotai/surreal@1.3.0/surreal.js\"></script>\\n'\n",
      " '    <script '\n",
      " 'src=\"https://cdn.jsdelivr.net/gh/gnat/css-scope-inline@main/script.js\"></script>\\n'\n",
      " '    <link rel=\"stylesheet\" '\n",
      " 'href=\"https://cdn.jsdelivr.net/npm/@picocss/pico@latest/css/pico.min.css\">\\n'\n",
      " '    <style>:root { --pico-font-size: 100%; }</style>\\n'\n",
      " '    <script>\\n'\n",
      " '    (function() {\\n'\n",
      " '        var socket = new '\n",
      " 'WebSocket(`ws://${window.location.host}/live-reload`);\\n'\n",
      " '        var maxReloadAttempts = 1;\\n'\n",
      " '        var reloadInterval = 1000; // time between reload attempts in ms\\n'\n",
      " '        socket.onclose = function() {\\n'\n",
      " '            let reloadAttempts = 0;\\n'\n",
      " '            const intervalFn = setInterval(function(){\\n'\n",
      " '                window.location.reload();\\n'\n",
      " '                reloadAttempts++;\\n'\n",
      " '                if (reloadAttempts === maxReloadAttempts) '\n",
      " 'clearInterval(intervalFn);\\n'\n",
      " '            }, reloadInterval);\\n'\n",
      " '        }\\n'\n",
      " '    })();\\n'\n",
      " '</script>\\n'\n",
      " '  </head>\\n'\n",
      " '  <body reload-attempts=\"1\" reload-interval=\"1000\">\\n'\n",
      " '<title>Todos</title>\\n'\n",
      " '\\n'\n",
      " '<main class=\"container\">\\n'\n",
      " '  <h1>Todos</h1>\\n'\n",
      " '</main>\\n'\n",
      " '  </body>\\n'\n",
      " '</html>\\n')\n"
     ]
    }
   ],
   "source": [
    "from fasthtml.common import *\n",
    "\n",
    "app, rt, todos, Todo = fast_app('todos1.db', live=True,      \n",
    "                                id=int,\n",
    "                                title=str,\n",
    "                                done=bool,\n",
    "                                pk='id')\n",
    "\n",
    "@rt('/')\n",
    "def get():\n",
    "    out = Titled(\"Todos\"), # step 1\n",
    "                #  Form(Group(\n",
    "                #      Input(placeholder='type your todo', name='title', id='todo-input'), \n",
    "                #      Button('Add')))\n",
    "                #  )\n",
    "    return out\n",
    "\n",
    "\n",
    "cli = TestClient(app)\n",
    "pprint(cli.get('/').text) # same to what displayed in the browser\n",
    "\n",
    "# serve()"
   ]
  },
  {
   "cell_type": "markdown",
   "metadata": {},
   "source": [
    "#### 05.2: Input"
   ]
  },
  {
   "cell_type": "code",
   "execution_count": 33,
   "metadata": {},
   "outputs": [
    {
     "name": "stdout",
     "output_type": "stream",
     "text": [
      "('<!doctype html>\\n'\n",
      " '\\n'\n",
      " '<html>\\n'\n",
      " '  <head>\\n'\n",
      " '    <title>Todos</title>\\n'\n",
      " '    <meta charset=\"utf-8\">\\n'\n",
      " '    <meta name=\"viewport\" content=\"width=device-width, initial-scale=1, '\n",
      " 'viewport-fit=cover\">\\n'\n",
      " '    <script '\n",
      " 'src=\"https://unpkg.com/htmx.org@next/dist/htmx.min.js\"></script>\\n'\n",
      " '    <script '\n",
      " 'src=\"https://cdn.jsdelivr.net/gh/answerdotai/surreal@1.3.0/surreal.js\"></script>\\n'\n",
      " '    <script '\n",
      " 'src=\"https://cdn.jsdelivr.net/gh/gnat/css-scope-inline@main/script.js\"></script>\\n'\n",
      " '    <link rel=\"stylesheet\" '\n",
      " 'href=\"https://cdn.jsdelivr.net/npm/@picocss/pico@latest/css/pico.min.css\">\\n'\n",
      " '    <style>:root { --pico-font-size: 100%; }</style>\\n'\n",
      " '    <script>\\n'\n",
      " '    (function() {\\n'\n",
      " '        var socket = new '\n",
      " 'WebSocket(`ws://${window.location.host}/live-reload`);\\n'\n",
      " '        var maxReloadAttempts = 1;\\n'\n",
      " '        var reloadInterval = 1000; // time between reload attempts in ms\\n'\n",
      " '        socket.onclose = function() {\\n'\n",
      " '            let reloadAttempts = 0;\\n'\n",
      " '            const intervalFn = setInterval(function(){\\n'\n",
      " '                window.location.reload();\\n'\n",
      " '                reloadAttempts++;\\n'\n",
      " '                if (reloadAttempts === maxReloadAttempts) '\n",
      " 'clearInterval(intervalFn);\\n'\n",
      " '            }, reloadInterval);\\n'\n",
      " '        }\\n'\n",
      " '    })();\\n'\n",
      " '</script>\\n'\n",
      " '  </head>\\n'\n",
      " '  <body reload-attempts=\"1\" reload-interval=\"1000\">\\n'\n",
      " '<main class=\"container\">\\n'\n",
      " '  <h1>Todos</h1>\\n'\n",
      " '  <input placeholder=\"type your todo\" name=\"title\" id=\"todo-input\">\\n'\n",
      " '</main>\\n'\n",
      " '  </body>\\n'\n",
      " '</html>\\n')\n"
     ]
    }
   ],
   "source": [
    "from fasthtml.common import *\n",
    "\n",
    "app, rt, todos, Todo = fast_app('todos1.db', live=True,      \n",
    "                                id=int,\n",
    "                                title=str,\n",
    "                                done=bool,\n",
    "                                pk='id')\n",
    "\n",
    "@rt('/')\n",
    "def get():\n",
    "    out = Titled(\"Todos\",\n",
    "                     Input(placeholder='type your todo', name='title', id='todo-input'),\n",
    "    ) \n",
    "                #      Button('Add')))\n",
    "                #  )\n",
    "    return out\n",
    "\n",
    "\n",
    "cli = TestClient(app)\n",
    "pprint(cli.get('/').text) # same to what displayed in the browser\n",
    "\n",
    "# serve()"
   ]
  },
  {
   "cell_type": "markdown",
   "metadata": {},
   "source": [
    "#### 05.3: Button"
   ]
  },
  {
   "cell_type": "code",
   "execution_count": 34,
   "metadata": {},
   "outputs": [
    {
     "name": "stdout",
     "output_type": "stream",
     "text": [
      "('<!doctype html>\\n'\n",
      " '\\n'\n",
      " '<html>\\n'\n",
      " '  <head>\\n'\n",
      " '    <title>Todos</title>\\n'\n",
      " '    <meta charset=\"utf-8\">\\n'\n",
      " '    <meta name=\"viewport\" content=\"width=device-width, initial-scale=1, '\n",
      " 'viewport-fit=cover\">\\n'\n",
      " '    <script '\n",
      " 'src=\"https://unpkg.com/htmx.org@next/dist/htmx.min.js\"></script>\\n'\n",
      " '    <script '\n",
      " 'src=\"https://cdn.jsdelivr.net/gh/answerdotai/surreal@1.3.0/surreal.js\"></script>\\n'\n",
      " '    <script '\n",
      " 'src=\"https://cdn.jsdelivr.net/gh/gnat/css-scope-inline@main/script.js\"></script>\\n'\n",
      " '    <link rel=\"stylesheet\" '\n",
      " 'href=\"https://cdn.jsdelivr.net/npm/@picocss/pico@latest/css/pico.min.css\">\\n'\n",
      " '    <style>:root { --pico-font-size: 100%; }</style>\\n'\n",
      " '    <script>\\n'\n",
      " '    (function() {\\n'\n",
      " '        var socket = new '\n",
      " 'WebSocket(`ws://${window.location.host}/live-reload`);\\n'\n",
      " '        var maxReloadAttempts = 1;\\n'\n",
      " '        var reloadInterval = 1000; // time between reload attempts in ms\\n'\n",
      " '        socket.onclose = function() {\\n'\n",
      " '            let reloadAttempts = 0;\\n'\n",
      " '            const intervalFn = setInterval(function(){\\n'\n",
      " '                window.location.reload();\\n'\n",
      " '                reloadAttempts++;\\n'\n",
      " '                if (reloadAttempts === maxReloadAttempts) '\n",
      " 'clearInterval(intervalFn);\\n'\n",
      " '            }, reloadInterval);\\n'\n",
      " '        }\\n'\n",
      " '    })();\\n'\n",
      " '</script>\\n'\n",
      " '  </head>\\n'\n",
      " '  <body reload-attempts=\"1\" reload-interval=\"1000\">\\n'\n",
      " '<main class=\"container\">\\n'\n",
      " '  <h1>Todos</h1>\\n'\n",
      " '  <input placeholder=\"type your todo\" name=\"title\" id=\"todo-input\">\\n'\n",
      " '  <button>Add</button>\\n'\n",
      " '</main>\\n'\n",
      " '  </body>\\n'\n",
      " '</html>\\n')\n"
     ]
    }
   ],
   "source": [
    "from fasthtml.common import *\n",
    "\n",
    "app, rt, todos, Todo = fast_app('todos1.db', live=True,      \n",
    "                                id=int,\n",
    "                                title=str,\n",
    "                                done=bool,\n",
    "                                pk='id')\n",
    "\n",
    "@rt('/')\n",
    "def get():\n",
    "    out = Titled(\"Todos\",\n",
    "                     Input(placeholder='type your todo', name='title', id='todo-input'),\n",
    "                     Button('Add'))\n",
    "                #  )\n",
    "    return out\n",
    "\n",
    "\n",
    "cli = TestClient(app)\n",
    "pprint(cli.get('/').text) # same to what displayed in the browser\n",
    "\n",
    "# serve()"
   ]
  },
  {
   "cell_type": "markdown",
   "metadata": {},
   "source": [
    "#### 05.4: Group"
   ]
  },
  {
   "cell_type": "code",
   "execution_count": null,
   "metadata": {},
   "outputs": [],
   "source": [
    "from fasthtml.common import *\n",
    "\n",
    "app, rt, todos, Todo = fast_app('todos1.db', live=True,      \n",
    "                                id=int,\n",
    "                                title=str,\n",
    "                                done=bool,\n",
    "                                pk='id')\n",
    "\n",
    "@rt('/')\n",
    "def get():\n",
    "    out = Titled(\"Todos\",\n",
    "                     Group(\n",
    "                        Input(placeholder='type your todo', name='title', id='todo-input'),\n",
    "                        Button('Add'))\n",
    "                 )\n",
    "    return out\n",
    "\n",
    "\n",
    "cli = TestClient(app)\n",
    "pprint(cli.get('/').text) # same to what displayed in the browser\n",
    "\n",
    "# serve()"
   ]
  },
  {
   "cell_type": "markdown",
   "metadata": {},
   "source": [
    "#### 05.5: Ul"
   ]
  },
  {
   "cell_type": "code",
   "execution_count": 35,
   "metadata": {},
   "outputs": [
    {
     "name": "stdout",
     "output_type": "stream",
     "text": [
      "('<!doctype html>\\n'\n",
      " '\\n'\n",
      " '<html>\\n'\n",
      " '  <head>\\n'\n",
      " '    <title>Todos</title>\\n'\n",
      " '    <meta charset=\"utf-8\">\\n'\n",
      " '    <meta name=\"viewport\" content=\"width=device-width, initial-scale=1, '\n",
      " 'viewport-fit=cover\">\\n'\n",
      " '    <script '\n",
      " 'src=\"https://unpkg.com/htmx.org@next/dist/htmx.min.js\"></script>\\n'\n",
      " '    <script '\n",
      " 'src=\"https://cdn.jsdelivr.net/gh/answerdotai/surreal@1.3.0/surreal.js\"></script>\\n'\n",
      " '    <script '\n",
      " 'src=\"https://cdn.jsdelivr.net/gh/gnat/css-scope-inline@main/script.js\"></script>\\n'\n",
      " '    <link rel=\"stylesheet\" '\n",
      " 'href=\"https://cdn.jsdelivr.net/npm/@picocss/pico@latest/css/pico.min.css\">\\n'\n",
      " '    <style>:root { --pico-font-size: 100%; }</style>\\n'\n",
      " '    <script>\\n'\n",
      " '    (function() {\\n'\n",
      " '        var socket = new '\n",
      " 'WebSocket(`ws://${window.location.host}/live-reload`);\\n'\n",
      " '        var maxReloadAttempts = 1;\\n'\n",
      " '        var reloadInterval = 1000; // time between reload attempts in ms\\n'\n",
      " '        socket.onclose = function() {\\n'\n",
      " '            let reloadAttempts = 0;\\n'\n",
      " '            const intervalFn = setInterval(function(){\\n'\n",
      " '                window.location.reload();\\n'\n",
      " '                reloadAttempts++;\\n'\n",
      " '                if (reloadAttempts === maxReloadAttempts) '\n",
      " 'clearInterval(intervalFn);\\n'\n",
      " '            }, reloadInterval);\\n'\n",
      " '        }\\n'\n",
      " '    })();\\n'\n",
      " '</script>\\n'\n",
      " '  </head>\\n'\n",
      " '  <body reload-attempts=\"1\" reload-interval=\"1000\">\\n'\n",
      " '<main class=\"container\">\\n'\n",
      " '  <h1>Todos</h1>\\n'\n",
      " '  <fieldset role=\"group\">\\n'\n",
      " '    <input placeholder=\"type your todo\" name=\"title\" id=\"todo-input\">\\n'\n",
      " '    <button>Add</button>\\n'\n",
      " '  </fieldset>\\n'\n",
      " '  <ul>\\n'\n",
      " \"Items(id=1, title='First todo', done=None)\\n\"\n",
      " \"Items(id=2, title='Second todo', done=None)\\n\"\n",
      " \"Items(id=3, title='Third todo', done=None)\\n\"\n",
      " '  </ul>\\n'\n",
      " '</main>\\n'\n",
      " '  </body>\\n'\n",
      " '</html>\\n')\n"
     ]
    }
   ],
   "source": [
    "from fasthtml.common import *\n",
    "\n",
    "app, rt, todos, Todo = fast_app('todos1.db', live=True,      \n",
    "                                id=int,\n",
    "                                title=str,\n",
    "                                done=bool,\n",
    "                                pk='id')\n",
    "\n",
    "@rt('/')\n",
    "def get():\n",
    "    out = Titled(\"Todos\",\n",
    "                     Group(\n",
    "                        Input(placeholder='type your todo', name='title', id='todo-input'),\n",
    "                        Button('Add')),\n",
    "                    Ul(*todos())\n",
    "                 )\n",
    "    return out\n",
    "\n",
    "\n",
    "cli = TestClient(app)\n",
    "pprint(cli.get('/').text) # same to what displayed in the browser\n",
    "\n",
    "# serve()"
   ]
  },
  {
   "cell_type": "markdown",
   "metadata": {},
   "source": [
    "#### 05.6: Li"
   ]
  },
  {
   "cell_type": "code",
   "execution_count": 36,
   "metadata": {},
   "outputs": [
    {
     "name": "stdout",
     "output_type": "stream",
     "text": [
      "('<!doctype html>\\n'\n",
      " '\\n'\n",
      " '<html>\\n'\n",
      " '  <head>\\n'\n",
      " '    <title>Todos</title>\\n'\n",
      " '    <meta charset=\"utf-8\">\\n'\n",
      " '    <meta name=\"viewport\" content=\"width=device-width, initial-scale=1, '\n",
      " 'viewport-fit=cover\">\\n'\n",
      " '    <script '\n",
      " 'src=\"https://unpkg.com/htmx.org@next/dist/htmx.min.js\"></script>\\n'\n",
      " '    <script '\n",
      " 'src=\"https://cdn.jsdelivr.net/gh/answerdotai/surreal@1.3.0/surreal.js\"></script>\\n'\n",
      " '    <script '\n",
      " 'src=\"https://cdn.jsdelivr.net/gh/gnat/css-scope-inline@main/script.js\"></script>\\n'\n",
      " '    <link rel=\"stylesheet\" '\n",
      " 'href=\"https://cdn.jsdelivr.net/npm/@picocss/pico@latest/css/pico.min.css\">\\n'\n",
      " '    <style>:root { --pico-font-size: 100%; }</style>\\n'\n",
      " '    <script>\\n'\n",
      " '    (function() {\\n'\n",
      " '        var socket = new '\n",
      " 'WebSocket(`ws://${window.location.host}/live-reload`);\\n'\n",
      " '        var maxReloadAttempts = 1;\\n'\n",
      " '        var reloadInterval = 1000; // time between reload attempts in ms\\n'\n",
      " '        socket.onclose = function() {\\n'\n",
      " '            let reloadAttempts = 0;\\n'\n",
      " '            const intervalFn = setInterval(function(){\\n'\n",
      " '                window.location.reload();\\n'\n",
      " '                reloadAttempts++;\\n'\n",
      " '                if (reloadAttempts === maxReloadAttempts) '\n",
      " 'clearInterval(intervalFn);\\n'\n",
      " '            }, reloadInterval);\\n'\n",
      " '        }\\n'\n",
      " '    })();\\n'\n",
      " '</script>\\n'\n",
      " '  </head>\\n'\n",
      " '  <body reload-attempts=\"1\" reload-interval=\"1000\">\\n'\n",
      " '<main class=\"container\">\\n'\n",
      " '  <h1>Todos</h1>\\n'\n",
      " '  <fieldset role=\"group\">\\n'\n",
      " '    <input placeholder=\"type your todo\" name=\"title\" id=\"todo-input\">\\n'\n",
      " '    <button>Add</button>\\n'\n",
      " '  </fieldset>\\n'\n",
      " '  <ul>\\n'\n",
      " \"    <li>Items(id=1, title='First todo', done=None)</li>\\n\"\n",
      " \"    <li>Items(id=2, title='Second todo', done=None)</li>\\n\"\n",
      " \"    <li>Items(id=3, title='Third todo', done=None)</li>\\n\"\n",
      " '  </ul>\\n'\n",
      " '</main>\\n'\n",
      " '  </body>\\n'\n",
      " '</html>\\n')\n"
     ]
    }
   ],
   "source": [
    "from fasthtml.common import *\n",
    "\n",
    "app, rt, todos, Todo = fast_app('todos1.db', live=True,      \n",
    "                                id=int,\n",
    "                                title=str,\n",
    "                                done=bool,\n",
    "                                pk='id')\n",
    "\n",
    "@rt('/')\n",
    "def get():\n",
    "    out = Titled(\"Todos\",\n",
    "                     Group(\n",
    "                        Input(placeholder='type your todo', name='title', id='todo-input'),\n",
    "                        Button('Add')),\n",
    "                    Ul(Li(t) for t in todos())\n",
    "                 )\n",
    "    return out\n",
    "\n",
    "\n",
    "cli = TestClient(app)\n",
    "pprint(cli.get('/').text) # same to what displayed in the browser\n",
    "\n",
    "# serve()"
   ]
  },
  {
   "cell_type": "markdown",
   "metadata": {},
   "source": [
    "#### But nothing happens when typing inside Input"
   ]
  },
  {
   "cell_type": "code",
   "execution_count": 31,
   "metadata": {},
   "outputs": [
    {
     "name": "stdout",
     "output_type": "stream",
     "text": [
      "Row 0: {'id': 1, 'title': 'First todo', 'done': None}\n",
      "Row 1: {'id': 2, 'title': 'Second todo', 'done': None}\n",
      "Row 2: {'id': 3, 'title': 'Third todo', 'done': None}\n",
      "===========================\n",
      "TestClient.get() got an unexpected keyword argument 'data'\n",
      "'Method Not Allowed'\n",
      "Row 0: {'id': 1, 'title': 'First todo', 'done': None}\n",
      "Row 1: {'id': 2, 'title': 'Second todo', 'done': None}\n",
      "Row 2: {'id': 3, 'title': 'Third todo', 'done': None}\n"
     ]
    }
   ],
   "source": [
    "# type inside a Input bar and enter or click button to see any difference in the browser url\n",
    "for i, row in enumerate(todos.rows):\n",
    "    print(f\"Row {i}: {row}\")\n",
    "print('===========================')\n",
    "\n",
    "# try to submit with cli here\n",
    "try:\n",
    "    pprint(cli.get('/', data={'id':4, 'title':'todo-cli-4', 'done':True}).text)\n",
    "except Exception as e:\n",
    "    print(e)\n",
    "pprint(cli.post('/', data={'id':4, 'title':'todo-cli-4', 'done':True}).text)\n",
    "\n",
    "for i, row in enumerate(todos.rows):\n",
    "    print(f\"Row {i}: {row}\")"
   ]
  },
  {
   "cell_type": "markdown",
   "metadata": {},
   "source": [
    "#### 05.7: Form\n",
    "\n",
    "##### **Two attrs of Form: `enctype`, `method`**\n",
    "\n",
    "- Form set `enctype` to `multipart/form-data` for `<input>` with default `type=file`.\n",
    "\n",
    "- Form has `get` as the **default** [method](https://developer.mozilla.org/en-US/docs/Web/HTML/Element/form#method) "
   ]
  },
  {
   "cell_type": "markdown",
   "metadata": {},
   "source": [
    "##### Input requires Form\n",
    "\n",
    "The `<input>` tag in HTML is used to collect user inputs. However, without a surrounding `<form>` tag, the data entered into the `<input>` field will not be sent anywhere when the user presses enter or clicks a submit button.\n",
    "\n",
    "The `<form>` tag is necessary because it provides the URL (in the `action` attribute) where the form data should be sent, and the method (`GET` or `POST`) of how to send the data.\n",
    "\n",
    "When a form is submitted using the `GET` method, the form data is appended to the URL in the address bar, which is why you see `http://localhost:5001/?title=this+is`.\n",
    "\n",
    "Without a `<form>` tag, the browser has no instructions on where to send the data or how to append it to the URL, so you just see `http://localhost:5001/` in the address bar.\n",
    "\n"
   ]
  },
  {
   "cell_type": "markdown",
   "metadata": {},
   "source": [
    "\n",
    "#### 05.8 How `GET` and `POST` differ\n",
    "\n",
    "When you submit a form in a web page, the form data can be sent to the server either via the URL (known as a GET request) or in the body of the HTTP request (known as a POST request).\n",
    "\n",
    "If the form's method is GET, the form data is encoded in the URL, typically after a ?. For example, http://localhost:5001/?title=this+is. This is useful for non-sensitive data and when you want the results to be bookmarkable or shareable.\n",
    "\n",
    "If the form's method is POST, the form data is included in the body of the HTTP request, not in the URL. This is useful for sensitive data like passwords, or for large amounts of data."
   ]
  },
  {
   "cell_type": "code",
   "execution_count": 38,
   "metadata": {},
   "outputs": [
    {
     "name": "stdout",
     "output_type": "stream",
     "text": [
      "('<!doctype html>\\n'\n",
      " '\\n'\n",
      " '<html>\\n'\n",
      " '  <head>\\n'\n",
      " '    <title>Todos</title>\\n'\n",
      " '    <meta charset=\"utf-8\">\\n'\n",
      " '    <meta name=\"viewport\" content=\"width=device-width, initial-scale=1, '\n",
      " 'viewport-fit=cover\">\\n'\n",
      " '    <script '\n",
      " 'src=\"https://unpkg.com/htmx.org@next/dist/htmx.min.js\"></script>\\n'\n",
      " '    <script '\n",
      " 'src=\"https://cdn.jsdelivr.net/gh/answerdotai/surreal@1.3.0/surreal.js\"></script>\\n'\n",
      " '    <script '\n",
      " 'src=\"https://cdn.jsdelivr.net/gh/gnat/css-scope-inline@main/script.js\"></script>\\n'\n",
      " '    <link rel=\"stylesheet\" '\n",
      " 'href=\"https://cdn.jsdelivr.net/npm/@picocss/pico@latest/css/pico.min.css\">\\n'\n",
      " '    <style>:root { --pico-font-size: 100%; }</style>\\n'\n",
      " '    <script>\\n'\n",
      " '    (function() {\\n'\n",
      " '        var socket = new '\n",
      " 'WebSocket(`ws://${window.location.host}/live-reload`);\\n'\n",
      " '        var maxReloadAttempts = 1;\\n'\n",
      " '        var reloadInterval = 1000; // time between reload attempts in ms\\n'\n",
      " '        socket.onclose = function() {\\n'\n",
      " '            let reloadAttempts = 0;\\n'\n",
      " '            const intervalFn = setInterval(function(){\\n'\n",
      " '                window.location.reload();\\n'\n",
      " '                reloadAttempts++;\\n'\n",
      " '                if (reloadAttempts === maxReloadAttempts) '\n",
      " 'clearInterval(intervalFn);\\n'\n",
      " '            }, reloadInterval);\\n'\n",
      " '        }\\n'\n",
      " '    })();\\n'\n",
      " '</script>\\n'\n",
      " '  </head>\\n'\n",
      " '  <body reload-attempts=\"1\" reload-interval=\"1000\">\\n'\n",
      " '<main class=\"container\">\\n'\n",
      " '  <h1>Todos</h1>\\n'\n",
      " '  <form enctype=\"multipart/form-data\">\\n'\n",
      " '    <fieldset role=\"group\">\\n'\n",
      " '      <input placeholder=\"type your todo\" name=\"title\" id=\"todo-input\">\\n'\n",
      " '      <button>Add</button>\\n'\n",
      " '    </fieldset>\\n'\n",
      " '  </form>\\n'\n",
      " '  <ul>\\n'\n",
      " \"    <li>Items(id=1, title='First todo', done=None)</li>\\n\"\n",
      " \"    <li>Items(id=2, title='Second todo', done=None)</li>\\n\"\n",
      " \"    <li>Items(id=3, title='Third todo', done=None)</li>\\n\"\n",
      " '  </ul>\\n'\n",
      " '</main>\\n'\n",
      " '  </body>\\n'\n",
      " '</html>\\n')\n"
     ]
    }
   ],
   "source": [
    "from fasthtml.common import *\n",
    "\n",
    "app, rt, todos, Todo = fast_app('todos1.db', live=True,      \n",
    "                                id=int,\n",
    "                                title=str,\n",
    "                                done=bool,\n",
    "                                pk='id')\n",
    "\n",
    "@rt('/')\n",
    "def get():\n",
    "    out = Titled(\"Todos\",\n",
    "                    Form(Group(\n",
    "                        Input(placeholder='type your todo', name='title', id='todo-input'),\n",
    "                        Button('Add'))),\n",
    "                    Ul(Li(t) for t in todos())\n",
    "                 )\n",
    "    return out\n",
    "\n",
    "\n",
    "cli = TestClient(app)\n",
    "pprint(cli.get('/').text) # same to what displayed in the browser\n",
    "\n",
    "\n",
    "# serve()"
   ]
  },
  {
   "cell_type": "markdown",
   "metadata": {},
   "source": [
    "# data from Form to Server and back"
   ]
  },
  {
   "cell_type": "markdown",
   "metadata": {},
   "source": [
    "#### hx_post vs hx_get\n",
    "\n",
    "- Don't worry about `method='POST'` or `method='GET'` in Form, not used here\n",
    "- only consider `hx_post` or `hx_get` in Form, which is used to send data to the server\n",
    "- as this is single page app, we won't go to other path or page, so we can choose a arbitrary path for `hx_get`, such as `hx_get('/tryInputData')`\n",
    "- so does `hx_post`, such as `hx_post('/tryInputData')`\n",
    "- only `hx_post` can receive data from Form, not `hx_get`"
   ]
  },
  {
   "cell_type": "markdown",
   "metadata": {},
   "source": [
    "##### 06 `hx_get` can't receive data from Form"
   ]
  },
  {
   "cell_type": "code",
   "execution_count": 47,
   "metadata": {},
   "outputs": [
    {
     "name": "stdout",
     "output_type": "stream",
     "text": [
      "'Hello World'\n"
     ]
    }
   ],
   "source": [
    "from fasthtml.common import *\n",
    "\n",
    "app, rt, todos, Todo = fast_app('todos1.db', live=True,      \n",
    "                                id=int,\n",
    "                                title=str,\n",
    "                                done=bool,\n",
    "                                pk='id')\n",
    "\n",
    "@rt('/')\n",
    "def get():\n",
    "    out = Titled(\"Todos\",\n",
    "                    Form(Group(\n",
    "                        Input(placeholder='type your todo', name='title', id='todo-input'),\n",
    "                        Button('Add')),\n",
    "                        hx_get='/getInputData', # when Form is triggered, the browser will send a GET request to the server with the url '/getInputData'\n",
    "                        ),\n",
    "                    Ul(Li(t) for t in todos())\n",
    "                 )\n",
    "    return out\n",
    "\n",
    "@rt('/getInputData')\n",
    "def get(): # usually no parameter for get\n",
    "    return 'Hello World' # server pass this response as the content of the Form\n",
    "                         # data through Form can't get here\n",
    "\n",
    "\n",
    "\n",
    "cli = TestClient(app)\n",
    "pprint(cli.get('/getInputData').text) # same to what displayed in the browser\n",
    "# pprint(cli.get('/').text) # same to what displayed in the browser\n",
    "\n",
    "\n",
    "# serve()"
   ]
  },
  {
   "cell_type": "code",
   "execution_count": 48,
   "metadata": {},
   "outputs": [
    {
     "name": "stdout",
     "output_type": "stream",
     "text": [
      "'Items(id=None, title=None, done=None)'\n"
     ]
    }
   ],
   "source": [
    "from fasthtml.common import *\n",
    "\n",
    "app, rt, todos, Todo = fast_app('todos1.db', live=True,      \n",
    "                                id=int,\n",
    "                                title=str,\n",
    "                                done=bool,\n",
    "                                pk='id')\n",
    "\n",
    "@rt('/')\n",
    "def get():\n",
    "    out = Titled(\"Todos\",\n",
    "                    Form(Group(\n",
    "                        Input(placeholder='type your todo', name='title', id='todo-input'),\n",
    "                        Button('Add')),\n",
    "                        hx_get='/getInputData'),\n",
    "                    Ul(Li(t) for t in todos())\n",
    "                 )\n",
    "    return out\n",
    "\n",
    "\n",
    "@rt('/getInputData')\n",
    "def get(todo:Todo): # no error if you add a parameter here\n",
    "                    # because we give it a type Todo, the todo is an empty Todo object\n",
    "                    # but it will always be an empty Todo object\n",
    "                    # data from Input or Form can't get here\n",
    "    return todo\n",
    "\n",
    "cli = TestClient(app)\n",
    "pprint(cli.get('/getInputData').text) # as cli.get has no param to accept data\n",
    "# pprint(cli.get('/').text) # same to what displayed in the browser\n",
    "\n",
    "\n",
    "# serve()"
   ]
  },
  {
   "cell_type": "markdown",
   "metadata": {},
   "source": [
    "##### 07 `hx_post` can receive data from Form"
   ]
  },
  {
   "cell_type": "code",
   "execution_count": 53,
   "metadata": {},
   "outputs": [
    {
     "name": "stdout",
     "output_type": "stream",
     "text": [
      "('<!doctype html>\\n'\n",
      " '\\n'\n",
      " '<html>\\n'\n",
      " '  <head>\\n'\n",
      " '    <title>Todos</title>\\n'\n",
      " '    <meta charset=\"utf-8\">\\n'\n",
      " '    <meta name=\"viewport\" content=\"width=device-width, initial-scale=1, '\n",
      " 'viewport-fit=cover\">\\n'\n",
      " '    <script '\n",
      " 'src=\"https://unpkg.com/htmx.org@next/dist/htmx.min.js\"></script>\\n'\n",
      " '    <script '\n",
      " 'src=\"https://cdn.jsdelivr.net/gh/answerdotai/surreal@1.3.0/surreal.js\"></script>\\n'\n",
      " '    <script '\n",
      " 'src=\"https://cdn.jsdelivr.net/gh/gnat/css-scope-inline@main/script.js\"></script>\\n'\n",
      " '    <link rel=\"stylesheet\" '\n",
      " 'href=\"https://cdn.jsdelivr.net/npm/@picocss/pico@latest/css/pico.min.css\">\\n'\n",
      " '    <style>:root { --pico-font-size: 100%; }</style>\\n'\n",
      " '    <script>\\n'\n",
      " '    (function() {\\n'\n",
      " '        var socket = new '\n",
      " 'WebSocket(`ws://${window.location.host}/live-reload`);\\n'\n",
      " '        var maxReloadAttempts = 1;\\n'\n",
      " '        var reloadInterval = 1000; // time between reload attempts in ms\\n'\n",
      " '        socket.onclose = function() {\\n'\n",
      " '            let reloadAttempts = 0;\\n'\n",
      " '            const intervalFn = setInterval(function(){\\n'\n",
      " '                window.location.reload();\\n'\n",
      " '                reloadAttempts++;\\n'\n",
      " '                if (reloadAttempts === maxReloadAttempts) '\n",
      " 'clearInterval(intervalFn);\\n'\n",
      " '            }, reloadInterval);\\n'\n",
      " '        }\\n'\n",
      " '    })();\\n'\n",
      " '</script>\\n'\n",
      " '  </head>\\n'\n",
      " '  <body reload-attempts=\"1\" reload-interval=\"1000\">\\n'\n",
      " '<main class=\"container\">\\n'\n",
      " '  <h1>Todos</h1>\\n'\n",
      " '  <form enctype=\"multipart/form-data\" hx-post=\"/getInputData\">\\n'\n",
      " '    <fieldset role=\"group\">\\n'\n",
      " '      <input placeholder=\"type your todo\" name=\"title\" id=\"todo-input\">\\n'\n",
      " '      <button>Add</button>\\n'\n",
      " '    </fieldset>\\n'\n",
      " '  </form>\\n'\n",
      " '  <ul>\\n'\n",
      " \"    <li>Items(id=0, title='me', done=0)</li>\\n\"\n",
      " \"    <li>Items(id=1, title='First todo', done=None)</li>\\n\"\n",
      " \"    <li>Items(id=2, title='Second todo', done=None)</li>\\n\"\n",
      " \"    <li>Items(id=3, title='Third todo', done=None)</li>\\n\"\n",
      " \"    <li>Items(id=4, title='this', done=None)</li>\\n\"\n",
      " '  </ul>\\n'\n",
      " '</main>\\n'\n",
      " '  </body>\\n'\n",
      " '</html>\\n')\n"
     ]
    }
   ],
   "source": [
    "from fasthtml.common import *\n",
    "\n",
    "app, rt, todos, Todo = fast_app('todos1.db', live=True,      \n",
    "                                id=int,\n",
    "                                title=str,\n",
    "                                done=bool,\n",
    "                                pk='id')\n",
    "\n",
    "@rt('/')\n",
    "def get():\n",
    "    out = Titled(\"Todos\",\n",
    "                    Form(Group(\n",
    "                        Input(placeholder='type your todo', name='title', id='todo-input'),\n",
    "                        Button('Add')),\n",
    "                        hx_post='/getInputData'),\n",
    "                    Ul(Li(t) for t in todos())\n",
    "                 )\n",
    "    return out\n",
    "\n",
    "@rt('/getInputData')\n",
    "def post(todo:Todo):\n",
    "    return todo # the todos is not updated with the new todo, only pass it as the content of the Form\n",
    "\n",
    "cli = TestClient(app)\n",
    "pprint(cli.post('/getInputData', data={'id':0, 'title':'me', 'done':0}).text) # as cli.get has no param to accept data\n",
    "# pprint(cli.get('/').text) # same to what displayed in the browser\n",
    "\n",
    "\n",
    "# serve()"
   ]
  },
  {
   "cell_type": "code",
   "execution_count": 55,
   "metadata": {},
   "outputs": [
    {
     "name": "stdout",
     "output_type": "stream",
     "text": [
      "\"Items(id=6, title='me', done=None)\"\n"
     ]
    }
   ],
   "source": [
    "from fasthtml.common import *\n",
    "\n",
    "app, rt, todos, Todo = fast_app('todos1.db', live=True,      \n",
    "                                id=int,\n",
    "                                title=str,\n",
    "                                done=bool,\n",
    "                                pk='id')\n",
    "\n",
    "@rt('/')\n",
    "def get():\n",
    "    out = Titled(\"Todos\",\n",
    "                    Form(Group(\n",
    "                        Input(placeholder='type your todo', name='title', id='todo-input'),\n",
    "                        Button('Add')),\n",
    "                        hx_post='/getInputData'),\n",
    "                    Ul(Li(t) for t in todos())\n",
    "                 )\n",
    "    return out\n",
    "\n",
    "@rt('/getInputData')\n",
    "def post(todo:Todo):\n",
    "    return todos.insert(todo) # add new todo from Form to the database, and return the new todo with a new id from the database\n",
    "\n",
    "cli = TestClient(app)\n",
    "pprint(cli.post('/getInputData', data={'title':'me'}).text) # as cli.get has no param to accept data\n",
    "# pprint(cli.get('/').text) # same to what displayed in the browser\n",
    "\n",
    "\n",
    "# serve()"
   ]
  },
  {
   "cell_type": "markdown",
   "metadata": {},
   "source": [
    "#### 08 `target_id` and `hx_swap`\n",
    "\n",
    "- `target_id`: specify which element the response is given to\n",
    "- `hx_swap`: specify where exactly relate to the element to put the response"
   ]
  },
  {
   "cell_type": "code",
   "execution_count": 57,
   "metadata": {},
   "outputs": [
    {
     "name": "stdout",
     "output_type": "stream",
     "text": [
      "\"Items(id=12, title='one for all', done=None)\"\n"
     ]
    }
   ],
   "source": [
    "from fasthtml.common import *\n",
    "\n",
    "app, rt, todos, Todo = fast_app('todos1.db', live=True,      \n",
    "                                id=int,\n",
    "                                title=str,\n",
    "                                done=bool,\n",
    "                                pk='id')\n",
    "\n",
    "@rt('/')\n",
    "def get():\n",
    "    out = Titled(\"Todos\",\n",
    "                    Form(Group(\n",
    "                        Input(placeholder='type your todo', name='title', id='todo-input'),\n",
    "                        Button('Add')),\n",
    "                        hx_post='/getInputData',\n",
    "                        target_id='todo-list'),# response will replace the content of the element with id='todo-list', as the defaul `hx_swap` is 'innerHTML'.\n",
    "                        # innerHTML - Replace the inner html of the target element\n",
    "                    Ul(*[Li(t) for t in todos()],\n",
    "                        id='todo-list') # give Ul an id 'todo-list'.\n",
    "                 )\n",
    "    return out\n",
    "\n",
    "@rt('/getInputData')\n",
    "def post(todo:Todo):\n",
    "    return todos.insert(todo) \n",
    "\n",
    "cli = TestClient(app)\n",
    "pprint(cli.post('/getInputData', data={'title':'one for all'}).text) \n",
    "# pprint(cli.get('/').text) # same to what displayed in the browser\n",
    "\n",
    "\n",
    "# serve()"
   ]
  },
  {
   "cell_type": "code",
   "execution_count": 58,
   "metadata": {},
   "outputs": [
    {
     "name": "stdout",
     "output_type": "stream",
     "text": [
      "\"Items(id=13, title='put in the end', done=None)\"\n"
     ]
    }
   ],
   "source": [
    "from fasthtml.common import *\n",
    "\n",
    "app, rt, todos, Todo = fast_app('todos1.db', live=True,      \n",
    "                                id=int,\n",
    "                                title=str,\n",
    "                                done=bool,\n",
    "                                pk='id')\n",
    "\n",
    "@rt('/')\n",
    "def get():\n",
    "    out = Titled(\"Todos\",\n",
    "                    Form(Group(\n",
    "                        Input(placeholder='type your todo', name='title', id='todo-input'),\n",
    "                        Button('Add')),\n",
    "                        hx_post='/getInputData',\n",
    "                        target_id='todo-list',\n",
    "                        hx_swap='beforeend'),# beforeend - Insert the response after the last child of the target element\n",
    "                    Ul(*[Li(t) for t in todos()],\n",
    "                        id='todo-list') # next step: to give the new todo or every todo a better look\n",
    "                 )\n",
    "    return out\n",
    "\n",
    "@rt('/getInputData')\n",
    "def post(todo:Todo):\n",
    "    return todos.insert(todo) \n",
    "\n",
    "cli = TestClient(app)\n",
    "# pprint(cli.post('/getInputData', data={'title':'put in the end'}).text) \n",
    "# pprint(cli.get('/').text) # same to what displayed in the browser\n",
    "\n",
    "\n",
    "# serve()"
   ]
  },
  {
   "cell_type": "code",
   "execution_count": 60,
   "metadata": {},
   "outputs": [
    {
     "name": "stdout",
     "output_type": "stream",
     "text": [
      "Row 0: {'id': 1, 'title': 'First todo', 'done': None}\n",
      "Row 1: {'id': 2, 'title': 'Second todo', 'done': None}\n",
      "Row 2: {'id': 3, 'title': 'Third todo', 'done': None}\n"
     ]
    }
   ],
   "source": [
    "for i, row in enumerate(todos.rows):\n",
    "    print(f\"Row {i}: {row}\")"
   ]
  },
  {
   "cell_type": "markdown",
   "metadata": {},
   "source": [
    "##### [clean the data](#03-add-initial-data-for-database)"
   ]
  },
  {
   "cell_type": "markdown",
   "metadata": {},
   "source": [
    "# clear the user typed input in the Form\n",
    "\n",
    "#### 08.1 `hx_swap_oob` \n",
    "\n",
    "**use case**\n",
    "\n",
    "- when returning multiple elements as a response from the server to the `target_id` element, \n",
    "- and want the second element to be swapped as a replacement for the element (or elements both `Input` and `Button` in the example below) with the same `id`, and will not end up in the target.\n",
    "\n",
    "\n",
    "htmx [reference](https://htmx.org/attributes/hx-swap-oob/)\n",
    "\n",
    "- `id` and `hx_swap_oob` together to clear the input after submitting\n",
    "- together the response will be swapped in as a replacement for the element with the id, and will not end up in the target.\n",
    "- if the value is true or outerHTML (which are equivalent) the element will be swapped inline."
   ]
  },
  {
   "cell_type": "code",
   "execution_count": null,
   "metadata": {},
   "outputs": [],
   "source": [
    "from fasthtml.common import *\n",
    "\n",
    "app, rt, todos, Todo = fast_app('todos1.db', live=True,      \n",
    "                                id=int,\n",
    "                                title=str,\n",
    "                                done=bool,\n",
    "                                pk='id')\n",
    "\n",
    "@rt('/')\n",
    "def get():\n",
    "    out = Titled(\"Todos\",\n",
    "                    Form(Group(\n",
    "                        Input(placeholder='type your todo', name='title', \n",
    "                              id='input', # id is for hx-swap-oob\n",
    "                              hx_swap_oob=\"true\"), # going to where the input is, not to the target_id\n",
    "                        Button('Add', \n",
    "                                id='input', # so, the input can replace button as long as it has the same id and hx-swap-oob\n",
    "                                hx_swap_oob=\"true\")), \n",
    "                        hx_post='/getInputData',\n",
    "                        target_id='todo-list',\n",
    "                        hx_swap='beforeend'),\n",
    "                    Ul(*[Li(t) for t in todos()],\n",
    "                        id='todo-list') \n",
    "                 )\n",
    "    return out\n",
    "\n",
    "@rt('/getInputData')\n",
    "def post(todo:Todo):\n",
    "    return (todos.insert(todo),\n",
    "            Input(placeholder='I am reborn', name='title', # going to replace itself which is different from target_id\n",
    "                  id='input', # id is for hx-swap-oob\n",
    "                  hx_swap_oob=\"true\")) # going to where the input is, not to the target_id \n",
    "\n",
    "# cli = TestClient(app)\n",
    "# pprint(cli.post('/getInputData', data={'title':'put in the end'}).text) \n",
    "# pprint(cli.get('/').text) # same to what displayed in the browser\n",
    "\n",
    "\n",
    "serve()"
   ]
  },
  {
   "cell_type": "markdown",
   "metadata": {},
   "source": [
    "# rending each todo"
   ]
  },
  {
   "cell_type": "markdown",
   "metadata": {},
   "source": [
    "## the origin of render function\n",
    "\n",
    "- basically, we define render function to render each Todo class object. \n",
    "- we pass such render function to fast_app code below\n",
    "```python\n",
    "...\n",
    "\n",
    "   db = database(db_file)\n",
    "    if not tbls: tbls={}\n",
    "    if kwargs:\n",
    "        if isinstance(first(kwargs.values()), dict): tbls = kwargs\n",
    "        else:\n",
    "            kwargs['render'] = render\n",
    "            tbls['items'] = kwargs\n",
    "    dbtbls = [get_tbl(db.t, k, v) for k,v in tbls.items()]\n",
    "```\n",
    "\n",
    "- then `render` is passed to `get_tbl` function as below\n",
    "\n",
    "```python\n",
    "def get_tbl(dt, nm, schema):\n",
    "    render = schema.pop('render', None)\n",
    "    tbl = dt[nm]\n",
    "    if tbl not in dt: tbl.create(**schema)\n",
    "    else: tbl.create(**schema, transform=True)\n",
    "    dc = tbl.dataclass()\n",
    "    if render: dc.__ft__ = render\n",
    "    return tbl,dc\n",
    "```\n",
    "\n",
    "`tbl.dataclass()`\n",
    "\n",
    "- Purpose: The dataclass() method automatically generates a Python dataclass based on the schema of the table. This dataclass includes attributes corresponding to the table's columns.\n",
    "Functionality: The dataclass allows you to instantiate objects that represent rows in the database table. These objects can be easily manipulated in Python and then saved back to the database.\n",
    "\n",
    "`dc.__ft__ = render`\n",
    "\n",
    "- Purpose: The assignment dc.__ft__ = render attaches the custom render function to the generated dataclass.\n",
    "Functionality: When instances of this dataclass are converted into FastHTML components (likely when rendering HTML), the render function is used. This enables customized, user-defined HTML rendering of each table row based on its data."
   ]
  },
  {
   "cell_type": "markdown",
   "metadata": {},
   "source": [
    "#### 09 render function"
   ]
  },
  {
   "cell_type": "code",
   "execution_count": null,
   "metadata": {},
   "outputs": [
    {
     "data": {
      "text/plain": [
       "Items(id=1, title='First todo', done=None)"
      ]
     },
     "metadata": {},
     "output_type": "display_data"
    },
    {
     "data": {
      "text/markdown": [
       "```html\n",
       "<li>First todo</li>\n",
       "\n",
       "```"
      ],
      "text/plain": [
       "['li', ('First todo',), {}]"
      ]
     },
     "metadata": {},
     "output_type": "display_data"
    }
   ],
   "source": [
    "def render(todo):\n",
    "    return todo\n",
    "\n",
    "render(todos.get(1))\n",
    "\n",
    "def render(todo):\n",
    "    return Li(todo.title + (' ✅' if todo.done else ''))\n",
    "\n",
    "render(todos.get(1))"
   ]
  },
  {
   "cell_type": "code",
   "execution_count": 67,
   "metadata": {},
   "outputs": [
    {
     "name": "stdout",
     "output_type": "stream",
     "text": [
      "('<title>Todos</title>\\n'\n",
      " '\\n'\n",
      " '<main class=\"container\">\\n'\n",
      " '  <h1>Todos</h1>\\n'\n",
      " '  <form enctype=\"multipart/form-data\" hx-post=\"/getInputData\" '\n",
      " 'hx-swap=\"beforeend\" hx-target=\"#todo-list\">\\n'\n",
      " '    <fieldset role=\"group\">\\n'\n",
      " '      <input placeholder=\"type your todo\" name=\"title\" id=\"todo-input\">\\n'\n",
      " '      <button>Add</button>\\n'\n",
      " '    </fieldset>\\n'\n",
      " '  </form>\\n'\n",
      " '  <ul id=\"todo-list\">\\n'\n",
      " '    <li>First todo</li>\\n'\n",
      " '    <li>Second todo</li>\\n'\n",
      " '    <li>Third todo</li>\\n'\n",
      " '    <li>this me </li>\\n'\n",
      " '  </ul>\\n'\n",
      " '</main>\\n')\n"
     ]
    }
   ],
   "source": [
    "from fasthtml.common import *\n",
    "\n",
    "def render(todo): # it is added to Todo class and auto render every instance of Todo\n",
    "    return Li(todo.title + (' ✅' if todo.done else ''))\n",
    "\n",
    "app, rt, todos, Todo = fast_app('todos1.db', live=True, render=render,      \n",
    "                                id=int,\n",
    "                                title=str,\n",
    "                                done=bool,\n",
    "                                pk='id')\n",
    "\n",
    "@rt('/')\n",
    "def get():\n",
    "    out = Titled(\"Todos\",\n",
    "                    Form(Group(\n",
    "                        Input(placeholder='type your todo', name='title', id='todo-input'),\n",
    "                        Button('Add')),\n",
    "                        hx_post='/getInputData',\n",
    "                        target_id='todo-list',\n",
    "                        hx_swap='beforeend'),\n",
    "                    # Ul(*[Li(t) for t in todos()], # no long appropriate\n",
    "                    Ul(*todos(), # now todos() is a generator of multiple todo which auto renders as Li already\n",
    "                        id='todo-list') \n",
    "                    )\n",
    "                 \n",
    "    return out\n",
    "\n",
    "@rt('/getInputData')\n",
    "def post(todo:Todo):\n",
    "    return todos.insert(todo) \n",
    "\n",
    "cli = TestClient(app)\n",
    "hxhdr = {'headers':{'hx-request':\"1\"}} # mock to remove the headers\n",
    "# pprint(cli.post('/getInputData', data={'title':'put in the end'}).text) \n",
    "pprint(cli.get('/', **hxhdr).text) # same to what displayed in the browser\n",
    "\n",
    "\n",
    "# serve()"
   ]
  },
  {
   "cell_type": "code",
   "execution_count": 52,
   "metadata": {},
   "outputs": [
    {
     "data": {
      "text/markdown": [
       "```html\n",
       "<li>First todo</li>\n",
       "\n",
       "```"
      ],
      "text/plain": [
       "['li', ('First todo',), {}]"
      ]
     },
     "execution_count": 52,
     "metadata": {},
     "output_type": "execute_result"
    },
    {
     "data": {
      "text/markdown": [
       "```html\n",
       "<li>Third todo</li>\n",
       "\n",
       "```"
      ],
      "text/plain": [
       "['li', ('Third todo',), {}]"
      ]
     },
     "execution_count": 52,
     "metadata": {},
     "output_type": "execute_result"
    }
   ],
   "source": [
    "from fasthtml.common import *\n",
    "\n",
    "def render(todo: Todo):\n",
    "    return Li(todo.title + (' ✅' if todo.done else ''))\n",
    "\n",
    "app, rt, todos, Todo = fast_app('todos1.db', live=True,      \n",
    "                                id=int,\n",
    "                                title=str,\n",
    "                                done=bool,\n",
    "                                pk='id')\n",
    "\n",
    "@rt('/')\n",
    "def get():\n",
    "    out = Titled(\"Todos\",\n",
    "                    Form(Group(\n",
    "                        Input(placeholder='type your todo', name='title', id='todo-input'),\n",
    "                        Button('Add')),\n",
    "                        hx_post='/getInputData',\n",
    "                        target_id='todo-list',\n",
    "                        hx_swap='beforeend'),# beforeend - Insert the response after the last child of the target element\n",
    "                    Ul(*[Li(t) for t in todos()],\n",
    "                        id='todo-list') # next step: to give the new todo or every todo a better look\n",
    "                 )\n",
    "    return out\n",
    "\n",
    "@rt('/getInputData')\n",
    "def post(todo:Todo):\n",
    "    return todos.insert(todo) \n",
    "\n",
    "cli = TestClient(app)\n",
    "# pprint(cli.post('/getInputData', data={'title':'put in the end'}).text) \n",
    "# pprint(cli.get('/').text) # same to what displayed in the browser\n",
    "\n",
    "\n",
    "# serve()"
   ]
  },
  {
   "cell_type": "code",
   "execution_count": 53,
   "metadata": {},
   "outputs": [],
   "source": [
    "\n",
    "# add render function to the app\n",
    "app, rt, todos, Todo = fast_app('todos1.db', live=True, render=render,\n",
    "                                id=int,\n",
    "                                title=str,\n",
    "                                done=bool,\n",
    "                                pk='id')"
   ]
  },
  {
   "cell_type": "code",
   "execution_count": 54,
   "metadata": {},
   "outputs": [
    {
     "name": "stdout",
     "output_type": "stream",
     "text": [
      "('<!doctype html>\\n'\n",
      " '\\n'\n",
      " '<html>\\n'\n",
      " '  <head>\\n'\n",
      " '    <title>Todos</title>\\n'\n",
      " '    <meta charset=\"utf-8\">\\n'\n",
      " '    <meta name=\"viewport\" content=\"width=device-width, initial-scale=1, '\n",
      " 'viewport-fit=cover\">\\n'\n",
      " '    <script '\n",
      " 'src=\"https://unpkg.com/htmx.org@next/dist/htmx.min.js\"></script>\\n'\n",
      " '    <script '\n",
      " 'src=\"https://cdn.jsdelivr.net/gh/answerdotai/surreal@1.3.0/surreal.js\"></script>\\n'\n",
      " '    <script '\n",
      " 'src=\"https://cdn.jsdelivr.net/gh/gnat/css-scope-inline@main/script.js\"></script>\\n'\n",
      " '    <link rel=\"stylesheet\" '\n",
      " 'href=\"https://cdn.jsdelivr.net/npm/@picocss/pico@latest/css/pico.min.css\">\\n'\n",
      " '    <style>:root { --pico-font-size: 100%; }</style>\\n'\n",
      " '    <script>\\n'\n",
      " '    (function() {\\n'\n",
      " '        var socket = new '\n",
      " 'WebSocket(`ws://${window.location.host}/live-reload`);\\n'\n",
      " '        var maxReloadAttempts = 1;\\n'\n",
      " '        var reloadInterval = 1000; // time between reload attempts in ms\\n'\n",
      " '        socket.onclose = function() {\\n'\n",
      " '            let reloadAttempts = 0;\\n'\n",
      " '            const intervalFn = setInterval(function(){\\n'\n",
      " '                window.location.reload();\\n'\n",
      " '                reloadAttempts++;\\n'\n",
      " '                if (reloadAttempts === maxReloadAttempts) '\n",
      " 'clearInterval(intervalFn);\\n'\n",
      " '            }, reloadInterval);\\n'\n",
      " '        }\\n'\n",
      " '    })();\\n'\n",
      " '</script>\\n'\n",
      " '  </head>\\n'\n",
      " '  <body reload-attempts=\"1\" reload-interval=\"1000\">\\n'\n",
      " '<main class=\"container\">\\n'\n",
      " '  <h1>Todos</h1>\\n'\n",
      " '  <form enctype=\"multipart/form-data\">\\n'\n",
      " '    <fieldset role=\"group\">\\n'\n",
      " '      <input placeholder=\"type your todo\" name=\"title\" id=\"todo-input\">\\n'\n",
      " '      <button>Add</button>\\n'\n",
      " '    </fieldset>\\n'\n",
      " '  </form>\\n'\n",
      " '  <ul>\\n'\n",
      " '    <li>First todo</li>\\n'\n",
      " '    <li>Second todo ✅</li>\\n'\n",
      " '    <li>Third todo</li>\\n'\n",
      " '  </ul>\\n'\n",
      " '</main>\\n'\n",
      " '  </body>\\n'\n",
      " '</html>\\n')\n"
     ]
    }
   ],
   "source": [
    "pprint(cli.get('/v3').text)"
   ]
  },
  {
   "cell_type": "markdown",
   "metadata": {},
   "source": [
    "### displaying toggle and delete links"
   ]
  },
  {
   "cell_type": "code",
   "execution_count": 55,
   "metadata": {},
   "outputs": [
    {
     "data": {
      "text/markdown": [
       "```html\n",
       "<li>\n",
       "  <a href=\"#\">toggle</a>\n",
       "  <a href=\"#\">delete</a>\n",
       "First todo\n",
       "</li>\n",
       "\n",
       "```"
      ],
      "text/plain": [
       "['li',\n",
       " (['a', ('toggle',), {'href': '#'}],\n",
       "  ['a', ('delete',), {'href': '#'}],\n",
       "  'First todo'),\n",
       " {}]"
      ]
     },
     "execution_count": 55,
     "metadata": {},
     "output_type": "execute_result"
    },
    {
     "data": {
      "text/html": [
       "<li>\n",
       "  <a href=\"#\">toggle</a>\n",
       "  <a href=\"#\">delete</a>\n",
       "First todo\n",
       "</li>\n"
      ],
      "text/plain": [
       "<IPython.core.display.HTML object>"
      ]
     },
     "execution_count": 55,
     "metadata": {},
     "output_type": "execute_result"
    },
    {
     "data": {
      "text/markdown": [
       "```html\n",
       "<li>\n",
       "  <a href=\"#\">toggle</a>\n",
       "  <a href=\"#\">delete</a>\n",
       "Third todo\n",
       "</li>\n",
       "\n",
       "```"
      ],
      "text/plain": [
       "['li',\n",
       " (['a', ('toggle',), {'href': '#'}],\n",
       "  ['a', ('delete',), {'href': '#'}],\n",
       "  'Third todo'),\n",
       " {}]"
      ]
     },
     "execution_count": 55,
     "metadata": {},
     "output_type": "execute_result"
    },
    {
     "data": {
      "text/html": [
       "<li>\n",
       "  <a href=\"#\">toggle</a>\n",
       "  <a href=\"#\">delete</a>\n",
       "Third todo\n",
       "</li>\n"
      ],
      "text/plain": [
       "<IPython.core.display.HTML object>"
      ]
     },
     "execution_count": 55,
     "metadata": {},
     "output_type": "execute_result"
    }
   ],
   "source": [
    "# add the links to the render function for displaying each todo data\n",
    "def render(todo: Todo):\n",
    "    return Li(A('toggle'), \n",
    "              A('delete'),\n",
    "              todo.title + (' ✅' if todo.done else ''))\n",
    "\n",
    "render(todos.get(1))\n",
    "show(render(todos.get(1)))\n",
    "render(todos.get(3))\n",
    "show(render(todos.get(3)))"
   ]
  },
  {
   "cell_type": "code",
   "execution_count": 56,
   "metadata": {},
   "outputs": [],
   "source": [
    "# must restart the app to see the changes of render function\n",
    "app, rt, todos, Todo = fast_app('todos1.db', live=True, render=render,\n",
    "                                id=int,\n",
    "                                title=str,\n",
    "                                done=bool,\n",
    "                                pk='id')"
   ]
  },
  {
   "cell_type": "code",
   "execution_count": 57,
   "metadata": {},
   "outputs": [
    {
     "name": "stdout",
     "output_type": "stream",
     "text": [
      "('<!doctype html>\\n'\n",
      " '\\n'\n",
      " '<html>\\n'\n",
      " '  <head>\\n'\n",
      " '    <title>Todos</title>\\n'\n",
      " '    <meta charset=\"utf-8\">\\n'\n",
      " '    <meta name=\"viewport\" content=\"width=device-width, initial-scale=1, '\n",
      " 'viewport-fit=cover\">\\n'\n",
      " '    <script '\n",
      " 'src=\"https://unpkg.com/htmx.org@next/dist/htmx.min.js\"></script>\\n'\n",
      " '    <script '\n",
      " 'src=\"https://cdn.jsdelivr.net/gh/answerdotai/surreal@1.3.0/surreal.js\"></script>\\n'\n",
      " '    <script '\n",
      " 'src=\"https://cdn.jsdelivr.net/gh/gnat/css-scope-inline@main/script.js\"></script>\\n'\n",
      " '    <link rel=\"stylesheet\" '\n",
      " 'href=\"https://cdn.jsdelivr.net/npm/@picocss/pico@latest/css/pico.min.css\">\\n'\n",
      " '    <style>:root { --pico-font-size: 100%; }</style>\\n'\n",
      " '    <script>\\n'\n",
      " '    (function() {\\n'\n",
      " '        var socket = new '\n",
      " 'WebSocket(`ws://${window.location.host}/live-reload`);\\n'\n",
      " '        var maxReloadAttempts = 1;\\n'\n",
      " '        var reloadInterval = 1000; // time between reload attempts in ms\\n'\n",
      " '        socket.onclose = function() {\\n'\n",
      " '            let reloadAttempts = 0;\\n'\n",
      " '            const intervalFn = setInterval(function(){\\n'\n",
      " '                window.location.reload();\\n'\n",
      " '                reloadAttempts++;\\n'\n",
      " '                if (reloadAttempts === maxReloadAttempts) '\n",
      " 'clearInterval(intervalFn);\\n'\n",
      " '            }, reloadInterval);\\n'\n",
      " '        }\\n'\n",
      " '    })();\\n'\n",
      " '</script>\\n'\n",
      " '  </head>\\n'\n",
      " '  <body reload-attempts=\"1\" reload-interval=\"1000\">\\n'\n",
      " '<main class=\"container\">\\n'\n",
      " '  <h1>Todos</h1>\\n'\n",
      " '  <form enctype=\"multipart/form-data\">\\n'\n",
      " '    <fieldset role=\"group\">\\n'\n",
      " '      <input placeholder=\"type your todo\" name=\"title\" id=\"todo-input\">\\n'\n",
      " '      <button>Add</button>\\n'\n",
      " '    </fieldset>\\n'\n",
      " '  </form>\\n'\n",
      " '  <ul>\\n'\n",
      " '    <li>\\n'\n",
      " '      <a href=\"#\">toggle</a>\\n'\n",
      " '      <a href=\"#\">delete</a>\\n'\n",
      " 'First todo\\n'\n",
      " '    </li>\\n'\n",
      " '    <li>\\n'\n",
      " '      <a href=\"#\">toggle</a>\\n'\n",
      " '      <a href=\"#\">delete</a>\\n'\n",
      " 'Second todo ✅\\n'\n",
      " '    </li>\\n'\n",
      " '    <li>\\n'\n",
      " '      <a href=\"#\">toggle</a>\\n'\n",
      " '      <a href=\"#\">delete</a>\\n'\n",
      " 'Third todo\\n'\n",
      " '    </li>\\n'\n",
      " '  </ul>\\n'\n",
      " '</main>\\n'\n",
      " '  </body>\\n'\n",
      " '</html>\\n')\n"
     ]
    }
   ],
   "source": [
    "pprint(cli.get('/v3').text)"
   ]
  },
  {
   "cell_type": "markdown",
   "metadata": {},
   "source": [
    "### make the toggle link work"
   ]
  },
  {
   "cell_type": "code",
   "execution_count": 58,
   "metadata": {},
   "outputs": [
    {
     "data": {
      "text/markdown": [
       "```html\n",
       "<li>\n",
       "  <a href=\"/toggle/1\">toggle</a>\n",
       "  <a href=\"#\">delete</a>\n",
       "First todo\n",
       "</li>\n",
       "\n",
       "```"
      ],
      "text/plain": [
       "['li',\n",
       " (['a', ('toggle',), {'href': '/toggle/1'}],\n",
       "  ['a', ('delete',), {'href': '#'}],\n",
       "  'First todo'),\n",
       " {}]"
      ]
     },
     "execution_count": 58,
     "metadata": {},
     "output_type": "execute_result"
    },
    {
     "data": {
      "text/html": [
       "<li>\n",
       "  <a href=\"/toggle/1\">toggle</a>\n",
       "  <a href=\"#\">delete</a>\n",
       "First todo\n",
       "</li>\n"
      ],
      "text/plain": [
       "<IPython.core.display.HTML object>"
      ]
     },
     "execution_count": 58,
     "metadata": {},
     "output_type": "execute_result"
    },
    {
     "data": {
      "text/markdown": [
       "```html\n",
       "<li>\n",
       "  <a href=\"/toggle/3\">toggle</a>\n",
       "  <a href=\"#\">delete</a>\n",
       "Third todo\n",
       "</li>\n",
       "\n",
       "```"
      ],
      "text/plain": [
       "['li',\n",
       " (['a', ('toggle',), {'href': '/toggle/3'}],\n",
       "  ['a', ('delete',), {'href': '#'}],\n",
       "  'Third todo'),\n",
       " {}]"
      ]
     },
     "execution_count": 58,
     "metadata": {},
     "output_type": "execute_result"
    },
    {
     "data": {
      "text/html": [
       "<li>\n",
       "  <a href=\"/toggle/3\">toggle</a>\n",
       "  <a href=\"#\">delete</a>\n",
       "Third todo\n",
       "</li>\n"
      ],
      "text/plain": [
       "<IPython.core.display.HTML object>"
      ]
     },
     "execution_count": 58,
     "metadata": {},
     "output_type": "execute_result"
    }
   ],
   "source": [
    "# add the links to the render function for displaying each todo data\n",
    "def render(todo: Todo):\n",
    "    return Li(A('toggle', \n",
    "                href=f'/toggle/{todo.id}'), # it get the response but use it to build a separate page\n",
    "              A('delete'),\n",
    "              todo.title + (' ✅' if todo.done else ''))\n",
    "\n",
    "\n",
    "\n",
    "render(todos.get(1))\n",
    "show(render(todos.get(1)))\n",
    "render(todos.get(3))\n",
    "show(render(todos.get(3)))"
   ]
  },
  {
   "cell_type": "code",
   "execution_count": 59,
   "metadata": {},
   "outputs": [
    {
     "name": "stdout",
     "output_type": "stream",
     "text": [
      "('<!doctype html>\\n'\n",
      " '\\n'\n",
      " '<html>\\n'\n",
      " '  <head>\\n'\n",
      " '    <title>FastHTML page</title>\\n'\n",
      " '    <meta charset=\"utf-8\">\\n'\n",
      " '    <meta name=\"viewport\" content=\"width=device-width, initial-scale=1, '\n",
      " 'viewport-fit=cover\">\\n'\n",
      " '    <script '\n",
      " 'src=\"https://unpkg.com/htmx.org@next/dist/htmx.min.js\"></script>\\n'\n",
      " '    <script '\n",
      " 'src=\"https://cdn.jsdelivr.net/gh/answerdotai/surreal@1.3.0/surreal.js\"></script>\\n'\n",
      " '    <script '\n",
      " 'src=\"https://cdn.jsdelivr.net/gh/gnat/css-scope-inline@main/script.js\"></script>\\n'\n",
      " '    <link rel=\"stylesheet\" '\n",
      " 'href=\"https://cdn.jsdelivr.net/npm/@picocss/pico@latest/css/pico.min.css\">\\n'\n",
      " '    <style>:root { --pico-font-size: 100%; }</style>\\n'\n",
      " '    <script>\\n'\n",
      " '    (function() {\\n'\n",
      " '        var socket = new '\n",
      " 'WebSocket(`ws://${window.location.host}/live-reload`);\\n'\n",
      " '        var maxReloadAttempts = 1;\\n'\n",
      " '        var reloadInterval = 1000; // time between reload attempts in ms\\n'\n",
      " '        socket.onclose = function() {\\n'\n",
      " '            let reloadAttempts = 0;\\n'\n",
      " '            const intervalFn = setInterval(function(){\\n'\n",
      " '                window.location.reload();\\n'\n",
      " '                reloadAttempts++;\\n'\n",
      " '                if (reloadAttempts === maxReloadAttempts) '\n",
      " 'clearInterval(intervalFn);\\n'\n",
      " '            }, reloadInterval);\\n'\n",
      " '        }\\n'\n",
      " '    })();\\n'\n",
      " '</script>\\n'\n",
      " '  </head>\\n'\n",
      " '  <body reload-attempts=\"1\" reload-interval=\"1000\">\\n'\n",
      " '<li>\\n'\n",
      " '  <a href=\"/toggle/1\">toggle</a>\\n'\n",
      " '  <a href=\"#\">delete</a>\\n'\n",
      " 'First todo ✅\\n'\n",
      " '</li>\\n'\n",
      " '  </body>\\n'\n",
      " '</html>\\n')\n",
      "('<!doctype html>\\n'\n",
      " '\\n'\n",
      " '<html>\\n'\n",
      " '  <head>\\n'\n",
      " '    <title>Todos</title>\\n'\n",
      " '    <meta charset=\"utf-8\">\\n'\n",
      " '    <meta name=\"viewport\" content=\"width=device-width, initial-scale=1, '\n",
      " 'viewport-fit=cover\">\\n'\n",
      " '    <script '\n",
      " 'src=\"https://unpkg.com/htmx.org@next/dist/htmx.min.js\"></script>\\n'\n",
      " '    <script '\n",
      " 'src=\"https://cdn.jsdelivr.net/gh/answerdotai/surreal@1.3.0/surreal.js\"></script>\\n'\n",
      " '    <script '\n",
      " 'src=\"https://cdn.jsdelivr.net/gh/gnat/css-scope-inline@main/script.js\"></script>\\n'\n",
      " '    <link rel=\"stylesheet\" '\n",
      " 'href=\"https://cdn.jsdelivr.net/npm/@picocss/pico@latest/css/pico.min.css\">\\n'\n",
      " '    <style>:root { --pico-font-size: 100%; }</style>\\n'\n",
      " '    <script>\\n'\n",
      " '    (function() {\\n'\n",
      " '        var socket = new '\n",
      " 'WebSocket(`ws://${window.location.host}/live-reload`);\\n'\n",
      " '        var maxReloadAttempts = 1;\\n'\n",
      " '        var reloadInterval = 1000; // time between reload attempts in ms\\n'\n",
      " '        socket.onclose = function() {\\n'\n",
      " '            let reloadAttempts = 0;\\n'\n",
      " '            const intervalFn = setInterval(function(){\\n'\n",
      " '                window.location.reload();\\n'\n",
      " '                reloadAttempts++;\\n'\n",
      " '                if (reloadAttempts === maxReloadAttempts) '\n",
      " 'clearInterval(intervalFn);\\n'\n",
      " '            }, reloadInterval);\\n'\n",
      " '        }\\n'\n",
      " '    })();\\n'\n",
      " '</script>\\n'\n",
      " '  </head>\\n'\n",
      " '  <body reload-attempts=\"1\" reload-interval=\"1000\">\\n'\n",
      " '<main class=\"container\">\\n'\n",
      " '  <h1>Todos</h1>\\n'\n",
      " '  <form enctype=\"multipart/form-data\">\\n'\n",
      " '    <fieldset role=\"group\">\\n'\n",
      " '      <input placeholder=\"type your todo\" name=\"title\" id=\"todo-input\">\\n'\n",
      " '      <button>Add</button>\\n'\n",
      " '    </fieldset>\\n'\n",
      " '    <ul>\\n'\n",
      " '      <li>\\n'\n",
      " '        <a href=\"/toggle/1\">toggle</a>\\n'\n",
      " '        <a href=\"#\">delete</a>\\n'\n",
      " 'First todo ✅\\n'\n",
      " '      </li>\\n'\n",
      " '      <li>\\n'\n",
      " '        <a href=\"/toggle/2\">toggle</a>\\n'\n",
      " '        <a href=\"#\">delete</a>\\n'\n",
      " 'Second todo ✅\\n'\n",
      " '      </li>\\n'\n",
      " '      <li>\\n'\n",
      " '        <a href=\"/toggle/3\">toggle</a>\\n'\n",
      " '        <a href=\"#\">delete</a>\\n'\n",
      " 'Third todo\\n'\n",
      " '      </li>\\n'\n",
      " '    </ul>\\n'\n",
      " '  </form>\\n'\n",
      " '</main>\\n'\n",
      " '  </body>\\n'\n",
      " '</html>\\n')\n"
     ]
    }
   ],
   "source": [
    "def render(todo):\n",
    "    return Li(A('toggle', \n",
    "                href=f'/toggle/{todo.id}'), # it get the response but use it to build a separate page\n",
    "              A('delete'),\n",
    "              todo.title + (' ✅' if todo.done else ''))\n",
    "\n",
    "\n",
    "app, rt, todos, Todo = fast_app('todos1.db', live=True, render=render,\n",
    "                                id=int,\n",
    "                                title=str,\n",
    "                                done=bool,\n",
    "                                pk='id')\n",
    "\n",
    "cli = TestClient(app) # this line must also be run to keep the following code working\n",
    "\n",
    "@rt('/')\n",
    "def get():\n",
    "    out = Titled(\"Todos\",\n",
    "                 Form(Group(\n",
    "                     Input(placeholder='type your todo', name='title', id='todo-input'), \n",
    "                     Button('Add')),\n",
    "                 Ul(*todos())\n",
    "                 )\n",
    "                )\n",
    "    \n",
    "    return out\n",
    "\n",
    "\n",
    "@rt('/toggle/{tid}')\n",
    "def get(tid: int=1):\n",
    "    todo = todos.get(tid)\n",
    "    todo.done = not todo.done\n",
    "    todos.update(todo)\n",
    "    return todo\n",
    "\n",
    "# check the response from the toggle/1 page\n",
    "pprint(cli.get('/toggle/1').text)\n",
    "print(\"=============================\")\n",
    "# check the response from the root page\n",
    "pprint(cli.get('/').text)"
   ]
  },
  {
   "cell_type": "markdown",
   "metadata": {},
   "source": [
    "### make the toggle link work as hx_get"
   ]
  },
  {
   "cell_type": "code",
   "execution_count": 26,
   "metadata": {},
   "outputs": [
    {
     "name": "stdout",
     "output_type": "stream",
     "text": [
      "('<li>\\n'\n",
      " '  <a href=\"#\" hx-get=\"/toggle/1\">toggle</a>\\n'\n",
      " '  <a href=\"#\">delete</a>\\n'\n",
      " 'First todo\\n'\n",
      " '</li>\\n')\n",
      "URL('http://testserver/toggle/1')\n",
      "Headers({'content-length': '91', 'content-type': 'text/html; charset=utf-8'})\n",
      "=============\n",
      "('<title>Todos</title>\\n'\n",
      " '\\n'\n",
      " '<main class=\"container\">\\n'\n",
      " '  <h1>Todos</h1>\\n'\n",
      " '  <form enctype=\"multipart/form-data\">\\n'\n",
      " '    <fieldset role=\"group\">\\n'\n",
      " '      <input placeholder=\"type your todo\" name=\"title\" id=\"todo-input\">\\n'\n",
      " '      <button>Add</button>\\n'\n",
      " '    </fieldset>\\n'\n",
      " '    <ul>\\n'\n",
      " '      <li>\\n'\n",
      " '        <a href=\"#\" hx-get=\"/toggle/1\">toggle</a>\\n'\n",
      " '        <a href=\"#\">delete</a>\\n'\n",
      " 'First todo\\n'\n",
      " '      </li>\\n'\n",
      " '      <li>\\n'\n",
      " '        <a href=\"#\" hx-get=\"/toggle/2\">toggle</a>\\n'\n",
      " '        <a href=\"#\">delete</a>\\n'\n",
      " 'Second todo ✅\\n'\n",
      " '      </li>\\n'\n",
      " '      <li>\\n'\n",
      " '        <a href=\"#\" hx-get=\"/toggle/3\">toggle</a>\\n'\n",
      " '        <a href=\"#\">delete</a>\\n'\n",
      " 'Third todo\\n'\n",
      " '      </li>\\n'\n",
      " '    </ul>\\n'\n",
      " '  </form>\\n'\n",
      " '</main>\\n')\n"
     ]
    }
   ],
   "source": [
    "def render(todo):\n",
    "    return Li(A('toggle', \n",
    "                hx_get=f'/toggle/{todo.id}'), # it get the response and send it back as the content of A tag\n",
    "              A('delete'),\n",
    "              todo.title + (' ✅' if todo.done else ''))\n",
    "\n",
    "app, rt, todos, Todo = fast_app('todos1.db', live=True, render=render,\n",
    "                                id=int,\n",
    "                                title=str,\n",
    "                                done=bool,\n",
    "                                pk='id')\n",
    "\n",
    "cli = TestClient(app) # this line must also be run to keep the following code working\n",
    "\n",
    "@rt('/')\n",
    "def get():\n",
    "    out = Titled(\"Todos\",\n",
    "                 Form(Group(\n",
    "                     Input(placeholder='type your todo', name='title', id='todo-input'), \n",
    "                     Button('Add')),\n",
    "                 Ul(*todos())\n",
    "                 )\n",
    "                )\n",
    "    \n",
    "    return out\n",
    "\n",
    "\n",
    "@rt('/toggle/{tid}')\n",
    "def get(tid: int=1):\n",
    "    todo = todos.get(tid)\n",
    "    todo.done = not todo.done\n",
    "    todos.update(todo)\n",
    "    return todo\n",
    "\n",
    "hxhdr = {'headers':{'hx-request':\"1\"}}\n",
    "\n",
    "# check the response from the toggle/1 page\n",
    "# pprint(cli.get('/toggle/1').text)\n",
    "# print('=============')\n",
    "pprint(cli.get('/toggle/1', **hxhdr).text)\n",
    "pprint(cli.get('/toggle/1', **hxhdr).url)\n",
    "pprint(cli.get('/toggle/1', **hxhdr).headers)\n",
    "\n",
    "print('=============')\n",
    "# check the response from the root page\n",
    "pprint(cli.get('/', **hxhdr).text)"
   ]
  },
  {
   "cell_type": "markdown",
   "metadata": {},
   "source": [
    "### target_id: who receive the toggle response"
   ]
  },
  {
   "cell_type": "markdown",
   "metadata": {},
   "source": [
    "#### target_id with fixed id"
   ]
  },
  {
   "cell_type": "code",
   "execution_count": 31,
   "metadata": {},
   "outputs": [
    {
     "name": "stdout",
     "output_type": "stream",
     "text": [
      "('<li id=\"todo\">\\n'\n",
      " '  <a href=\"#\" hx-get=\"/toggle/1\" hx-target=\"#todo\">toggle</a>\\n'\n",
      " '  <a href=\"#\">delete</a>\\n'\n",
      " 'First todo\\n'\n",
      " '</li>\\n')\n",
      "URL('http://testserver/toggle/1')\n",
      "Headers({'content-length': '119', 'content-type': 'text/html; charset=utf-8'})\n",
      "=============\n",
      "('<title>Todos</title>\\n'\n",
      " '\\n'\n",
      " '<main class=\"container\">\\n'\n",
      " '  <h1>Todos</h1>\\n'\n",
      " '  <form enctype=\"multipart/form-data\">\\n'\n",
      " '    <fieldset role=\"group\">\\n'\n",
      " '      <input placeholder=\"type your todo\" name=\"title\" id=\"todo-input\">\\n'\n",
      " '      <button>Add</button>\\n'\n",
      " '    </fieldset>\\n'\n",
      " '    <ul>\\n'\n",
      " '      <li id=\"todo\">\\n'\n",
      " '        <a href=\"#\" hx-get=\"/toggle/1\" hx-target=\"#todo\">toggle</a>\\n'\n",
      " '        <a href=\"#\">delete</a>\\n'\n",
      " 'First todo\\n'\n",
      " '      </li>\\n'\n",
      " '      <li id=\"todo\">\\n'\n",
      " '        <a href=\"#\" hx-get=\"/toggle/2\" hx-target=\"#todo\">toggle</a>\\n'\n",
      " '        <a href=\"#\">delete</a>\\n'\n",
      " 'Second todo ✅\\n'\n",
      " '      </li>\\n'\n",
      " '      <li id=\"todo\">\\n'\n",
      " '        <a href=\"#\" hx-get=\"/toggle/3\" hx-target=\"#todo\">toggle</a>\\n'\n",
      " '        <a href=\"#\">delete</a>\\n'\n",
      " 'Third todo ✅\\n'\n",
      " '      </li>\\n'\n",
      " '    </ul>\\n'\n",
      " '  </form>\\n'\n",
      " '</main>\\n')\n"
     ]
    }
   ],
   "source": [
    "def render(todo: Todo):\n",
    "    return Li(A('toggle', \n",
    "                hx_get=f'/toggle/{todo.id}', # it get the response but use it to build a separate page, this response is inside the A tag\n",
    "                target_id='todo'), # the response goes to the element with id 'todo', but it is a fixed id, not dynamic, is a problem.\n",
    "\n",
    "                # target_id=f'todo-{todo.id}'), # now the target_id is dynamic, it is the id of the todo whose toggle is clicked\n",
    "\n",
    "              A('delete'),\n",
    "\n",
    "              todo.title + (' ✅' if todo.done else ''),\n",
    "              \n",
    "              id='todo') # this Li element has an id of 'todo' which is fixed.\n",
    "            #   id=f'todo-{todo.id}') # add id to the todo element\n",
    "\n",
    "app, rt, todos, Todo = fast_app('todos1.db', live=True, render=render,\n",
    "                                id=int,\n",
    "                                title=str,\n",
    "                                done=bool,\n",
    "                                pk='id')\n",
    "\n",
    "@rt('/')\n",
    "def get():\n",
    "    out = Titled(\"Todos\",\n",
    "                 Form(Group(\n",
    "                     Input(placeholder='type your todo', name='title', id='todo-input'), \n",
    "                     Button('Add')),\n",
    "                 Ul(*todos())\n",
    "                 )\n",
    "                )\n",
    "    \n",
    "    return out\n",
    "\n",
    "@rt('/toggle/{tid}')\n",
    "def get(tid: int=1):\n",
    "    todo = todos.get(tid)\n",
    "    todo.done = not todo.done\n",
    "    todos.update(todo)\n",
    "    return todo\n",
    "\n",
    "hxhdr = {'headers':{'hx-request':\"1\"}}\n",
    "cli = TestClient(app) # this line must also be run to keep the following code working\n",
    "# check the response from the toggle/1 page\n",
    "# pprint(cli.get('/toggle/1').text)\n",
    "# print('=============')\n",
    "pprint(cli.get('/toggle/1', **hxhdr).text)\n",
    "pprint(cli.get('/toggle/1', **hxhdr).url)\n",
    "pprint(cli.get('/toggle/1', **hxhdr).headers)\n",
    "\n",
    "print('=============')\n",
    "# check the response from the root page\n",
    "pprint(cli.get('/', **hxhdr).text)"
   ]
  },
  {
   "cell_type": "markdown",
   "metadata": {},
   "source": [
    "#### #### target_id with dynamic id"
   ]
  },
  {
   "cell_type": "code",
   "execution_count": 30,
   "metadata": {},
   "outputs": [
    {
     "name": "stdout",
     "output_type": "stream",
     "text": [
      "('<li id=\"todo-1\">\\n'\n",
      " '  <a href=\"#\" hx-get=\"/toggle/1\" hx-target=\"#todo-1\">toggle</a>\\n'\n",
      " '  <a href=\"#\">delete</a>\\n'\n",
      " 'First todo ✅\\n'\n",
      " '</li>\\n')\n",
      "URL('http://testserver/toggle/1')\n",
      "Headers({'content-length': '127', 'content-type': 'text/html; charset=utf-8'})\n",
      "=============\n",
      "('<title>Todos</title>\\n'\n",
      " '\\n'\n",
      " '<main class=\"container\">\\n'\n",
      " '  <h1>Todos</h1>\\n'\n",
      " '  <form enctype=\"multipart/form-data\">\\n'\n",
      " '    <fieldset role=\"group\">\\n'\n",
      " '      <input placeholder=\"type your todo\" name=\"title\" id=\"todo-input\">\\n'\n",
      " '      <button>Add</button>\\n'\n",
      " '    </fieldset>\\n'\n",
      " '    <ul>\\n'\n",
      " '      <li id=\"todo-1\">\\n'\n",
      " '        <a href=\"#\" hx-get=\"/toggle/1\" hx-target=\"#todo-1\">toggle</a>\\n'\n",
      " '        <a href=\"#\">delete</a>\\n'\n",
      " 'First todo ✅\\n'\n",
      " '      </li>\\n'\n",
      " '      <li id=\"todo-2\">\\n'\n",
      " '        <a href=\"#\" hx-get=\"/toggle/2\" hx-target=\"#todo-2\">toggle</a>\\n'\n",
      " '        <a href=\"#\">delete</a>\\n'\n",
      " 'Second todo ✅\\n'\n",
      " '      </li>\\n'\n",
      " '      <li id=\"todo-3\">\\n'\n",
      " '        <a href=\"#\" hx-get=\"/toggle/3\" hx-target=\"#todo-3\">toggle</a>\\n'\n",
      " '        <a href=\"#\">delete</a>\\n'\n",
      " 'Third todo ✅\\n'\n",
      " '      </li>\\n'\n",
      " '    </ul>\\n'\n",
      " '  </form>\\n'\n",
      " '</main>\\n')\n"
     ]
    }
   ],
   "source": [
    "def render(todo: Todo):\n",
    "    return Li(A('toggle', \n",
    "                hx_get=f'/toggle/{todo.id}', # it get the response but use it to build a separate page, this response is inside the A tag\n",
    "                # target_id='todo'), # the response goes to the element with id 'todo', but it is a fixed id, not dynamic, is a problem.\n",
    "\n",
    "                target_id=f'todo-{todo.id}'), # now the target_id is dynamic, it is the id of the todo whose toggle is clicked\n",
    "\n",
    "              A('delete'),\n",
    "\n",
    "              todo.title + (' ✅' if todo.done else ''),\n",
    "              \n",
    "            #   id='todo') # this Li element has an id of 'todo' which is fixed.\n",
    "              id=f'todo-{todo.id}') # add id to the todo element\n",
    "\n",
    "app, rt, todos, Todo = fast_app('todos1.db', live=True, render=render,\n",
    "                                id=int,\n",
    "                                title=str,\n",
    "                                done=bool,\n",
    "                                pk='id')\n",
    "\n",
    "@rt('/')\n",
    "def get():\n",
    "    out = Titled(\"Todos\",\n",
    "                 Form(Group(\n",
    "                     Input(placeholder='type your todo', name='title', id='todo-input'), \n",
    "                     Button('Add')),\n",
    "                 Ul(*todos())\n",
    "                 )\n",
    "                )\n",
    "    \n",
    "    return out\n",
    "\n",
    "@rt('/toggle/{tid}')\n",
    "def get(tid: int=1):\n",
    "    todo = todos.get(tid)\n",
    "    todo.done = not todo.done\n",
    "    todos.update(todo)\n",
    "    return todo\n",
    "\n",
    "hxhdr = {'headers':{'hx-request':\"1\"}}\n",
    "cli = TestClient(app) # this line must also be run to keep the following code working\n",
    "# check the response from the toggle/1 page\n",
    "# pprint(cli.get('/toggle/1').text)\n",
    "# print('=============')\n",
    "pprint(cli.get('/toggle/1', **hxhdr).text)\n",
    "pprint(cli.get('/toggle/1', **hxhdr).url)\n",
    "pprint(cli.get('/toggle/1', **hxhdr).headers)\n",
    "\n",
    "print('=============')\n",
    "# check the response from the root page\n",
    "pprint(cli.get('/', **hxhdr).text)"
   ]
  },
  {
   "cell_type": "markdown",
   "metadata": {},
   "source": [
    "### hx_swap: fill or replace the target\n",
    "\n",
    "- innerHTML - Replace the inner html of the target element\n",
    "- outerHTML - Replace the entire target element with the response\n",
    "- textContent - Replace the text content of the target element, without parsing the response as HTML\n",
    "- beforebegin - Insert the response before the target element\n",
    "- afterbegin - Insert the response before the first child of the target element\n",
    "- beforeend - Insert the response after the last child of the target element\n",
    "- afterend - Insert the response after the target element\n",
    "- delete - Deletes the target element regardless of the response\n",
    "- none- Does not append content from response (out of band items will still be processed)."
   ]
  },
  {
   "cell_type": "code",
   "execution_count": 41,
   "metadata": {},
   "outputs": [
    {
     "name": "stdout",
     "output_type": "stream",
     "text": [
      "('<li id=\"todo-1\">\\n'\n",
      " '  <a href=\"#\" hx-get=\"/toggle/1\" hx-swap=\"outerHTML\" '\n",
      " 'hx-target=\"#todo-1\">toggle</a>\\n'\n",
      " '  <a href=\"#\">delete</a>\\n'\n",
      " 'First todo ✅\\n'\n",
      " '</li>\\n')\n",
      "URL('http://testserver/toggle/1')\n",
      "Headers({'content-length': '147', 'content-type': 'text/html; charset=utf-8'})\n",
      "=============\n",
      "('<title>Todos</title>\\n'\n",
      " '\\n'\n",
      " '<main class=\"container\">\\n'\n",
      " '  <h1>Todos</h1>\\n'\n",
      " '  <form enctype=\"multipart/form-data\">\\n'\n",
      " '    <fieldset role=\"group\">\\n'\n",
      " '      <input placeholder=\"type your todo\" name=\"title\" id=\"todo-input\">\\n'\n",
      " '      <button>Add</button>\\n'\n",
      " '    </fieldset>\\n'\n",
      " '    <ul>\\n'\n",
      " '      <li id=\"todo-1\">\\n'\n",
      " '        <a href=\"#\" hx-get=\"/toggle/1\" hx-swap=\"outerHTML\" '\n",
      " 'hx-target=\"#todo-1\">toggle</a>\\n'\n",
      " '        <a href=\"#\">delete</a>\\n'\n",
      " 'First todo ✅\\n'\n",
      " '      </li>\\n'\n",
      " '      <li id=\"todo-2\">\\n'\n",
      " '        <a href=\"#\" hx-get=\"/toggle/2\" hx-swap=\"outerHTML\" '\n",
      " 'hx-target=\"#todo-2\">toggle</a>\\n'\n",
      " '        <a href=\"#\">delete</a>\\n'\n",
      " 'Second todo\\n'\n",
      " '      </li>\\n'\n",
      " '    </ul>\\n'\n",
      " '  </form>\\n'\n",
      " '</main>\\n')\n"
     ]
    }
   ],
   "source": [
    "def render(todo: Todo):\n",
    "    return Li(A('toggle', \n",
    "                hx_get=f'/toggle/{todo.id}', \n",
    "                # hx_swap='innerHTML', # only fill in the content of the target element, which result Li todo contains another Li todo\n",
    "                hx_swap='outerHTML', # the reponse or new Li todo will replace the old\n",
    "                target_id=f'todo-{todo.id}'), # now the target_id is dynamic, it is the id of the todo whose toggle is clicked\n",
    "\n",
    "              A('delete'),\n",
    "\n",
    "              todo.title + (' ✅' if todo.done else ''),\n",
    "\n",
    "              id=f'todo-{todo.id}') \n",
    "\n",
    "app, rt, todos, Todo = fast_app('todos1.db', live=True, render=render,\n",
    "                                id=int,\n",
    "                                title=str,\n",
    "                                done=bool,\n",
    "                                pk='id')\n",
    "\n",
    "@rt('/')\n",
    "def get():\n",
    "    out = Titled(\"Todos\",\n",
    "                 Form(Group(\n",
    "                     Input(placeholder='type your todo', name='title', id='todo-input'), \n",
    "                     Button('Add')),\n",
    "                 Ul(*todos())\n",
    "                 )\n",
    "                )\n",
    "    \n",
    "    return out\n",
    "\n",
    "@rt('/toggle/{tid}')\n",
    "def get(tid: int=1):\n",
    "    todo = todos.get(tid)\n",
    "    todo.done = not todo.done\n",
    "    todos.update(todo)\n",
    "    return todo\n",
    "\n",
    "\n",
    "hxhdr = {'headers':{'hx-request':\"1\"}}\n",
    "cli = TestClient(app) # this line must also be run to keep the following code working\n",
    "# check the response from the toggle/1 page\n",
    "# pprint(cli.get('/toggle/1').text)\n",
    "# print('=============')\n",
    "pprint(cli.get('/toggle/1', **hxhdr).text)\n",
    "pprint(cli.get('/toggle/1', **hxhdr).url)\n",
    "pprint(cli.get('/toggle/1', **hxhdr).headers)\n",
    "\n",
    "print('=============')\n",
    "# check the response from the root page\n",
    "pprint(cli.get('/', **hxhdr).text)"
   ]
  },
  {
   "cell_type": "markdown",
   "metadata": {},
   "source": [
    "### make the delete link work"
   ]
  },
  {
   "cell_type": "code",
   "execution_count": 42,
   "metadata": {},
   "outputs": [
    {
     "name": "stdout",
     "output_type": "stream",
     "text": [
      "''\n",
      "=============\n",
      "('<title>Todos</title>\\n'\n",
      " '\\n'\n",
      " '<main class=\"container\">\\n'\n",
      " '  <h1>Todos</h1>\\n'\n",
      " '  <form enctype=\"multipart/form-data\">\\n'\n",
      " '    <fieldset role=\"group\">\\n'\n",
      " '      <input placeholder=\"type your todo\" name=\"title\" id=\"todo-input\">\\n'\n",
      " '      <button>Add</button>\\n'\n",
      " '    </fieldset>\\n'\n",
      " '    <ul>\\n'\n",
      " '      <li id=\"todo-2\">\\n'\n",
      " '        <a href=\"#\" hx-get=\"/toggle/2\" hx-swap=\"outerHTML\" '\n",
      " 'hx-target=\"#todo-2\">toggle</a>\\n'\n",
      " '        <a href=\"#\" hx-get=\"/delete/2\" hx-swap=\"outerHTML\" '\n",
      " 'hx-target=\"#todo-2\">delete</a>\\n'\n",
      " 'Second todo\\n'\n",
      " '      </li>\\n'\n",
      " '    </ul>\\n'\n",
      " '  </form>\\n'\n",
      " '</main>\\n')\n"
     ]
    }
   ],
   "source": [
    "def render(todo: Todo):\n",
    "    return Li(A('toggle', \n",
    "                hx_get=f'/toggle/{todo.id}', \n",
    "                target_id=f'todo-{todo.id}',\n",
    "                hx_swap='outerHTML'), \n",
    "\n",
    "              A('delete', hx_get=f'/delete/{todo.id}', target_id=f'todo-{todo.id}', hx_swap='outerHTML'),\n",
    "\n",
    "              todo.title + (' ✅' if todo.done else ''),\n",
    "              \n",
    "              id=f'todo-{todo.id}') \n",
    "\n",
    "app, rt, todos, Todo = fast_app('todos1.db', live=True, render=render,\n",
    "                                id=int,\n",
    "                                title=str,\n",
    "                                done=bool,\n",
    "                                pk='id')\n",
    "\n",
    "@rt('/')\n",
    "def get():\n",
    "    out = Titled(\"Todos\",\n",
    "                 Form(Group(\n",
    "                     Input(placeholder='type your todo', name='title', id='todo-input'), \n",
    "                     Button('Add')),\n",
    "                 Ul(*todos())\n",
    "                 )\n",
    "                )\n",
    "    \n",
    "    return out\n",
    "\n",
    "@rt('/toggle/{tid}')\n",
    "def get(tid: int=1):\n",
    "    todo = todos.get(tid)\n",
    "    todo.done = not todo.done\n",
    "    todos.update(todo)\n",
    "    return todo\n",
    "\n",
    "@rt('/delete/{tid}')\n",
    "def get(tid: int=1):\n",
    "    todos.delete(tid)\n",
    "    return ''\n",
    "\n",
    "hxhdr = {'headers':{'hx-request':\"1\"}}\n",
    "cli = TestClient(app) # this line must also be run to keep the following code working\n",
    "# check the response from the toggle/1 page\n",
    "# pprint(cli.get('/toggle/1').text)\n",
    "# print('=============')\n",
    "pprint(cli.get('/delete/1', **hxhdr).text)\n",
    "# pprint(cli.get('/delete/2', **hxhdr).url)\n",
    "# pprint(cli.get('/delete/3', **hxhdr).headers)\n",
    "\n",
    "print('=============')\n",
    "# check the response from the root page\n",
    "pprint(cli.get('/', **hxhdr).text)"
   ]
  },
  {
   "cell_type": "markdown",
   "metadata": {},
   "source": [
    "### hx_post: send form data to the server"
   ]
  },
  {
   "cell_type": "code",
   "execution_count": 8,
   "metadata": {},
   "outputs": [
    {
     "name": "stdout",
     "output_type": "stream",
     "text": [
      "('<li id=\"todo-7\">\\n'\n",
      " '  <a href=\"#\" hx-get=\"/toggle/7\" hx-swap=\"outerHTML\" '\n",
      " 'hx-target=\"#todo-7\">toggle</a>\\n'\n",
      " '  <a href=\"#\" hx-get=\"/delete/7\" hx-swap=\"outerHTML\" '\n",
      " 'hx-target=\"#todo-7\">delete</a>\\n'\n",
      " 'this is post7\\n'\n",
      " '</li>\\n')\n",
      "=============\n",
      "('<title>Todos</title>\\n'\n",
      " '\\n'\n",
      " '<main class=\"container\">\\n'\n",
      " '  <h1>Todos</h1>\\n'\n",
      " '  <form enctype=\"multipart/form-data\" hx-post=\"/\" hx-swap=\"innerHTML\" '\n",
      " 'hx-target=\"#todo-list\">\\n'\n",
      " '    <fieldset role=\"group\">\\n'\n",
      " '      <input placeholder=\"type your todo\" name=\"title\" id=\"todo-input\">\\n'\n",
      " '      <button>Add</button>\\n'\n",
      " '    </fieldset>\\n'\n",
      " '  </form>\\n'\n",
      " '  <ul id=\"todo-list\">\\n'\n",
      " '    <li id=\"todo-1\">\\n'\n",
      " '      <a href=\"#\" hx-get=\"/toggle/1\" hx-swap=\"outerHTML\" '\n",
      " 'hx-target=\"#todo-1\">toggle</a>\\n'\n",
      " '      <a href=\"#\" hx-get=\"/delete/1\" hx-swap=\"outerHTML\" '\n",
      " 'hx-target=\"#todo-1\">delete</a>\\n'\n",
      " 'First todo\\n'\n",
      " '    </li>\\n'\n",
      " '    <li id=\"todo-2\">\\n'\n",
      " '      <a href=\"#\" hx-get=\"/toggle/2\" hx-swap=\"outerHTML\" '\n",
      " 'hx-target=\"#todo-2\">toggle</a>\\n'\n",
      " '      <a href=\"#\" hx-get=\"/delete/2\" hx-swap=\"outerHTML\" '\n",
      " 'hx-target=\"#todo-2\">delete</a>\\n'\n",
      " 'Second todo\\n'\n",
      " '    </li>\\n'\n",
      " '    <li id=\"todo-3\">\\n'\n",
      " '      <a href=\"#\" hx-get=\"/toggle/3\" hx-swap=\"outerHTML\" '\n",
      " 'hx-target=\"#todo-3\">toggle</a>\\n'\n",
      " '      <a href=\"#\" hx-get=\"/delete/3\" hx-swap=\"outerHTML\" '\n",
      " 'hx-target=\"#todo-3\">delete</a>\\n'\n",
      " 'Third todo\\n'\n",
      " '    </li>\\n'\n",
      " '    <li id=\"todo-7\">\\n'\n",
      " '      <a href=\"#\" hx-get=\"/toggle/7\" hx-swap=\"outerHTML\" '\n",
      " 'hx-target=\"#todo-7\">toggle</a>\\n'\n",
      " '      <a href=\"#\" hx-get=\"/delete/7\" hx-swap=\"outerHTML\" '\n",
      " 'hx-target=\"#todo-7\">delete</a>\\n'\n",
      " 'this is post7\\n'\n",
      " '    </li>\\n'\n",
      " '    <li id=\"todo-8\">\\n'\n",
      " '      <a href=\"#\" hx-get=\"/toggle/8\" hx-swap=\"outerHTML\" '\n",
      " 'hx-target=\"#todo-8\">toggle</a>\\n'\n",
      " '      <a href=\"#\" hx-get=\"/delete/8\" hx-swap=\"outerHTML\" '\n",
      " 'hx-target=\"#todo-8\">delete</a>\\n'\n",
      " 'this is post8\\n'\n",
      " '    </li>\\n'\n",
      " '    <li id=\"todo-9\">\\n'\n",
      " '      <a href=\"#\" hx-get=\"/toggle/9\" hx-swap=\"outerHTML\" '\n",
      " 'hx-target=\"#todo-9\">toggle</a>\\n'\n",
      " '      <a href=\"#\" hx-get=\"/delete/9\" hx-swap=\"outerHTML\" '\n",
      " 'hx-target=\"#todo-9\">delete</a>\\n'\n",
      " 'this is post\\n'\n",
      " '    </li>\\n'\n",
      " '  </ul>\\n'\n",
      " '</main>\\n')\n"
     ]
    }
   ],
   "source": [
    "def render(todo: Todo):\n",
    "    return Li(A('toggle', \n",
    "                hx_get=f'/toggle/{todo.id}', \n",
    "                target_id=f'todo-{todo.id}',\n",
    "                hx_swap='outerHTML'), \n",
    "\n",
    "              A('delete', hx_get=f'/delete/{todo.id}', target_id=f'todo-{todo.id}', hx_swap='outerHTML'),\n",
    "\n",
    "              todo.title + (' ✅' if todo.done else ''),\n",
    "              \n",
    "              id=f'todo-{todo.id}') \n",
    "\n",
    "app, rt, todos, Todo = fast_app('todos1.db', live=True, render=render,\n",
    "                                id=int,\n",
    "                                title=str,\n",
    "                                done=bool,\n",
    "                                pk='id')\n",
    "\n",
    "@rt('/')\n",
    "def get():\n",
    "    out = Titled(\"Todos\",\n",
    "                 Form(\n",
    "                     Group(\n",
    "                        Input(placeholder='type your todo', name='title', id='todo-input'), \n",
    "                        Button('Add')),\n",
    "                     hx_post='/', # call a post func at path '/'\n",
    "                     target_id='todo-list', # give the response to 'todo-list' element\n",
    "                     hx_swap='innerHTML'), # replace the content of the element with the response\n",
    "                    #  hx_swap='beforeend'), # put the response at the end of the element\n",
    "                 Ul(*todos(),\n",
    "                    id='todo-list') # give the Ul element an id of 'todo-list'\n",
    "                 )\n",
    "    return out\n",
    "\n",
    "@rt('/')\n",
    "def post(todo: Todo): # the user input data is automatically converted to a todo object already\n",
    "    return todos.insert(todo)\n",
    "\n",
    "@rt('/toggle/{tid}')\n",
    "def get(tid: int=1):\n",
    "    todo = todos.get(tid)\n",
    "    todo.done = not todo.done\n",
    "    todos.update(todo)\n",
    "    return todo\n",
    "\n",
    "@rt('/delete/{tid}')\n",
    "def get(tid: int=1):\n",
    "    todos.delete(tid)\n",
    "    return ''\n",
    "\n",
    "hxhdr = {'headers':{'hx-request':\"1\"}}\n",
    "cli = TestClient(app) \n",
    "pprint(cli.post('/', data={'id': 7, 'title':'this is post7', 'bool': 1}, **hxhdr).text)\n",
    "\n",
    "\n",
    "print('=============')\n",
    "# check the response from the root page\n",
    "pprint(cli.get('/', **hxhdr).text)    \n",
    "\n"
   ]
  },
  {
   "cell_type": "code",
   "execution_count": null,
   "metadata": {},
   "outputs": [],
   "source": []
  }
 ],
 "metadata": {
  "kernelspec": {
   "display_name": "base",
   "language": "python",
   "name": "python3"
  },
  "language_info": {
   "codemirror_mode": {
    "name": "ipython",
    "version": 3
   },
   "file_extension": ".py",
   "mimetype": "text/x-python",
   "name": "python",
   "nbconvert_exporter": "python",
   "pygments_lexer": "ipython3",
   "version": "3.10.14"
  }
 },
 "nbformat": 4,
 "nbformat_minor": 2
}
