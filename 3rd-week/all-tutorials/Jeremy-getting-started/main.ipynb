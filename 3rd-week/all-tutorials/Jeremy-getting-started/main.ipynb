{
 "cells": [
  {
   "cell_type": "code",
   "execution_count": 46,
   "metadata": {},
   "outputs": [],
   "source": [
    "from fasthtml import common as fh \n",
    "from fasthtml.common import *\n",
    "\n",
    "from IPython.core.interactiveshell import InteractiveShell\n",
    "InteractiveShell.ast_node_interactivity = \"all\""
   ]
  },
  {
   "cell_type": "markdown",
   "metadata": {},
   "source": []
  },
  {
   "cell_type": "code",
   "execution_count": 21,
   "metadata": {},
   "outputs": [],
   "source": [
    "import time\n",
    "\n",
    "from IPython import display\n",
    "from enum import Enum\n",
    "from pprint import pprint\n",
    "\n",
    "from fastcore.test import *\n",
    "from starlette.testclient import TestClient\n",
    "from starlette.requests import Headers\n",
    "from starlette.datastructures import UploadFile\n",
    "\n"
   ]
  },
  {
   "cell_type": "code",
   "execution_count": 22,
   "metadata": {},
   "outputs": [],
   "source": [
    "app, rt, todos, Todo = fast_app('todos2.db', live=True, \n",
    "                                id=int, title=str, done=bool, \n",
    "                                pk='id')\n",
    "\n",
    "cli = TestClient(app)\n",
    "\n",
    "\n",
    "@rt('/')\n",
    "def get():\n",
    "    return Input(placeholder=\"Add a new todo\", \n",
    "                           id='title', \n",
    "                           hx_post='/') \n",
    "\n",
    "@rt('/')\n",
    "def post(todo:Todo): \n",
    "    return todos.insert(todo)\n"
   ]
  },
  {
   "cell_type": "code",
   "execution_count": 51,
   "metadata": {},
   "outputs": [
    {
     "data": {
      "text/plain": [
       "done, id, title"
      ]
     },
     "execution_count": 51,
     "metadata": {},
     "output_type": "execute_result"
    }
   ],
   "source": [
    "\n",
    "todos.c"
   ]
  },
  {
   "cell_type": "code",
   "execution_count": 27,
   "metadata": {},
   "outputs": [
    {
     "name": "stdout",
     "output_type": "stream",
     "text": [
      "('<!doctype html>\\n'\n",
      " '\\n'\n",
      " '<html>\\n'\n",
      " '  <head>\\n'\n",
      " '    <title>FastHTML page</title>\\n'\n",
      " '    <meta charset=\"utf-8\">\\n'\n",
      " '    <meta name=\"viewport\" content=\"width=device-width, initial-scale=1, '\n",
      " 'viewport-fit=cover\">\\n'\n",
      " '    <script '\n",
      " 'src=\"https://unpkg.com/htmx.org@next/dist/htmx.min.js\"></script>\\n'\n",
      " '    <script '\n",
      " 'src=\"https://cdn.jsdelivr.net/gh/answerdotai/surreal@1.3.0/surreal.js\"></script>\\n'\n",
      " '    <script '\n",
      " 'src=\"https://cdn.jsdelivr.net/gh/gnat/css-scope-inline@main/script.js\"></script>\\n'\n",
      " '    <link rel=\"stylesheet\" '\n",
      " 'href=\"https://cdn.jsdelivr.net/npm/@picocss/pico@latest/css/pico.min.css\">\\n'\n",
      " '    <style>:root { --pico-font-size: 100%; }</style>\\n'\n",
      " '    <script>\\n'\n",
      " '    (function() {\\n'\n",
      " '        var socket = new '\n",
      " 'WebSocket(`ws://${window.location.host}/live-reload`);\\n'\n",
      " '        var maxReloadAttempts = 1;\\n'\n",
      " '        var reloadInterval = 1000; // time between reload attempts in ms\\n'\n",
      " '        socket.onclose = function() {\\n'\n",
      " '            let reloadAttempts = 0;\\n'\n",
      " '            const intervalFn = setInterval(function(){\\n'\n",
      " '                window.location.reload();\\n'\n",
      " '                reloadAttempts++;\\n'\n",
      " '                if (reloadAttempts === maxReloadAttempts) '\n",
      " 'clearInterval(intervalFn);\\n'\n",
      " '            }, reloadInterval);\\n'\n",
      " '        }\\n'\n",
      " '    })();\\n'\n",
      " '</script>\\n'\n",
      " '  </head>\\n'\n",
      " '  <body reload-attempts=\"1\" reload-interval=\"1000\">\\n'\n",
      " '<input placeholder=\"Add a new todo\" hx-post=\"/\" id=\"title\" name=\"title\">\\n'\n",
      " '  </body>\\n'\n",
      " '</html>\\n')\n"
     ]
    }
   ],
   "source": [
    "\n",
    "pprint(cli.get('/').text)"
   ]
  },
  {
   "cell_type": "code",
   "execution_count": 6,
   "metadata": {},
   "outputs": [
    {
     "data": {
      "text/plain": [
       "\"Items(id=23, title='this is me', done=None)\""
      ]
     },
     "execution_count": 6,
     "metadata": {},
     "output_type": "execute_result"
    }
   ],
   "source": [
    "cli.post('/', data={'title':'this is me'}).text"
   ]
  },
  {
   "cell_type": "code",
   "execution_count": 34,
   "metadata": {},
   "outputs": [],
   "source": [
    "\n",
    "from fasthtml.common import *\n",
    "\n",
    "\n",
    "def render(todo):\n",
    "    tid = f'todo-{todo.id}'\n",
    "    delete = A('Delete',\n",
    "                hx_delete=f'/delete/{todo.id}',\n",
    "                hx_swap='outerHTML',\n",
    "                target_id=tid) \n",
    "    toggle = A('Toggle', \n",
    "               hx_get=f'/toggle/{todo.id}',\n",
    "               target_id=tid)\n",
    "    return Li(toggle, delete,\n",
    "              todo.title + (' ✅' if todo.done else ''),\n",
    "              id=tid)\n",
    "              \n",
    "\n",
    "app, rt, todos, Todo = fast_app('todos.db', live=True, render=render, \n",
    "                                id=int, title=str, done=bool, \n",
    "                                pk='id')\n",
    "\n",
    "\n",
    "def mk_input():\n",
    "    return Input(placeholder=\"Add a new todo\", \n",
    "                           id='title', \n",
    "                           hx_swap_oob='true') \n",
    "\n",
    "@rt('/')\n",
    "def get():\n",
    "    frm = Form(Group(mk_input(),\n",
    "                    Button(\"Add\")),\n",
    "               hx_post='/', \n",
    "               target_id='todo-list',\n",
    "               hx_swap='beforeend') \n",
    "    \n",
    "    return Titled('Todos', \n",
    "                  Card(\n",
    "                      Ul(*todos(), id='todo-list'), \n",
    "                      header=frm) \n",
    "    )\n",
    "\n",
    "@rt('/')\n",
    "def post(todo:Todo): \n",
    "\treturn (todos.insert(todo), \n",
    "\t\t\tmk_input()) \n",
    "\n",
    "@rt('/delete/{tid}') \n",
    "def delete(tid:int): todos.delete(tid) \n",
    "\n",
    "@rt('/toggle/{tid}') \n",
    "def get(tid:int): \n",
    "    todo = todos[tid] \n",
    "    todo.done = not todo.done\n",
    "    todos.update(todo)\n",
    "    return todo \n",
    "\n",
    "# serve()  \n",
    "\n",
    "cli = TestClient(app)"
   ]
  },
  {
   "cell_type": "code",
   "execution_count": null,
   "metadata": {},
   "outputs": [],
   "source": [
    "pprint(cli.post('/', data={'title':'this is me'}).text)"
   ]
  },
  {
   "cell_type": "code",
   "execution_count": 40,
   "metadata": {},
   "outputs": [
    {
     "data": {
      "text/plain": [
       "Items(id=1, title='insert a todo', done=None)"
      ]
     },
     "execution_count": 40,
     "metadata": {},
     "output_type": "execute_result"
    }
   ],
   "source": [
    "todos.get(1)\n",
    "# todos.get(2)\n",
    "# todos.get(3)\n",
    "# todos.get(4)"
   ]
  },
  {
   "cell_type": "code",
   "execution_count": null,
   "metadata": {},
   "outputs": [],
   "source": [
    "pprint(cli.get('/').text)"
   ]
  },
  {
   "cell_type": "code",
   "execution_count": null,
   "metadata": {},
   "outputs": [],
   "source": [
    "pprint(cli.get('/toggle/1').text) # run it twice to see the tick mark on and off"
   ]
  },
  {
   "cell_type": "code",
   "execution_count": 47,
   "metadata": {},
   "outputs": [
    {
     "data": {
      "text/plain": [
       "Items(id=1, title='insert a todo', done=1)"
      ]
     },
     "execution_count": 47,
     "metadata": {},
     "output_type": "execute_result"
    },
    {
     "name": "stdout",
     "output_type": "stream",
     "text": [
      "''\n"
     ]
    },
    {
     "ename": "NotFoundError",
     "evalue": "",
     "output_type": "error",
     "traceback": [
      "\u001b[0;31m---------------------------------------------------------------------------\u001b[0m",
      "\u001b[0;31mNotFoundError\u001b[0m                             Traceback (most recent call last)",
      "Cell \u001b[0;32mIn[47], line 3\u001b[0m\n\u001b[1;32m      1\u001b[0m todos\u001b[38;5;241m.\u001b[39mget(\u001b[38;5;241m1\u001b[39m)\n\u001b[1;32m      2\u001b[0m pprint(cli\u001b[38;5;241m.\u001b[39mdelete(\u001b[38;5;124m'\u001b[39m\u001b[38;5;124m/delete/1\u001b[39m\u001b[38;5;124m'\u001b[39m)\u001b[38;5;241m.\u001b[39mtext)\n\u001b[0;32m----> 3\u001b[0m \u001b[43mtodos\u001b[49m\u001b[38;5;241;43m.\u001b[39;49m\u001b[43mget\u001b[49m\u001b[43m(\u001b[49m\u001b[38;5;241;43m1\u001b[39;49m\u001b[43m)\u001b[49m\n",
      "File \u001b[0;32m~/mambaforge/lib/python3.10/site-packages/fastlite/kw.py:66\u001b[0m, in \u001b[0;36mget\u001b[0;34m(self, pk_values, as_cls)\u001b[0m\n\u001b[1;32m     64\u001b[0m wheres \u001b[38;5;241m=\u001b[39m [\u001b[38;5;124m\"\u001b[39m\u001b[38;5;124m[\u001b[39m\u001b[38;5;132;01m{}\u001b[39;00m\u001b[38;5;124m] = ?\u001b[39m\u001b[38;5;124m\"\u001b[39m\u001b[38;5;241m.\u001b[39mformat(pk_name) \u001b[38;5;28;01mfor\u001b[39;00m pk_name \u001b[38;5;129;01min\u001b[39;00m pks]\n\u001b[1;32m     65\u001b[0m item \u001b[38;5;241m=\u001b[39m first(\u001b[38;5;28mself\u001b[39m\u001b[38;5;241m.\u001b[39mids_and_rows_where(\u001b[38;5;124m\"\u001b[39m\u001b[38;5;124m and \u001b[39m\u001b[38;5;124m\"\u001b[39m\u001b[38;5;241m.\u001b[39mjoin(wheres), vals))\n\u001b[0;32m---> 66\u001b[0m \u001b[38;5;28;01mif\u001b[39;00m \u001b[38;5;129;01mnot\u001b[39;00m item: \u001b[38;5;28;01mraise\u001b[39;00m NotFoundError\n\u001b[1;32m     67\u001b[0m rid,row \u001b[38;5;241m=\u001b[39m item\n\u001b[1;32m     68\u001b[0m \u001b[38;5;28mself\u001b[39m\u001b[38;5;241m.\u001b[39mlast_pk,\u001b[38;5;28mself\u001b[39m\u001b[38;5;241m.\u001b[39mlast_rowid \u001b[38;5;241m=\u001b[39m last_pk,rid\n",
      "\u001b[0;31mNotFoundError\u001b[0m: "
     ]
    }
   ],
   "source": [
    "todos.get(1)\n",
    "pprint(cli.delete('/delete/1').text)\n",
    "todos.get(1) # as it is deleted, it will cause error"
   ]
  },
  {
   "cell_type": "code",
   "execution_count": 48,
   "metadata": {},
   "outputs": [
    {
     "data": {
      "text/plain": [
       "Items(id=2, title='insert a second todo', done=None)"
      ]
     },
     "execution_count": 48,
     "metadata": {},
     "output_type": "execute_result"
    }
   ],
   "source": [
    "todos.get(2)"
   ]
  },
  {
   "cell_type": "code",
   "execution_count": 7,
   "metadata": {},
   "outputs": [
    {
     "data": {
      "text/markdown": [
       "```html\n",
       "<li>hello</li>\n",
       "\n",
       "```"
      ],
      "text/plain": [
       "['li', ('hello',), {}]"
      ]
     },
     "execution_count": 7,
     "metadata": {},
     "output_type": "execute_result"
    }
   ],
   "source": [
    "Li('hello')"
   ]
  },
  {
   "cell_type": "code",
   "execution_count": 18,
   "metadata": {},
   "outputs": [],
   "source": [
    "title, p = Titled('try',P(Strong(\"FastHTML is\", I(\"Fast\"))))"
   ]
  },
  {
   "cell_type": "code",
   "execution_count": 20,
   "metadata": {},
   "outputs": [
    {
     "data": {
      "text/markdown": [
       "```html\n",
       "<title>try</title>\n",
       "\n",
       "```"
      ],
      "text/plain": [
       "['title', ('try',), {}]"
      ]
     },
     "execution_count": 20,
     "metadata": {},
     "output_type": "execute_result"
    },
    {
     "data": {
      "text/markdown": [
       "```html\n",
       "<main class=\"container\">\n",
       "  <h1>try</h1>\n",
       "  <p>\n",
       "    <strong>\n",
       "FastHTML is\n",
       "      <i>Fast</i>\n",
       "    </strong>\n",
       "  </p>\n",
       "</main>\n",
       "\n",
       "```"
      ],
      "text/plain": [
       "['main',\n",
       " (['h1', ('try',), {}],\n",
       "  ['p', (['strong', ('FastHTML is', ['i', ('Fast',), {}]), {}],), {}]),\n",
       " {'class': 'container'}]"
      ]
     },
     "execution_count": 20,
     "metadata": {},
     "output_type": "execute_result"
    }
   ],
   "source": [
    "title\n",
    "p"
   ]
  },
  {
   "cell_type": "code",
   "execution_count": 13,
   "metadata": {},
   "outputs": [],
   "source": [
    "frm = Form(Group(mk_input(),\n",
    "                    Button(\"Add\")),\n",
    "               hx_post='/', \n",
    "               target_id='todo-list',\n",
    "               hx_swap='beforeend') \n",
    "\n",
    "out = Titled('Todos', \n",
    "\t  Card(\n",
    "\t\t  Ul(*todos(), id='todo-list'), \n",
    "\t\t  header=frm) \n",
    "        )\n"
   ]
  },
  {
   "cell_type": "code",
   "execution_count": 16,
   "metadata": {},
   "outputs": [
    {
     "data": {
      "text/markdown": [
       "```html\n",
       "<article>\n",
       "  <header>\n",
       "    <form enctype=\"multipart/form-data\" hx-post=\"/\" hx-swap=\"beforeend\" hx-target=\"#todo-list\">\n",
       "      <fieldset role=\"group\">\n",
       "        <input placeholder=\"Add a new todo\" hx-swap-oob=\"true\" id=\"title\" name=\"title\">\n",
       "        <button>Add</button>\n",
       "      </fieldset>\n",
       "    </form>\n",
       "  </header>\n",
       "  <ul id=\"todo-list\">\n",
       "    <li id=\"todo-1\">\n",
       "      <a href=\"#\" hx-get=\"/toggle/1\" hx-target=\"#todo-1\">Toggle</a>\n",
       "      <a href=\"#\" hx-swap=\"outerHTML\" hx-delete=\"/delete/1\" hx-target=\"#todo-1\">Delete</a>\n",
       "this is me ✅\n",
       "    </li>\n",
       "    <li id=\"todo-2\">\n",
       "      <a href=\"#\" hx-get=\"/toggle/2\" hx-target=\"#todo-2\">Toggle</a>\n",
       "      <a href=\"#\" hx-swap=\"outerHTML\" hx-delete=\"/delete/2\" hx-target=\"#todo-2\">Delete</a>\n",
       "this is you ✅\n",
       "    </li>\n",
       "    <li id=\"todo-3\">\n",
       "      <a href=\"#\" hx-get=\"/toggle/3\" hx-target=\"#todo-3\">Toggle</a>\n",
       "      <a href=\"#\" hx-swap=\"outerHTML\" hx-delete=\"/delete/3\" hx-target=\"#todo-3\">Delete</a>\n",
       "this is her ✅\n",
       "    </li>\n",
       "    <li id=\"todo-4\">\n",
       "      <a href=\"#\" hx-get=\"/toggle/4\" hx-target=\"#todo-4\">Toggle</a>\n",
       "      <a href=\"#\" hx-swap=\"outerHTML\" hx-delete=\"/delete/4\" hx-target=\"#todo-4\">Delete</a>\n",
       "this is her ✅\n",
       "    </li>\n",
       "    <li id=\"todo-5\">\n",
       "      <a href=\"#\" hx-get=\"/toggle/5\" hx-target=\"#todo-5\">Toggle</a>\n",
       "      <a href=\"#\" hx-swap=\"outerHTML\" hx-delete=\"/delete/5\" hx-target=\"#todo-5\">Delete</a>\n",
       "step by step\n",
       "    </li>\n",
       "    <li id=\"todo-6\">\n",
       "      <a href=\"#\" hx-get=\"/toggle/6\" hx-target=\"#todo-6\">Toggle</a>\n",
       "      <a href=\"#\" hx-swap=\"outerHTML\" hx-delete=\"/delete/6\" hx-target=\"#todo-6\">Delete</a>\n",
       "take it easy\n",
       "    </li>\n",
       "  </ul>\n",
       "</article>\n",
       "\n",
       "```"
      ],
      "text/plain": [
       "['article',\n",
       " (['header',\n",
       "   (['form',\n",
       "     (['fieldset',\n",
       "       (['input',\n",
       "         (),\n",
       "         {'placeholder': 'Add a new todo',\n",
       "          'hx-swap-oob': 'true',\n",
       "          'id': 'title',\n",
       "          'name': 'title'}],\n",
       "        ['button', ('Add',), {}]),\n",
       "       {'role': 'group'}],),\n",
       "     {'enctype': 'multipart/form-data',\n",
       "      'hx-post': '/',\n",
       "      'hx-swap': 'beforeend',\n",
       "      'hx-target': '#todo-list'}],),\n",
       "   {}],\n",
       "  ['ul',\n",
       "   (Items(id=1, title='this is me', done=1),\n",
       "    Items(id=2, title='this is you', done=1),\n",
       "    Items(id=3, title='this is her', done=1),\n",
       "    Items(id=4, title='this is her', done=1),\n",
       "    Items(id=5, title='step by step', done=None),\n",
       "    Items(id=6, title='take it easy', done=None)),\n",
       "   {'id': 'todo-list'}]),\n",
       " {}]"
      ]
     },
     "execution_count": 16,
     "metadata": {},
     "output_type": "execute_result"
    }
   ],
   "source": [
    "Card(\n",
    "\t\t  Ul(*todos(), id='todo-list'), \n",
    "\t\t  header=frm) "
   ]
  },
  {
   "cell_type": "code",
   "execution_count": null,
   "metadata": {},
   "outputs": [],
   "source": [
    "to_xml(out)\n",
    "show(out)"
   ]
  },
  {
   "cell_type": "code",
   "execution_count": 10,
   "metadata": {},
   "outputs": [
    {
     "ename": "ExpatError",
     "evalue": "junk after document element: line 3, column 0",
     "output_type": "error",
     "traceback": [
      "\u001b[0;31m---------------------------------------------------------------------------\u001b[0m",
      "\u001b[0;31mExpatError\u001b[0m                                Traceback (most recent call last)",
      "Cell \u001b[0;32mIn[10], line 9\u001b[0m\n\u001b[1;32m      6\u001b[0m     \u001b[38;5;28;01mreturn\u001b[39;00m pretty_xml\n\u001b[1;32m      8\u001b[0m xml_string \u001b[38;5;241m=\u001b[39m to_xml(out)\n\u001b[0;32m----> 9\u001b[0m pretty_xml \u001b[38;5;241m=\u001b[39m \u001b[43mpretty_print_xml\u001b[49m\u001b[43m(\u001b[49m\u001b[43mxml_string\u001b[49m\u001b[43m)\u001b[49m\n\u001b[1;32m     10\u001b[0m \u001b[38;5;28mprint\u001b[39m(pretty_xml)\n",
      "Cell \u001b[0;32mIn[10], line 4\u001b[0m, in \u001b[0;36mpretty_print_xml\u001b[0;34m(xml_string)\u001b[0m\n\u001b[1;32m      3\u001b[0m \u001b[38;5;28;01mdef\u001b[39;00m \u001b[38;5;21mpretty_print_xml\u001b[39m(xml_string):\n\u001b[0;32m----> 4\u001b[0m     dom \u001b[38;5;241m=\u001b[39m \u001b[43mparseString\u001b[49m\u001b[43m(\u001b[49m\u001b[43mxml_string\u001b[49m\u001b[43m)\u001b[49m\n\u001b[1;32m      5\u001b[0m     pretty_xml \u001b[38;5;241m=\u001b[39m dom\u001b[38;5;241m.\u001b[39mtoprettyxml()\n\u001b[1;32m      6\u001b[0m     \u001b[38;5;28;01mreturn\u001b[39;00m pretty_xml\n",
      "File \u001b[0;32m~/mambaforge/lib/python3.10/xml/dom/minidom.py:2000\u001b[0m, in \u001b[0;36mparseString\u001b[0;34m(string, parser)\u001b[0m\n\u001b[1;32m   1998\u001b[0m \u001b[38;5;28;01mif\u001b[39;00m parser \u001b[38;5;129;01mis\u001b[39;00m \u001b[38;5;28;01mNone\u001b[39;00m:\n\u001b[1;32m   1999\u001b[0m     \u001b[38;5;28;01mfrom\u001b[39;00m \u001b[38;5;21;01mxml\u001b[39;00m\u001b[38;5;21;01m.\u001b[39;00m\u001b[38;5;21;01mdom\u001b[39;00m \u001b[38;5;28;01mimport\u001b[39;00m expatbuilder\n\u001b[0;32m-> 2000\u001b[0m     \u001b[38;5;28;01mreturn\u001b[39;00m \u001b[43mexpatbuilder\u001b[49m\u001b[38;5;241;43m.\u001b[39;49m\u001b[43mparseString\u001b[49m\u001b[43m(\u001b[49m\u001b[43mstring\u001b[49m\u001b[43m)\u001b[49m\n\u001b[1;32m   2001\u001b[0m \u001b[38;5;28;01melse\u001b[39;00m:\n\u001b[1;32m   2002\u001b[0m     \u001b[38;5;28;01mfrom\u001b[39;00m \u001b[38;5;21;01mxml\u001b[39;00m\u001b[38;5;21;01m.\u001b[39;00m\u001b[38;5;21;01mdom\u001b[39;00m \u001b[38;5;28;01mimport\u001b[39;00m pulldom\n",
      "File \u001b[0;32m~/mambaforge/lib/python3.10/xml/dom/expatbuilder.py:925\u001b[0m, in \u001b[0;36mparseString\u001b[0;34m(string, namespaces)\u001b[0m\n\u001b[1;32m    923\u001b[0m \u001b[38;5;28;01melse\u001b[39;00m:\n\u001b[1;32m    924\u001b[0m     builder \u001b[38;5;241m=\u001b[39m ExpatBuilder()\n\u001b[0;32m--> 925\u001b[0m \u001b[38;5;28;01mreturn\u001b[39;00m \u001b[43mbuilder\u001b[49m\u001b[38;5;241;43m.\u001b[39;49m\u001b[43mparseString\u001b[49m\u001b[43m(\u001b[49m\u001b[43mstring\u001b[49m\u001b[43m)\u001b[49m\n",
      "File \u001b[0;32m~/mambaforge/lib/python3.10/xml/dom/expatbuilder.py:223\u001b[0m, in \u001b[0;36mExpatBuilder.parseString\u001b[0;34m(self, string)\u001b[0m\n\u001b[1;32m    221\u001b[0m parser \u001b[38;5;241m=\u001b[39m \u001b[38;5;28mself\u001b[39m\u001b[38;5;241m.\u001b[39mgetParser()\n\u001b[1;32m    222\u001b[0m \u001b[38;5;28;01mtry\u001b[39;00m:\n\u001b[0;32m--> 223\u001b[0m     \u001b[43mparser\u001b[49m\u001b[38;5;241;43m.\u001b[39;49m\u001b[43mParse\u001b[49m\u001b[43m(\u001b[49m\u001b[43mstring\u001b[49m\u001b[43m,\u001b[49m\u001b[43m \u001b[49m\u001b[38;5;28;43;01mTrue\u001b[39;49;00m\u001b[43m)\u001b[49m\n\u001b[1;32m    224\u001b[0m     \u001b[38;5;28mself\u001b[39m\u001b[38;5;241m.\u001b[39m_setup_subset(string)\n\u001b[1;32m    225\u001b[0m \u001b[38;5;28;01mexcept\u001b[39;00m ParseEscape:\n",
      "\u001b[0;31mExpatError\u001b[0m: junk after document element: line 3, column 0"
     ]
    }
   ],
   "source": [
    "from xml.dom.minidom import parseString\n",
    "\n",
    "def pretty_print_xml(xml_string):\n",
    "    dom = parseString(xml_string)\n",
    "    pretty_xml = dom.toprettyxml()\n",
    "    return pretty_xml\n",
    "\n",
    "xml_string = to_xml(out)\n",
    "pretty_xml = pretty_print_xml(xml_string)\n",
    "print(pretty_xml)"
   ]
  },
  {
   "cell_type": "code",
   "execution_count": null,
   "metadata": {},
   "outputs": [],
   "source": []
  },
  {
   "cell_type": "code",
   "execution_count": 21,
   "metadata": {},
   "outputs": [
    {
     "data": {
      "text/plain": [
       "(['title', ('Todos',), {}],\n",
       " ['main',\n",
       "  (['h1', ('Todos',), {}],\n",
       "   ['article',\n",
       "    (['header',\n",
       "      (['form',\n",
       "        (['fieldset',\n",
       "          (['input',\n",
       "            (),\n",
       "            {'placeholder': 'Add a new todo',\n",
       "             'hx-swap-oob': 'true',\n",
       "             'id': 'title',\n",
       "             'name': 'title'}],\n",
       "           ['button', ('Add',), {}]),\n",
       "          {'role': 'group'}],),\n",
       "        {'enctype': 'multipart/form-data',\n",
       "         'hx-post': '/',\n",
       "         'hx-swap': 'beforeend',\n",
       "         'hx-target': '#todo-list'}],),\n",
       "      {}],\n",
       "     ['ul',\n",
       "      (Items(id=1, title='this is me', done=1),\n",
       "       Items(id=2, title='this is you', done=1),\n",
       "       Items(id=3, title='this is her', done=1),\n",
       "       Items(id=4, title='this is her', done=1),\n",
       "       Items(id=5, title='step by step', done=None),\n",
       "       Items(id=6, title='take it easy', done=None)),\n",
       "      {'id': 'todo-list'}]),\n",
       "    {}]),\n",
       "  {'class': 'container'}])"
      ]
     },
     "execution_count": 21,
     "metadata": {},
     "output_type": "execute_result"
    },
    {
     "data": {
      "text/markdown": [
       "```html\n",
       "<title>Todos</title>\n",
       "\n",
       "```"
      ],
      "text/plain": [
       "['title', ('Todos',), {}]"
      ]
     },
     "execution_count": 21,
     "metadata": {},
     "output_type": "execute_result"
    },
    {
     "data": {
      "text/markdown": [
       "```html\n",
       "<main class=\"container\">\n",
       "  <h1>Todos</h1>\n",
       "  <article>\n",
       "    <header>\n",
       "      <form enctype=\"multipart/form-data\" hx-post=\"/\" hx-swap=\"beforeend\" hx-target=\"#todo-list\">\n",
       "        <fieldset role=\"group\">\n",
       "          <input placeholder=\"Add a new todo\" hx-swap-oob=\"true\" id=\"title\" name=\"title\">\n",
       "          <button>Add</button>\n",
       "        </fieldset>\n",
       "      </form>\n",
       "    </header>\n",
       "    <ul id=\"todo-list\">\n",
       "      <li id=\"todo-1\">\n",
       "        <a href=\"#\" hx-get=\"/toggle/1\" hx-target=\"#todo-1\">Toggle</a>\n",
       "        <a href=\"#\" hx-swap=\"outerHTML\" hx-delete=\"/delete/1\" hx-target=\"#todo-1\">Delete</a>\n",
       "this is me ✅\n",
       "      </li>\n",
       "      <li id=\"todo-2\">\n",
       "        <a href=\"#\" hx-get=\"/toggle/2\" hx-target=\"#todo-2\">Toggle</a>\n",
       "        <a href=\"#\" hx-swap=\"outerHTML\" hx-delete=\"/delete/2\" hx-target=\"#todo-2\">Delete</a>\n",
       "this is you ✅\n",
       "      </li>\n",
       "      <li id=\"todo-3\">\n",
       "        <a href=\"#\" hx-get=\"/toggle/3\" hx-target=\"#todo-3\">Toggle</a>\n",
       "        <a href=\"#\" hx-swap=\"outerHTML\" hx-delete=\"/delete/3\" hx-target=\"#todo-3\">Delete</a>\n",
       "this is her ✅\n",
       "      </li>\n",
       "      <li id=\"todo-4\">\n",
       "        <a href=\"#\" hx-get=\"/toggle/4\" hx-target=\"#todo-4\">Toggle</a>\n",
       "        <a href=\"#\" hx-swap=\"outerHTML\" hx-delete=\"/delete/4\" hx-target=\"#todo-4\">Delete</a>\n",
       "this is her ✅\n",
       "      </li>\n",
       "      <li id=\"todo-5\">\n",
       "        <a href=\"#\" hx-get=\"/toggle/5\" hx-target=\"#todo-5\">Toggle</a>\n",
       "        <a href=\"#\" hx-swap=\"outerHTML\" hx-delete=\"/delete/5\" hx-target=\"#todo-5\">Delete</a>\n",
       "step by step\n",
       "      </li>\n",
       "      <li id=\"todo-6\">\n",
       "        <a href=\"#\" hx-get=\"/toggle/6\" hx-target=\"#todo-6\">Toggle</a>\n",
       "        <a href=\"#\" hx-swap=\"outerHTML\" hx-delete=\"/delete/6\" hx-target=\"#todo-6\">Delete</a>\n",
       "take it easy\n",
       "      </li>\n",
       "    </ul>\n",
       "  </article>\n",
       "</main>\n",
       "\n",
       "```"
      ],
      "text/plain": [
       "['main',\n",
       " (['h1', ('Todos',), {}],\n",
       "  ['article',\n",
       "   (['header',\n",
       "     (['form',\n",
       "       (['fieldset',\n",
       "         (['input',\n",
       "           (),\n",
       "           {'placeholder': 'Add a new todo',\n",
       "            'hx-swap-oob': 'true',\n",
       "            'id': 'title',\n",
       "            'name': 'title'}],\n",
       "          ['button', ('Add',), {}]),\n",
       "         {'role': 'group'}],),\n",
       "       {'enctype': 'multipart/form-data',\n",
       "        'hx-post': '/',\n",
       "        'hx-swap': 'beforeend',\n",
       "        'hx-target': '#todo-list'}],),\n",
       "     {}],\n",
       "    ['ul',\n",
       "     (Items(id=1, title='this is me', done=1),\n",
       "      Items(id=2, title='this is you', done=1),\n",
       "      Items(id=3, title='this is her', done=1),\n",
       "      Items(id=4, title='this is her', done=1),\n",
       "      Items(id=5, title='step by step', done=None),\n",
       "      Items(id=6, title='take it easy', done=None)),\n",
       "     {'id': 'todo-list'}]),\n",
       "   {}]),\n",
       " {'class': 'container'}]"
      ]
     },
     "execution_count": 21,
     "metadata": {},
     "output_type": "execute_result"
    },
    {
     "data": {
      "text/html": [
       "<title>Todos</title>\n",
       "\n",
       "<main class=\"container\">\n",
       "  <h1>Todos</h1>\n",
       "  <article>\n",
       "    <header>\n",
       "      <form enctype=\"multipart/form-data\" hx-post=\"/\" hx-swap=\"beforeend\" hx-target=\"#todo-list\">\n",
       "        <fieldset role=\"group\">\n",
       "          <input placeholder=\"Add a new todo\" hx-swap-oob=\"true\" id=\"title\" name=\"title\">\n",
       "          <button>Add</button>\n",
       "        </fieldset>\n",
       "      </form>\n",
       "    </header>\n",
       "    <ul id=\"todo-list\">\n",
       "      <li id=\"todo-1\">\n",
       "        <a href=\"#\" hx-get=\"/toggle/1\" hx-target=\"#todo-1\">Toggle</a>\n",
       "        <a href=\"#\" hx-swap=\"outerHTML\" hx-delete=\"/delete/1\" hx-target=\"#todo-1\">Delete</a>\n",
       "this is me ✅\n",
       "      </li>\n",
       "      <li id=\"todo-2\">\n",
       "        <a href=\"#\" hx-get=\"/toggle/2\" hx-target=\"#todo-2\">Toggle</a>\n",
       "        <a href=\"#\" hx-swap=\"outerHTML\" hx-delete=\"/delete/2\" hx-target=\"#todo-2\">Delete</a>\n",
       "this is you ✅\n",
       "      </li>\n",
       "      <li id=\"todo-3\">\n",
       "        <a href=\"#\" hx-get=\"/toggle/3\" hx-target=\"#todo-3\">Toggle</a>\n",
       "        <a href=\"#\" hx-swap=\"outerHTML\" hx-delete=\"/delete/3\" hx-target=\"#todo-3\">Delete</a>\n",
       "this is her ✅\n",
       "      </li>\n",
       "      <li id=\"todo-4\">\n",
       "        <a href=\"#\" hx-get=\"/toggle/4\" hx-target=\"#todo-4\">Toggle</a>\n",
       "        <a href=\"#\" hx-swap=\"outerHTML\" hx-delete=\"/delete/4\" hx-target=\"#todo-4\">Delete</a>\n",
       "this is her ✅\n",
       "      </li>\n",
       "      <li id=\"todo-5\">\n",
       "        <a href=\"#\" hx-get=\"/toggle/5\" hx-target=\"#todo-5\">Toggle</a>\n",
       "        <a href=\"#\" hx-swap=\"outerHTML\" hx-delete=\"/delete/5\" hx-target=\"#todo-5\">Delete</a>\n",
       "step by step\n",
       "      </li>\n",
       "      <li id=\"todo-6\">\n",
       "        <a href=\"#\" hx-get=\"/toggle/6\" hx-target=\"#todo-6\">Toggle</a>\n",
       "        <a href=\"#\" hx-swap=\"outerHTML\" hx-delete=\"/delete/6\" hx-target=\"#todo-6\">Delete</a>\n",
       "take it easy\n",
       "      </li>\n",
       "    </ul>\n",
       "  </article>\n",
       "</main>\n"
      ],
      "text/plain": [
       "<IPython.core.display.HTML object>"
      ]
     },
     "execution_count": 21,
     "metadata": {},
     "output_type": "execute_result"
    }
   ],
   "source": [
    "frm = Form(Group(mk_input(),\n",
    "                    Button(\"Add\")),\n",
    "               hx_post='/', \n",
    "               target_id='todo-list',\n",
    "               hx_swap='beforeend') \n",
    "\n",
    "out = Titled('Todos', # create a title named 'Todos'\n",
    "\t  Card( # create a Card to organize Form as header and todos as main content\n",
    "\t\t  Ul(*todos(), id='todo-list'), \n",
    "\t\t  header=frm) \n",
    "        )\n",
    "out # actually has two components\n",
    "title, card = out\n",
    "title\n",
    "card\n",
    "show(out)"
   ]
  },
  {
   "cell_type": "code",
   "execution_count": 22,
   "metadata": {},
   "outputs": [],
   "source": [
    "app, rt, todos, Todo = fast_app('todos2.db', live=True, render=render, \n",
    "                                id=int, title=str, done=bool, \n",
    "                                pk='id')\n",
    "\n",
    "cli = TestClient(app)\n",
    "\n",
    "\n",
    "@rt('/')\n",
    "def get():\n",
    "    return Input(placeholder=\"Add a new todo\", \n",
    "                           id='title', \n",
    "                           hx_post='/') \n",
    "\n",
    "@rt('/')\n",
    "def post(todo:Todo): \n",
    "    return todos.insert(todo)\n"
   ]
  },
  {
   "cell_type": "code",
   "execution_count": 23,
   "metadata": {},
   "outputs": [
    {
     "ename": "TypeError",
     "evalue": "unsupported operand type(s) for +: 'NoneType' and 'str'",
     "output_type": "error",
     "traceback": [
      "\u001b[0;31m---------------------------------------------------------------------------\u001b[0m",
      "\u001b[0;31mTypeError\u001b[0m                                 Traceback (most recent call last)",
      "Cell \u001b[0;32mIn[23], line 1\u001b[0m\n\u001b[0;32m----> 1\u001b[0m \u001b[43mcli\u001b[49m\u001b[38;5;241;43m.\u001b[39;49m\u001b[43mpost\u001b[49m\u001b[43m(\u001b[49m\u001b[38;5;124;43m'\u001b[39;49m\u001b[38;5;124;43m/\u001b[39;49m\u001b[38;5;124;43m'\u001b[39;49m\u001b[43m)\u001b[49m\u001b[38;5;241m.\u001b[39mtext\n\u001b[1;32m      2\u001b[0m \u001b[38;5;66;03m# cli.post('/')\u001b[39;00m\n",
      "File \u001b[0;32m~/mambaforge/lib/python3.10/site-packages/starlette/testclient.py:636\u001b[0m, in \u001b[0;36mTestClient.post\u001b[0;34m(self, url, content, data, files, json, params, headers, cookies, auth, follow_redirects, allow_redirects, timeout, extensions)\u001b[0m\n\u001b[1;32m    616\u001b[0m \u001b[38;5;28;01mdef\u001b[39;00m \u001b[38;5;21mpost\u001b[39m(  \u001b[38;5;66;03m# type: ignore[override]\u001b[39;00m\n\u001b[1;32m    617\u001b[0m     \u001b[38;5;28mself\u001b[39m,\n\u001b[1;32m    618\u001b[0m     url: httpx\u001b[38;5;241m.\u001b[39m_types\u001b[38;5;241m.\u001b[39mURLTypes,\n\u001b[0;32m   (...)\u001b[0m\n\u001b[1;32m    633\u001b[0m     extensions: \u001b[38;5;28mdict\u001b[39m[\u001b[38;5;28mstr\u001b[39m, typing\u001b[38;5;241m.\u001b[39mAny] \u001b[38;5;241m|\u001b[39m \u001b[38;5;28;01mNone\u001b[39;00m \u001b[38;5;241m=\u001b[39m \u001b[38;5;28;01mNone\u001b[39;00m,\n\u001b[1;32m    634\u001b[0m ) \u001b[38;5;241m-\u001b[39m\u001b[38;5;241m>\u001b[39m httpx\u001b[38;5;241m.\u001b[39mResponse:\n\u001b[1;32m    635\u001b[0m     redirect \u001b[38;5;241m=\u001b[39m \u001b[38;5;28mself\u001b[39m\u001b[38;5;241m.\u001b[39m_choose_redirect_arg(follow_redirects, allow_redirects)\n\u001b[0;32m--> 636\u001b[0m     \u001b[38;5;28;01mreturn\u001b[39;00m \u001b[38;5;28;43msuper\u001b[39;49m\u001b[43m(\u001b[49m\u001b[43m)\u001b[49m\u001b[38;5;241;43m.\u001b[39;49m\u001b[43mpost\u001b[49m\u001b[43m(\u001b[49m\n\u001b[1;32m    637\u001b[0m \u001b[43m        \u001b[49m\u001b[43murl\u001b[49m\u001b[43m,\u001b[49m\n\u001b[1;32m    638\u001b[0m \u001b[43m        \u001b[49m\u001b[43mcontent\u001b[49m\u001b[38;5;241;43m=\u001b[39;49m\u001b[43mcontent\u001b[49m\u001b[43m,\u001b[49m\n\u001b[1;32m    639\u001b[0m \u001b[43m        \u001b[49m\u001b[43mdata\u001b[49m\u001b[38;5;241;43m=\u001b[39;49m\u001b[43mdata\u001b[49m\u001b[43m,\u001b[49m\n\u001b[1;32m    640\u001b[0m \u001b[43m        \u001b[49m\u001b[43mfiles\u001b[49m\u001b[38;5;241;43m=\u001b[39;49m\u001b[43mfiles\u001b[49m\u001b[43m,\u001b[49m\n\u001b[1;32m    641\u001b[0m \u001b[43m        \u001b[49m\u001b[43mjson\u001b[49m\u001b[38;5;241;43m=\u001b[39;49m\u001b[43mjson\u001b[49m\u001b[43m,\u001b[49m\n\u001b[1;32m    642\u001b[0m \u001b[43m        \u001b[49m\u001b[43mparams\u001b[49m\u001b[38;5;241;43m=\u001b[39;49m\u001b[43mparams\u001b[49m\u001b[43m,\u001b[49m\n\u001b[1;32m    643\u001b[0m \u001b[43m        \u001b[49m\u001b[43mheaders\u001b[49m\u001b[38;5;241;43m=\u001b[39;49m\u001b[43mheaders\u001b[49m\u001b[43m,\u001b[49m\n\u001b[1;32m    644\u001b[0m \u001b[43m        \u001b[49m\u001b[43mcookies\u001b[49m\u001b[38;5;241;43m=\u001b[39;49m\u001b[43mcookies\u001b[49m\u001b[43m,\u001b[49m\n\u001b[1;32m    645\u001b[0m \u001b[43m        \u001b[49m\u001b[43mauth\u001b[49m\u001b[38;5;241;43m=\u001b[39;49m\u001b[43mauth\u001b[49m\u001b[43m,\u001b[49m\n\u001b[1;32m    646\u001b[0m \u001b[43m        \u001b[49m\u001b[43mfollow_redirects\u001b[49m\u001b[38;5;241;43m=\u001b[39;49m\u001b[43mredirect\u001b[49m\u001b[43m,\u001b[49m\n\u001b[1;32m    647\u001b[0m \u001b[43m        \u001b[49m\u001b[43mtimeout\u001b[49m\u001b[38;5;241;43m=\u001b[39;49m\u001b[43mtimeout\u001b[49m\u001b[43m,\u001b[49m\n\u001b[1;32m    648\u001b[0m \u001b[43m        \u001b[49m\u001b[43mextensions\u001b[49m\u001b[38;5;241;43m=\u001b[39;49m\u001b[43mextensions\u001b[49m\u001b[43m,\u001b[49m\n\u001b[1;32m    649\u001b[0m \u001b[43m    \u001b[49m\u001b[43m)\u001b[49m\n",
      "File \u001b[0;32m~/mambaforge/lib/python3.10/site-packages/httpx/_client.py:1145\u001b[0m, in \u001b[0;36mClient.post\u001b[0;34m(self, url, content, data, files, json, params, headers, cookies, auth, follow_redirects, timeout, extensions)\u001b[0m\n\u001b[1;32m   1124\u001b[0m \u001b[38;5;28;01mdef\u001b[39;00m \u001b[38;5;21mpost\u001b[39m(\n\u001b[1;32m   1125\u001b[0m     \u001b[38;5;28mself\u001b[39m,\n\u001b[1;32m   1126\u001b[0m     url: URLTypes,\n\u001b[0;32m   (...)\u001b[0m\n\u001b[1;32m   1138\u001b[0m     extensions: RequestExtensions \u001b[38;5;241m|\u001b[39m \u001b[38;5;28;01mNone\u001b[39;00m \u001b[38;5;241m=\u001b[39m \u001b[38;5;28;01mNone\u001b[39;00m,\n\u001b[1;32m   1139\u001b[0m ) \u001b[38;5;241m-\u001b[39m\u001b[38;5;241m>\u001b[39m Response:\n\u001b[1;32m   1140\u001b[0m \u001b[38;5;250m    \u001b[39m\u001b[38;5;124;03m\"\"\"\u001b[39;00m\n\u001b[1;32m   1141\u001b[0m \u001b[38;5;124;03m    Send a `POST` request.\u001b[39;00m\n\u001b[1;32m   1142\u001b[0m \n\u001b[1;32m   1143\u001b[0m \u001b[38;5;124;03m    **Parameters**: See `httpx.request`.\u001b[39;00m\n\u001b[1;32m   1144\u001b[0m \u001b[38;5;124;03m    \"\"\"\u001b[39;00m\n\u001b[0;32m-> 1145\u001b[0m     \u001b[38;5;28;01mreturn\u001b[39;00m \u001b[38;5;28;43mself\u001b[39;49m\u001b[38;5;241;43m.\u001b[39;49m\u001b[43mrequest\u001b[49m\u001b[43m(\u001b[49m\n\u001b[1;32m   1146\u001b[0m \u001b[43m        \u001b[49m\u001b[38;5;124;43m\"\u001b[39;49m\u001b[38;5;124;43mPOST\u001b[39;49m\u001b[38;5;124;43m\"\u001b[39;49m\u001b[43m,\u001b[49m\n\u001b[1;32m   1147\u001b[0m \u001b[43m        \u001b[49m\u001b[43murl\u001b[49m\u001b[43m,\u001b[49m\n\u001b[1;32m   1148\u001b[0m \u001b[43m        \u001b[49m\u001b[43mcontent\u001b[49m\u001b[38;5;241;43m=\u001b[39;49m\u001b[43mcontent\u001b[49m\u001b[43m,\u001b[49m\n\u001b[1;32m   1149\u001b[0m \u001b[43m        \u001b[49m\u001b[43mdata\u001b[49m\u001b[38;5;241;43m=\u001b[39;49m\u001b[43mdata\u001b[49m\u001b[43m,\u001b[49m\n\u001b[1;32m   1150\u001b[0m \u001b[43m        \u001b[49m\u001b[43mfiles\u001b[49m\u001b[38;5;241;43m=\u001b[39;49m\u001b[43mfiles\u001b[49m\u001b[43m,\u001b[49m\n\u001b[1;32m   1151\u001b[0m \u001b[43m        \u001b[49m\u001b[43mjson\u001b[49m\u001b[38;5;241;43m=\u001b[39;49m\u001b[43mjson\u001b[49m\u001b[43m,\u001b[49m\n\u001b[1;32m   1152\u001b[0m \u001b[43m        \u001b[49m\u001b[43mparams\u001b[49m\u001b[38;5;241;43m=\u001b[39;49m\u001b[43mparams\u001b[49m\u001b[43m,\u001b[49m\n\u001b[1;32m   1153\u001b[0m \u001b[43m        \u001b[49m\u001b[43mheaders\u001b[49m\u001b[38;5;241;43m=\u001b[39;49m\u001b[43mheaders\u001b[49m\u001b[43m,\u001b[49m\n\u001b[1;32m   1154\u001b[0m \u001b[43m        \u001b[49m\u001b[43mcookies\u001b[49m\u001b[38;5;241;43m=\u001b[39;49m\u001b[43mcookies\u001b[49m\u001b[43m,\u001b[49m\n\u001b[1;32m   1155\u001b[0m \u001b[43m        \u001b[49m\u001b[43mauth\u001b[49m\u001b[38;5;241;43m=\u001b[39;49m\u001b[43mauth\u001b[49m\u001b[43m,\u001b[49m\n\u001b[1;32m   1156\u001b[0m \u001b[43m        \u001b[49m\u001b[43mfollow_redirects\u001b[49m\u001b[38;5;241;43m=\u001b[39;49m\u001b[43mfollow_redirects\u001b[49m\u001b[43m,\u001b[49m\n\u001b[1;32m   1157\u001b[0m \u001b[43m        \u001b[49m\u001b[43mtimeout\u001b[49m\u001b[38;5;241;43m=\u001b[39;49m\u001b[43mtimeout\u001b[49m\u001b[43m,\u001b[49m\n\u001b[1;32m   1158\u001b[0m \u001b[43m        \u001b[49m\u001b[43mextensions\u001b[49m\u001b[38;5;241;43m=\u001b[39;49m\u001b[43mextensions\u001b[49m\u001b[43m,\u001b[49m\n\u001b[1;32m   1159\u001b[0m \u001b[43m    \u001b[49m\u001b[43m)\u001b[49m\n",
      "File \u001b[0;32m~/mambaforge/lib/python3.10/site-packages/starlette/testclient.py:519\u001b[0m, in \u001b[0;36mTestClient.request\u001b[0;34m(self, method, url, content, data, files, json, params, headers, cookies, auth, follow_redirects, allow_redirects, timeout, extensions)\u001b[0m\n\u001b[1;32m    517\u001b[0m url \u001b[38;5;241m=\u001b[39m \u001b[38;5;28mself\u001b[39m\u001b[38;5;241m.\u001b[39m_merge_url(url)\n\u001b[1;32m    518\u001b[0m redirect \u001b[38;5;241m=\u001b[39m \u001b[38;5;28mself\u001b[39m\u001b[38;5;241m.\u001b[39m_choose_redirect_arg(follow_redirects, allow_redirects)\n\u001b[0;32m--> 519\u001b[0m \u001b[38;5;28;01mreturn\u001b[39;00m \u001b[38;5;28;43msuper\u001b[39;49m\u001b[43m(\u001b[49m\u001b[43m)\u001b[49m\u001b[38;5;241;43m.\u001b[39;49m\u001b[43mrequest\u001b[49m\u001b[43m(\u001b[49m\n\u001b[1;32m    520\u001b[0m \u001b[43m    \u001b[49m\u001b[43mmethod\u001b[49m\u001b[43m,\u001b[49m\n\u001b[1;32m    521\u001b[0m \u001b[43m    \u001b[49m\u001b[43murl\u001b[49m\u001b[43m,\u001b[49m\n\u001b[1;32m    522\u001b[0m \u001b[43m    \u001b[49m\u001b[43mcontent\u001b[49m\u001b[38;5;241;43m=\u001b[39;49m\u001b[43mcontent\u001b[49m\u001b[43m,\u001b[49m\n\u001b[1;32m    523\u001b[0m \u001b[43m    \u001b[49m\u001b[43mdata\u001b[49m\u001b[38;5;241;43m=\u001b[39;49m\u001b[43mdata\u001b[49m\u001b[43m,\u001b[49m\n\u001b[1;32m    524\u001b[0m \u001b[43m    \u001b[49m\u001b[43mfiles\u001b[49m\u001b[38;5;241;43m=\u001b[39;49m\u001b[43mfiles\u001b[49m\u001b[43m,\u001b[49m\n\u001b[1;32m    525\u001b[0m \u001b[43m    \u001b[49m\u001b[43mjson\u001b[49m\u001b[38;5;241;43m=\u001b[39;49m\u001b[43mjson\u001b[49m\u001b[43m,\u001b[49m\n\u001b[1;32m    526\u001b[0m \u001b[43m    \u001b[49m\u001b[43mparams\u001b[49m\u001b[38;5;241;43m=\u001b[39;49m\u001b[43mparams\u001b[49m\u001b[43m,\u001b[49m\n\u001b[1;32m    527\u001b[0m \u001b[43m    \u001b[49m\u001b[43mheaders\u001b[49m\u001b[38;5;241;43m=\u001b[39;49m\u001b[43mheaders\u001b[49m\u001b[43m,\u001b[49m\n\u001b[1;32m    528\u001b[0m \u001b[43m    \u001b[49m\u001b[43mcookies\u001b[49m\u001b[38;5;241;43m=\u001b[39;49m\u001b[43mcookies\u001b[49m\u001b[43m,\u001b[49m\n\u001b[1;32m    529\u001b[0m \u001b[43m    \u001b[49m\u001b[43mauth\u001b[49m\u001b[38;5;241;43m=\u001b[39;49m\u001b[43mauth\u001b[49m\u001b[43m,\u001b[49m\n\u001b[1;32m    530\u001b[0m \u001b[43m    \u001b[49m\u001b[43mfollow_redirects\u001b[49m\u001b[38;5;241;43m=\u001b[39;49m\u001b[43mredirect\u001b[49m\u001b[43m,\u001b[49m\n\u001b[1;32m    531\u001b[0m \u001b[43m    \u001b[49m\u001b[43mtimeout\u001b[49m\u001b[38;5;241;43m=\u001b[39;49m\u001b[43mtimeout\u001b[49m\u001b[43m,\u001b[49m\n\u001b[1;32m    532\u001b[0m \u001b[43m    \u001b[49m\u001b[43mextensions\u001b[49m\u001b[38;5;241;43m=\u001b[39;49m\u001b[43mextensions\u001b[49m\u001b[43m,\u001b[49m\n\u001b[1;32m    533\u001b[0m \u001b[43m\u001b[49m\u001b[43m)\u001b[49m\n",
      "File \u001b[0;32m~/mambaforge/lib/python3.10/site-packages/httpx/_client.py:827\u001b[0m, in \u001b[0;36mClient.request\u001b[0;34m(self, method, url, content, data, files, json, params, headers, cookies, auth, follow_redirects, timeout, extensions)\u001b[0m\n\u001b[1;32m    812\u001b[0m     warnings\u001b[38;5;241m.\u001b[39mwarn(message, \u001b[38;5;167;01mDeprecationWarning\u001b[39;00m)\n\u001b[1;32m    814\u001b[0m request \u001b[38;5;241m=\u001b[39m \u001b[38;5;28mself\u001b[39m\u001b[38;5;241m.\u001b[39mbuild_request(\n\u001b[1;32m    815\u001b[0m     method\u001b[38;5;241m=\u001b[39mmethod,\n\u001b[1;32m    816\u001b[0m     url\u001b[38;5;241m=\u001b[39murl,\n\u001b[0;32m   (...)\u001b[0m\n\u001b[1;32m    825\u001b[0m     extensions\u001b[38;5;241m=\u001b[39mextensions,\n\u001b[1;32m    826\u001b[0m )\n\u001b[0;32m--> 827\u001b[0m \u001b[38;5;28;01mreturn\u001b[39;00m \u001b[38;5;28;43mself\u001b[39;49m\u001b[38;5;241;43m.\u001b[39;49m\u001b[43msend\u001b[49m\u001b[43m(\u001b[49m\u001b[43mrequest\u001b[49m\u001b[43m,\u001b[49m\u001b[43m \u001b[49m\u001b[43mauth\u001b[49m\u001b[38;5;241;43m=\u001b[39;49m\u001b[43mauth\u001b[49m\u001b[43m,\u001b[49m\u001b[43m \u001b[49m\u001b[43mfollow_redirects\u001b[49m\u001b[38;5;241;43m=\u001b[39;49m\u001b[43mfollow_redirects\u001b[49m\u001b[43m)\u001b[49m\n",
      "File \u001b[0;32m~/mambaforge/lib/python3.10/site-packages/httpx/_client.py:914\u001b[0m, in \u001b[0;36mClient.send\u001b[0;34m(self, request, stream, auth, follow_redirects)\u001b[0m\n\u001b[1;32m    906\u001b[0m follow_redirects \u001b[38;5;241m=\u001b[39m (\n\u001b[1;32m    907\u001b[0m     \u001b[38;5;28mself\u001b[39m\u001b[38;5;241m.\u001b[39mfollow_redirects\n\u001b[1;32m    908\u001b[0m     \u001b[38;5;28;01mif\u001b[39;00m \u001b[38;5;28misinstance\u001b[39m(follow_redirects, UseClientDefault)\n\u001b[1;32m    909\u001b[0m     \u001b[38;5;28;01melse\u001b[39;00m follow_redirects\n\u001b[1;32m    910\u001b[0m )\n\u001b[1;32m    912\u001b[0m auth \u001b[38;5;241m=\u001b[39m \u001b[38;5;28mself\u001b[39m\u001b[38;5;241m.\u001b[39m_build_request_auth(request, auth)\n\u001b[0;32m--> 914\u001b[0m response \u001b[38;5;241m=\u001b[39m \u001b[38;5;28;43mself\u001b[39;49m\u001b[38;5;241;43m.\u001b[39;49m\u001b[43m_send_handling_auth\u001b[49m\u001b[43m(\u001b[49m\n\u001b[1;32m    915\u001b[0m \u001b[43m    \u001b[49m\u001b[43mrequest\u001b[49m\u001b[43m,\u001b[49m\n\u001b[1;32m    916\u001b[0m \u001b[43m    \u001b[49m\u001b[43mauth\u001b[49m\u001b[38;5;241;43m=\u001b[39;49m\u001b[43mauth\u001b[49m\u001b[43m,\u001b[49m\n\u001b[1;32m    917\u001b[0m \u001b[43m    \u001b[49m\u001b[43mfollow_redirects\u001b[49m\u001b[38;5;241;43m=\u001b[39;49m\u001b[43mfollow_redirects\u001b[49m\u001b[43m,\u001b[49m\n\u001b[1;32m    918\u001b[0m \u001b[43m    \u001b[49m\u001b[43mhistory\u001b[49m\u001b[38;5;241;43m=\u001b[39;49m\u001b[43m[\u001b[49m\u001b[43m]\u001b[49m\u001b[43m,\u001b[49m\n\u001b[1;32m    919\u001b[0m \u001b[43m\u001b[49m\u001b[43m)\u001b[49m\n\u001b[1;32m    920\u001b[0m \u001b[38;5;28;01mtry\u001b[39;00m:\n\u001b[1;32m    921\u001b[0m     \u001b[38;5;28;01mif\u001b[39;00m \u001b[38;5;129;01mnot\u001b[39;00m stream:\n",
      "File \u001b[0;32m~/mambaforge/lib/python3.10/site-packages/httpx/_client.py:942\u001b[0m, in \u001b[0;36mClient._send_handling_auth\u001b[0;34m(self, request, auth, follow_redirects, history)\u001b[0m\n\u001b[1;32m    939\u001b[0m request \u001b[38;5;241m=\u001b[39m \u001b[38;5;28mnext\u001b[39m(auth_flow)\n\u001b[1;32m    941\u001b[0m \u001b[38;5;28;01mwhile\u001b[39;00m \u001b[38;5;28;01mTrue\u001b[39;00m:\n\u001b[0;32m--> 942\u001b[0m     response \u001b[38;5;241m=\u001b[39m \u001b[38;5;28;43mself\u001b[39;49m\u001b[38;5;241;43m.\u001b[39;49m\u001b[43m_send_handling_redirects\u001b[49m\u001b[43m(\u001b[49m\n\u001b[1;32m    943\u001b[0m \u001b[43m        \u001b[49m\u001b[43mrequest\u001b[49m\u001b[43m,\u001b[49m\n\u001b[1;32m    944\u001b[0m \u001b[43m        \u001b[49m\u001b[43mfollow_redirects\u001b[49m\u001b[38;5;241;43m=\u001b[39;49m\u001b[43mfollow_redirects\u001b[49m\u001b[43m,\u001b[49m\n\u001b[1;32m    945\u001b[0m \u001b[43m        \u001b[49m\u001b[43mhistory\u001b[49m\u001b[38;5;241;43m=\u001b[39;49m\u001b[43mhistory\u001b[49m\u001b[43m,\u001b[49m\n\u001b[1;32m    946\u001b[0m \u001b[43m    \u001b[49m\u001b[43m)\u001b[49m\n\u001b[1;32m    947\u001b[0m     \u001b[38;5;28;01mtry\u001b[39;00m:\n\u001b[1;32m    948\u001b[0m         \u001b[38;5;28;01mtry\u001b[39;00m:\n",
      "File \u001b[0;32m~/mambaforge/lib/python3.10/site-packages/httpx/_client.py:979\u001b[0m, in \u001b[0;36mClient._send_handling_redirects\u001b[0;34m(self, request, follow_redirects, history)\u001b[0m\n\u001b[1;32m    976\u001b[0m \u001b[38;5;28;01mfor\u001b[39;00m hook \u001b[38;5;129;01min\u001b[39;00m \u001b[38;5;28mself\u001b[39m\u001b[38;5;241m.\u001b[39m_event_hooks[\u001b[38;5;124m\"\u001b[39m\u001b[38;5;124mrequest\u001b[39m\u001b[38;5;124m\"\u001b[39m]:\n\u001b[1;32m    977\u001b[0m     hook(request)\n\u001b[0;32m--> 979\u001b[0m response \u001b[38;5;241m=\u001b[39m \u001b[38;5;28;43mself\u001b[39;49m\u001b[38;5;241;43m.\u001b[39;49m\u001b[43m_send_single_request\u001b[49m\u001b[43m(\u001b[49m\u001b[43mrequest\u001b[49m\u001b[43m)\u001b[49m\n\u001b[1;32m    980\u001b[0m \u001b[38;5;28;01mtry\u001b[39;00m:\n\u001b[1;32m    981\u001b[0m     \u001b[38;5;28;01mfor\u001b[39;00m hook \u001b[38;5;129;01min\u001b[39;00m \u001b[38;5;28mself\u001b[39m\u001b[38;5;241m.\u001b[39m_event_hooks[\u001b[38;5;124m\"\u001b[39m\u001b[38;5;124mresponse\u001b[39m\u001b[38;5;124m\"\u001b[39m]:\n",
      "File \u001b[0;32m~/mambaforge/lib/python3.10/site-packages/httpx/_client.py:1015\u001b[0m, in \u001b[0;36mClient._send_single_request\u001b[0;34m(self, request)\u001b[0m\n\u001b[1;32m   1010\u001b[0m     \u001b[38;5;28;01mraise\u001b[39;00m \u001b[38;5;167;01mRuntimeError\u001b[39;00m(\n\u001b[1;32m   1011\u001b[0m         \u001b[38;5;124m\"\u001b[39m\u001b[38;5;124mAttempted to send an async request with a sync Client instance.\u001b[39m\u001b[38;5;124m\"\u001b[39m\n\u001b[1;32m   1012\u001b[0m     )\n\u001b[1;32m   1014\u001b[0m \u001b[38;5;28;01mwith\u001b[39;00m request_context(request\u001b[38;5;241m=\u001b[39mrequest):\n\u001b[0;32m-> 1015\u001b[0m     response \u001b[38;5;241m=\u001b[39m \u001b[43mtransport\u001b[49m\u001b[38;5;241;43m.\u001b[39;49m\u001b[43mhandle_request\u001b[49m\u001b[43m(\u001b[49m\u001b[43mrequest\u001b[49m\u001b[43m)\u001b[49m\n\u001b[1;32m   1017\u001b[0m \u001b[38;5;28;01massert\u001b[39;00m \u001b[38;5;28misinstance\u001b[39m(response\u001b[38;5;241m.\u001b[39mstream, SyncByteStream)\n\u001b[1;32m   1019\u001b[0m response\u001b[38;5;241m.\u001b[39mrequest \u001b[38;5;241m=\u001b[39m request\n",
      "File \u001b[0;32m~/mambaforge/lib/python3.10/site-packages/starlette/testclient.py:401\u001b[0m, in \u001b[0;36m_TestClientTransport.handle_request\u001b[0;34m(self, request)\u001b[0m\n\u001b[1;32m    399\u001b[0m \u001b[38;5;28;01mexcept\u001b[39;00m \u001b[38;5;167;01mBaseException\u001b[39;00m \u001b[38;5;28;01mas\u001b[39;00m exc:\n\u001b[1;32m    400\u001b[0m     \u001b[38;5;28;01mif\u001b[39;00m \u001b[38;5;28mself\u001b[39m\u001b[38;5;241m.\u001b[39mraise_server_exceptions:\n\u001b[0;32m--> 401\u001b[0m         \u001b[38;5;28;01mraise\u001b[39;00m exc\n\u001b[1;32m    403\u001b[0m \u001b[38;5;28;01mif\u001b[39;00m \u001b[38;5;28mself\u001b[39m\u001b[38;5;241m.\u001b[39mraise_server_exceptions:\n\u001b[1;32m    404\u001b[0m     \u001b[38;5;28;01massert\u001b[39;00m response_started, \u001b[38;5;124m\"\u001b[39m\u001b[38;5;124mTestClient did not receive any response.\u001b[39m\u001b[38;5;124m\"\u001b[39m\n",
      "File \u001b[0;32m~/mambaforge/lib/python3.10/site-packages/starlette/testclient.py:398\u001b[0m, in \u001b[0;36m_TestClientTransport.handle_request\u001b[0;34m(self, request)\u001b[0m\n\u001b[1;32m    396\u001b[0m     \u001b[38;5;28;01mwith\u001b[39;00m \u001b[38;5;28mself\u001b[39m\u001b[38;5;241m.\u001b[39mportal_factory() \u001b[38;5;28;01mas\u001b[39;00m portal:\n\u001b[1;32m    397\u001b[0m         response_complete \u001b[38;5;241m=\u001b[39m portal\u001b[38;5;241m.\u001b[39mcall(anyio\u001b[38;5;241m.\u001b[39mEvent)\n\u001b[0;32m--> 398\u001b[0m         \u001b[43mportal\u001b[49m\u001b[38;5;241;43m.\u001b[39;49m\u001b[43mcall\u001b[49m\u001b[43m(\u001b[49m\u001b[38;5;28;43mself\u001b[39;49m\u001b[38;5;241;43m.\u001b[39;49m\u001b[43mapp\u001b[49m\u001b[43m,\u001b[49m\u001b[43m \u001b[49m\u001b[43mscope\u001b[49m\u001b[43m,\u001b[49m\u001b[43m \u001b[49m\u001b[43mreceive\u001b[49m\u001b[43m,\u001b[49m\u001b[43m \u001b[49m\u001b[43msend\u001b[49m\u001b[43m)\u001b[49m\n\u001b[1;32m    399\u001b[0m \u001b[38;5;28;01mexcept\u001b[39;00m \u001b[38;5;167;01mBaseException\u001b[39;00m \u001b[38;5;28;01mas\u001b[39;00m exc:\n\u001b[1;32m    400\u001b[0m     \u001b[38;5;28;01mif\u001b[39;00m \u001b[38;5;28mself\u001b[39m\u001b[38;5;241m.\u001b[39mraise_server_exceptions:\n",
      "File \u001b[0;32m~/mambaforge/lib/python3.10/site-packages/anyio/from_thread.py:287\u001b[0m, in \u001b[0;36mBlockingPortal.call\u001b[0;34m(self, func, *args)\u001b[0m\n\u001b[1;32m    272\u001b[0m \u001b[38;5;28;01mdef\u001b[39;00m \u001b[38;5;21mcall\u001b[39m(\n\u001b[1;32m    273\u001b[0m     \u001b[38;5;28mself\u001b[39m,\n\u001b[1;32m    274\u001b[0m     func: Callable[[Unpack[PosArgsT]], Awaitable[T_Retval] \u001b[38;5;241m|\u001b[39m T_Retval],\n\u001b[1;32m    275\u001b[0m     \u001b[38;5;241m*\u001b[39margs: Unpack[PosArgsT],\n\u001b[1;32m    276\u001b[0m ) \u001b[38;5;241m-\u001b[39m\u001b[38;5;241m>\u001b[39m T_Retval:\n\u001b[1;32m    277\u001b[0m \u001b[38;5;250m    \u001b[39m\u001b[38;5;124;03m\"\"\"\u001b[39;00m\n\u001b[1;32m    278\u001b[0m \u001b[38;5;124;03m    Call the given function in the event loop thread.\u001b[39;00m\n\u001b[1;32m    279\u001b[0m \n\u001b[0;32m   (...)\u001b[0m\n\u001b[1;32m    285\u001b[0m \n\u001b[1;32m    286\u001b[0m \u001b[38;5;124;03m    \"\"\"\u001b[39;00m\n\u001b[0;32m--> 287\u001b[0m     \u001b[38;5;28;01mreturn\u001b[39;00m cast(T_Retval, \u001b[38;5;28;43mself\u001b[39;49m\u001b[38;5;241;43m.\u001b[39;49m\u001b[43mstart_task_soon\u001b[49m\u001b[43m(\u001b[49m\u001b[43mfunc\u001b[49m\u001b[43m,\u001b[49m\u001b[43m \u001b[49m\u001b[38;5;241;43m*\u001b[39;49m\u001b[43margs\u001b[49m\u001b[43m)\u001b[49m\u001b[38;5;241;43m.\u001b[39;49m\u001b[43mresult\u001b[49m\u001b[43m(\u001b[49m\u001b[43m)\u001b[49m)\n",
      "File \u001b[0;32m~/mambaforge/lib/python3.10/concurrent/futures/_base.py:458\u001b[0m, in \u001b[0;36mFuture.result\u001b[0;34m(self, timeout)\u001b[0m\n\u001b[1;32m    456\u001b[0m     \u001b[38;5;28;01mraise\u001b[39;00m CancelledError()\n\u001b[1;32m    457\u001b[0m \u001b[38;5;28;01melif\u001b[39;00m \u001b[38;5;28mself\u001b[39m\u001b[38;5;241m.\u001b[39m_state \u001b[38;5;241m==\u001b[39m FINISHED:\n\u001b[0;32m--> 458\u001b[0m     \u001b[38;5;28;01mreturn\u001b[39;00m \u001b[38;5;28;43mself\u001b[39;49m\u001b[38;5;241;43m.\u001b[39;49m\u001b[43m__get_result\u001b[49m\u001b[43m(\u001b[49m\u001b[43m)\u001b[49m\n\u001b[1;32m    459\u001b[0m \u001b[38;5;28;01melse\u001b[39;00m:\n\u001b[1;32m    460\u001b[0m     \u001b[38;5;28;01mraise\u001b[39;00m \u001b[38;5;167;01mTimeoutError\u001b[39;00m()\n",
      "File \u001b[0;32m~/mambaforge/lib/python3.10/concurrent/futures/_base.py:403\u001b[0m, in \u001b[0;36mFuture.__get_result\u001b[0;34m(self)\u001b[0m\n\u001b[1;32m    401\u001b[0m \u001b[38;5;28;01mif\u001b[39;00m \u001b[38;5;28mself\u001b[39m\u001b[38;5;241m.\u001b[39m_exception:\n\u001b[1;32m    402\u001b[0m     \u001b[38;5;28;01mtry\u001b[39;00m:\n\u001b[0;32m--> 403\u001b[0m         \u001b[38;5;28;01mraise\u001b[39;00m \u001b[38;5;28mself\u001b[39m\u001b[38;5;241m.\u001b[39m_exception\n\u001b[1;32m    404\u001b[0m     \u001b[38;5;28;01mfinally\u001b[39;00m:\n\u001b[1;32m    405\u001b[0m         \u001b[38;5;66;03m# Break a reference cycle with the exception in self._exception\u001b[39;00m\n\u001b[1;32m    406\u001b[0m         \u001b[38;5;28mself\u001b[39m \u001b[38;5;241m=\u001b[39m \u001b[38;5;28;01mNone\u001b[39;00m\n",
      "File \u001b[0;32m~/mambaforge/lib/python3.10/site-packages/anyio/from_thread.py:218\u001b[0m, in \u001b[0;36mBlockingPortal._call_func\u001b[0;34m(self, func, args, kwargs, future)\u001b[0m\n\u001b[1;32m    215\u001b[0m         \u001b[38;5;28;01melse\u001b[39;00m:\n\u001b[1;32m    216\u001b[0m             future\u001b[38;5;241m.\u001b[39madd_done_callback(callback)\n\u001b[0;32m--> 218\u001b[0m         retval \u001b[38;5;241m=\u001b[39m \u001b[38;5;28;01mawait\u001b[39;00m retval_or_awaitable\n\u001b[1;32m    219\u001b[0m \u001b[38;5;28;01melse\u001b[39;00m:\n\u001b[1;32m    220\u001b[0m     retval \u001b[38;5;241m=\u001b[39m retval_or_awaitable\n",
      "File \u001b[0;32m~/mambaforge/lib/python3.10/site-packages/starlette/applications.py:123\u001b[0m, in \u001b[0;36mStarlette.__call__\u001b[0;34m(self, scope, receive, send)\u001b[0m\n\u001b[1;32m    121\u001b[0m \u001b[38;5;28;01mif\u001b[39;00m \u001b[38;5;28mself\u001b[39m\u001b[38;5;241m.\u001b[39mmiddleware_stack \u001b[38;5;129;01mis\u001b[39;00m \u001b[38;5;28;01mNone\u001b[39;00m:\n\u001b[1;32m    122\u001b[0m     \u001b[38;5;28mself\u001b[39m\u001b[38;5;241m.\u001b[39mmiddleware_stack \u001b[38;5;241m=\u001b[39m \u001b[38;5;28mself\u001b[39m\u001b[38;5;241m.\u001b[39mbuild_middleware_stack()\n\u001b[0;32m--> 123\u001b[0m \u001b[38;5;28;01mawait\u001b[39;00m \u001b[38;5;28mself\u001b[39m\u001b[38;5;241m.\u001b[39mmiddleware_stack(scope, receive, send)\n",
      "File \u001b[0;32m~/mambaforge/lib/python3.10/site-packages/starlette/middleware/errors.py:186\u001b[0m, in \u001b[0;36mServerErrorMiddleware.__call__\u001b[0;34m(self, scope, receive, send)\u001b[0m\n\u001b[1;32m    181\u001b[0m     \u001b[38;5;28;01mawait\u001b[39;00m response(scope, receive, send)\n\u001b[1;32m    183\u001b[0m \u001b[38;5;66;03m# We always continue to raise the exception.\u001b[39;00m\n\u001b[1;32m    184\u001b[0m \u001b[38;5;66;03m# This allows servers to log the error, or allows test clients\u001b[39;00m\n\u001b[1;32m    185\u001b[0m \u001b[38;5;66;03m# to optionally raise the error within the test case.\u001b[39;00m\n\u001b[0;32m--> 186\u001b[0m \u001b[38;5;28;01mraise\u001b[39;00m exc\n",
      "File \u001b[0;32m~/mambaforge/lib/python3.10/site-packages/starlette/middleware/errors.py:164\u001b[0m, in \u001b[0;36mServerErrorMiddleware.__call__\u001b[0;34m(self, scope, receive, send)\u001b[0m\n\u001b[1;32m    161\u001b[0m     \u001b[38;5;28;01mawait\u001b[39;00m send(message)\n\u001b[1;32m    163\u001b[0m \u001b[38;5;28;01mtry\u001b[39;00m:\n\u001b[0;32m--> 164\u001b[0m     \u001b[38;5;28;01mawait\u001b[39;00m \u001b[38;5;28mself\u001b[39m\u001b[38;5;241m.\u001b[39mapp(scope, receive, _send)\n\u001b[1;32m    165\u001b[0m \u001b[38;5;28;01mexcept\u001b[39;00m \u001b[38;5;167;01mException\u001b[39;00m \u001b[38;5;28;01mas\u001b[39;00m exc:\n\u001b[1;32m    166\u001b[0m     request \u001b[38;5;241m=\u001b[39m Request(scope)\n",
      "File \u001b[0;32m~/mambaforge/lib/python3.10/site-packages/starlette/middleware/sessions.py:85\u001b[0m, in \u001b[0;36mSessionMiddleware.__call__\u001b[0;34m(self, scope, receive, send)\u001b[0m\n\u001b[1;32m     82\u001b[0m             headers\u001b[38;5;241m.\u001b[39mappend(\u001b[38;5;124m\"\u001b[39m\u001b[38;5;124mSet-Cookie\u001b[39m\u001b[38;5;124m\"\u001b[39m, header_value)\n\u001b[1;32m     83\u001b[0m     \u001b[38;5;28;01mawait\u001b[39;00m send(message)\n\u001b[0;32m---> 85\u001b[0m \u001b[38;5;28;01mawait\u001b[39;00m \u001b[38;5;28mself\u001b[39m\u001b[38;5;241m.\u001b[39mapp(scope, receive, send_wrapper)\n",
      "File \u001b[0;32m~/mambaforge/lib/python3.10/site-packages/starlette/middleware/exceptions.py:65\u001b[0m, in \u001b[0;36mExceptionMiddleware.__call__\u001b[0;34m(self, scope, receive, send)\u001b[0m\n\u001b[1;32m     62\u001b[0m \u001b[38;5;28;01melse\u001b[39;00m:\n\u001b[1;32m     63\u001b[0m     conn \u001b[38;5;241m=\u001b[39m WebSocket(scope, receive, send)\n\u001b[0;32m---> 65\u001b[0m \u001b[38;5;28;01mawait\u001b[39;00m wrap_app_handling_exceptions(\u001b[38;5;28mself\u001b[39m\u001b[38;5;241m.\u001b[39mapp, conn)(scope, receive, send)\n",
      "File \u001b[0;32m~/mambaforge/lib/python3.10/site-packages/starlette/_exception_handler.py:64\u001b[0m, in \u001b[0;36mwrap_app_handling_exceptions.<locals>.wrapped_app\u001b[0;34m(scope, receive, send)\u001b[0m\n\u001b[1;32m     61\u001b[0m     handler \u001b[38;5;241m=\u001b[39m _lookup_exception_handler(exception_handlers, exc)\n\u001b[1;32m     63\u001b[0m \u001b[38;5;28;01mif\u001b[39;00m handler \u001b[38;5;129;01mis\u001b[39;00m \u001b[38;5;28;01mNone\u001b[39;00m:\n\u001b[0;32m---> 64\u001b[0m     \u001b[38;5;28;01mraise\u001b[39;00m exc\n\u001b[1;32m     66\u001b[0m \u001b[38;5;28;01mif\u001b[39;00m response_started:\n\u001b[1;32m     67\u001b[0m     msg \u001b[38;5;241m=\u001b[39m \u001b[38;5;124m\"\u001b[39m\u001b[38;5;124mCaught handled exception, but response already started.\u001b[39m\u001b[38;5;124m\"\u001b[39m\n",
      "File \u001b[0;32m~/mambaforge/lib/python3.10/site-packages/starlette/_exception_handler.py:53\u001b[0m, in \u001b[0;36mwrap_app_handling_exceptions.<locals>.wrapped_app\u001b[0;34m(scope, receive, send)\u001b[0m\n\u001b[1;32m     50\u001b[0m     \u001b[38;5;28;01mawait\u001b[39;00m send(message)\n\u001b[1;32m     52\u001b[0m \u001b[38;5;28;01mtry\u001b[39;00m:\n\u001b[0;32m---> 53\u001b[0m     \u001b[38;5;28;01mawait\u001b[39;00m app(scope, receive, sender)\n\u001b[1;32m     54\u001b[0m \u001b[38;5;28;01mexcept\u001b[39;00m \u001b[38;5;167;01mException\u001b[39;00m \u001b[38;5;28;01mas\u001b[39;00m exc:\n\u001b[1;32m     55\u001b[0m     handler \u001b[38;5;241m=\u001b[39m \u001b[38;5;28;01mNone\u001b[39;00m\n",
      "File \u001b[0;32m~/mambaforge/lib/python3.10/site-packages/starlette/routing.py:754\u001b[0m, in \u001b[0;36mRouter.__call__\u001b[0;34m(self, scope, receive, send)\u001b[0m\n\u001b[1;32m    750\u001b[0m \u001b[38;5;28;01masync\u001b[39;00m \u001b[38;5;28;01mdef\u001b[39;00m \u001b[38;5;21m__call__\u001b[39m(\u001b[38;5;28mself\u001b[39m, scope: Scope, receive: Receive, send: Send) \u001b[38;5;241m-\u001b[39m\u001b[38;5;241m>\u001b[39m \u001b[38;5;28;01mNone\u001b[39;00m:\n\u001b[1;32m    751\u001b[0m \u001b[38;5;250m    \u001b[39m\u001b[38;5;124;03m\"\"\"\u001b[39;00m\n\u001b[1;32m    752\u001b[0m \u001b[38;5;124;03m    The main entry point to the Router class.\u001b[39;00m\n\u001b[1;32m    753\u001b[0m \u001b[38;5;124;03m    \"\"\"\u001b[39;00m\n\u001b[0;32m--> 754\u001b[0m     \u001b[38;5;28;01mawait\u001b[39;00m \u001b[38;5;28mself\u001b[39m\u001b[38;5;241m.\u001b[39mmiddleware_stack(scope, receive, send)\n",
      "File \u001b[0;32m~/mambaforge/lib/python3.10/site-packages/starlette/routing.py:774\u001b[0m, in \u001b[0;36mRouter.app\u001b[0;34m(self, scope, receive, send)\u001b[0m\n\u001b[1;32m    772\u001b[0m \u001b[38;5;28;01mif\u001b[39;00m match \u001b[38;5;241m==\u001b[39m Match\u001b[38;5;241m.\u001b[39mFULL:\n\u001b[1;32m    773\u001b[0m     scope\u001b[38;5;241m.\u001b[39mupdate(child_scope)\n\u001b[0;32m--> 774\u001b[0m     \u001b[38;5;28;01mawait\u001b[39;00m route\u001b[38;5;241m.\u001b[39mhandle(scope, receive, send)\n\u001b[1;32m    775\u001b[0m     \u001b[38;5;28;01mreturn\u001b[39;00m\n\u001b[1;32m    776\u001b[0m \u001b[38;5;28;01melif\u001b[39;00m match \u001b[38;5;241m==\u001b[39m Match\u001b[38;5;241m.\u001b[39mPARTIAL \u001b[38;5;129;01mand\u001b[39;00m partial \u001b[38;5;129;01mis\u001b[39;00m \u001b[38;5;28;01mNone\u001b[39;00m:\n",
      "File \u001b[0;32m~/mambaforge/lib/python3.10/site-packages/starlette/routing.py:295\u001b[0m, in \u001b[0;36mRoute.handle\u001b[0;34m(self, scope, receive, send)\u001b[0m\n\u001b[1;32m    293\u001b[0m     \u001b[38;5;28;01mawait\u001b[39;00m response(scope, receive, send)\n\u001b[1;32m    294\u001b[0m \u001b[38;5;28;01melse\u001b[39;00m:\n\u001b[0;32m--> 295\u001b[0m     \u001b[38;5;28;01mawait\u001b[39;00m \u001b[38;5;28mself\u001b[39m\u001b[38;5;241m.\u001b[39mapp(scope, receive, send)\n",
      "File \u001b[0;32m~/mambaforge/lib/python3.10/site-packages/starlette/routing.py:77\u001b[0m, in \u001b[0;36mrequest_response.<locals>.app\u001b[0;34m(scope, receive, send)\u001b[0m\n\u001b[1;32m     74\u001b[0m     response \u001b[38;5;241m=\u001b[39m \u001b[38;5;28;01mawait\u001b[39;00m f(request)\n\u001b[1;32m     75\u001b[0m     \u001b[38;5;28;01mawait\u001b[39;00m response(scope, receive, send)\n\u001b[0;32m---> 77\u001b[0m \u001b[38;5;28;01mawait\u001b[39;00m wrap_app_handling_exceptions(app, request)(scope, receive, send)\n",
      "File \u001b[0;32m~/mambaforge/lib/python3.10/site-packages/starlette/_exception_handler.py:64\u001b[0m, in \u001b[0;36mwrap_app_handling_exceptions.<locals>.wrapped_app\u001b[0;34m(scope, receive, send)\u001b[0m\n\u001b[1;32m     61\u001b[0m     handler \u001b[38;5;241m=\u001b[39m _lookup_exception_handler(exception_handlers, exc)\n\u001b[1;32m     63\u001b[0m \u001b[38;5;28;01mif\u001b[39;00m handler \u001b[38;5;129;01mis\u001b[39;00m \u001b[38;5;28;01mNone\u001b[39;00m:\n\u001b[0;32m---> 64\u001b[0m     \u001b[38;5;28;01mraise\u001b[39;00m exc\n\u001b[1;32m     66\u001b[0m \u001b[38;5;28;01mif\u001b[39;00m response_started:\n\u001b[1;32m     67\u001b[0m     msg \u001b[38;5;241m=\u001b[39m \u001b[38;5;124m\"\u001b[39m\u001b[38;5;124mCaught handled exception, but response already started.\u001b[39m\u001b[38;5;124m\"\u001b[39m\n",
      "File \u001b[0;32m~/mambaforge/lib/python3.10/site-packages/starlette/_exception_handler.py:53\u001b[0m, in \u001b[0;36mwrap_app_handling_exceptions.<locals>.wrapped_app\u001b[0;34m(scope, receive, send)\u001b[0m\n\u001b[1;32m     50\u001b[0m     \u001b[38;5;28;01mawait\u001b[39;00m send(message)\n\u001b[1;32m     52\u001b[0m \u001b[38;5;28;01mtry\u001b[39;00m:\n\u001b[0;32m---> 53\u001b[0m     \u001b[38;5;28;01mawait\u001b[39;00m app(scope, receive, sender)\n\u001b[1;32m     54\u001b[0m \u001b[38;5;28;01mexcept\u001b[39;00m \u001b[38;5;167;01mException\u001b[39;00m \u001b[38;5;28;01mas\u001b[39;00m exc:\n\u001b[1;32m     55\u001b[0m     handler \u001b[38;5;241m=\u001b[39m \u001b[38;5;28;01mNone\u001b[39;00m\n",
      "File \u001b[0;32m~/mambaforge/lib/python3.10/site-packages/starlette/routing.py:74\u001b[0m, in \u001b[0;36mrequest_response.<locals>.app.<locals>.app\u001b[0;34m(scope, receive, send)\u001b[0m\n\u001b[1;32m     73\u001b[0m \u001b[38;5;28;01masync\u001b[39;00m \u001b[38;5;28;01mdef\u001b[39;00m \u001b[38;5;21mapp\u001b[39m(scope: Scope, receive: Receive, send: Send) \u001b[38;5;241m-\u001b[39m\u001b[38;5;241m>\u001b[39m \u001b[38;5;28;01mNone\u001b[39;00m:\n\u001b[0;32m---> 74\u001b[0m     response \u001b[38;5;241m=\u001b[39m \u001b[38;5;28;01mawait\u001b[39;00m f(request)\n\u001b[1;32m     75\u001b[0m     \u001b[38;5;28;01mawait\u001b[39;00m response(scope, receive, send)\n",
      "File \u001b[0;32m~/mambaforge/lib/python3.10/site-packages/fasthtml/core.py:313\u001b[0m, in \u001b[0;36mRouteX._endp\u001b[0;34m(self, req)\u001b[0m\n\u001b[1;32m    311\u001b[0m     nr \u001b[38;5;241m=\u001b[39m a(resp, \u001b[38;5;241m*\u001b[39mwreq)\n\u001b[1;32m    312\u001b[0m     \u001b[38;5;28;01mif\u001b[39;00m nr: resp \u001b[38;5;241m=\u001b[39m nr\n\u001b[0;32m--> 313\u001b[0m \u001b[38;5;28;01mreturn\u001b[39;00m \u001b[43m_resp\u001b[49m\u001b[43m(\u001b[49m\u001b[43mreq\u001b[49m\u001b[43m,\u001b[49m\u001b[43m \u001b[49m\u001b[43mresp\u001b[49m\u001b[43m,\u001b[49m\u001b[43m \u001b[49m\u001b[38;5;28;43mself\u001b[39;49m\u001b[38;5;241;43m.\u001b[39;49m\u001b[43msig\u001b[49m\u001b[38;5;241;43m.\u001b[39;49m\u001b[43mreturn_annotation\u001b[49m\u001b[43m)\u001b[49m\n",
      "File \u001b[0;32m~/mambaforge/lib/python3.10/site-packages/fasthtml/core.py:275\u001b[0m, in \u001b[0;36m_resp\u001b[0;34m(req, resp, cls)\u001b[0m\n\u001b[1;32m    273\u001b[0m \u001b[38;5;28;01mif\u001b[39;00m \u001b[38;5;28misinstance\u001b[39m(resp, Response): \u001b[38;5;28;01mreturn\u001b[39;00m resp\n\u001b[1;32m    274\u001b[0m \u001b[38;5;28;01mif\u001b[39;00m \u001b[38;5;28mcls\u001b[39m \u001b[38;5;129;01mis\u001b[39;00m \u001b[38;5;129;01mnot\u001b[39;00m empty: \u001b[38;5;28;01mreturn\u001b[39;00m \u001b[38;5;28mcls\u001b[39m(resp)\n\u001b[0;32m--> 275\u001b[0m \u001b[38;5;28;01mif\u001b[39;00m \u001b[38;5;28misinstance\u001b[39m(resp, (\u001b[38;5;28mlist\u001b[39m,\u001b[38;5;28mtuple\u001b[39m,HttpHeader)) \u001b[38;5;129;01mor\u001b[39;00m \u001b[38;5;28mhasattr\u001b[39m(resp, \u001b[38;5;124m'\u001b[39m\u001b[38;5;124m__ft__\u001b[39m\u001b[38;5;124m'\u001b[39m): \u001b[38;5;28;01mreturn\u001b[39;00m \u001b[43m_xt_resp\u001b[49m\u001b[43m(\u001b[49m\u001b[43mreq\u001b[49m\u001b[43m,\u001b[49m\u001b[43m \u001b[49m\u001b[43mresp\u001b[49m\u001b[43m)\u001b[49m\n\u001b[1;32m    276\u001b[0m \u001b[38;5;28;01mif\u001b[39;00m \u001b[38;5;28misinstance\u001b[39m(resp, \u001b[38;5;28mstr\u001b[39m): \u001b[38;5;28mcls\u001b[39m \u001b[38;5;241m=\u001b[39m HTMLResponse\n\u001b[1;32m    277\u001b[0m \u001b[38;5;28;01melif\u001b[39;00m \u001b[38;5;28misinstance\u001b[39m(resp, Mapping): \u001b[38;5;28mcls\u001b[39m \u001b[38;5;241m=\u001b[39m JSONResponse\n",
      "File \u001b[0;32m~/mambaforge/lib/python3.10/site-packages/fasthtml/core.py:266\u001b[0m, in \u001b[0;36m_xt_resp\u001b[0;34m(req, resp)\u001b[0m\n\u001b[1;32m    264\u001b[0m     \u001b[38;5;28;01mif\u001b[39;00m \u001b[38;5;129;01mnot\u001b[39;00m titles: titles \u001b[38;5;241m=\u001b[39m [Title(\u001b[38;5;124m'\u001b[39m\u001b[38;5;124mFastHTML page\u001b[39m\u001b[38;5;124m'\u001b[39m)]\n\u001b[1;32m    265\u001b[0m     resp \u001b[38;5;241m=\u001b[39m Html(Head(\u001b[38;5;241m*\u001b[39mtitles, \u001b[38;5;241m*\u001b[39mflat_xt(req\u001b[38;5;241m.\u001b[39mhdrs)), Body(bdy, \u001b[38;5;241m*\u001b[39mflat_xt(req\u001b[38;5;241m.\u001b[39mftrs), \u001b[38;5;241m*\u001b[39m\u001b[38;5;241m*\u001b[39mreq\u001b[38;5;241m.\u001b[39mbodykw), \u001b[38;5;241m*\u001b[39m\u001b[38;5;241m*\u001b[39mreq\u001b[38;5;241m.\u001b[39mhtmlkw)\n\u001b[0;32m--> 266\u001b[0m \u001b[38;5;28;01mreturn\u001b[39;00m HTMLResponse(\u001b[43mto_xml\u001b[49m\u001b[43m(\u001b[49m\u001b[43mresp\u001b[49m\u001b[43m)\u001b[49m, headers\u001b[38;5;241m=\u001b[39mhttp_hdrs)\n",
      "File \u001b[0;32m~/mambaforge/lib/python3.10/site-packages/fastcore/xml.py:102\u001b[0m, in \u001b[0;36mto_xml\u001b[0;34m(elm, lvl)\u001b[0m\n\u001b[1;32m    100\u001b[0m \u001b[38;5;124m\"\u001b[39m\u001b[38;5;124mConvert `ft` element tree into an XML string\u001b[39m\u001b[38;5;124m\"\u001b[39m\n\u001b[1;32m    101\u001b[0m \u001b[38;5;28;01mif\u001b[39;00m elm \u001b[38;5;129;01mis\u001b[39;00m \u001b[38;5;28;01mNone\u001b[39;00m: \u001b[38;5;28;01mreturn\u001b[39;00m \u001b[38;5;124m'\u001b[39m\u001b[38;5;124m'\u001b[39m\n\u001b[0;32m--> 102\u001b[0m \u001b[38;5;28;01mif\u001b[39;00m \u001b[38;5;28misinstance\u001b[39m(elm, \u001b[38;5;28mtuple\u001b[39m): \u001b[38;5;28;01mreturn\u001b[39;00m \u001b[38;5;124;43m'\u001b[39;49m\u001b[38;5;130;43;01m\\n\u001b[39;49;00m\u001b[38;5;124;43m'\u001b[39;49m\u001b[38;5;241;43m.\u001b[39;49m\u001b[43mjoin\u001b[49m\u001b[43m(\u001b[49m\u001b[43mto_xml\u001b[49m\u001b[43m(\u001b[49m\u001b[43mo\u001b[49m\u001b[43m)\u001b[49m\u001b[43m \u001b[49m\u001b[38;5;28;43;01mfor\u001b[39;49;00m\u001b[43m \u001b[49m\u001b[43mo\u001b[49m\u001b[43m \u001b[49m\u001b[38;5;129;43;01min\u001b[39;49;00m\u001b[43m \u001b[49m\u001b[43melm\u001b[49m\u001b[43m)\u001b[49m\n\u001b[1;32m    103\u001b[0m \u001b[38;5;28;01mif\u001b[39;00m \u001b[38;5;28mhasattr\u001b[39m(elm, \u001b[38;5;124m'\u001b[39m\u001b[38;5;124m__ft__\u001b[39m\u001b[38;5;124m'\u001b[39m): elm \u001b[38;5;241m=\u001b[39m elm\u001b[38;5;241m.\u001b[39m__ft__()\n\u001b[1;32m    104\u001b[0m sp \u001b[38;5;241m=\u001b[39m \u001b[38;5;124m'\u001b[39m\u001b[38;5;124m \u001b[39m\u001b[38;5;124m'\u001b[39m \u001b[38;5;241m*\u001b[39m lvl\n",
      "File \u001b[0;32m~/mambaforge/lib/python3.10/site-packages/fastcore/xml.py:102\u001b[0m, in \u001b[0;36m<genexpr>\u001b[0;34m(.0)\u001b[0m\n\u001b[1;32m    100\u001b[0m \u001b[38;5;124m\"\u001b[39m\u001b[38;5;124mConvert `ft` element tree into an XML string\u001b[39m\u001b[38;5;124m\"\u001b[39m\n\u001b[1;32m    101\u001b[0m \u001b[38;5;28;01mif\u001b[39;00m elm \u001b[38;5;129;01mis\u001b[39;00m \u001b[38;5;28;01mNone\u001b[39;00m: \u001b[38;5;28;01mreturn\u001b[39;00m \u001b[38;5;124m'\u001b[39m\u001b[38;5;124m'\u001b[39m\n\u001b[0;32m--> 102\u001b[0m \u001b[38;5;28;01mif\u001b[39;00m \u001b[38;5;28misinstance\u001b[39m(elm, \u001b[38;5;28mtuple\u001b[39m): \u001b[38;5;28;01mreturn\u001b[39;00m \u001b[38;5;124m'\u001b[39m\u001b[38;5;130;01m\\n\u001b[39;00m\u001b[38;5;124m'\u001b[39m\u001b[38;5;241m.\u001b[39mjoin(\u001b[43mto_xml\u001b[49m\u001b[43m(\u001b[49m\u001b[43mo\u001b[49m\u001b[43m)\u001b[49m \u001b[38;5;28;01mfor\u001b[39;00m o \u001b[38;5;129;01min\u001b[39;00m elm)\n\u001b[1;32m    103\u001b[0m \u001b[38;5;28;01mif\u001b[39;00m \u001b[38;5;28mhasattr\u001b[39m(elm, \u001b[38;5;124m'\u001b[39m\u001b[38;5;124m__ft__\u001b[39m\u001b[38;5;124m'\u001b[39m): elm \u001b[38;5;241m=\u001b[39m elm\u001b[38;5;241m.\u001b[39m__ft__()\n\u001b[1;32m    104\u001b[0m sp \u001b[38;5;241m=\u001b[39m \u001b[38;5;124m'\u001b[39m\u001b[38;5;124m \u001b[39m\u001b[38;5;124m'\u001b[39m \u001b[38;5;241m*\u001b[39m lvl\n",
      "File \u001b[0;32m~/mambaforge/lib/python3.10/site-packages/fastcore/xml.py:119\u001b[0m, in \u001b[0;36mto_xml\u001b[0;34m(elm, lvl)\u001b[0m\n\u001b[1;32m    117\u001b[0m     \u001b[38;5;28;01mreturn\u001b[39;00m \u001b[38;5;124mf\u001b[39m\u001b[38;5;124m'\u001b[39m\u001b[38;5;132;01m{\u001b[39;00msp\u001b[38;5;132;01m}\u001b[39;00m\u001b[38;5;124m<\u001b[39m\u001b[38;5;132;01m{\u001b[39;00mstag\u001b[38;5;132;01m}\u001b[39;00m\u001b[38;5;124m>\u001b[39m\u001b[38;5;132;01m{\u001b[39;00m_escape(cs[\u001b[38;5;241m0\u001b[39m])\u001b[38;5;132;01m}\u001b[39;00m\u001b[38;5;132;01m{\u001b[39;00mcltag\u001b[38;5;132;01m}\u001b[39;00m\u001b[38;5;130;01m\\n\u001b[39;00m\u001b[38;5;124m'\u001b[39m\n\u001b[1;32m    118\u001b[0m res \u001b[38;5;241m=\u001b[39m \u001b[38;5;124mf\u001b[39m\u001b[38;5;124m'\u001b[39m\u001b[38;5;132;01m{\u001b[39;00msp\u001b[38;5;132;01m}\u001b[39;00m\u001b[38;5;124m<\u001b[39m\u001b[38;5;132;01m{\u001b[39;00mstag\u001b[38;5;132;01m}\u001b[39;00m\u001b[38;5;124m>\u001b[39m\u001b[38;5;130;01m\\n\u001b[39;00m\u001b[38;5;124m'\u001b[39m\n\u001b[0;32m--> 119\u001b[0m res \u001b[38;5;241m+\u001b[39m\u001b[38;5;241m=\u001b[39m \u001b[38;5;124;43m'\u001b[39;49m\u001b[38;5;124;43m'\u001b[39;49m\u001b[38;5;241;43m.\u001b[39;49m\u001b[43mjoin\u001b[49m\u001b[43m(\u001b[49m\u001b[43mto_xml\u001b[49m\u001b[43m(\u001b[49m\u001b[43mc\u001b[49m\u001b[43m,\u001b[49m\u001b[43m \u001b[49m\u001b[43mlvl\u001b[49m\u001b[38;5;241;43m=\u001b[39;49m\u001b[43mlvl\u001b[49m\u001b[38;5;241;43m+\u001b[39;49m\u001b[38;5;241;43m2\u001b[39;49m\u001b[43m)\u001b[49m\u001b[43m \u001b[49m\u001b[38;5;28;43;01mfor\u001b[39;49;00m\u001b[43m \u001b[49m\u001b[43mc\u001b[49m\u001b[43m \u001b[49m\u001b[38;5;129;43;01min\u001b[39;49;00m\u001b[43m \u001b[49m\u001b[43mcs\u001b[49m\u001b[43m)\u001b[49m\n\u001b[1;32m    120\u001b[0m \u001b[38;5;28;01mif\u001b[39;00m \u001b[38;5;129;01mnot\u001b[39;00m isvoid: res \u001b[38;5;241m+\u001b[39m\u001b[38;5;241m=\u001b[39m \u001b[38;5;124mf\u001b[39m\u001b[38;5;124m'\u001b[39m\u001b[38;5;132;01m{\u001b[39;00msp\u001b[38;5;132;01m}\u001b[39;00m\u001b[38;5;132;01m{\u001b[39;00mcltag\u001b[38;5;132;01m}\u001b[39;00m\u001b[38;5;130;01m\\n\u001b[39;00m\u001b[38;5;124m'\u001b[39m\n\u001b[1;32m    121\u001b[0m \u001b[38;5;28;01mreturn\u001b[39;00m res\n",
      "File \u001b[0;32m~/mambaforge/lib/python3.10/site-packages/fastcore/xml.py:119\u001b[0m, in \u001b[0;36m<genexpr>\u001b[0;34m(.0)\u001b[0m\n\u001b[1;32m    117\u001b[0m     \u001b[38;5;28;01mreturn\u001b[39;00m \u001b[38;5;124mf\u001b[39m\u001b[38;5;124m'\u001b[39m\u001b[38;5;132;01m{\u001b[39;00msp\u001b[38;5;132;01m}\u001b[39;00m\u001b[38;5;124m<\u001b[39m\u001b[38;5;132;01m{\u001b[39;00mstag\u001b[38;5;132;01m}\u001b[39;00m\u001b[38;5;124m>\u001b[39m\u001b[38;5;132;01m{\u001b[39;00m_escape(cs[\u001b[38;5;241m0\u001b[39m])\u001b[38;5;132;01m}\u001b[39;00m\u001b[38;5;132;01m{\u001b[39;00mcltag\u001b[38;5;132;01m}\u001b[39;00m\u001b[38;5;130;01m\\n\u001b[39;00m\u001b[38;5;124m'\u001b[39m\n\u001b[1;32m    118\u001b[0m res \u001b[38;5;241m=\u001b[39m \u001b[38;5;124mf\u001b[39m\u001b[38;5;124m'\u001b[39m\u001b[38;5;132;01m{\u001b[39;00msp\u001b[38;5;132;01m}\u001b[39;00m\u001b[38;5;124m<\u001b[39m\u001b[38;5;132;01m{\u001b[39;00mstag\u001b[38;5;132;01m}\u001b[39;00m\u001b[38;5;124m>\u001b[39m\u001b[38;5;130;01m\\n\u001b[39;00m\u001b[38;5;124m'\u001b[39m\n\u001b[0;32m--> 119\u001b[0m res \u001b[38;5;241m+\u001b[39m\u001b[38;5;241m=\u001b[39m \u001b[38;5;124m'\u001b[39m\u001b[38;5;124m'\u001b[39m\u001b[38;5;241m.\u001b[39mjoin(\u001b[43mto_xml\u001b[49m\u001b[43m(\u001b[49m\u001b[43mc\u001b[49m\u001b[43m,\u001b[49m\u001b[43m \u001b[49m\u001b[43mlvl\u001b[49m\u001b[38;5;241;43m=\u001b[39;49m\u001b[43mlvl\u001b[49m\u001b[38;5;241;43m+\u001b[39;49m\u001b[38;5;241;43m2\u001b[39;49m\u001b[43m)\u001b[49m \u001b[38;5;28;01mfor\u001b[39;00m c \u001b[38;5;129;01min\u001b[39;00m cs)\n\u001b[1;32m    120\u001b[0m \u001b[38;5;28;01mif\u001b[39;00m \u001b[38;5;129;01mnot\u001b[39;00m isvoid: res \u001b[38;5;241m+\u001b[39m\u001b[38;5;241m=\u001b[39m \u001b[38;5;124mf\u001b[39m\u001b[38;5;124m'\u001b[39m\u001b[38;5;132;01m{\u001b[39;00msp\u001b[38;5;132;01m}\u001b[39;00m\u001b[38;5;132;01m{\u001b[39;00mcltag\u001b[38;5;132;01m}\u001b[39;00m\u001b[38;5;130;01m\\n\u001b[39;00m\u001b[38;5;124m'\u001b[39m\n\u001b[1;32m    121\u001b[0m \u001b[38;5;28;01mreturn\u001b[39;00m res\n",
      "File \u001b[0;32m~/mambaforge/lib/python3.10/site-packages/fastcore/xml.py:119\u001b[0m, in \u001b[0;36mto_xml\u001b[0;34m(elm, lvl)\u001b[0m\n\u001b[1;32m    117\u001b[0m     \u001b[38;5;28;01mreturn\u001b[39;00m \u001b[38;5;124mf\u001b[39m\u001b[38;5;124m'\u001b[39m\u001b[38;5;132;01m{\u001b[39;00msp\u001b[38;5;132;01m}\u001b[39;00m\u001b[38;5;124m<\u001b[39m\u001b[38;5;132;01m{\u001b[39;00mstag\u001b[38;5;132;01m}\u001b[39;00m\u001b[38;5;124m>\u001b[39m\u001b[38;5;132;01m{\u001b[39;00m_escape(cs[\u001b[38;5;241m0\u001b[39m])\u001b[38;5;132;01m}\u001b[39;00m\u001b[38;5;132;01m{\u001b[39;00mcltag\u001b[38;5;132;01m}\u001b[39;00m\u001b[38;5;130;01m\\n\u001b[39;00m\u001b[38;5;124m'\u001b[39m\n\u001b[1;32m    118\u001b[0m res \u001b[38;5;241m=\u001b[39m \u001b[38;5;124mf\u001b[39m\u001b[38;5;124m'\u001b[39m\u001b[38;5;132;01m{\u001b[39;00msp\u001b[38;5;132;01m}\u001b[39;00m\u001b[38;5;124m<\u001b[39m\u001b[38;5;132;01m{\u001b[39;00mstag\u001b[38;5;132;01m}\u001b[39;00m\u001b[38;5;124m>\u001b[39m\u001b[38;5;130;01m\\n\u001b[39;00m\u001b[38;5;124m'\u001b[39m\n\u001b[0;32m--> 119\u001b[0m res \u001b[38;5;241m+\u001b[39m\u001b[38;5;241m=\u001b[39m \u001b[38;5;124;43m'\u001b[39;49m\u001b[38;5;124;43m'\u001b[39;49m\u001b[38;5;241;43m.\u001b[39;49m\u001b[43mjoin\u001b[49m\u001b[43m(\u001b[49m\u001b[43mto_xml\u001b[49m\u001b[43m(\u001b[49m\u001b[43mc\u001b[49m\u001b[43m,\u001b[49m\u001b[43m \u001b[49m\u001b[43mlvl\u001b[49m\u001b[38;5;241;43m=\u001b[39;49m\u001b[43mlvl\u001b[49m\u001b[38;5;241;43m+\u001b[39;49m\u001b[38;5;241;43m2\u001b[39;49m\u001b[43m)\u001b[49m\u001b[43m \u001b[49m\u001b[38;5;28;43;01mfor\u001b[39;49;00m\u001b[43m \u001b[49m\u001b[43mc\u001b[49m\u001b[43m \u001b[49m\u001b[38;5;129;43;01min\u001b[39;49;00m\u001b[43m \u001b[49m\u001b[43mcs\u001b[49m\u001b[43m)\u001b[49m\n\u001b[1;32m    120\u001b[0m \u001b[38;5;28;01mif\u001b[39;00m \u001b[38;5;129;01mnot\u001b[39;00m isvoid: res \u001b[38;5;241m+\u001b[39m\u001b[38;5;241m=\u001b[39m \u001b[38;5;124mf\u001b[39m\u001b[38;5;124m'\u001b[39m\u001b[38;5;132;01m{\u001b[39;00msp\u001b[38;5;132;01m}\u001b[39;00m\u001b[38;5;132;01m{\u001b[39;00mcltag\u001b[38;5;132;01m}\u001b[39;00m\u001b[38;5;130;01m\\n\u001b[39;00m\u001b[38;5;124m'\u001b[39m\n\u001b[1;32m    121\u001b[0m \u001b[38;5;28;01mreturn\u001b[39;00m res\n",
      "File \u001b[0;32m~/mambaforge/lib/python3.10/site-packages/fastcore/xml.py:119\u001b[0m, in \u001b[0;36m<genexpr>\u001b[0;34m(.0)\u001b[0m\n\u001b[1;32m    117\u001b[0m     \u001b[38;5;28;01mreturn\u001b[39;00m \u001b[38;5;124mf\u001b[39m\u001b[38;5;124m'\u001b[39m\u001b[38;5;132;01m{\u001b[39;00msp\u001b[38;5;132;01m}\u001b[39;00m\u001b[38;5;124m<\u001b[39m\u001b[38;5;132;01m{\u001b[39;00mstag\u001b[38;5;132;01m}\u001b[39;00m\u001b[38;5;124m>\u001b[39m\u001b[38;5;132;01m{\u001b[39;00m_escape(cs[\u001b[38;5;241m0\u001b[39m])\u001b[38;5;132;01m}\u001b[39;00m\u001b[38;5;132;01m{\u001b[39;00mcltag\u001b[38;5;132;01m}\u001b[39;00m\u001b[38;5;130;01m\\n\u001b[39;00m\u001b[38;5;124m'\u001b[39m\n\u001b[1;32m    118\u001b[0m res \u001b[38;5;241m=\u001b[39m \u001b[38;5;124mf\u001b[39m\u001b[38;5;124m'\u001b[39m\u001b[38;5;132;01m{\u001b[39;00msp\u001b[38;5;132;01m}\u001b[39;00m\u001b[38;5;124m<\u001b[39m\u001b[38;5;132;01m{\u001b[39;00mstag\u001b[38;5;132;01m}\u001b[39;00m\u001b[38;5;124m>\u001b[39m\u001b[38;5;130;01m\\n\u001b[39;00m\u001b[38;5;124m'\u001b[39m\n\u001b[0;32m--> 119\u001b[0m res \u001b[38;5;241m+\u001b[39m\u001b[38;5;241m=\u001b[39m \u001b[38;5;124m'\u001b[39m\u001b[38;5;124m'\u001b[39m\u001b[38;5;241m.\u001b[39mjoin(\u001b[43mto_xml\u001b[49m\u001b[43m(\u001b[49m\u001b[43mc\u001b[49m\u001b[43m,\u001b[49m\u001b[43m \u001b[49m\u001b[43mlvl\u001b[49m\u001b[38;5;241;43m=\u001b[39;49m\u001b[43mlvl\u001b[49m\u001b[38;5;241;43m+\u001b[39;49m\u001b[38;5;241;43m2\u001b[39;49m\u001b[43m)\u001b[49m \u001b[38;5;28;01mfor\u001b[39;00m c \u001b[38;5;129;01min\u001b[39;00m cs)\n\u001b[1;32m    120\u001b[0m \u001b[38;5;28;01mif\u001b[39;00m \u001b[38;5;129;01mnot\u001b[39;00m isvoid: res \u001b[38;5;241m+\u001b[39m\u001b[38;5;241m=\u001b[39m \u001b[38;5;124mf\u001b[39m\u001b[38;5;124m'\u001b[39m\u001b[38;5;132;01m{\u001b[39;00msp\u001b[38;5;132;01m}\u001b[39;00m\u001b[38;5;132;01m{\u001b[39;00mcltag\u001b[38;5;132;01m}\u001b[39;00m\u001b[38;5;130;01m\\n\u001b[39;00m\u001b[38;5;124m'\u001b[39m\n\u001b[1;32m    121\u001b[0m \u001b[38;5;28;01mreturn\u001b[39;00m res\n",
      "File \u001b[0;32m~/mambaforge/lib/python3.10/site-packages/fastcore/xml.py:102\u001b[0m, in \u001b[0;36mto_xml\u001b[0;34m(elm, lvl)\u001b[0m\n\u001b[1;32m    100\u001b[0m \u001b[38;5;124m\"\u001b[39m\u001b[38;5;124mConvert `ft` element tree into an XML string\u001b[39m\u001b[38;5;124m\"\u001b[39m\n\u001b[1;32m    101\u001b[0m \u001b[38;5;28;01mif\u001b[39;00m elm \u001b[38;5;129;01mis\u001b[39;00m \u001b[38;5;28;01mNone\u001b[39;00m: \u001b[38;5;28;01mreturn\u001b[39;00m \u001b[38;5;124m'\u001b[39m\u001b[38;5;124m'\u001b[39m\n\u001b[0;32m--> 102\u001b[0m \u001b[38;5;28;01mif\u001b[39;00m \u001b[38;5;28misinstance\u001b[39m(elm, \u001b[38;5;28mtuple\u001b[39m): \u001b[38;5;28;01mreturn\u001b[39;00m \u001b[38;5;124;43m'\u001b[39;49m\u001b[38;5;130;43;01m\\n\u001b[39;49;00m\u001b[38;5;124;43m'\u001b[39;49m\u001b[38;5;241;43m.\u001b[39;49m\u001b[43mjoin\u001b[49m\u001b[43m(\u001b[49m\u001b[43mto_xml\u001b[49m\u001b[43m(\u001b[49m\u001b[43mo\u001b[49m\u001b[43m)\u001b[49m\u001b[43m \u001b[49m\u001b[38;5;28;43;01mfor\u001b[39;49;00m\u001b[43m \u001b[49m\u001b[43mo\u001b[49m\u001b[43m \u001b[49m\u001b[38;5;129;43;01min\u001b[39;49;00m\u001b[43m \u001b[49m\u001b[43melm\u001b[49m\u001b[43m)\u001b[49m\n\u001b[1;32m    103\u001b[0m \u001b[38;5;28;01mif\u001b[39;00m \u001b[38;5;28mhasattr\u001b[39m(elm, \u001b[38;5;124m'\u001b[39m\u001b[38;5;124m__ft__\u001b[39m\u001b[38;5;124m'\u001b[39m): elm \u001b[38;5;241m=\u001b[39m elm\u001b[38;5;241m.\u001b[39m__ft__()\n\u001b[1;32m    104\u001b[0m sp \u001b[38;5;241m=\u001b[39m \u001b[38;5;124m'\u001b[39m\u001b[38;5;124m \u001b[39m\u001b[38;5;124m'\u001b[39m \u001b[38;5;241m*\u001b[39m lvl\n",
      "File \u001b[0;32m~/mambaforge/lib/python3.10/site-packages/fastcore/xml.py:102\u001b[0m, in \u001b[0;36m<genexpr>\u001b[0;34m(.0)\u001b[0m\n\u001b[1;32m    100\u001b[0m \u001b[38;5;124m\"\u001b[39m\u001b[38;5;124mConvert `ft` element tree into an XML string\u001b[39m\u001b[38;5;124m\"\u001b[39m\n\u001b[1;32m    101\u001b[0m \u001b[38;5;28;01mif\u001b[39;00m elm \u001b[38;5;129;01mis\u001b[39;00m \u001b[38;5;28;01mNone\u001b[39;00m: \u001b[38;5;28;01mreturn\u001b[39;00m \u001b[38;5;124m'\u001b[39m\u001b[38;5;124m'\u001b[39m\n\u001b[0;32m--> 102\u001b[0m \u001b[38;5;28;01mif\u001b[39;00m \u001b[38;5;28misinstance\u001b[39m(elm, \u001b[38;5;28mtuple\u001b[39m): \u001b[38;5;28;01mreturn\u001b[39;00m \u001b[38;5;124m'\u001b[39m\u001b[38;5;130;01m\\n\u001b[39;00m\u001b[38;5;124m'\u001b[39m\u001b[38;5;241m.\u001b[39mjoin(\u001b[43mto_xml\u001b[49m\u001b[43m(\u001b[49m\u001b[43mo\u001b[49m\u001b[43m)\u001b[49m \u001b[38;5;28;01mfor\u001b[39;00m o \u001b[38;5;129;01min\u001b[39;00m elm)\n\u001b[1;32m    103\u001b[0m \u001b[38;5;28;01mif\u001b[39;00m \u001b[38;5;28mhasattr\u001b[39m(elm, \u001b[38;5;124m'\u001b[39m\u001b[38;5;124m__ft__\u001b[39m\u001b[38;5;124m'\u001b[39m): elm \u001b[38;5;241m=\u001b[39m elm\u001b[38;5;241m.\u001b[39m__ft__()\n\u001b[1;32m    104\u001b[0m sp \u001b[38;5;241m=\u001b[39m \u001b[38;5;124m'\u001b[39m\u001b[38;5;124m \u001b[39m\u001b[38;5;124m'\u001b[39m \u001b[38;5;241m*\u001b[39m lvl\n",
      "File \u001b[0;32m~/mambaforge/lib/python3.10/site-packages/fastcore/xml.py:103\u001b[0m, in \u001b[0;36mto_xml\u001b[0;34m(elm, lvl)\u001b[0m\n\u001b[1;32m    101\u001b[0m \u001b[38;5;28;01mif\u001b[39;00m elm \u001b[38;5;129;01mis\u001b[39;00m \u001b[38;5;28;01mNone\u001b[39;00m: \u001b[38;5;28;01mreturn\u001b[39;00m \u001b[38;5;124m'\u001b[39m\u001b[38;5;124m'\u001b[39m\n\u001b[1;32m    102\u001b[0m \u001b[38;5;28;01mif\u001b[39;00m \u001b[38;5;28misinstance\u001b[39m(elm, \u001b[38;5;28mtuple\u001b[39m): \u001b[38;5;28;01mreturn\u001b[39;00m \u001b[38;5;124m'\u001b[39m\u001b[38;5;130;01m\\n\u001b[39;00m\u001b[38;5;124m'\u001b[39m\u001b[38;5;241m.\u001b[39mjoin(to_xml(o) \u001b[38;5;28;01mfor\u001b[39;00m o \u001b[38;5;129;01min\u001b[39;00m elm)\n\u001b[0;32m--> 103\u001b[0m \u001b[38;5;28;01mif\u001b[39;00m \u001b[38;5;28mhasattr\u001b[39m(elm, \u001b[38;5;124m'\u001b[39m\u001b[38;5;124m__ft__\u001b[39m\u001b[38;5;124m'\u001b[39m): elm \u001b[38;5;241m=\u001b[39m \u001b[43melm\u001b[49m\u001b[38;5;241;43m.\u001b[39;49m\u001b[43m__ft__\u001b[49m\u001b[43m(\u001b[49m\u001b[43m)\u001b[49m\n\u001b[1;32m    104\u001b[0m sp \u001b[38;5;241m=\u001b[39m \u001b[38;5;124m'\u001b[39m\u001b[38;5;124m \u001b[39m\u001b[38;5;124m'\u001b[39m \u001b[38;5;241m*\u001b[39m lvl\n\u001b[1;32m    105\u001b[0m \u001b[38;5;28;01mif\u001b[39;00m \u001b[38;5;129;01mnot\u001b[39;00m \u001b[38;5;28misinstance\u001b[39m(elm, \u001b[38;5;28mlist\u001b[39m): \u001b[38;5;28;01mreturn\u001b[39;00m \u001b[38;5;124mf\u001b[39m\u001b[38;5;124m'\u001b[39m\u001b[38;5;132;01m{\u001b[39;00m_escape(elm)\u001b[38;5;132;01m}\u001b[39;00m\u001b[38;5;130;01m\\n\u001b[39;00m\u001b[38;5;124m'\u001b[39m\n",
      "Cell \u001b[0;32mIn[6], line 14\u001b[0m, in \u001b[0;36mrender\u001b[0;34m(todo)\u001b[0m\n\u001b[1;32m      6\u001b[0m delete \u001b[38;5;241m=\u001b[39m A(\u001b[38;5;124m'\u001b[39m\u001b[38;5;124mDelete\u001b[39m\u001b[38;5;124m'\u001b[39m,\n\u001b[1;32m      7\u001b[0m             hx_delete\u001b[38;5;241m=\u001b[39m\u001b[38;5;124mf\u001b[39m\u001b[38;5;124m'\u001b[39m\u001b[38;5;124m/delete/\u001b[39m\u001b[38;5;132;01m{\u001b[39;00mtodo\u001b[38;5;241m.\u001b[39mid\u001b[38;5;132;01m}\u001b[39;00m\u001b[38;5;124m'\u001b[39m,\n\u001b[1;32m      8\u001b[0m             hx_swap\u001b[38;5;241m=\u001b[39m\u001b[38;5;124m'\u001b[39m\u001b[38;5;124mouterHTML\u001b[39m\u001b[38;5;124m'\u001b[39m,\n\u001b[1;32m      9\u001b[0m             target_id\u001b[38;5;241m=\u001b[39mtid) \n\u001b[1;32m     10\u001b[0m toggle \u001b[38;5;241m=\u001b[39m A(\u001b[38;5;124m'\u001b[39m\u001b[38;5;124mToggle\u001b[39m\u001b[38;5;124m'\u001b[39m, \n\u001b[1;32m     11\u001b[0m            hx_get\u001b[38;5;241m=\u001b[39m\u001b[38;5;124mf\u001b[39m\u001b[38;5;124m'\u001b[39m\u001b[38;5;124m/toggle/\u001b[39m\u001b[38;5;132;01m{\u001b[39;00mtodo\u001b[38;5;241m.\u001b[39mid\u001b[38;5;132;01m}\u001b[39;00m\u001b[38;5;124m'\u001b[39m,\n\u001b[1;32m     12\u001b[0m            target_id\u001b[38;5;241m=\u001b[39mtid)\n\u001b[1;32m     13\u001b[0m \u001b[38;5;28;01mreturn\u001b[39;00m Li(toggle, delete,\n\u001b[0;32m---> 14\u001b[0m           \u001b[43mtodo\u001b[49m\u001b[38;5;241;43m.\u001b[39;49m\u001b[43mtitle\u001b[49m\u001b[43m \u001b[49m\u001b[38;5;241;43m+\u001b[39;49m\u001b[43m \u001b[49m\u001b[43m(\u001b[49m\u001b[38;5;124;43m'\u001b[39;49m\u001b[38;5;124;43m ✅\u001b[39;49m\u001b[38;5;124;43m'\u001b[39;49m\u001b[43m \u001b[49m\u001b[38;5;28;43;01mif\u001b[39;49;00m\u001b[43m \u001b[49m\u001b[43mtodo\u001b[49m\u001b[38;5;241;43m.\u001b[39;49m\u001b[43mdone\u001b[49m\u001b[43m \u001b[49m\u001b[38;5;28;43;01melse\u001b[39;49;00m\u001b[43m \u001b[49m\u001b[38;5;124;43m'\u001b[39;49m\u001b[38;5;124;43m'\u001b[39;49m\u001b[43m)\u001b[49m,\n\u001b[1;32m     15\u001b[0m           \u001b[38;5;28mid\u001b[39m\u001b[38;5;241m=\u001b[39mtid)\n",
      "\u001b[0;31mTypeError\u001b[0m: unsupported operand type(s) for +: 'NoneType' and 'str'"
     ]
    }
   ],
   "source": [
    "\n",
    "cli.post('/').text\n",
    "# cli.post('/')"
   ]
  },
  {
   "cell_type": "code",
   "execution_count": null,
   "metadata": {},
   "outputs": [],
   "source": []
  }
 ],
 "metadata": {
  "kernelspec": {
   "display_name": "base",
   "language": "python",
   "name": "python3"
  },
  "language_info": {
   "codemirror_mode": {
    "name": "ipython",
    "version": 3
   },
   "file_extension": ".py",
   "mimetype": "text/x-python",
   "name": "python",
   "nbconvert_exporter": "python",
   "pygments_lexer": "ipython3",
   "version": "3.10.14"
  }
 },
 "nbformat": 4,
 "nbformat_minor": 2
}
