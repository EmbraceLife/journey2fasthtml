{
 "cells": [
  {
   "cell_type": "markdown",
   "metadata": {},
   "source": [
    "# 00 Imports"
   ]
  },
  {
   "cell_type": "code",
   "execution_count": 1,
   "metadata": {},
   "outputs": [],
   "source": [
    "from fasthtml import common as fh \n",
    "from fasthtml.common import *\n",
    "\n",
    "from IPython.core.interactiveshell import InteractiveShell\n",
    "InteractiveShell.ast_node_interactivity = \"all\"\n",
    "\n",
    "import time\n",
    "\n",
    "from IPython import display\n",
    "from enum import Enum\n",
    "from pprint import pprint\n",
    "\n",
    "from fastcore.test import *\n",
    "from starlette.testclient import TestClient\n",
    "from starlette.requests import Headers\n",
    "from starlette.datastructures import UploadFile\n",
    "\n"
   ]
  },
  {
   "cell_type": "markdown",
   "metadata": {},
   "source": [
    "# initialization\n",
    "\n",
    "## what needed to start a web app\n",
    "\n",
    "- app: a server everything we need for a web app\n",
    "- rt: a router to manage the routes or paths to different pages in the app\n",
    "- todos: a database for the app\n",
    "- Todo: a data class for the todos\n",
    "\n",
    "## fast_app: what and how\n",
    "\n",
    "- fast_app: a function to initialize a web app by giving us all the above\n",
    "- 'todos1.db': specify the database file name\n",
    "- `live=True`: specify if the app is live mode or not\n",
    "- `id=int`, `title=str`, `done=bool` `pk='id'` are custom kwargs to specify the data types for each column of the database\n",
    "    - `id`, `title`, `done` are the columns of the database, \n",
    "    - and `id` is the primary key to uniquely identify each row"
   ]
  },
  {
   "cell_type": "markdown",
   "metadata": {},
   "source": [
    "## 01 initialize the app\n"
   ]
  },
  {
   "cell_type": "code",
   "execution_count": 2,
   "metadata": {},
   "outputs": [],
   "source": [
    "app, rt, todos, Todo = fast_app('todos1.db', live=True,      \n",
    "                                id=int,\n",
    "                                title=str,\n",
    "                                done=bool,\n",
    "                                pk='id')\n",
    "\n"
   ]
  },
  {
   "cell_type": "markdown",
   "metadata": {},
   "source": [
    "### inspect what inside them\n"
   ]
  },
  {
   "cell_type": "code",
   "execution_count": 3,
   "metadata": {},
   "outputs": [],
   "source": [
    "\n",
    "# app.\n",
    "# todos.\n",
    "# Todo.\n"
   ]
  },
  {
   "cell_type": "markdown",
   "metadata": {},
   "source": [
    "### 03 add initial data for database"
   ]
  },
  {
   "cell_type": "code",
   "execution_count": 32,
   "metadata": {},
   "outputs": [
    {
     "name": "stdout",
     "output_type": "stream",
     "text": [
      "Items(id=0, title='new todo', done=False)\n"
     ]
    },
    {
     "data": {
      "text/plain": [
       "<Table items (id, title, done)>"
      ]
     },
     "execution_count": 32,
     "metadata": {},
     "output_type": "execute_result"
    },
    {
     "data": {
      "text/plain": [
       "<Table items (id, title, done)>"
      ]
     },
     "execution_count": 32,
     "metadata": {},
     "output_type": "execute_result"
    },
    {
     "data": {
      "text/plain": [
       "<Table items (id, title, done)>"
      ]
     },
     "execution_count": 32,
     "metadata": {},
     "output_type": "execute_result"
    },
    {
     "data": {
      "text/plain": [
       "<Table items (id, title, done)>"
      ]
     },
     "execution_count": 32,
     "metadata": {},
     "output_type": "execute_result"
    },
    {
     "data": {
      "text/plain": [
       "<Table items (id, title, done)>"
      ]
     },
     "execution_count": 32,
     "metadata": {},
     "output_type": "execute_result"
    },
    {
     "data": {
      "text/plain": [
       "<Table items (id, title, done)>"
      ]
     },
     "execution_count": 32,
     "metadata": {},
     "output_type": "execute_result"
    },
    {
     "data": {
      "text/plain": [
       "<Table items (id, title, done)>"
      ]
     },
     "execution_count": 32,
     "metadata": {},
     "output_type": "execute_result"
    },
    {
     "data": {
      "text/plain": [
       "<Table items (id, title, done)>"
      ]
     },
     "execution_count": 32,
     "metadata": {},
     "output_type": "execute_result"
    },
    {
     "data": {
      "text/plain": [
       "<Table items (id, title, done)>"
      ]
     },
     "execution_count": 32,
     "metadata": {},
     "output_type": "execute_result"
    },
    {
     "data": {
      "text/plain": [
       "<Table items (id, title, done)>"
      ]
     },
     "execution_count": 32,
     "metadata": {},
     "output_type": "execute_result"
    },
    {
     "data": {
      "text/plain": [
       "<Table items (id, title, done)>"
      ]
     },
     "execution_count": 32,
     "metadata": {},
     "output_type": "execute_result"
    },
    {
     "data": {
      "text/plain": [
       "Items(id=1, title='First todo', done=1)"
      ]
     },
     "execution_count": 32,
     "metadata": {},
     "output_type": "execute_result"
    },
    {
     "data": {
      "text/plain": [
       "Items(id=2, title='Second todo', done=None)"
      ]
     },
     "execution_count": 32,
     "metadata": {},
     "output_type": "execute_result"
    },
    {
     "data": {
      "text/plain": [
       "Items(id=3, title='Third todo', done=1)"
      ]
     },
     "execution_count": 32,
     "metadata": {},
     "output_type": "execute_result"
    },
    {
     "name": "stdout",
     "output_type": "stream",
     "text": [
      "Row 0: {'id': 1, 'title': 'First todo', 'done': 1}\n",
      "Row 1: {'id': 2, 'title': 'Second todo', 'done': None}\n",
      "Row 2: {'id': 3, 'title': 'Third todo', 'done': 1}\n"
     ]
    }
   ],
   "source": [
    "app, rt, todos, Todo = fast_app('todos1.db', live=True,      \n",
    "                                id=int,\n",
    "                                title=str,\n",
    "                                done=bool,\n",
    "                                pk='id')\n",
    "\n",
    "pprint(Todo(id=0, title='new todo', done=False))\n",
    "\n",
    "# delete all rows\n",
    "for i, row in enumerate(todos.rows):\n",
    "    todos.delete(row['id'])\n",
    "\n",
    "# initialize with 3 rows\n",
    "todos.insert(title='First todo', done=True)\n",
    "todos.insert(title='Second todo')\n",
    "todos.insert(title='Third todo', done=True)\n",
    "\n",
    "# print all rows\n",
    "for i, row in enumerate(todos.rows):\n",
    "    print(f\"Row {i}: {row}\")\n",
    "    # todos.get(row['id'])\n",
    "\n",
    "\n"
   ]
  },
  {
   "cell_type": "markdown",
   "metadata": {},
   "source": [
    "# design root page"
   ]
  },
  {
   "cell_type": "markdown",
   "metadata": {},
   "source": [
    "### 04 display a text"
   ]
  },
  {
   "cell_type": "code",
   "execution_count": 5,
   "metadata": {},
   "outputs": [
    {
     "name": "stdout",
     "output_type": "stream",
     "text": [
      "'Hello World'\n"
     ]
    }
   ],
   "source": [
    "from fasthtml.common import *\n",
    "\n",
    "app, rt, todos, Todo = fast_app('todos1.db', live=True,      \n",
    "                                id=int,\n",
    "                                title=str,\n",
    "                                done=bool,\n",
    "                                pk='id')\n",
    "\n",
    "@rt('/')\n",
    "def get():\n",
    "    return 'Hello World'\n",
    "\n",
    "\n",
    "cli = TestClient(app)\n",
    "pprint(cli.get('/').text)\n",
    "# serve()"
   ]
  },
  {
   "cell_type": "markdown",
   "metadata": {},
   "source": [
    "#### 04.1 show the response only"
   ]
  },
  {
   "cell_type": "code",
   "execution_count": 6,
   "metadata": {},
   "outputs": [
    {
     "name": "stdout",
     "output_type": "stream",
     "text": [
      "'Hello World'\n"
     ]
    }
   ],
   "source": [
    "hxhdr = {'headers':{'hx-request':\"1\"}} # mock to remove the headers\n",
    "cli = TestClient(app)\n",
    "# pprint(cli.post('/getInputData', data={'title':'put in the end'}).text) \n",
    "pprint(cli.get('/', **hxhdr).text) # same to what displayed in the browser"
   ]
  },
  {
   "cell_type": "markdown",
   "metadata": {},
   "source": [
    "### 05 a Form to submit, a Ul to display\n",
    "\n",
    "basic but reasonable design for todo list"
   ]
  },
  {
   "cell_type": "code",
   "execution_count": 7,
   "metadata": {},
   "outputs": [
    {
     "name": "stdout",
     "output_type": "stream",
     "text": [
      "('<title>Todos</title>\\n'\n",
      " '\\n'\n",
      " '<main class=\"container\">\\n'\n",
      " '  <h1>Todos</h1>\\n'\n",
      " '  <form enctype=\"multipart/form-data\">\\n'\n",
      " '    <fieldset role=\"group\">\\n'\n",
      " '      <input placeholder=\"type your todo\" name=\"title\" id=\"todo-input\">\\n'\n",
      " '      <button>Add</button>\\n'\n",
      " '    </fieldset>\\n'\n",
      " '  </form>\\n'\n",
      " '</main>\\n')\n"
     ]
    }
   ],
   "source": [
    "from fasthtml.common import *\n",
    "\n",
    "app, rt, todos, Todo = fast_app('todos1.db', live=True,      \n",
    "                                id=int,\n",
    "                                title=str,\n",
    "                                done=bool,\n",
    "                                pk='id')\n",
    "\n",
    "@rt('/')\n",
    "def get():\n",
    "    out = Titled(\"Todos\",\n",
    "                 Form(Group(\n",
    "                     Input(placeholder='type your todo', name='title', id='todo-input'), \n",
    "                     Button('Add')))\n",
    "                 )\n",
    "    return out\n",
    "\n",
    "\n",
    "cli = TestClient(app)\n",
    "hxhdr = {'headers':{'hx-request':\"1\"}} # mock to remove the headers\n",
    "pprint(cli.get('/', **hxhdr).text) # same to what displayed in the browser\n",
    "# pprint(cli.get('/').text) # same to what displayed in the browser\n",
    "\n",
    "# serve()"
   ]
  },
  {
   "cell_type": "markdown",
   "metadata": {},
   "source": [
    "#### 05.1: Titled\n",
    "\n"
   ]
  },
  {
   "cell_type": "code",
   "execution_count": 11,
   "metadata": {},
   "outputs": [
    {
     "name": "stdout",
     "output_type": "stream",
     "text": [
      "'<title>Todos</title>\\n\\n<main class=\"container\">\\n  <h1>Todos</h1>\\n</main>\\n'\n"
     ]
    }
   ],
   "source": [
    "from fasthtml.common import *\n",
    "\n",
    "app, rt, todos, Todo = fast_app('todos1.db', live=True,      \n",
    "                                id=int,\n",
    "                                title=str,\n",
    "                                done=bool,\n",
    "                                pk='id')\n",
    "\n",
    "@rt('/')\n",
    "def get():\n",
    "    out = Titled(\"Todos\"), # step 1\n",
    "                #  Form(Group(\n",
    "                #      Input(placeholder='type your todo', name='title', id='todo-input'), \n",
    "                #      Button('Add')))\n",
    "                #  )\n",
    "    return out\n",
    "\n",
    "\n",
    "hxhdr = {'headers':{'hx-request':\"1\"}} # mock to remove the headers\n",
    "cli = TestClient(app)\n",
    "# pprint(cli.post('/getInputData', data={'title':'put in the end'}).text) \n",
    "pprint(cli.get('/', **hxhdr).text) # same to what displayed in the browser\n",
    "\n",
    "# serve()"
   ]
  },
  {
   "cell_type": "markdown",
   "metadata": {},
   "source": [
    "#### 05.2: Input"
   ]
  },
  {
   "cell_type": "code",
   "execution_count": 10,
   "metadata": {},
   "outputs": [
    {
     "name": "stdout",
     "output_type": "stream",
     "text": [
      "('<title>Todos</title>\\n'\n",
      " '\\n'\n",
      " '<main class=\"container\">\\n'\n",
      " '  <h1>Todos</h1>\\n'\n",
      " '  <input placeholder=\"type your todo\" name=\"title\" id=\"todo-input\">\\n'\n",
      " '</main>\\n')\n"
     ]
    }
   ],
   "source": [
    "from fasthtml.common import *\n",
    "\n",
    "app, rt, todos, Todo = fast_app('todos1.db', live=True,      \n",
    "                                id=int,\n",
    "                                title=str,\n",
    "                                done=bool,\n",
    "                                pk='id')\n",
    "\n",
    "@rt('/')\n",
    "def get():\n",
    "    out = Titled(\"Todos\",\n",
    "                     Input(placeholder='type your todo', name='title', id='todo-input'),\n",
    "    ) \n",
    "                #      Button('Add')))\n",
    "                #  )\n",
    "    return out\n",
    "\n",
    "\n",
    "hxhdr = {'headers':{'hx-request':\"1\"}} # mock to remove the headers\n",
    "cli = TestClient(app)\n",
    "# pprint(cli.post('/getInputData', data={'title':'put in the end'}).text) \n",
    "pprint(cli.get('/', **hxhdr).text) # same to what displayed in the browser\n",
    "\n",
    "# serve()"
   ]
  },
  {
   "cell_type": "markdown",
   "metadata": {},
   "source": [
    "#### 05.3: Button"
   ]
  },
  {
   "cell_type": "code",
   "execution_count": 12,
   "metadata": {},
   "outputs": [
    {
     "name": "stdout",
     "output_type": "stream",
     "text": [
      "('<title>Todos</title>\\n'\n",
      " '\\n'\n",
      " '<main class=\"container\">\\n'\n",
      " '  <h1>Todos</h1>\\n'\n",
      " '  <input placeholder=\"type your todo\" name=\"title\" id=\"todo-input\">\\n'\n",
      " '  <button>Add</button>\\n'\n",
      " '</main>\\n')\n"
     ]
    }
   ],
   "source": [
    "from fasthtml.common import *\n",
    "\n",
    "app, rt, todos, Todo = fast_app('todos1.db', live=True,      \n",
    "                                id=int,\n",
    "                                title=str,\n",
    "                                done=bool,\n",
    "                                pk='id')\n",
    "\n",
    "@rt('/')\n",
    "def get():\n",
    "    out = Titled(\"Todos\",\n",
    "                     Input(placeholder='type your todo', name='title', id='todo-input'),\n",
    "                     Button('Add'))\n",
    "                #  )\n",
    "    return out\n",
    "\n",
    "\n",
    "hxhdr = {'headers':{'hx-request':\"1\"}} # mock to remove the headers\n",
    "cli = TestClient(app)\n",
    "# pprint(cli.post('/getInputData', data={'title':'put in the end'}).text) \n",
    "pprint(cli.get('/', **hxhdr).text) # same to what displayed in the browser\n",
    "\n",
    "# serve()"
   ]
  },
  {
   "cell_type": "markdown",
   "metadata": {},
   "source": [
    "#### 05.4: Group"
   ]
  },
  {
   "cell_type": "code",
   "execution_count": 13,
   "metadata": {},
   "outputs": [
    {
     "name": "stdout",
     "output_type": "stream",
     "text": [
      "('<title>Todos</title>\\n'\n",
      " '\\n'\n",
      " '<main class=\"container\">\\n'\n",
      " '  <h1>Todos</h1>\\n'\n",
      " '  <fieldset role=\"group\">\\n'\n",
      " '    <input placeholder=\"type your todo\" name=\"title\" id=\"todo-input\">\\n'\n",
      " '    <button>Add</button>\\n'\n",
      " '  </fieldset>\\n'\n",
      " '</main>\\n')\n"
     ]
    }
   ],
   "source": [
    "from fasthtml.common import *\n",
    "\n",
    "app, rt, todos, Todo = fast_app('todos1.db', live=True,      \n",
    "                                id=int,\n",
    "                                title=str,\n",
    "                                done=bool,\n",
    "                                pk='id')\n",
    "\n",
    "@rt('/')\n",
    "def get():\n",
    "    out = Titled(\"Todos\",\n",
    "                     Group(\n",
    "                        Input(placeholder='type your todo', name='title', id='todo-input'),\n",
    "                        Button('Add'))\n",
    "                 )\n",
    "    return out\n",
    "\n",
    "hxhdr = {'headers':{'hx-request':\"1\"}} # mock to remove the headers\n",
    "cli = TestClient(app)\n",
    "# pprint(cli.post('/getInputData', data={'title':'put in the end'}).text) \n",
    "pprint(cli.get('/', **hxhdr).text) # same to what displayed in the browser\n",
    "\n",
    "# serve()"
   ]
  },
  {
   "cell_type": "markdown",
   "metadata": {},
   "source": [
    "#### 05.5: Ul"
   ]
  },
  {
   "cell_type": "code",
   "execution_count": 14,
   "metadata": {},
   "outputs": [
    {
     "name": "stdout",
     "output_type": "stream",
     "text": [
      "('<title>Todos</title>\\n'\n",
      " '\\n'\n",
      " '<main class=\"container\">\\n'\n",
      " '  <h1>Todos</h1>\\n'\n",
      " '  <fieldset role=\"group\">\\n'\n",
      " '    <input placeholder=\"type your todo\" name=\"title\" id=\"todo-input\">\\n'\n",
      " '    <button>Add</button>\\n'\n",
      " '  </fieldset>\\n'\n",
      " '  <ul>\\n'\n",
      " \"Items(id=1, title='First todo', done=1)\\n\"\n",
      " \"Items(id=2, title='Second todo', done=None)\\n\"\n",
      " \"Items(id=3, title='Third todo', done=1)\\n\"\n",
      " '  </ul>\\n'\n",
      " '</main>\\n')\n"
     ]
    }
   ],
   "source": [
    "from fasthtml.common import *\n",
    "\n",
    "app, rt, todos, Todo = fast_app('todos1.db', live=True,      \n",
    "                                id=int,\n",
    "                                title=str,\n",
    "                                done=bool,\n",
    "                                pk='id')\n",
    "\n",
    "@rt('/')\n",
    "def get():\n",
    "    out = Titled(\"Todos\",\n",
    "                     Group(\n",
    "                        Input(placeholder='type your todo', name='title', id='todo-input'),\n",
    "                        Button('Add')),\n",
    "                    Ul(*todos())\n",
    "                 )\n",
    "    return out\n",
    "\n",
    "hxhdr = {'headers':{'hx-request':\"1\"}} # mock to remove the headers\n",
    "cli = TestClient(app)\n",
    "# pprint(cli.post('/getInputData', data={'title':'put in the end'}).text) \n",
    "pprint(cli.get('/', **hxhdr).text) # same to what displayed in the browser\n",
    "\n",
    "# serve()"
   ]
  },
  {
   "cell_type": "markdown",
   "metadata": {},
   "source": [
    "#### 05.6: Li"
   ]
  },
  {
   "cell_type": "code",
   "execution_count": 15,
   "metadata": {},
   "outputs": [
    {
     "name": "stdout",
     "output_type": "stream",
     "text": [
      "('<title>Todos</title>\\n'\n",
      " '\\n'\n",
      " '<main class=\"container\">\\n'\n",
      " '  <h1>Todos</h1>\\n'\n",
      " '  <fieldset role=\"group\">\\n'\n",
      " '    <input placeholder=\"type your todo\" name=\"title\" id=\"todo-input\">\\n'\n",
      " '    <button>Add</button>\\n'\n",
      " '  </fieldset>\\n'\n",
      " '  <ul>\\n'\n",
      " \"    <li>Items(id=1, title='First todo', done=1)</li>\\n\"\n",
      " \"    <li>Items(id=2, title='Second todo', done=None)</li>\\n\"\n",
      " \"    <li>Items(id=3, title='Third todo', done=1)</li>\\n\"\n",
      " '  </ul>\\n'\n",
      " '</main>\\n')\n"
     ]
    }
   ],
   "source": [
    "from fasthtml.common import *\n",
    "\n",
    "app, rt, todos, Todo = fast_app('todos1.db', live=True,      \n",
    "                                id=int,\n",
    "                                title=str,\n",
    "                                done=bool,\n",
    "                                pk='id')\n",
    "\n",
    "@rt('/')\n",
    "def get():\n",
    "    out = Titled(\"Todos\",\n",
    "                     Group(\n",
    "                        Input(placeholder='type your todo', name='title', id='todo-input'),\n",
    "                        Button('Add')),\n",
    "                    Ul(Li(t) for t in todos())\n",
    "                 )\n",
    "    return out\n",
    "\n",
    "\n",
    "hxhdr = {'headers':{'hx-request':\"1\"}} # mock to remove the headers\n",
    "cli = TestClient(app)\n",
    "# pprint(cli.post('/getInputData', data={'title':'put in the end'}).text) \n",
    "pprint(cli.get('/', **hxhdr).text) # same to what displayed in the browser\n",
    "# serve()"
   ]
  },
  {
   "cell_type": "markdown",
   "metadata": {},
   "source": [
    "#### But why nothing happens when typing inside Input?"
   ]
  },
  {
   "cell_type": "markdown",
   "metadata": {},
   "source": [
    "#### 05.7: Form\n",
    "\n",
    "##### Because Input collect, Form send data\n",
    "\n",
    "The `<input>` tag in HTML is used to collect user inputs. However, without a surrounding `<form>` tag, the data entered into the `<input>` field will not be sent anywhere when the user presses enter or clicks a submit button.\n",
    "\n",
    "The `<form>` tag is necessary because it provides the URL (in the `action` attribute) where the form data should be sent, and the method (`GET` or `POST`) of how to send the data.\n",
    "\n",
    "When a form is submitted using the `GET` method, the form data is appended to the URL in the address bar, which is why you see `http://localhost:5001/?title=this+is`.\n",
    "\n",
    "Without a `<form>` tag, the browser has no instructions on where to send the data or how to append it to the URL, so you just see `http://localhost:5001/` in the address bar.\n",
    "\n"
   ]
  },
  {
   "cell_type": "markdown",
   "metadata": {},
   "source": [
    "\n",
    "\n",
    "##### **Form: `enctype`, `method`**\n",
    "\n",
    "- `enctype = 'multipart/form-data'`: to work with `<input>` with default `type=file`.\n",
    "\n",
    "- `method=GET` is default [method](https://developer.mozilla.org/en-US/docs/Web/HTML/Element/form#method) "
   ]
  },
  {
   "cell_type": "markdown",
   "metadata": {},
   "source": [
    "\n",
    "#### 05.8 How `GET` and `POST` differ\n",
    "\n",
    "When you submit a form in a web page, the form data can be sent to the server either via the URL (known as a GET request) or in the body of the HTTP request (known as a POST request).\n",
    "\n",
    "If the form's method is GET, the form data is encoded in the URL, typically after a ?. For example, http://localhost:5001/?title=this+is. This is useful for non-sensitive data and when you want the results to be bookmarkable or shareable.\n",
    "\n",
    "If the form's method is POST, the form data is included in the body of the HTTP request, not in the URL. This is useful for sensitive data like passwords, or for large amounts of data."
   ]
  },
  {
   "cell_type": "code",
   "execution_count": 17,
   "metadata": {},
   "outputs": [
    {
     "name": "stdout",
     "output_type": "stream",
     "text": [
      "('<title>Todos</title>\\n'\n",
      " '\\n'\n",
      " '<main class=\"container\">\\n'\n",
      " '  <h1>Todos</h1>\\n'\n",
      " '  <form enctype=\"multipart/form-data\">\\n'\n",
      " '    <fieldset role=\"group\">\\n'\n",
      " '      <input placeholder=\"type your todo\" name=\"title\" id=\"todo-input\">\\n'\n",
      " '      <button>Add</button>\\n'\n",
      " '    </fieldset>\\n'\n",
      " '  </form>\\n'\n",
      " '  <ul>\\n'\n",
      " \"    <li>Items(id=1, title='First todo', done=1)</li>\\n\"\n",
      " \"    <li>Items(id=2, title='Second todo', done=None)</li>\\n\"\n",
      " \"    <li>Items(id=3, title='Third todo', done=1)</li>\\n\"\n",
      " '  </ul>\\n'\n",
      " '</main>\\n')\n"
     ]
    }
   ],
   "source": [
    "from fasthtml.common import *\n",
    "\n",
    "app, rt, todos, Todo = fast_app('todos1.db', live=True,      \n",
    "                                id=int,\n",
    "                                title=str,\n",
    "                                done=bool,\n",
    "                                pk='id')\n",
    "\n",
    "@rt('/')\n",
    "def get():\n",
    "    out = Titled(\"Todos\",\n",
    "                    Form(Group(\n",
    "                        Input(placeholder='type your todo', name='title', id='todo-input'),\n",
    "                        Button('Add'))),\n",
    "                    Ul(Li(t) for t in todos())\n",
    "                 )\n",
    "    return out\n",
    "\n",
    "\n",
    "hxhdr = {'headers':{'hx-request':\"1\"}} \n",
    "cli = TestClient(app)\n",
    "pprint(cli.get('/', **hxhdr).text) \n",
    "\n",
    "\n",
    "# serve() # type into the input and enter to see the url change"
   ]
  },
  {
   "cell_type": "markdown",
   "metadata": {},
   "source": [
    "# How to pass data from Form to Server"
   ]
  },
  {
   "cell_type": "markdown",
   "metadata": {},
   "source": [
    "#### hx_post vs hx_get\n",
    "\n",
    "- Don't worry about `method='POST'` or `method='GET'` in Form, not used here\n",
    "- only consider `hx_post` or `hx_get` in Form, which is used to send data to the server\n",
    "- as this is single page app, we won't go to other path or page, so we can choose a arbitrary path for `hx_get`, such as `hx_get('/tryInputData')`\n",
    "- so does `hx_post`, such as `hx_post('/tryInputData')`\n",
    "- only `hx_post` can receive data from Form, not `hx_get`"
   ]
  },
  {
   "cell_type": "markdown",
   "metadata": {},
   "source": [
    "##### 06 `hx_get`: only get response from server\n",
    "\n",
    "- it has nothing to do with sending data from Form to server"
   ]
  },
  {
   "cell_type": "code",
   "execution_count": 20,
   "metadata": {},
   "outputs": [
    {
     "name": "stdout",
     "output_type": "stream",
     "text": [
      "'Hello World'\n"
     ]
    }
   ],
   "source": [
    "from fasthtml.common import *\n",
    "\n",
    "app, rt, todos, Todo = fast_app('todos1.db', live=True,      \n",
    "                                id=int,\n",
    "                                title=str,\n",
    "                                done=bool,\n",
    "                                pk='id')\n",
    "\n",
    "@rt('/')\n",
    "def get():\n",
    "    out = Titled(\"Todos\",\n",
    "                    Form(Group(\n",
    "                        Input(placeholder='type your todo', name='title', id='todo-input'),\n",
    "                        Button('Add')),\n",
    "                        hx_get='/getInputData', # when Form is triggered, the browser will send a GET request to the server with the url '/getInputData'\n",
    "                        ),\n",
    "                    Ul(Li(t) for t in todos())\n",
    "                 )\n",
    "    return out\n",
    "\n",
    "@rt('/getInputData') # at page /getInputData, there is a web page with 'Hello World' as the content\n",
    "def get(): # usually no parameter for get\n",
    "    return 'Hello World' # server pass this response as the content of the Form\n",
    "                         # data through Form can't get here\n",
    "\n",
    "\n",
    "\n",
    "hxhdr = {'headers':{'hx-request':\"1\"}} \n",
    "cli = TestClient(app)\n",
    "pprint(cli.get('/getInputData', **hxhdr).text) \n",
    "\n",
    "\n",
    "# serve() # no typed input displayed on the url bar"
   ]
  },
  {
   "cell_type": "code",
   "execution_count": 21,
   "metadata": {},
   "outputs": [
    {
     "name": "stdout",
     "output_type": "stream",
     "text": [
      "'Items(id=None, title=None, done=None)'\n"
     ]
    }
   ],
   "source": [
    "from fasthtml.common import *\n",
    "\n",
    "app, rt, todos, Todo = fast_app('todos1.db', live=True,      \n",
    "                                id=int,\n",
    "                                title=str,\n",
    "                                done=bool,\n",
    "                                pk='id')\n",
    "\n",
    "@rt('/')\n",
    "def get():\n",
    "    out = Titled(\"Todos\",\n",
    "                    Form(Group(\n",
    "                        Input(placeholder='type your todo', name='title', id='todo-input'),\n",
    "                        Button('Add')),\n",
    "                        hx_get='/getInputData'),\n",
    "                    Ul(Li(t) for t in todos())\n",
    "                 )\n",
    "    return out\n",
    "\n",
    "\n",
    "@rt('/getInputData')\n",
    "def get(todo:Todo): # no error if you add a parameter here\n",
    "                    # because we give it a type Todo, the todo is an empty Todo object\n",
    "                    # but it will always be an empty Todo object\n",
    "                    # data from Input or Form can't get here\n",
    "    return todo\n",
    "\n",
    "hxhdr = {'headers':{'hx-request':\"1\"}} \n",
    "cli = TestClient(app)\n",
    "pprint(cli.get('/getInputData', **hxhdr).text) \n",
    "\n",
    "\n",
    "# serve()"
   ]
  },
  {
   "cell_type": "markdown",
   "metadata": {},
   "source": [
    "##### 07 `hx_post`: pass data from Form to server\n"
   ]
  },
  {
   "cell_type": "code",
   "execution_count": 22,
   "metadata": {},
   "outputs": [
    {
     "name": "stdout",
     "output_type": "stream",
     "text": [
      "\"Items(id=0, title='me', done=0)\"\n"
     ]
    }
   ],
   "source": [
    "from fasthtml.common import *\n",
    "\n",
    "app, rt, todos, Todo = fast_app('todos1.db', live=True,      \n",
    "                                id=int,\n",
    "                                title=str,\n",
    "                                done=bool,\n",
    "                                pk='id')\n",
    "\n",
    "@rt('/')\n",
    "def get():\n",
    "    out = Titled(\"Todos\",\n",
    "                    Form(Group(\n",
    "                        Input(placeholder='type your todo', name='title', id='todo-input'),\n",
    "                        Button('Add')),\n",
    "                        hx_post='/getInputData'),\n",
    "                    Ul(Li(t) for t in todos())\n",
    "                 )\n",
    "    return out\n",
    "\n",
    "@rt('/getInputData')\n",
    "def post(todo:Todo):\n",
    "    return todo # the todos is not updated with the new todo, only pass it as the content of the Form\n",
    "\n",
    "hxhdr = {'headers':{'hx-request':\"1\"}} \n",
    "cli = TestClient(app)\n",
    "pprint(cli.post('/getInputData', data={'id':0, 'title':'me', 'done':0}, **hxhdr).text) \n",
    "\n",
    "\n",
    "\n",
    "# serve()"
   ]
  },
  {
   "cell_type": "code",
   "execution_count": 23,
   "metadata": {},
   "outputs": [
    {
     "name": "stdout",
     "output_type": "stream",
     "text": [
      "\"Items(id=0, title='me', done=0)\"\n"
     ]
    }
   ],
   "source": [
    "from fasthtml.common import *\n",
    "\n",
    "app, rt, todos, Todo = fast_app('todos1.db', live=True,      \n",
    "                                id=int,\n",
    "                                title=str,\n",
    "                                done=bool,\n",
    "                                pk='id')\n",
    "\n",
    "@rt('/')\n",
    "def get():\n",
    "    out = Titled(\"Todos\",\n",
    "                    Form(Group(\n",
    "                        Input(placeholder='type your todo', name='title', id='todo-input'),\n",
    "                        Button('Add')),\n",
    "                        hx_post='/getInputData'),\n",
    "                    Ul(Li(t) for t in todos())\n",
    "                 )\n",
    "    return out\n",
    "\n",
    "@rt('/getInputData')\n",
    "def post(todo:Todo):\n",
    "    return todos.insert(todo) # add new todo from Form to the database, and return the new todo with a new id from the database\n",
    "\n",
    "hxhdr = {'headers':{'hx-request':\"1\"}} \n",
    "cli = TestClient(app)\n",
    "pprint(cli.post('/getInputData', data={'id':0, 'title':'me', 'done':0}, **hxhdr).text) \n",
    "\n",
    "\n",
    "# serve()"
   ]
  },
  {
   "cell_type": "markdown",
   "metadata": {},
   "source": [
    "# How to pass the todo elsewhere than the Form?"
   ]
  },
  {
   "cell_type": "markdown",
   "metadata": {},
   "source": [
    "#### 08 `target_id` and `hx_swap`\n",
    "\n",
    "- `target_id`: specify which element we shall pass the response to\n",
    "- `hx_swap`: specify where exactly to put in relation to the element\n"
   ]
  },
  {
   "cell_type": "markdown",
   "metadata": {},
   "source": [
    "\n",
    "#### 08.1 all possible values for `hx_swap`\n",
    "\n",
    "- innerHTML - Replace the inner html of the target element\n",
    "- outerHTML - Replace the entire target element with the response\n",
    "- textContent - Replace the text content of the target element, without parsing the response as HTML\n",
    "- beforebegin - Insert the response before the target element\n",
    "- afterbegin - Insert the response before the first child of the target element\n",
    "- beforeend - Insert the response after the last child of the target element\n",
    "- afterend - Insert the response after the target element\n",
    "- delete - Deletes the target element regardless of the response\n",
    "- none- Does not append content from response (out of band items will still be processed)."
   ]
  },
  {
   "cell_type": "markdown",
   "metadata": {},
   "source": [
    "#### 08.2 default `hx-swap='innerHTML'`"
   ]
  },
  {
   "cell_type": "code",
   "execution_count": 25,
   "metadata": {},
   "outputs": [
    {
     "name": "stdout",
     "output_type": "stream",
     "text": [
      "('<title>Todos</title>\\n'\n",
      " '\\n'\n",
      " '<main class=\"container\">\\n'\n",
      " '  <h1>Todos</h1>\\n'\n",
      " '  <form enctype=\"multipart/form-data\" hx-post=\"/getInputData\" '\n",
      " 'hx-target=\"#todo-list\">\\n'\n",
      " '    <fieldset role=\"group\">\\n'\n",
      " '      <input placeholder=\"type your todo\" name=\"title\" id=\"todo-input\">\\n'\n",
      " '      <button>Add</button>\\n'\n",
      " '    </fieldset>\\n'\n",
      " '  </form>\\n'\n",
      " '  <ul id=\"todo-list\">\\n'\n",
      " \"    <li>Items(id=0, title='me', done=0)</li>\\n\"\n",
      " \"    <li>Items(id=1, title='First todo', done=1)</li>\\n\"\n",
      " \"    <li>Items(id=2, title='Second todo', done=None)</li>\\n\"\n",
      " \"    <li>Items(id=3, title='Third todo', done=1)</li>\\n\"\n",
      " '  </ul>\\n'\n",
      " '</main>\\n')\n"
     ]
    }
   ],
   "source": [
    "from fasthtml.common import *\n",
    "\n",
    "app, rt, todos, Todo = fast_app('todos1.db', live=True,      \n",
    "                                id=int,\n",
    "                                title=str,\n",
    "                                done=bool,\n",
    "                                pk='id')\n",
    "\n",
    "@rt('/')\n",
    "def get():\n",
    "    out = Titled(\"Todos\",\n",
    "                    Form(Group(\n",
    "                        Input(placeholder='type your todo', name='title', id='todo-input'),\n",
    "                        Button('Add')),\n",
    "                        hx_post='/getInputData',\n",
    "                        target_id='todo-list'),# give the response to one with the id\n",
    "                        # see the cell output below: target_id is hx_target\n",
    "                        # by default, the response replace the content of the element.\n",
    "                        # in other words, hx_swap='innerHTML'\n",
    "                    Ul(*[Li(t) for t in todos()],\n",
    "                        id='todo-list') # the one with the id 'todo-list' is Ul\n",
    "                 )\n",
    "    return out\n",
    "\n",
    "@rt('/getInputData')\n",
    "def post(todo:Todo):\n",
    "    return todos.insert(todo) \n",
    "\n",
    "hxhdr = {'headers':{'hx-request':\"1\"}} \n",
    "cli = TestClient(app)\n",
    "# pprint(cli.post('/getInputData', data={'id':0, 'title':'me', 'done':0}, **hxhdr).text) \n",
    "pprint(cli.get('/', **hxhdr).text)\n",
    "\n",
    "\n",
    "# serve()"
   ]
  },
  {
   "cell_type": "markdown",
   "metadata": {},
   "source": [
    "#### 08.3 `hx-swap='beforeend'`"
   ]
  },
  {
   "cell_type": "code",
   "execution_count": 26,
   "metadata": {},
   "outputs": [
    {
     "name": "stdout",
     "output_type": "stream",
     "text": [
      "('<title>Todos</title>\\n'\n",
      " '\\n'\n",
      " '<main class=\"container\">\\n'\n",
      " '  <h1>Todos</h1>\\n'\n",
      " '  <form enctype=\"multipart/form-data\" hx-post=\"/getInputData\" '\n",
      " 'hx-swap=\"beforeend\" hx-target=\"#todo-list\">\\n'\n",
      " '    <fieldset role=\"group\">\\n'\n",
      " '      <input placeholder=\"type your todo\" name=\"title\" id=\"todo-input\">\\n'\n",
      " '      <button>Add</button>\\n'\n",
      " '    </fieldset>\\n'\n",
      " '  </form>\\n'\n",
      " '  <ul id=\"todo-list\">\\n'\n",
      " \"    <li>Items(id=0, title='me', done=0)</li>\\n\"\n",
      " \"    <li>Items(id=1, title='First todo', done=1)</li>\\n\"\n",
      " \"    <li>Items(id=2, title='Second todo', done=None)</li>\\n\"\n",
      " \"    <li>Items(id=3, title='Third todo', done=1)</li>\\n\"\n",
      " \"    <li>Items(id=4, title='this is one for all', done=None)</li>\\n\"\n",
      " '  </ul>\\n'\n",
      " '</main>\\n')\n"
     ]
    }
   ],
   "source": [
    "from fasthtml.common import *\n",
    "\n",
    "app, rt, todos, Todo = fast_app('todos1.db', live=True,      \n",
    "                                id=int,\n",
    "                                title=str,\n",
    "                                done=bool,\n",
    "                                pk='id')\n",
    "\n",
    "@rt('/')\n",
    "def get():\n",
    "    out = Titled(\"Todos\",\n",
    "                    Form(Group(\n",
    "                        Input(placeholder='type your todo', name='title', id='todo-input'),\n",
    "                        Button('Add')),\n",
    "                        hx_post='/getInputData',\n",
    "                        target_id='todo-list',\n",
    "                        hx_swap='beforeend'),# beforeend - Insert the response after the last child of the target element\n",
    "                    Ul(*[Li(t) for t in todos()],\n",
    "                        id='todo-list') # next step: to give the new todo or every todo a better look\n",
    "                 )\n",
    "    return out\n",
    "\n",
    "@rt('/getInputData')\n",
    "def post(todo:Todo):\n",
    "    return todos.insert(todo) \n",
    "\n",
    "hxhdr = {'headers':{'hx-request':\"1\"}} \n",
    "cli = TestClient(app)\n",
    "# pprint(cli.post('/getInputData', data={'id':0, 'title':'me', 'done':0}, **hxhdr).text) \n",
    "pprint(cli.get('/', **hxhdr).text)\n",
    "\n",
    "\n",
    "# serve()"
   ]
  },
  {
   "cell_type": "code",
   "execution_count": 27,
   "metadata": {},
   "outputs": [
    {
     "name": "stdout",
     "output_type": "stream",
     "text": [
      "Row 0: {'id': 0, 'title': 'me', 'done': 0}\n",
      "Row 1: {'id': 1, 'title': 'First todo', 'done': 1}\n",
      "Row 2: {'id': 2, 'title': 'Second todo', 'done': None}\n",
      "Row 3: {'id': 3, 'title': 'Third todo', 'done': 1}\n",
      "Row 4: {'id': 4, 'title': 'this is one for all', 'done': None}\n"
     ]
    }
   ],
   "source": [
    "for i, row in enumerate(todos.rows):\n",
    "    print(f\"Row {i}: {row}\")"
   ]
  },
  {
   "cell_type": "markdown",
   "metadata": {},
   "source": [
    "##### [clean the data](#03-add-initial-data-for-database)"
   ]
  },
  {
   "cell_type": "markdown",
   "metadata": {},
   "source": [
    "# How to clear Input or Form after submitting?\n"
   ]
  },
  {
   "cell_type": "markdown",
   "metadata": {},
   "source": [
    "\n",
    "#### 08.1 `hx_swap_oob` \n",
    "\n",
    "**use case**\n",
    "\n",
    "- when returning multiple elements as a response from the server to the `target_id` element, \n",
    "- and want the second element to be swapped as a replacement for the element (or elements both `Input` and `Button` in the example below) with the same `id`, and will not end up in the target.\n",
    "\n",
    "\n",
    "htmx [reference](https://htmx.org/attributes/hx-swap-oob/)\n",
    "\n",
    "- `id` and `hx_swap_oob` together to clear the input after submitting\n",
    "- together the response will be swapped in as a replacement for the element with the id, and will not end up in the target.\n",
    "- if the value is true or outerHTML (which are equivalent) the element will be swapped inline."
   ]
  },
  {
   "cell_type": "code",
   "execution_count": 29,
   "metadata": {},
   "outputs": [
    {
     "name": "stdout",
     "output_type": "stream",
     "text": [
      "('<title>Todos</title>\\n'\n",
      " '\\n'\n",
      " '<main class=\"container\">\\n'\n",
      " '  <h1>Todos</h1>\\n'\n",
      " '  <form enctype=\"multipart/form-data\" hx-post=\"/getInputData\" '\n",
      " 'hx-swap=\"beforeend\" hx-target=\"#todo-list\">\\n'\n",
      " '    <fieldset role=\"group\">\\n'\n",
      " '      <input placeholder=\"type your todo\" name=\"title\" hx-swap-oob=\"true\" '\n",
      " 'id=\"input\">\\n'\n",
      " '      <button hx-swap-oob=\"true\" id=\"input\" name=\"input\">Add</button>\\n'\n",
      " '    </fieldset>\\n'\n",
      " '  </form>\\n'\n",
      " '  <ul id=\"todo-list\">\\n'\n",
      " \"    <li>Items(id=0, title='me', done=0)</li>\\n\"\n",
      " \"    <li>Items(id=1, title='First todo', done=1)</li>\\n\"\n",
      " \"    <li>Items(id=2, title='Second todo', done=None)</li>\\n\"\n",
      " \"    <li>Items(id=3, title='Third todo', done=1)</li>\\n\"\n",
      " \"    <li>Items(id=4, title='this is one for all', done=None)</li>\\n\"\n",
      " '  </ul>\\n'\n",
      " '</main>\\n')\n"
     ]
    }
   ],
   "source": [
    "from fasthtml.common import *\n",
    "\n",
    "app, rt, todos, Todo = fast_app('todos1.db', live=True,      \n",
    "                                id=int,\n",
    "                                title=str,\n",
    "                                done=bool,\n",
    "                                pk='id')\n",
    "\n",
    "@rt('/')\n",
    "def get():\n",
    "    out = Titled(\"Todos\",\n",
    "                    Form(Group(\n",
    "                        Input(placeholder='type your todo', name='title', \n",
    "                              id='input', # id is for hx-swap-oob\n",
    "                              hx_swap_oob=\"true\"), # going to where the id is, not to the target_id\n",
    "                        Button('Add', \n",
    "                                id='input', # going to antoher element with the same id\n",
    "                                hx_swap_oob=\"true\")), \n",
    "                        hx_post='/getInputData',\n",
    "                        target_id='todo-list',\n",
    "                        hx_swap='beforeend'),\n",
    "                    Ul(*[Li(t) for t in todos()],\n",
    "                        id='todo-list') \n",
    "                 )\n",
    "    return out\n",
    "\n",
    "@rt('/getInputData')\n",
    "def post(todo:Todo):\n",
    "    return (\n",
    "            Input(placeholder='I am reborn', name='title', \n",
    "                  id='input', # id is for hx-swap-oob\n",
    "                  hx_swap_oob=\"true\"), # going to where the input is, not to the target_id \n",
    "            todos.insert(todo)) # no matter the order of the elements to be returned\n",
    "\n",
    "hxhdr = {'headers':{'hx-request':\"1\"}} \n",
    "cli = TestClient(app)\n",
    "# pprint(cli.post('/getInputData', data={'id':0, 'title':'me', 'done':0}, **hxhdr).text) \n",
    "pprint(cli.get('/', **hxhdr).text)\n",
    "\n",
    "\n",
    "# serve()"
   ]
  },
  {
   "cell_type": "markdown",
   "metadata": {},
   "source": [
    "# Why `name='input` is auto added to `Button` when set `id='input'`?\n",
    "\n",
    "- basically, fastHTML make it a auto process: when `id` is set, `name` is set to the same value\n",
    "- But when it is used for `Button`, nothing really matters. \n",
    "- It is actually designed to use for `Input` where `name` is to pair with value to send data to server, \n",
    "- but `Button` can't provide value for that purpose."
   ]
  },
  {
   "cell_type": "markdown",
   "metadata": {},
   "source": [
    "# How to make each todo look pretty?"
   ]
  },
  {
   "cell_type": "markdown",
   "metadata": {},
   "source": [
    "# rending each todo"
   ]
  },
  {
   "cell_type": "markdown",
   "metadata": {},
   "source": [
    "## the origin of render function\n",
    "\n",
    "- basically, we define render function to render each Todo class object. \n",
    "- we pass such render function to fast_app code below\n",
    "```python\n",
    "def fast_app(...):\n",
    "\n",
    "    ...\n",
    "\n",
    "    db = database(db_file)\n",
    "    if not tbls: tbls={}\n",
    "    if kwargs:\n",
    "        if isinstance(first(kwargs.values()), dict): tbls = kwargs\n",
    "        else:\n",
    "            kwargs['render'] = render\n",
    "            tbls['items'] = kwargs\n",
    "    dbtbls = [get_tbl(db.t, k, v) for k,v in tbls.items()]\n",
    "```\n",
    "\n",
    "- then `render` is passed to `get_tbl` function as below\n",
    "\n",
    "```python\n",
    "def get_tbl(dt, nm, schema):\n",
    "    render = schema.pop('render', None)\n",
    "    tbl = dt[nm]\n",
    "    if tbl not in dt: tbl.create(**schema)\n",
    "    else: tbl.create(**schema, transform=True)\n",
    "    dc = tbl.dataclass()\n",
    "    if render: dc.__ft__ = render\n",
    "    return tbl,dc\n",
    "```\n",
    "\n",
    "`tbl.dataclass()`\n",
    "\n",
    "- Purpose: The dataclass() method automatically generates a Python dataclass based on the *schema* of the table. This dataclass includes attributes corresponding to the table's columns.\n",
    "- Functionality: The dataclass allows you to instantiate objects that represent rows in the database table. These objects can be easily manipulated in Python and then saved back to the database.\n",
    "\n",
    "`dc.__ft__ = render`\n",
    "\n",
    "- Purpose: The assignment dc.__ft__ = render attaches the custom render function to the generated dataclass.\n",
    "- Functionality: When instances of this dataclass are converted into FastHTML components (likely when rendering HTML), the render function is used. This enables customized, user-defined HTML rendering of each table row based on its data."
   ]
  },
  {
   "cell_type": "markdown",
   "metadata": {},
   "source": [
    "#### 09 render function"
   ]
  },
  {
   "cell_type": "code",
   "execution_count": 30,
   "metadata": {},
   "outputs": [
    {
     "data": {
      "text/plain": [
       "Items(id=1, title='First todo', done=1)"
      ]
     },
     "execution_count": 30,
     "metadata": {},
     "output_type": "execute_result"
    },
    {
     "data": {
      "text/markdown": [
       "```html\n",
       "<li>First todo ✅</li>\n",
       "\n",
       "```"
      ],
      "text/plain": [
       "['li', ('First todo ✅',), {}]"
      ]
     },
     "execution_count": 30,
     "metadata": {},
     "output_type": "execute_result"
    }
   ],
   "source": [
    "def render(todo):\n",
    "    return todo\n",
    "\n",
    "render(todos.get(1))\n",
    "\n",
    "def render(todo):\n",
    "    return Li(todo.title + (' ✅' if todo.done else ''))\n",
    "\n",
    "render(todos.get(1))"
   ]
  },
  {
   "cell_type": "code",
   "execution_count": 31,
   "metadata": {},
   "outputs": [
    {
     "name": "stdout",
     "output_type": "stream",
     "text": [
      "('<title>Todos</title>\\n'\n",
      " '\\n'\n",
      " '<main class=\"container\">\\n'\n",
      " '  <h1>Todos</h1>\\n'\n",
      " '  <form enctype=\"multipart/form-data\" hx-post=\"/getInputData\" '\n",
      " 'hx-swap=\"beforeend\" hx-target=\"#todo-list\">\\n'\n",
      " '    <fieldset role=\"group\">\\n'\n",
      " '      <input placeholder=\"type your todo\" name=\"title\" hx-swap-oob=\"true\" '\n",
      " 'id=\"user-input\">\\n'\n",
      " '      <button>Add</button>\\n'\n",
      " '    </fieldset>\\n'\n",
      " '  </form>\\n'\n",
      " '  <ul id=\"todo-list\">\\n'\n",
      " '    <li>me</li>\\n'\n",
      " '    <li>First todo ✅</li>\\n'\n",
      " '    <li>Second todo</li>\\n'\n",
      " '    <li>Third todo ✅</li>\\n'\n",
      " '    <li>this is one for all</li>\\n'\n",
      " '    <li>this is her</li>\\n'\n",
      " '    <li>this is me again</li>\\n'\n",
      " '    <li></li>\\n'\n",
      " '    <li></li>\\n'\n",
      " '  </ul>\\n'\n",
      " '</main>\\n')\n"
     ]
    }
   ],
   "source": [
    "from fasthtml.common import *\n",
    "\n",
    "def render(todo): # it is added to Todo class and auto render every instance of Todo\n",
    "    return Li(todo.title + (' ✅' if todo.done else ''))\n",
    "\n",
    "app, rt, todos, Todo = fast_app('todos1.db', live=True, render=render,      \n",
    "                                id=int,\n",
    "                                title=str,\n",
    "                                done=bool,\n",
    "                                pk='id')\n",
    "\n",
    "@rt('/')\n",
    "def get():\n",
    "    out = Titled(\"Todos\",\n",
    "                    Form(Group(\n",
    "                        Input(placeholder='type your todo', name='title', id='user-input', hx_swap_oob=\"true\"),\n",
    "                        Button('Add')),\n",
    "                        hx_post='/getInputData',\n",
    "                        target_id='todo-list',\n",
    "                        hx_swap='beforeend'),\n",
    "                    # Ul(*[Li(t) for t in todos()], # each todo is already rendered as a Li\n",
    "                    Ul(*todos(), # now todos() is a generator of multiple todo which auto renders as Li already\n",
    "                        id='todo-list') \n",
    "                    )\n",
    "                 \n",
    "    return out\n",
    "\n",
    "@rt('/getInputData')\n",
    "def post(todo:Todo):\n",
    "    return (todos.insert(todo), \n",
    "            Input(placeholder='add a todo here', name='title', id='user-input', hx_swap_oob=\"true\"))\n",
    "\n",
    "cli = TestClient(app)\n",
    "hxhdr = {'headers':{'hx-request':\"1\"}} # mock to remove the headers\n",
    "# pprint(cli.post('/getInputData', data={'title':'put in the end'}).text) \n",
    "pprint(cli.get('/', **hxhdr).text) # same to what displayed in the browser\n",
    "\n",
    "\n",
    "# serve()"
   ]
  },
  {
   "cell_type": "markdown",
   "metadata": {},
   "source": [
    "# Add toggle link to each todo"
   ]
  },
  {
   "cell_type": "markdown",
   "metadata": {},
   "source": [
    "#### 10.1 What does the todo with a link look like?"
   ]
  },
  {
   "cell_type": "code",
   "execution_count": 35,
   "metadata": {},
   "outputs": [
    {
     "data": {
      "text/markdown": [
       "```html\n",
       "<li>\n",
       "  <a href=\"#\">toggle</a>\n",
       "First todo ✅\n",
       "</li>\n",
       "\n",
       "```"
      ],
      "text/plain": [
       "['li', (['a', ('toggle',), {'href': '#'}], 'First todo ✅'), {}]"
      ]
     },
     "execution_count": 35,
     "metadata": {},
     "output_type": "execute_result"
    },
    {
     "data": {
      "text/html": [
       "<li>\n",
       "  <a href=\"#\">toggle</a>\n",
       "First todo ✅\n",
       "</li>\n"
      ],
      "text/plain": [
       "<IPython.core.display.HTML object>"
      ]
     },
     "execution_count": 35,
     "metadata": {},
     "output_type": "execute_result"
    }
   ],
   "source": [
    "def render(todo):\n",
    "    return Li(A('toggle'), todo.title + (' ✅' if todo.done else ''))\n",
    "\n",
    "render(todos.get(1))\n",
    "show(render(todos.get(1)))"
   ]
  },
  {
   "cell_type": "code",
   "execution_count": null,
   "metadata": {},
   "outputs": [],
   "source": [
    "from fasthtml.common import *\n",
    "\n",
    "def render(todo): # it is added to Todo class and auto render every instance of Todo\n",
    "    return Li(A('toggle'), todo.title + (' ✅' if todo.done else ''))\n",
    "\n",
    "app, rt, todos, Todo = fast_app('todos1.db', live=True, render=render,      \n",
    "                                id=int,\n",
    "                                title=str,\n",
    "                                done=bool,\n",
    "                                pk='id')\n",
    "\n",
    "@rt('/')\n",
    "def get():\n",
    "    out = Titled(\"Todos\",\n",
    "                    Form(Group(\n",
    "                        Input(placeholder='type your todo', name='title', id='user-input', hx_swap_oob=\"true\"),\n",
    "                        Button('Add')),\n",
    "                        hx_post='/getInputData',\n",
    "                        target_id='todo-list',\n",
    "                        hx_swap='beforeend'),\n",
    "                    # Ul(*[Li(t) for t in todos()], # each todo is already rendered as a Li\n",
    "                    Ul(*todos(), # now todos() is a generator of multiple todo which auto renders as Li already\n",
    "                        id='todo-list') \n",
    "                    )\n",
    "                 \n",
    "    return out\n",
    "\n",
    "@rt('/getInputData')\n",
    "def post(todo:Todo):\n",
    "    return (todos.insert(todo), \n",
    "            Input(placeholder='add a todo here', name='title', id='user-input', hx_swap_oob=\"true\"))\n",
    "\n",
    "cli = TestClient(app)\n",
    "hxhdr = {'headers':{'hx-request':\"1\"}} # mock to remove the headers\n",
    "# pprint(cli.post('/getInputData', data={'title':'put in the end'}).text) \n",
    "pprint(cli.get('/', **hxhdr).text) # same to what displayed in the browser\n",
    "\n",
    "\n",
    "# serve()"
   ]
  },
  {
   "cell_type": "markdown",
   "metadata": {},
   "source": [
    "# click the toggle link to change done  status\n",
    "\n",
    "#### what make the A tag suitable for all todos?\n",
    "\n",
    "- `hx_get=f'/todo-{todo.id}'`: an unique path using its id for each todo\n",
    "- `target_id=f'todo-{todo.id}`: give response to the todo with its unique id\n",
    "- `hx_swap='outerHTML'`: replace the entire todo with the response\n",
    "\n",
    "#### How to give each todo a unique url to call the same function?\n",
    "\n",
    "- `hx_get=f'/todo-{todo.id}'`: an unique path using its id for each todo\n",
    "- `@rt('/todo-{todoId}')`: a route to handle the unique path"
   ]
  },
  {
   "cell_type": "markdown",
   "metadata": {},
   "source": [
    "The `f'/todo-{todoId}'` syntax is used for string formatting in Python, where `todoId` is a variable that has a value. It's used when you want to include the value of `todoId` in the string.\n",
    "\n",
    "However, in the route decorator `@rt('/todo-{todoId}')`, `todoId` is not a variable with a value. Instead, it's a placeholder in the URL pattern that will be replaced by the actual value when a request is made.\n",
    "\n",
    "When you define a route like `@rt('/todo-{todoId}')`, you're telling the web framework to match any URL that follows the pattern `/todo-<some value>`, and to pass that `<some value>` as an argument to the associated function (`get` in this case).\n",
    "\n",
    "So, you don't use `f'/todo-{todoId}'` because you're not trying to include the value of `todoId` in the string. Instead, you're defining a URL pattern with a placeholder that will be filled in with the actual value when a request is made."
   ]
  },
  {
   "cell_type": "markdown",
   "metadata": {},
   "source": [
    "#### 10.2 toggle the done status"
   ]
  },
  {
   "cell_type": "code",
   "execution_count": 37,
   "metadata": {},
   "outputs": [
    {
     "name": "stdout",
     "output_type": "stream",
     "text": [
      "('<li id=\"todo-1\">\\n'\n",
      " '  <a href=\"#\" hx-get=\"/todo-1\" hx-swap=\"outerHTML\" '\n",
      " 'hx-target=\"#todo-1\">toggle</a>\\n'\n",
      " 'First todo\\n'\n",
      " '</li>\\n')\n"
     ]
    }
   ],
   "source": [
    "from fasthtml.common import *\n",
    "\n",
    "def render(todo): # it is added to Todo class and auto render every instance of Todo\n",
    "\n",
    "    return Li(A('toggle', \n",
    "                hx_get=f'/todo-{todo.id}', # give each todo a unique url for toggling\n",
    "                target_id=f'todo-{todo.id}', # give the response to one with the id\n",
    "                hx_swap='outerHTML'), # replace the whole element with the response\n",
    "              todo.title + (' ✅' if todo.done else ''),\n",
    "              id=f'todo-{todo.id}') # give each todo a unique id\n",
    "\n",
    "app, rt, todos, Todo = fast_app('todos1.db', live=True, render=render,      \n",
    "                                id=int,\n",
    "                                title=str,\n",
    "                                done=bool,\n",
    "                                pk='id')\n",
    "\n",
    "@rt('/todo-{todoId}') # why not use f'/todo-{todoId}'? how does it know todoId?\n",
    "def get(todoId:int):\n",
    "    todo = todos.get(todoId)\n",
    "    todo.done = not todo.done\n",
    "    return todos.update(todo)\n",
    "\n",
    "\n",
    "@rt('/')\n",
    "def get():\n",
    "    out = Titled(\"Todos\",\n",
    "                    Form(Group(\n",
    "                        Input(placeholder='type your todo', name='title', id='user-input', hx_swap_oob=\"true\"),\n",
    "                        Button('Add')),\n",
    "                        hx_post='/getInputData',\n",
    "                        target_id='todo-list',\n",
    "                        hx_swap='beforeend'),\n",
    "                    # Ul(*[Li(t) for t in todos()], # each todo is already rendered as a Li\n",
    "                    Ul(*todos(), # now todos() is a generator of multiple todo which auto renders as Li already\n",
    "                        id='todo-list') \n",
    "                    )\n",
    "                 \n",
    "    return out\n",
    "\n",
    "@rt('/getInputData')\n",
    "def post(todo:Todo):\n",
    "    return (todos.insert(todo), \n",
    "            Input(placeholder='add a todo here', name='title', id='user-input', hx_swap_oob=\"true\"))\n",
    "\n",
    "cli = TestClient(app)\n",
    "hxhdr = {'headers':{'hx-request':\"1\"}} # mock to remove the headers\n",
    "# pprint(cli.post('/getInputData', data={'title':'put in the end'}).text) \n",
    "pprint(cli.get('/todo-1', **hxhdr).text) # same to what displayed in the browser\n",
    "\n",
    "\n",
    "# serve()"
   ]
  },
  {
   "cell_type": "markdown",
   "metadata": {},
   "source": [
    "# add a delete link to each todo\n",
    "\n",
    "- add a simple link with 'delete' first\n",
    "- `hx_delete` to delete the todo with a unique url"
   ]
  },
  {
   "cell_type": "code",
   "execution_count": null,
   "metadata": {},
   "outputs": [],
   "source": [
    "from fasthtml.common import *\n",
    "\n",
    "def render(todo): # it is added to Todo class and auto render every instance of Todo\n",
    "\n",
    "    return Li(A('toggle', \n",
    "                hx_get=f'/todo-{todo.id}',\n",
    "                target_id=f'todo-{todo.id}', \n",
    "                hx_swap='outerHTML'), \n",
    "\n",
    "              A('delete',\n",
    "                hx_delete=f'/todo-{todo.id}', # give each todo a unique url for deleting\n",
    "                target_id=f'todo-{todo.id}', # give response to the A tag but the Li element\n",
    "                hx_swap='outerHTML', # replace the whole element with the response\n",
    "                \n",
    "                ),\n",
    "\n",
    "              todo.title + (' ✅' if todo.done else ''),\n",
    "\n",
    "              id=f'todo-{todo.id}') \n",
    "\n",
    "app, rt, todos, Todo = fast_app('todos1.db', live=True, render=render,      \n",
    "                                id=int,\n",
    "                                title=str,\n",
    "                                done=bool,\n",
    "                                pk='id')\n",
    "\n",
    "@rt('/todo-{todoId}')\n",
    "def delete(todoId:int):\n",
    "    todos.delete(todoId)\n",
    "    # return # no return is needed\n",
    "\n",
    "@rt('/todo-{todoId}') \n",
    "def get(todoId:int):\n",
    "    todo = todos.get(todoId)\n",
    "    todo.done = not todo.done\n",
    "    return todos.update(todo)\n",
    "\n",
    "\n",
    "@rt('/')\n",
    "def get():\n",
    "    out = Titled(\"Todos\",\n",
    "                    Form(Group(\n",
    "                        Input(placeholder='type your todo', name='title', id='user-input', hx_swap_oob=\"true\"),\n",
    "                        Button('Add')),\n",
    "                        hx_post='/getInputData',\n",
    "                        target_id='todo-list',\n",
    "                        hx_swap='beforeend'),\n",
    "                    # Ul(*[Li(t) for t in todos()], # each todo is already rendered as a Li\n",
    "                    Ul(*todos(), # now todos() is a generator of multiple todo which auto renders as Li already\n",
    "                        id='todo-list') \n",
    "                    )\n",
    "                 \n",
    "    return out\n",
    "\n",
    "@rt('/getInputData')\n",
    "def post(todo:Todo):\n",
    "    return (todos.insert(todo), \n",
    "            Input(placeholder='add a todo here', name='title', id='user-input', hx_swap_oob=\"true\"))\n",
    "\n",
    "cli = TestClient(app)\n",
    "hxhdr = {'headers':{'hx-request':\"1\"}} # mock to remove the headers\n",
    "# pprint(cli.post('/getInputData', data={'title':'put in the end'}).text) \n",
    "pprint(cli.get('/todo-1', **hxhdr).text) # same to what displayed in the browser\n",
    "\n",
    "\n",
    "# serve()"
   ]
  }
 ],
 "metadata": {
  "kernelspec": {
   "display_name": "base",
   "language": "python",
   "name": "python3"
  },
  "language_info": {
   "codemirror_mode": {
    "name": "ipython",
    "version": 3
   },
   "file_extension": ".py",
   "mimetype": "text/x-python",
   "name": "python",
   "nbconvert_exporter": "python",
   "pygments_lexer": "ipython3",
   "version": "3.10.14"
  }
 },
 "nbformat": 4,
 "nbformat_minor": 2
}
