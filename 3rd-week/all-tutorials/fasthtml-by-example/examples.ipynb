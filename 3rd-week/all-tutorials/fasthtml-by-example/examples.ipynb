{
 "cells": [
  {
   "cell_type": "markdown",
   "metadata": {},
   "source": [
    "# Getting started"
   ]
  },
  {
   "cell_type": "code",
   "execution_count": 3,
   "metadata": {},
   "outputs": [
    {
     "name": "stdout",
     "output_type": "stream",
     "text": [
      "'<h1>Hello, World</h1>'\n"
     ]
    }
   ],
   "source": [
    "from fasthtml import FastHTML\n",
    "from fasthtml.common import *\n",
    "from starlette.testclient import TestClient\n",
    "from pprint import pprint\n",
    "\n",
    "app = FastHTML()\n",
    "\n",
    "@app.get(\"/\")\n",
    "def home():\n",
    "    return \"<h1>Hello, World</h1>\" # text with html tags\n",
    "\n",
    "\n",
    "hxhdr = {'headers':{'hx-request':\"1\"}} # mock to remove the headers\n",
    "client = TestClient(app)\n",
    "pprint(client.get(\"/\", **hxhdr).text)\n",
    "\n",
    "\n",
    "# serve()"
   ]
  },
  {
   "cell_type": "markdown",
   "metadata": {},
   "source": [
    "# Create a html page"
   ]
  },
  {
   "cell_type": "code",
   "execution_count": 7,
   "metadata": {},
   "outputs": [
    {
     "name": "stdout",
     "output_type": "stream",
     "text": [
      "['html',\n",
      " (['head', (['title', ('Some page',), {}],), {}],\n",
      "  ['body',\n",
      "   (['div',\n",
      "     ('Some text, ',\n",
      "      ['a', ('A link',), {'href': 'https://example.com'}],\n",
      "      ['img', (), {'src': 'https://placehold.co/200'}]),\n",
      "     {'class': 'myclass'}],),\n",
      "   {}]),\n",
      " {}]\n",
      "====================\n",
      "<html>\n",
      "  <head>\n",
      "    <title>Some page</title>\n",
      "  </head>\n",
      "  <body>\n",
      "    <div class=\"myclass\">\n",
      "Some text, \n",
      "      <a href=\"https://example.com\">A link</a>\n",
      "      <img src=\"https://placehold.co/200\">\n",
      "    </div>\n",
      "  </body>\n",
      "</html>\n",
      "\n",
      "====================\n"
     ]
    },
    {
     "data": {
      "text/html": [
       "<html>\n",
       "  <head>\n",
       "    <title>Some page</title>\n",
       "  </head>\n",
       "  <body>\n",
       "    <div class=\"myclass\">\n",
       "Some text, \n",
       "      <a href=\"https://example.com\">A link</a>\n",
       "      <img src=\"https://placehold.co/200\">\n",
       "    </div>\n",
       "  </body>\n",
       "</html>\n"
      ],
      "text/plain": [
       "<IPython.core.display.HTML object>"
      ]
     },
     "execution_count": 7,
     "metadata": {},
     "output_type": "execute_result"
    }
   ],
   "source": [
    "from fasthtml.common import *\n",
    "\n",
    "page = Html(\n",
    "    Head(Title('Some page')),\n",
    "    Body(\n",
    "        Div('Some text, ', \n",
    "            A('A link', href='https://example.com'), \n",
    "            Img(src=\"https://placehold.co/200\"), \n",
    "            cls='myclass')))\n",
    "\n",
    "pprint(page) # page: is about FT\n",
    "print(\"====================\")\n",
    "print(to_xml(page)) # xml format\n",
    "print(\"====================\")\n",
    "show(page) # actual html page"
   ]
  },
  {
   "cell_type": "code",
   "execution_count": 8,
   "metadata": {},
   "outputs": [
    {
     "name": "stdout",
     "output_type": "stream",
     "text": [
      "('<div>\\n'\n",
      " '  <h1>Hello, World</h1>\\n'\n",
      " '  <p>Some text</p>\\n'\n",
      " '  <p>Some more text</p>\\n'\n",
      " '</div>\\n')\n"
     ]
    }
   ],
   "source": [
    "app = FastHTML()\n",
    "\n",
    "@app.get(\"/\")\n",
    "def home():\n",
    "    return Div(\n",
    "                H1('Hello, World'), \n",
    "                P('Some text'), \n",
    "                P('Some more text'))\n",
    "\n",
    "\n",
    "hxhdr = {'headers':{'hx-request':\"1\"}} # mock to remove the headers\n",
    "client = TestClient(app)\n",
    "pprint(client.get(\"/\", **hxhdr).text)"
   ]
  },
  {
   "cell_type": "markdown",
   "metadata": {},
   "source": [
    "# How to style"
   ]
  },
  {
   "cell_type": "code",
   "execution_count": 9,
   "metadata": {},
   "outputs": [
    {
     "name": "stdout",
     "output_type": "stream",
     "text": [
      "('<title>Hello World</title>\\n'\n",
      " '\\n'\n",
      " '<main class=\"container\">\\n'\n",
      " '  <h1>Hello, World</h1>\\n'\n",
      " '</main>\\n')\n"
     ]
    }
   ],
   "source": [
    "from fasthtml.common import *\n",
    "\n",
    "css = Style(':root { --pico-font-size: 100%; --pico-font-family: Pacifico, cursive;}')\n",
    "app = FastHTML(hdrs=(picolink, css)) # custom styling to override the pico defaults\n",
    "\n",
    "@app.route(\"/\")\n",
    "def get():\n",
    "    op1 = Title(\"Hello World\"), Main(H1('Hello, World'), cls=\"container\") \n",
    "    op2  = Titled('Hello World') #exactly the same as above, and no need to worry about cls=\"container\"\n",
    "    return op2\n",
    "\n",
    "# hxhdr = {'headers':{'hx-request':\"1\"}} # mock to remove the headers\n",
    "# client = TestClient(app)\n",
    "# pprint(client.get(\"/\", **hxhdr).text)\n",
    "\n",
    "serve()"
   ]
  },
  {
   "cell_type": "markdown",
   "metadata": {},
   "source": [
    "### `Main` and `cls=\"container\"`\n",
    "\n",
    "In HTML, the `<main>` tag is used to wrap the main content of the body of a document or an application. The content inside the `<main>` tag should be unique to the document, excluding content that is repeated across a set of documents such as site navigation links, header or footer information.\n",
    "\n",
    "When the statement says \"we put all of our content inside a `<main>` tag with a class of `container`\", it means that all the primary content of the webpage is wrapped inside a `<main>` tag. The `class=\"container\"` attribute is used to apply specific CSS styling to this `<main>` element.\n",
    "\n",
    "In many CSS frameworks like Bootstrap or PicoCSS, the `container` class is used to center the content and handle the layout in a certain way, often providing a responsive design. The exact styling applied by the `container` class can vary depending on the CSS rules defined in the linked stylesheets.\n",
    "\n",
    "In the provided Python code, `Main(H1('Hello, World'), cls=\"container\")` is creating a `<main>` HTML element with the class `container`, and inside this `<main>` element, it's placing an `<h1>` element with the text 'Hello, World'."
   ]
  },
  {
   "cell_type": "markdown",
   "metadata": {},
   "source": [
    "# Form send data without htmx\n",
    "\n",
    "## use`action='/'`, `method='POST'` for Form\n"
   ]
  },
  {
   "cell_type": "markdown",
   "metadata": {},
   "source": [
    "# How to multi-page app"
   ]
  },
  {
   "cell_type": "code",
   "execution_count": null,
   "metadata": {},
   "outputs": [],
   "source": [
    "from fasthtml.common import *\n",
    "\n",
    "app = FastHTML()\n",
    "messages = [\"This is a message, which will get rendered as a paragraph\"]\n",
    "\n",
    "@app.get(\"/\")\n",
    "def home():\n",
    "    return Main(H1('Messages'), \n",
    "                *[P(msg) for msg in messages], # spread the list of messages as P elements\n",
    "                A(\"Link to Page 2 (to add messages)\", \n",
    "                  href=\"/page2\")) # go to a new page\n",
    "\n",
    "@app.get(\"/page2\")\n",
    "def page2():\n",
    "    return Main(P(\"Add a message with the form below:\"),\n",
    "                Form(Input(type=\"text\", \n",
    "                           name=\"data\"), # create a (name:value) pair, which is \"data\":<input>\n",
    "                     Button(\"Submit\"),\n",
    "                     action=\"/\", method=\"post\"))\n",
    "\n",
    "@app.post(\"/\")\n",
    "def add_message(data:str): # here we can access the data from the form\n",
    "    messages.append(data)\n",
    "    return home()\n",
    "\n",
    "serve()"
   ]
  },
  {
   "cell_type": "markdown",
   "metadata": {},
   "source": [
    "\n",
    "# `hx_target='#count'` is the same  `target_id='count'`\n",
    "\n",
    "# `global`: how use `count` across all pages"
   ]
  },
  {
   "cell_type": "code",
   "execution_count": null,
   "metadata": {},
   "outputs": [],
   "source": [
    "from fasthtml.common import *\n",
    "\n",
    "app = FastHTML()\n",
    "\n",
    "count = 0\n",
    "\n",
    "@app.get(\"/\")\n",
    "def home():\n",
    "    return Title(\"Count Demo\"), Main(\n",
    "        H1(\"Count Demo\"),\n",
    "        P(f\"Count is set to {count}\", id=\"count\"),\n",
    "        Button(\"Increment\", \n",
    "            #    hx_get=\"/increment\", \n",
    "               hx_post=\"/increment\",\n",
    "            #    hx_target=\"#count\", \n",
    "               target_id=\"count\",\n",
    "               hx_swap=\"innerHTML\")\n",
    "    )\n",
    "\n",
    "# @app.get(\"/increment\")\n",
    "@app.post(\"/increment\")\n",
    "def increment():\n",
    "    print(\"incrementing\") # debug print into the terminal\n",
    "    global count # access the global variable count\n",
    "    count += 1\n",
    "    return f\"Count is set to {count}\" # return it as the content of the P with id \"count\"\n",
    "\n",
    "serve()"
   ]
  }
 ],
 "metadata": {
  "kernelspec": {
   "display_name": "base",
   "language": "python",
   "name": "python3"
  },
  "language_info": {
   "codemirror_mode": {
    "name": "ipython",
    "version": 3
   },
   "file_extension": ".py",
   "mimetype": "text/x-python",
   "name": "python",
   "nbconvert_exporter": "python",
   "pygments_lexer": "ipython3",
   "version": "3.10.14"
  }
 },
 "nbformat": 4,
 "nbformat_minor": 2
}
