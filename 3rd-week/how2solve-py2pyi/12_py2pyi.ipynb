{
 "cells": [
  {
   "cell_type": "code",
   "execution_count": 1,
   "id": "aee49696",
   "metadata": {},
   "outputs": [],
   "source": [
    "#| default_exp py2pyi"
   ]
  },
  {
   "cell_type": "markdown",
   "id": "83a6b2d0",
   "metadata": {},
   "source": [
    "# Create delegated pyi"
   ]
  },
  {
   "cell_type": "markdown",
   "id": "5ab07e20",
   "metadata": {},
   "source": [
    "## Setup"
   ]
  },
  {
   "cell_type": "code",
   "execution_count": 2,
   "id": "ce025c79",
   "metadata": {},
   "outputs": [],
   "source": [
    "from IPython.core.interactiveshell import InteractiveShell\n",
    "InteractiveShell.ast_node_interactivity = \"all\""
   ]
  },
  {
   "cell_type": "code",
   "execution_count": 3,
   "id": "3433906e",
   "metadata": {},
   "outputs": [],
   "source": [
    "#| export\n",
    "import ast, sys, inspect, re, os, importlib.util, importlib.machinery\n",
    "\n",
    "from ast import parse, unparse\n",
    "from inspect import signature, getsource\n",
    "from fastcore.utils import *\n",
    "from fastcore.meta import delegates"
   ]
  },
  {
   "cell_type": "markdown",
   "id": "65bfdfa1",
   "metadata": {},
   "source": [
    "## Basics"
   ]
  },
  {
   "cell_type": "code",
   "execution_count": 4,
   "id": "444ab985",
   "metadata": {},
   "outputs": [],
   "source": [
    "#| export\n",
    "def imp_mod(module_path, package=None): # convert py file to module\n",
    "    \"Import dynamically the module referenced in `fn`\"\n",
    "    module_path = str(module_path)\n",
    "    module_name = os.path.splitext(os.path.basename(module_path))[0]\n",
    "    spec = importlib.machinery.ModuleSpec(module_name, None, origin=module_path)\n",
    "    module = importlib.util.module_from_spec(spec)\n",
    "    spec.loader = importlib.machinery.SourceFileLoader(module_name, module_path)\n",
    "    if package is not None: module.__package__ = package\n",
    "    module.__file__ = os.path.abspath(module_path)\n",
    "    spec.loader.exec_module(module)\n",
    "    return module"
   ]
  },
  {
   "cell_type": "code",
   "execution_count": 5,
   "id": "92ebf6b9",
   "metadata": {},
   "outputs": [],
   "source": [
    "fn = Path('test_py2pyi.py')"
   ]
  },
  {
   "cell_type": "code",
   "execution_count": 6,
   "id": "1aa9f23f",
   "metadata": {},
   "outputs": [
    {
     "data": {
      "text/plain": [
       "<module 'test_py2pyi' (test_py2pyi.py)>"
      ]
     },
     "execution_count": 6,
     "metadata": {},
     "output_type": "execute_result"
    },
    {
     "data": {
      "text/plain": [
       "1"
      ]
     },
     "execution_count": 6,
     "metadata": {},
     "output_type": "execute_result"
    },
    {
     "data": {
      "text/plain": [
       "1"
      ]
     },
     "execution_count": 6,
     "metadata": {},
     "output_type": "execute_result"
    },
    {
     "data": {
      "text/plain": [
       "1"
      ]
     },
     "execution_count": 6,
     "metadata": {},
     "output_type": "execute_result"
    },
    {
     "data": {
      "text/plain": [
       "1"
      ]
     },
     "execution_count": 6,
     "metadata": {},
     "output_type": "execute_result"
    }
   ],
   "source": [
    "mod = imp_mod(fn) \n",
    "mod\n",
    "a = mod.A()\n",
    "a.h()\n",
    "a.k() # patch method\n",
    "a.m() # patch method\n",
    "a.n() # patch method"
   ]
  },
  {
   "cell_type": "code",
   "execution_count": 7,
   "id": "fa277c0b",
   "metadata": {},
   "outputs": [],
   "source": [
    "#| export\n",
    "def _get_tree(mod): # convert a module object to AST tree, \n",
    "    return parse(getsource(mod))"
   ]
  },
  {
   "cell_type": "code",
   "execution_count": 8,
   "id": "9751182f",
   "metadata": {},
   "outputs": [
    {
     "data": {
      "text/plain": [
       "<ast.Module at 0x11fb6f820>"
      ]
     },
     "execution_count": 8,
     "metadata": {},
     "output_type": "execute_result"
    }
   ],
   "source": [
    "tree = _get_tree(mod) # and at this point mod and tree are identical in terms of content of the source code ✨✨✨✨✨✨✨\n",
    "\n",
    "tree # at first, tree is a ast.Module object, can not be viewed properly"
   ]
  },
  {
   "cell_type": "code",
   "execution_count": 9,
   "id": "eef6adb9",
   "metadata": {},
   "outputs": [
    {
     "name": "stdout",
     "output_type": "stream",
     "text": [
      "__all__ = ['f', 'g']\n",
      "from fastcore.meta import delegates\n",
      "from fastcore.utils import patch\n",
      "\n",
      "class X(int):\n",
      "    pass\n",
      "\n",
      "def f(a: int, b: str='a') -> str:\n",
      "    \"\"\"I am f\"\"\"\n",
      "    return 1\n",
      "\n",
      "@delegates(f)\n",
      "def g(c, d: X, **kwargs) -> str:\n",
      "    \"\"\"I am g\"\"\"\n",
      "    return 2\n",
      "\n",
      "def j(c: int, d: str='a') -> str:\n",
      "    \"\"\"I am j\"\"\"\n",
      "    return 1\n",
      "\n",
      "class A:\n",
      "\n",
      "    @delegates(j)\n",
      "    def h(self, b: bool=False, **kwargs):\n",
      "        a = 1\n",
      "        return a\n",
      "\n",
      "class B:\n",
      "    ...\n",
      "\n",
      "@patch\n",
      "@delegates(j)\n",
      "def k(self: (A, B), b: bool=False, **kwargs):\n",
      "    return 1\n",
      "\n",
      "@patch\n",
      "@delegates(j)\n",
      "def m(self: A, b: bool=False, **kwargs):\n",
      "    return 1\n",
      "\n",
      "@patch\n",
      "def n(self: A, b: bool=False, **kwargs):\n",
      "    \"\"\"No delegates here mmm'k?\"\"\"\n",
      "    return 1\n"
     ]
    }
   ],
   "source": [
    "print(unparse(tree)) # to see this ast.Module object, we need to make it a string ✨✨✨✨"
   ]
  },
  {
   "cell_type": "code",
   "execution_count": 10,
   "id": "72cbc154",
   "metadata": {},
   "outputs": [],
   "source": [
    "#| export\n",
    "@patch\n",
    "def __repr__(self:ast.AST): # now, run a cell with `tree` will show the tree properly\n",
    "    return unparse(self)\n",
    "\n",
    "@patch\n",
    "def _repr_markdown_(self:ast.AST):\n",
    "    return f\"\"\"```python\n",
    "{self!r}\n",
    "```\"\"\""
   ]
  },
  {
   "cell_type": "code",
   "execution_count": 11,
   "id": "cad27ad4",
   "metadata": {},
   "outputs": [
    {
     "data": {
      "text/markdown": [
       "```python\n",
       "__all__ = ['f', 'g']\n",
       "from fastcore.meta import delegates\n",
       "from fastcore.utils import patch\n",
       "\n",
       "class X(int):\n",
       "    pass\n",
       "\n",
       "def f(a: int, b: str='a') -> str:\n",
       "    \"\"\"I am f\"\"\"\n",
       "    return 1\n",
       "\n",
       "@delegates(f)\n",
       "def g(c, d: X, **kwargs) -> str:\n",
       "    \"\"\"I am g\"\"\"\n",
       "    return 2\n",
       "\n",
       "def j(c: int, d: str='a') -> str:\n",
       "    \"\"\"I am j\"\"\"\n",
       "    return 1\n",
       "\n",
       "class A:\n",
       "\n",
       "    @delegates(j)\n",
       "    def h(self, b: bool=False, **kwargs):\n",
       "        a = 1\n",
       "        return a\n",
       "\n",
       "class B:\n",
       "    ...\n",
       "\n",
       "@patch\n",
       "@delegates(j)\n",
       "def k(self: (A, B), b: bool=False, **kwargs):\n",
       "    return 1\n",
       "\n",
       "@patch\n",
       "@delegates(j)\n",
       "def m(self: A, b: bool=False, **kwargs):\n",
       "    return 1\n",
       "\n",
       "@patch\n",
       "def n(self: A, b: bool=False, **kwargs):\n",
       "    \"\"\"No delegates here mmm'k?\"\"\"\n",
       "    return 1\n",
       "```"
      ],
      "text/plain": [
       "__all__ = ['f', 'g']\n",
       "from fastcore.meta import delegates\n",
       "from fastcore.utils import patch\n",
       "\n",
       "class X(int):\n",
       "    pass\n",
       "\n",
       "def f(a: int, b: str='a') -> str:\n",
       "    \"\"\"I am f\"\"\"\n",
       "    return 1\n",
       "\n",
       "@delegates(f)\n",
       "def g(c, d: X, **kwargs) -> str:\n",
       "    \"\"\"I am g\"\"\"\n",
       "    return 2\n",
       "\n",
       "def j(c: int, d: str='a') -> str:\n",
       "    \"\"\"I am j\"\"\"\n",
       "    return 1\n",
       "\n",
       "class A:\n",
       "\n",
       "    @delegates(j)\n",
       "    def h(self, b: bool=False, **kwargs):\n",
       "        a = 1\n",
       "        return a\n",
       "\n",
       "class B:\n",
       "    ...\n",
       "\n",
       "@patch\n",
       "@delegates(j)\n",
       "def k(self: (A, B), b: bool=False, **kwargs):\n",
       "    return 1\n",
       "\n",
       "@patch\n",
       "@delegates(j)\n",
       "def m(self: A, b: bool=False, **kwargs):\n",
       "    return 1\n",
       "\n",
       "@patch\n",
       "def n(self: A, b: bool=False, **kwargs):\n",
       "    \"\"\"No delegates here mmm'k?\"\"\"\n",
       "    return 1"
      ]
     },
     "execution_count": 11,
     "metadata": {},
     "output_type": "execute_result"
    }
   ],
   "source": [
    "tree # now, tree can be viewed properly"
   ]
  },
  {
   "cell_type": "code",
   "execution_count": 12,
   "id": "6b125ed7",
   "metadata": {},
   "outputs": [
    {
     "data": {
      "text/plain": [
       "'```python\\n__all__ = [\\'f\\', \\'g\\']\\nfrom fastcore.meta import delegates\\nfrom fastcore.utils import patch\\n\\nclass X(int):\\n    pass\\n\\ndef f(a: int, b: str=\\'a\\') -> str:\\n    \"\"\"I am f\"\"\"\\n    return 1\\n\\n@delegates(f)\\ndef g(c, d: X, **kwargs) -> str:\\n    \"\"\"I am g\"\"\"\\n    return 2\\n\\ndef j(c: int, d: str=\\'a\\') -> str:\\n    \"\"\"I am j\"\"\"\\n    return 1\\n\\nclass A:\\n\\n    @delegates(j)\\n    def h(self, b: bool=False, **kwargs):\\n        a = 1\\n        return a\\n\\nclass B:\\n    ...\\n\\n@patch\\n@delegates(j)\\ndef k(self: (A, B), b: bool=False, **kwargs):\\n    return 1\\n\\n@patch\\n@delegates(j)\\ndef m(self: A, b: bool=False, **kwargs):\\n    return 1\\n\\n@patch\\ndef n(self: A, b: bool=False, **kwargs):\\n    \"\"\"No delegates here mmm\\'k?\"\"\"\\n    return 1\\n```'"
      ]
     },
     "execution_count": 12,
     "metadata": {},
     "output_type": "execute_result"
    }
   ],
   "source": [
    "tree._repr_markdown_() "
   ]
  },
  {
   "cell_type": "code",
   "execution_count": 13,
   "id": "6a61ebb2",
   "metadata": {},
   "outputs": [
    {
     "name": "stdout",
     "output_type": "stream",
     "text": [
      "node: 0, type: <class 'ast.Assign'>\n"
     ]
    },
    {
     "data": {
      "text/markdown": [
       "```python\n",
       "__all__ = ['f', 'g']\n",
       "```"
      ],
      "text/plain": [
       "__all__ = ['f', 'g']"
      ]
     },
     "execution_count": 13,
     "metadata": {},
     "output_type": "execute_result"
    },
    {
     "name": "stdout",
     "output_type": "stream",
     "text": [
      "node: 1, type: <class 'ast.ImportFrom'>\n"
     ]
    },
    {
     "data": {
      "text/markdown": [
       "```python\n",
       "from fastcore.meta import delegates\n",
       "```"
      ],
      "text/plain": [
       "from fastcore.meta import delegates"
      ]
     },
     "execution_count": 13,
     "metadata": {},
     "output_type": "execute_result"
    },
    {
     "name": "stdout",
     "output_type": "stream",
     "text": [
      "node: 2, type: <class 'ast.ImportFrom'>\n"
     ]
    },
    {
     "data": {
      "text/markdown": [
       "```python\n",
       "from fastcore.utils import patch\n",
       "```"
      ],
      "text/plain": [
       "from fastcore.utils import patch"
      ]
     },
     "execution_count": 13,
     "metadata": {},
     "output_type": "execute_result"
    },
    {
     "name": "stdout",
     "output_type": "stream",
     "text": [
      "node: 3, type: <class 'ast.ClassDef'>\n"
     ]
    },
    {
     "data": {
      "text/markdown": [
       "```python\n",
       "class X(int):\n",
       "    pass\n",
       "```"
      ],
      "text/plain": [
       "class X(int):\n",
       "    pass"
      ]
     },
     "execution_count": 13,
     "metadata": {},
     "output_type": "execute_result"
    },
    {
     "name": "stdout",
     "output_type": "stream",
     "text": [
      "node: 4, type: <class 'ast.FunctionDef'>\n"
     ]
    },
    {
     "data": {
      "text/markdown": [
       "```python\n",
       "def f(a: int, b: str='a') -> str:\n",
       "    \"\"\"I am f\"\"\"\n",
       "    return 1\n",
       "```"
      ],
      "text/plain": [
       "def f(a: int, b: str='a') -> str:\n",
       "    \"\"\"I am f\"\"\"\n",
       "    return 1"
      ]
     },
     "execution_count": 13,
     "metadata": {},
     "output_type": "execute_result"
    },
    {
     "name": "stdout",
     "output_type": "stream",
     "text": [
      "node: 5, type: <class 'ast.FunctionDef'>\n"
     ]
    },
    {
     "data": {
      "text/markdown": [
       "```python\n",
       "@delegates(f)\n",
       "def g(c, d: X, **kwargs) -> str:\n",
       "    \"\"\"I am g\"\"\"\n",
       "    return 2\n",
       "```"
      ],
      "text/plain": [
       "@delegates(f)\n",
       "def g(c, d: X, **kwargs) -> str:\n",
       "    \"\"\"I am g\"\"\"\n",
       "    return 2"
      ]
     },
     "execution_count": 13,
     "metadata": {},
     "output_type": "execute_result"
    },
    {
     "name": "stdout",
     "output_type": "stream",
     "text": [
      "node: 6, type: <class 'ast.FunctionDef'>\n"
     ]
    },
    {
     "data": {
      "text/markdown": [
       "```python\n",
       "def j(c: int, d: str='a') -> str:\n",
       "    \"\"\"I am j\"\"\"\n",
       "    return 1\n",
       "```"
      ],
      "text/plain": [
       "def j(c: int, d: str='a') -> str:\n",
       "    \"\"\"I am j\"\"\"\n",
       "    return 1"
      ]
     },
     "execution_count": 13,
     "metadata": {},
     "output_type": "execute_result"
    },
    {
     "name": "stdout",
     "output_type": "stream",
     "text": [
      "node: 7, type: <class 'ast.ClassDef'>\n"
     ]
    },
    {
     "data": {
      "text/markdown": [
       "```python\n",
       "class A:\n",
       "\n",
       "    @delegates(j)\n",
       "    def h(self, b: bool=False, **kwargs):\n",
       "        a = 1\n",
       "        return a\n",
       "```"
      ],
      "text/plain": [
       "class A:\n",
       "\n",
       "    @delegates(j)\n",
       "    def h(self, b: bool=False, **kwargs):\n",
       "        a = 1\n",
       "        return a"
      ]
     },
     "execution_count": 13,
     "metadata": {},
     "output_type": "execute_result"
    },
    {
     "name": "stdout",
     "output_type": "stream",
     "text": [
      "node: 8, type: <class 'ast.ClassDef'>\n"
     ]
    },
    {
     "data": {
      "text/markdown": [
       "```python\n",
       "class B:\n",
       "    ...\n",
       "```"
      ],
      "text/plain": [
       "class B:\n",
       "    ..."
      ]
     },
     "execution_count": 13,
     "metadata": {},
     "output_type": "execute_result"
    },
    {
     "name": "stdout",
     "output_type": "stream",
     "text": [
      "node: 9, type: <class 'ast.FunctionDef'>\n"
     ]
    },
    {
     "data": {
      "text/markdown": [
       "```python\n",
       "@patch\n",
       "@delegates(j)\n",
       "def k(self: (A, B), b: bool=False, **kwargs):\n",
       "    return 1\n",
       "```"
      ],
      "text/plain": [
       "@patch\n",
       "@delegates(j)\n",
       "def k(self: (A, B), b: bool=False, **kwargs):\n",
       "    return 1"
      ]
     },
     "execution_count": 13,
     "metadata": {},
     "output_type": "execute_result"
    },
    {
     "name": "stdout",
     "output_type": "stream",
     "text": [
      "node: 10, type: <class 'ast.FunctionDef'>\n"
     ]
    },
    {
     "data": {
      "text/markdown": [
       "```python\n",
       "@patch\n",
       "@delegates(j)\n",
       "def m(self: A, b: bool=False, **kwargs):\n",
       "    return 1\n",
       "```"
      ],
      "text/plain": [
       "@patch\n",
       "@delegates(j)\n",
       "def m(self: A, b: bool=False, **kwargs):\n",
       "    return 1"
      ]
     },
     "execution_count": 13,
     "metadata": {},
     "output_type": "execute_result"
    },
    {
     "name": "stdout",
     "output_type": "stream",
     "text": [
      "node: 11, type: <class 'ast.FunctionDef'>\n"
     ]
    },
    {
     "data": {
      "text/markdown": [
       "```python\n",
       "@patch\n",
       "def n(self: A, b: bool=False, **kwargs):\n",
       "    \"\"\"No delegates here mmm'k?\"\"\"\n",
       "    return 1\n",
       "```"
      ],
      "text/plain": [
       "@patch\n",
       "def n(self: A, b: bool=False, **kwargs):\n",
       "    \"\"\"No delegates here mmm'k?\"\"\"\n",
       "    return 1"
      ]
     },
     "execution_count": 13,
     "metadata": {},
     "output_type": "execute_result"
    }
   ],
   "source": [
    "for idx, o in enumerate(tree.body): \n",
    "    print(f'node: {idx}, type: {type(o)}') # let check each part/node of the tree and their real types ✨✨✨✨\n",
    "    o"
   ]
  },
  {
   "cell_type": "code",
   "execution_count": 14,
   "id": "ccb83c32",
   "metadata": {},
   "outputs": [
    {
     "data": {
      "text/markdown": [
       "```python\n",
       "def f(a: int, b: str='a') -> str:\n",
       "    \"\"\"I am f\"\"\"\n",
       "    return 1\n",
       "```"
      ],
      "text/plain": [
       "def f(a: int, b: str='a') -> str:\n",
       "    \"\"\"I am f\"\"\"\n",
       "    return 1"
      ]
     },
     "execution_count": 14,
     "metadata": {},
     "output_type": "execute_result"
    }
   ],
   "source": [
    "node_func = tree.body[4] # yes, Jeremy make each item as a node ✨✨✨✨\n",
    "node_func "
   ]
  },
  {
   "cell_type": "code",
   "execution_count": 15,
   "id": "6f971f40",
   "metadata": {},
   "outputs": [],
   "source": [
    "#| export\n",
    "functypes = (ast.FunctionDef,ast.AsyncFunctionDef) # consider both normal func and async func as functypes"
   ]
  },
  {
   "cell_type": "code",
   "execution_count": 16,
   "id": "c96ad101",
   "metadata": {},
   "outputs": [
    {
     "data": {
      "text/plain": [
       "True"
      ]
     },
     "execution_count": 16,
     "metadata": {},
     "output_type": "execute_result"
    }
   ],
   "source": [
    "isinstance(node_func, functypes)"
   ]
  },
  {
   "cell_type": "code",
   "execution_count": 17,
   "id": "a137fab9",
   "metadata": {},
   "outputs": [],
   "source": [
    "#| export\n",
    "def _deco_id(d:Union[ast.Name,ast.Attribute])->bool:\n",
    "    \"Get the id for AST node `d`\"\n",
    "    return d.id if isinstance(d, ast.Name) else d.func.id\n",
    "\n",
    "def has_deco(node:Union[ast.FunctionDef,ast.AsyncFunctionDef], name:str)->bool:\n",
    "    \"Check if a function node `node` has a decorator named `name`\"\n",
    "    return any(_deco_id(d)==name for d in getattr(node, 'decorator_list', []))\n",
    "\n",
    "# check whether a decorator by its name is stored inside the node's decorator list ✨✨✨✨"
   ]
  },
  {
   "cell_type": "code",
   "execution_count": 18,
   "id": "a7dc103d",
   "metadata": {},
   "outputs": [
    {
     "data": {
      "text/plain": [
       "False"
      ]
     },
     "execution_count": 18,
     "metadata": {},
     "output_type": "execute_result"
    }
   ],
   "source": [
    "nm = 'delegates'\n",
    "has_deco(node_func, nm)"
   ]
  },
  {
   "cell_type": "code",
   "execution_count": 19,
   "id": "4e887842",
   "metadata": {},
   "outputs": [
    {
     "data": {
      "text/markdown": [
       "```python\n",
       "@delegates(f)\n",
       "def g(c, d: X, **kwargs) -> str:\n",
       "    \"\"\"I am g\"\"\"\n",
       "    return 2\n",
       "```"
      ],
      "text/plain": [
       "@delegates(f)\n",
       "def g(c, d: X, **kwargs) -> str:\n",
       "    \"\"\"I am g\"\"\"\n",
       "    return 2"
      ]
     },
     "execution_count": 19,
     "metadata": {},
     "output_type": "execute_result"
    },
    {
     "data": {
      "text/plain": [
       "True"
      ]
     },
     "execution_count": 19,
     "metadata": {},
     "output_type": "execute_result"
    }
   ],
   "source": [
    "node_del = tree.body[5]\n",
    "node_del\n",
    "nm = 'delegates'\n",
    "has_deco(node_del, nm)"
   ]
  },
  {
   "cell_type": "code",
   "execution_count": 20,
   "id": "1db360ce",
   "metadata": {},
   "outputs": [
    {
     "data": {
      "text/markdown": [
       "```python\n",
       "@patch\n",
       "@delegates(j)\n",
       "def k(self: (A, B), b: bool=False, **kwargs):\n",
       "    return 1\n",
       "```"
      ],
      "text/plain": [
       "@patch\n",
       "@delegates(j)\n",
       "def k(self: (A, B), b: bool=False, **kwargs):\n",
       "    return 1"
      ]
     },
     "execution_count": 20,
     "metadata": {},
     "output_type": "execute_result"
    },
    {
     "data": {
      "text/markdown": [
       "```python\n",
       "@patch\n",
       "@delegates(j)\n",
       "def m(self: A, b: bool=False, **kwargs):\n",
       "    return 1\n",
       "```"
      ],
      "text/plain": [
       "@patch\n",
       "@delegates(j)\n",
       "def m(self: A, b: bool=False, **kwargs):\n",
       "    return 1"
      ]
     },
     "execution_count": 20,
     "metadata": {},
     "output_type": "execute_result"
    },
    {
     "data": {
      "text/markdown": [
       "```python\n",
       "@patch\n",
       "def n(self: A, b: bool=False, **kwargs):\n",
       "    \"\"\"No delegates here mmm'k?\"\"\"\n",
       "    return 1\n",
       "```"
      ],
      "text/plain": [
       "@patch\n",
       "def n(self: A, b: bool=False, **kwargs):\n",
       "    \"\"\"No delegates here mmm'k?\"\"\"\n",
       "    return 1"
      ]
     },
     "execution_count": 20,
     "metadata": {},
     "output_type": "execute_result"
    }
   ],
   "source": [
    "node_pa = tree.body[9]\n",
    "node_pa\n",
    "node_pa2 = tree.body[10]\n",
    "node_pa3 = tree.body[11]\n",
    "node_pa2\n",
    "node_pa3"
   ]
  },
  {
   "cell_type": "code",
   "execution_count": 21,
   "id": "f78c9324",
   "metadata": {},
   "outputs": [
    {
     "data": {
      "text/plain": [
       "(True, True)"
      ]
     },
     "execution_count": 21,
     "metadata": {},
     "output_type": "execute_result"
    }
   ],
   "source": [
    "has_deco(node_del, 'delegates'), has_deco(node_pa, 'patch')"
   ]
  },
  {
   "cell_type": "code",
   "execution_count": 22,
   "id": "86eda09f",
   "metadata": {},
   "outputs": [
    {
     "data": {
      "text/markdown": [
       "```python\n",
       "from fastcore.meta import delegates\n",
       "```"
      ],
      "text/plain": [
       "from fastcore.meta import delegates"
      ]
     },
     "execution_count": 22,
     "metadata": {},
     "output_type": "execute_result"
    },
    {
     "data": {
      "text/markdown": [
       "```python\n",
       "class X(int):\n",
       "    pass\n",
       "```"
      ],
      "text/plain": [
       "class X(int):\n",
       "    pass"
      ]
     },
     "execution_count": 22,
     "metadata": {},
     "output_type": "execute_result"
    },
    {
     "data": {
      "text/markdown": [
       "```python\n",
       "class A:\n",
       "\n",
       "    @delegates(j)\n",
       "    def h(self, b: bool=False, **kwargs):\n",
       "        a = 1\n",
       "        return a\n",
       "```"
      ],
      "text/plain": [
       "class A:\n",
       "\n",
       "    @delegates(j)\n",
       "    def h(self, b: bool=False, **kwargs):\n",
       "        a = 1\n",
       "        return a"
      ]
     },
     "execution_count": 22,
     "metadata": {},
     "output_type": "execute_result"
    },
    {
     "data": {
      "text/markdown": [
       "```python\n",
       "class B:\n",
       "    ...\n",
       "```"
      ],
      "text/plain": [
       "class B:\n",
       "    ..."
      ]
     },
     "execution_count": 22,
     "metadata": {},
     "output_type": "execute_result"
    }
   ],
   "source": [
    "node_import = tree.body[1]\n",
    "node_import\n",
    "node_class = tree.body[3]\n",
    "node_class\n",
    "node_classA = tree.body[7]\n",
    "node_classB = tree.body[8]\n",
    "node_classA\n",
    "node_classB"
   ]
  },
  {
   "cell_type": "markdown",
   "id": "d3f32ec7",
   "metadata": {},
   "source": [
    "## Function processing"
   ]
  },
  {
   "cell_type": "code",
   "execution_count": 23,
   "id": "ee690f4c",
   "metadata": {},
   "outputs": [],
   "source": [
    "def _proc_body   (node, mod): print('_proc_body', type(node), node)\n",
    "def _proc_func   (node, mod): print('_proc_func', type(node), node)\n",
    "def _proc_class  (node, mod): print('_proc_class', type(node), node)\n",
    "def _proc_patched(node, mod): print('_proc_patched', type(node), node)\n",
    "\n",
    "# check each node and give proper processing function to each node ✨✨✨✨"
   ]
  },
  {
   "cell_type": "code",
   "execution_count": 24,
   "id": "3344920a",
   "metadata": {},
   "outputs": [
    {
     "name": "stdout",
     "output_type": "stream",
     "text": [
      "_proc_body <class 'ast.ImportFrom'> from fastcore.meta import delegates\n",
      "_proc_body <class 'ast.FunctionDef'> def f(a: int, b: str='a') -> str:\n",
      "    \"\"\"I am f\"\"\"\n",
      "    return 1\n",
      "_proc_func <class 'ast.FunctionDef'> @delegates(f)\n",
      "def g(c, d: X, **kwargs) -> str:\n",
      "    \"\"\"I am g\"\"\"\n",
      "    return 2\n",
      "_proc_func <class 'ast.FunctionDef'> @patch\n",
      "@delegates(j)\n",
      "def k(self: (A, B), b: bool=False, **kwargs):\n",
      "    return 1\n",
      "_proc_class <class 'ast.ClassDef'> class X(int):\n",
      "    pass\n",
      "_proc_patched <class 'ast.FunctionDef'> @patch\n",
      "@delegates(j)\n",
      "def k(self: (A, B), b: bool=False, **kwargs):\n",
      "    return 1\n"
     ]
    }
   ],
   "source": [
    "\n",
    "\n",
    "_proc_body(node_import, mod)\n",
    "_proc_body(node_func, mod)\n",
    "_proc_func(node_del, mod)\n",
    "_proc_func(node_pa, mod)\n",
    "_proc_class(node_class, mod)\n",
    "_proc_patched(node_pa, mod)"
   ]
  },
  {
   "cell_type": "code",
   "execution_count": 25,
   "id": "8fd0818d",
   "metadata": {},
   "outputs": [],
   "source": [
    "#| export\n",
    "def _get_proc(node):\n",
    "    # if node is a class type, use _proc_class\n",
    "    if isinstance(node, ast.ClassDef): return _proc_class\n",
    "    # if node is not a function type, return None\n",
    "    if not isinstance(node, functypes): return None\n",
    "    # if node has not a decorator named 'delegates', return _proc_body\n",
    "    if not has_deco(node, 'delegates'): return _proc_body\n",
    "    # if node has a decorator named 'patch', return _proc_patched\n",
    "    if has_deco(node, 'patch'): return _proc_patched\n",
    "    # all other cases, return _proc_func\n",
    "    return _proc_func"
   ]
  },
  {
   "cell_type": "code",
   "execution_count": 26,
   "id": "2991aa91",
   "metadata": {},
   "outputs": [
    {
     "data": {
      "text/plain": [
       "True"
      ]
     },
     "execution_count": 26,
     "metadata": {},
     "output_type": "execute_result"
    },
    {
     "data": {
      "text/plain": [
       "True"
      ]
     },
     "execution_count": 26,
     "metadata": {},
     "output_type": "execute_result"
    },
    {
     "data": {
      "text/plain": [
       "True"
      ]
     },
     "execution_count": 26,
     "metadata": {},
     "output_type": "execute_result"
    },
    {
     "data": {
      "text/plain": [
       "True"
      ]
     },
     "execution_count": 26,
     "metadata": {},
     "output_type": "execute_result"
    },
    {
     "data": {
      "text/plain": [
       "True"
      ]
     },
     "execution_count": 26,
     "metadata": {},
     "output_type": "execute_result"
    }
   ],
   "source": [
    "_get_proc(node_import) == None\n",
    "_get_proc(node_func) == _proc_body\n",
    "_get_proc(node_del) == _proc_func\n",
    "_get_proc(node_pa) == _proc_patched\n",
    "_get_proc(node_class) == _proc_class"
   ]
  },
  {
   "cell_type": "code",
   "execution_count": 27,
   "id": "cc1a0b3f",
   "metadata": {},
   "outputs": [],
   "source": [
    "#| export\n",
    "def _proc_tree(tree, mod):\n",
    "    for node in tree.body:\n",
    "        proc = _get_proc(node)\n",
    "        if proc: proc(node, mod) # eventually bring node of AST and mod of runtime together ✨✨✨✨\n",
    "\n",
    "# check each node of a tree and decide which processing function to use, and use it if available ✨✨✨✨"
   ]
  },
  {
   "cell_type": "code",
   "execution_count": 28,
   "id": "01816c3e",
   "metadata": {},
   "outputs": [],
   "source": [
    "#| export\n",
    "def _proc_mod(mod):\n",
    "    tree = _get_tree(mod) # get AST tree from runtime mod\n",
    "    _proc_tree(tree, mod) # check every node of the tree, run the proper proc for each node\n",
    "    return tree\n",
    "\n",
    "# turn a module object to AST tree, and check each node of the tree, decide which node get a processing function to run, and then run the proper proc for the node ✨✨✨✨\n"
   ]
  },
  {
   "cell_type": "code",
   "execution_count": 29,
   "id": "2eee5c5a",
   "metadata": {},
   "outputs": [
    {
     "name": "stdout",
     "output_type": "stream",
     "text": [
      "_proc_class <class 'ast.ClassDef'> class X(int):\n",
      "    pass\n",
      "_proc_body <class 'ast.FunctionDef'> def f(a: int, b: str='a') -> str:\n",
      "    \"\"\"I am f\"\"\"\n",
      "    return 1\n",
      "_proc_func <class 'ast.FunctionDef'> @delegates(f)\n",
      "def g(c, d: X, **kwargs) -> str:\n",
      "    \"\"\"I am g\"\"\"\n",
      "    return 2\n",
      "_proc_body <class 'ast.FunctionDef'> def j(c: int, d: str='a') -> str:\n",
      "    \"\"\"I am j\"\"\"\n",
      "    return 1\n",
      "_proc_class <class 'ast.ClassDef'> class A:\n",
      "\n",
      "    @delegates(j)\n",
      "    def h(self, b: bool=False, **kwargs):\n",
      "        a = 1\n",
      "        return a\n",
      "_proc_class <class 'ast.ClassDef'> class B:\n",
      "    ...\n",
      "_proc_patched <class 'ast.FunctionDef'> @patch\n",
      "@delegates(j)\n",
      "def k(self: (A, B), b: bool=False, **kwargs):\n",
      "    return 1\n",
      "_proc_patched <class 'ast.FunctionDef'> @patch\n",
      "@delegates(j)\n",
      "def m(self: A, b: bool=False, **kwargs):\n",
      "    return 1\n",
      "_proc_body <class 'ast.FunctionDef'> @patch\n",
      "def n(self: A, b: bool=False, **kwargs):\n",
      "    \"\"\"No delegates here mmm'k?\"\"\"\n",
      "    return 1\n"
     ]
    },
    {
     "data": {
      "text/markdown": [
       "```python\n",
       "__all__ = ['f', 'g']\n",
       "from fastcore.meta import delegates\n",
       "from fastcore.utils import patch\n",
       "\n",
       "class X(int):\n",
       "    pass\n",
       "\n",
       "def f(a: int, b: str='a') -> str:\n",
       "    \"\"\"I am f\"\"\"\n",
       "    return 1\n",
       "\n",
       "@delegates(f)\n",
       "def g(c, d: X, **kwargs) -> str:\n",
       "    \"\"\"I am g\"\"\"\n",
       "    return 2\n",
       "\n",
       "def j(c: int, d: str='a') -> str:\n",
       "    \"\"\"I am j\"\"\"\n",
       "    return 1\n",
       "\n",
       "class A:\n",
       "\n",
       "    @delegates(j)\n",
       "    def h(self, b: bool=False, **kwargs):\n",
       "        a = 1\n",
       "        return a\n",
       "\n",
       "class B:\n",
       "    ...\n",
       "\n",
       "@patch\n",
       "@delegates(j)\n",
       "def k(self: (A, B), b: bool=False, **kwargs):\n",
       "    return 1\n",
       "\n",
       "@patch\n",
       "@delegates(j)\n",
       "def m(self: A, b: bool=False, **kwargs):\n",
       "    return 1\n",
       "\n",
       "@patch\n",
       "def n(self: A, b: bool=False, **kwargs):\n",
       "    \"\"\"No delegates here mmm'k?\"\"\"\n",
       "    return 1\n",
       "```"
      ],
      "text/plain": [
       "__all__ = ['f', 'g']\n",
       "from fastcore.meta import delegates\n",
       "from fastcore.utils import patch\n",
       "\n",
       "class X(int):\n",
       "    pass\n",
       "\n",
       "def f(a: int, b: str='a') -> str:\n",
       "    \"\"\"I am f\"\"\"\n",
       "    return 1\n",
       "\n",
       "@delegates(f)\n",
       "def g(c, d: X, **kwargs) -> str:\n",
       "    \"\"\"I am g\"\"\"\n",
       "    return 2\n",
       "\n",
       "def j(c: int, d: str='a') -> str:\n",
       "    \"\"\"I am j\"\"\"\n",
       "    return 1\n",
       "\n",
       "class A:\n",
       "\n",
       "    @delegates(j)\n",
       "    def h(self, b: bool=False, **kwargs):\n",
       "        a = 1\n",
       "        return a\n",
       "\n",
       "class B:\n",
       "    ...\n",
       "\n",
       "@patch\n",
       "@delegates(j)\n",
       "def k(self: (A, B), b: bool=False, **kwargs):\n",
       "    return 1\n",
       "\n",
       "@patch\n",
       "@delegates(j)\n",
       "def m(self: A, b: bool=False, **kwargs):\n",
       "    return 1\n",
       "\n",
       "@patch\n",
       "def n(self: A, b: bool=False, **kwargs):\n",
       "    \"\"\"No delegates here mmm'k?\"\"\"\n",
       "    return 1"
      ]
     },
     "execution_count": 29,
     "metadata": {},
     "output_type": "execute_result"
    }
   ],
   "source": [
    "_proc_mod(mod)\n",
    "# as we can see below, the first 3 lines or nodes are ignored or without the processing functions ✨✨✨✨"
   ]
  },
  {
   "cell_type": "code",
   "execution_count": 30,
   "id": "e38a0d6d",
   "metadata": {},
   "outputs": [
    {
     "data": {
      "text/plain": [
       "'f'"
      ]
     },
     "execution_count": 30,
     "metadata": {},
     "output_type": "execute_result"
    },
    {
     "data": {
      "text/plain": [
       "'g'"
      ]
     },
     "execution_count": 30,
     "metadata": {},
     "output_type": "execute_result"
    },
    {
     "data": {
      "text/plain": [
       "'k'"
      ]
     },
     "execution_count": 30,
     "metadata": {},
     "output_type": "execute_result"
    },
    {
     "data": {
      "text/plain": [
       "'X'"
      ]
     },
     "execution_count": 30,
     "metadata": {},
     "output_type": "execute_result"
    },
    {
     "data": {
      "text/plain": [
       "[delegates]"
      ]
     },
     "execution_count": 30,
     "metadata": {},
     "output_type": "execute_result"
    },
    {
     "data": {
      "text/plain": [
       "'delegates'"
      ]
     },
     "execution_count": 30,
     "metadata": {},
     "output_type": "execute_result"
    }
   ],
   "source": [
    "node_func.name\n",
    "node_del.name\n",
    "node_pa.name\n",
    "node_class.name\n",
    "node_import.names \n",
    "node_import.names[0].name"
   ]
  },
  {
   "cell_type": "markdown",
   "id": "edbbc073",
   "metadata": {},
   "source": [
    "### Get symbol from module \n",
    "\n",
    "- use `mod` module object and `name` str to get symbol object from module\n",
    "- but we can't get the symbol for methods, delegates or patch, with `mod`\n",
    "- symbol (in the runtime) has more and accurate info than node (not in runtime), though both are derived from module object ✨✨✨✨✨"
   ]
  },
  {
   "cell_type": "code",
   "execution_count": 31,
   "id": "85c1187d",
   "metadata": {},
   "outputs": [
    {
     "data": {
      "text/plain": [
       "(def f(a: int, b: str='a') -> str:\n",
       "     \"\"\"I am f\"\"\"\n",
       "     return 1,\n",
       " 'f',\n",
       " <function test_py2pyi.f(a: int, b: str = 'a') -> str>)"
      ]
     },
     "execution_count": 31,
     "metadata": {},
     "output_type": "execute_result"
    },
    {
     "data": {
      "text/plain": [
       "(@delegates(f)\n",
       " def g(c, d: X, **kwargs) -> str:\n",
       "     \"\"\"I am g\"\"\"\n",
       "     return 2,\n",
       " 'g',\n",
       " <function test_py2pyi.g(c, d: test_py2pyi.X, *, b: str = 'a') -> str>)"
      ]
     },
     "execution_count": 31,
     "metadata": {},
     "output_type": "execute_result"
    },
    {
     "data": {
      "text/plain": [
       "(@patch\n",
       " @delegates(j)\n",
       " def k(self: (A, B), b: bool=False, **kwargs):\n",
       "     return 1,\n",
       " 'k',\n",
       " None)"
      ]
     },
     "execution_count": 31,
     "metadata": {},
     "output_type": "execute_result"
    },
    {
     "data": {
      "text/plain": [
       "(@patch\n",
       " @delegates(j)\n",
       " def m(self: A, b: bool=False, **kwargs):\n",
       "     return 1,\n",
       " 'm',\n",
       " None)"
      ]
     },
     "execution_count": 31,
     "metadata": {},
     "output_type": "execute_result"
    },
    {
     "data": {
      "text/plain": [
       "(@patch\n",
       " def n(self: A, b: bool=False, **kwargs):\n",
       "     \"\"\"No delegates here mmm'k?\"\"\"\n",
       "     return 1,\n",
       " 'n',\n",
       " 'ge')"
      ]
     },
     "execution_count": 31,
     "metadata": {},
     "output_type": "execute_result"
    },
    {
     "data": {
      "text/plain": [
       "(class X(int):\n",
       "     pass,\n",
       " 'X',\n",
       " test_py2pyi.X)"
      ]
     },
     "execution_count": 31,
     "metadata": {},
     "output_type": "execute_result"
    },
    {
     "data": {
      "text/plain": [
       "(class A:\n",
       " \n",
       "     @delegates(j)\n",
       "     def h(self, b: bool=False, **kwargs):\n",
       "         a = 1\n",
       "         return a,\n",
       " 'A',\n",
       " test_py2pyi.A)"
      ]
     },
     "execution_count": 31,
     "metadata": {},
     "output_type": "execute_result"
    },
    {
     "data": {
      "text/plain": [
       "(class B:\n",
       "     ...,\n",
       " 'B',\n",
       " test_py2pyi.B)"
      ]
     },
     "execution_count": 31,
     "metadata": {},
     "output_type": "execute_result"
    }
   ],
   "source": [
    "sym_f = getattr(mod, node_func.name) # sym is actually func or class like getattr(x, 'y') is to get x.y \n",
    "node_func, node_func.name, sym_f # , type(sym_f)\n",
    "\n",
    "sym_g = getattr(mod, node_del.name)\n",
    "node_del, node_del.name, sym_g\n",
    "\n",
    "sym_k = getattr(mod, node_pa.name) # 🔥🔥🔥🔥🔥 pylance's getattr can't get patch method from mod the runtime ✨✨✨✨\n",
    "node_pa, node_pa.name, sym_k\n",
    "\n",
    "sym_m = getattr(mod, node_pa2.name)\n",
    "node_pa2, node_pa2.name, sym_m\n",
    "\n",
    "sym_n = getattr(mod, node_pa3.name) # \n",
    "node_pa3, node_pa3.name, sym_n # the output of sym is \"ge\", this is very strange ✨✨✨✨ ?????\n",
    "\n",
    "sym_class = getattr(mod, node_class.name)\n",
    "node_class, node_class.name, sym_class\n",
    "\n",
    "sym_classA = getattr(mod, node_classA.name)\n",
    "node_classA, node_classA.name, sym_classA\n",
    "\n",
    "sym_classB = getattr(mod, node_classB.name)\n",
    "node_classB, node_classB.name, sym_classB # only return the function object ???? ✨✨✨✨\n"
   ]
  },
  {
   "cell_type": "markdown",
   "id": "dbfc58ac",
   "metadata": {},
   "source": [
    "but we can get symbols for methods, delegates or patch, with `mod.A` instead `mod`"
   ]
  },
  {
   "cell_type": "code",
   "execution_count": 32,
   "id": "c529826f",
   "metadata": {},
   "outputs": [
    {
     "data": {
      "text/plain": [
       "(@patch\n",
       " @delegates(j)\n",
       " def k(self: (A, B), b: bool=False, **kwargs):\n",
       "     return 1,\n",
       " 'k',\n",
       " <function test_py2pyi.A.k(self: (<class 'test_py2pyi.A'>, <class 'test_py2pyi.B'>), b: bool = False, *, d: str = 'a')>)"
      ]
     },
     "execution_count": 32,
     "metadata": {},
     "output_type": "execute_result"
    },
    {
     "data": {
      "text/plain": [
       "(@patch\n",
       " @delegates(j)\n",
       " def m(self: A, b: bool=False, **kwargs):\n",
       "     return 1,\n",
       " 'm',\n",
       " <function test_py2pyi.A.m(self: test_py2pyi.A, b: bool = False, *, d: str = 'a')>)"
      ]
     },
     "execution_count": 32,
     "metadata": {},
     "output_type": "execute_result"
    },
    {
     "data": {
      "text/plain": [
       "(@patch\n",
       " def n(self: A, b: bool=False, **kwargs):\n",
       "     \"\"\"No delegates here mmm'k?\"\"\"\n",
       "     return 1,\n",
       " 'n',\n",
       " <function test_py2pyi.A.n(self: test_py2pyi.A, b: bool = False, **kwargs)>)"
      ]
     },
     "execution_count": 32,
     "metadata": {},
     "output_type": "execute_result"
    }
   ],
   "source": [
    "# manually change `mod` to `mod.A`: disadvantage is not programmable 🔥🔥🔥🔥🔥\n",
    "sym_k = getattr(mod.A, node_pa.name) # if mod not working, how about mod.A() ✨✨✨✨ \n",
    "node_pa, node_pa.name, sym_k\n",
    "sym_m = getattr(mod.A, node_pa2.name)\n",
    "node_pa2, node_pa2.name, sym_m\n",
    "sym_n = getattr(mod.A, node_pa3.name)\n",
    "node_pa3, node_pa3.name, sym_n\n"
   ]
  },
  {
   "cell_type": "markdown",
   "id": "b2db741a",
   "metadata": {},
   "source": [
    "### to make the above mod.A to be programmable, we need sth like mod.__dict__[node_classA] ✨✨✨✨\n",
    "### please note: symbol has more accurate and more info than node "
   ]
  },
  {
   "cell_type": "code",
   "execution_count": 33,
   "id": "de1dc961",
   "metadata": {},
   "outputs": [
    {
     "data": {
      "text/plain": [
       "'A'"
      ]
     },
     "execution_count": 33,
     "metadata": {},
     "output_type": "execute_result"
    },
    {
     "data": {
      "text/plain": [
       "(@patch\n",
       " @delegates(j)\n",
       " def k(self: (A, B), b: bool=False, **kwargs):\n",
       "     return 1,\n",
       " 'k',\n",
       " <function test_py2pyi.A.k(self: (<class 'test_py2pyi.A'>, <class 'test_py2pyi.B'>), b: bool = False, *, d: str = 'a')>)"
      ]
     },
     "execution_count": 33,
     "metadata": {},
     "output_type": "execute_result"
    },
    {
     "data": {
      "text/plain": [
       "(@patch\n",
       " @delegates(j)\n",
       " def m(self: A, b: bool=False, **kwargs):\n",
       "     return 1,\n",
       " 'm',\n",
       " <function test_py2pyi.A.m(self: test_py2pyi.A, b: bool = False, *, d: str = 'a')>)"
      ]
     },
     "execution_count": 33,
     "metadata": {},
     "output_type": "execute_result"
    },
    {
     "data": {
      "text/plain": [
       "(@patch\n",
       " def n(self: A, b: bool=False, **kwargs):\n",
       "     \"\"\"No delegates here mmm'k?\"\"\"\n",
       "     return 1,\n",
       " 'n',\n",
       " <function test_py2pyi.A.n(self: test_py2pyi.A, b: bool = False, **kwargs)>)"
      ]
     },
     "execution_count": 33,
     "metadata": {},
     "output_type": "execute_result"
    }
   ],
   "source": [
    "\n",
    "\n",
    "classA_name = tree.body[7].name\n",
    "classA_name\n",
    "assert mod.A, mod.__dict__[classA_name]\n",
    "\n",
    "sym_k = getattr(mod.__dict__[classA_name], node_pa.name) # if mod not working, how about mod.A() ✨✨✨✨ \n",
    "node_pa, node_pa.name, sym_k\n",
    "sym_m = getattr(mod.__dict__[classA_name], node_pa2.name)\n",
    "node_pa2, node_pa2.name, sym_m\n",
    "sym_n = getattr(mod.__dict__[classA_name], node_pa3.name)\n",
    "node_pa3, node_pa3.name, sym_n\n",
    "\n",
    "\n",
    "#### watch out for this part, it's very important ✨✨✨✨\n",
    "# sym_class = getattr(mod.X, node_class.name)\n",
    "# node_class, node_class.name, sym_class\n",
    "\n",
    "# sym_classA = getattr(mod, node_classA.name)\n",
    "# node_classA, node_classA.name, sym_classA\n",
    "\n",
    "# sym_classB = getattr(mod, node_classB.name)\n",
    "# node_classB, node_classB.name, sym_classB\n"
   ]
  },
  {
   "cell_type": "code",
   "execution_count": 34,
   "id": "fdbbe50d",
   "metadata": {},
   "outputs": [
    {
     "name": "stdout",
     "output_type": "stream",
     "text": [
      "(a: int, b: str = 'a') -> str\n",
      "(c, d: test_py2pyi.X, *, b: str = 'a') -> str\n",
      "(self: (<class 'test_py2pyi.A'>, <class 'test_py2pyi.B'>), b: bool = False, *, d: str = 'a')\n",
      "(self: test_py2pyi.A, b: bool = False, *, d: str = 'a')\n",
      "(self: test_py2pyi.A, b: bool = False, **kwargs)\n"
     ]
    }
   ],
   "source": [
    "sig_f = signature(sym_f)\n",
    "print(sig_f)\n",
    "\n",
    "sig_g = signature(sym_g)\n",
    "print(sig_g)\n",
    "\n",
    "sig_k = signature(sym_k)\n",
    "print(sig_k)\n",
    "\n",
    "sig_m = signature(sym_m)\n",
    "print(sig_m)\n",
    "\n",
    "sig_n = signature(sym_n)\n",
    "print(sig_n)"
   ]
  },
  {
   "cell_type": "code",
   "execution_count": 35,
   "id": "936f551a",
   "metadata": {},
   "outputs": [],
   "source": [
    "#| export\n",
    "def sig2str(sig):\n",
    "    s = str(sig)\n",
    "    s = re.sub(r\"<class '(.*?)'>\", r'\\1', s)\n",
    "    s = re.sub(r\"dynamic_module\\.\", \"\", s)\n",
    "    return s"
   ]
  },
  {
   "cell_type": "code",
   "execution_count": 36,
   "id": "f63b9ecd",
   "metadata": {},
   "outputs": [],
   "source": [
    "#| export\n",
    "def ast_args(func):\n",
    "    sig = signature(func)\n",
    "    return ast.parse(f\"def _{sig2str(sig)}: ...\").body[0].args"
   ]
  },
  {
   "cell_type": "markdown",
   "id": "351832a0",
   "metadata": {},
   "source": [
    "### node vs node.args vs ast_args"
   ]
  },
  {
   "cell_type": "code",
   "execution_count": 37,
   "id": "f32e1d00",
   "metadata": {},
   "outputs": [
    {
     "data": {
      "text/plain": [
       "(def f(a: int, b: str='a') -> str:\n",
       "     \"\"\"I am f\"\"\"\n",
       "     return 1,\n",
       " a: int, b: str='a',\n",
       " a: int, b: str='a')"
      ]
     },
     "execution_count": 37,
     "metadata": {},
     "output_type": "execute_result"
    },
    {
     "data": {
      "text/plain": [
       "(@delegates(f)\n",
       " def g(c, d: X, **kwargs) -> str:\n",
       "     \"\"\"I am g\"\"\"\n",
       "     return 2,\n",
       " c, d: X, **kwargs,\n",
       " c, d: test_py2pyi.X, *, b: str='a')"
      ]
     },
     "execution_count": 37,
     "metadata": {},
     "output_type": "execute_result"
    },
    {
     "data": {
      "text/plain": [
       "(@patch\n",
       " @delegates(j)\n",
       " def k(self: (A, B), b: bool=False, **kwargs):\n",
       "     return 1,\n",
       " self: (A, B), b: bool=False, **kwargs,\n",
       " self: (test_py2pyi.A, test_py2pyi.B), b: bool=False, *, d: str='a')"
      ]
     },
     "execution_count": 37,
     "metadata": {},
     "output_type": "execute_result"
    },
    {
     "data": {
      "text/plain": [
       "(@patch\n",
       " @delegates(j)\n",
       " def m(self: A, b: bool=False, **kwargs):\n",
       "     return 1,\n",
       " self: A, b: bool=False, **kwargs,\n",
       " self: test_py2pyi.A, b: bool=False, *, d: str='a')"
      ]
     },
     "execution_count": 37,
     "metadata": {},
     "output_type": "execute_result"
    },
    {
     "data": {
      "text/plain": [
       "(@patch\n",
       " def n(self: A, b: bool=False, **kwargs):\n",
       "     \"\"\"No delegates here mmm'k?\"\"\"\n",
       "     return 1,\n",
       " self: A, b: bool=False, **kwargs,\n",
       " self: test_py2pyi.A, b: bool=False, **kwargs)"
      ]
     },
     "execution_count": 37,
     "metadata": {},
     "output_type": "execute_result"
    }
   ],
   "source": [
    "node_func, node_func.args, ast_args(sym_f) # same\n",
    "node_del, node_del.args, ast_args(sym_g) # symbol show advanced type hinting\n",
    "\n",
    "node_pa, node_pa.args, ast_args(sym_k) # symbol show advanced type hinting\n",
    "node_pa2, node_pa2.args, ast_args(sym_m) # symbol show advanced type hinting\n",
    "node_pa3, node_pa3.args, ast_args(sym_n)\n"
   ]
  },
  {
   "cell_type": "markdown",
   "id": "a50beca5",
   "metadata": {},
   "source": [
    "### `_body_ellip`: keep node's docstring and remove its content"
   ]
  },
  {
   "cell_type": "code",
   "execution_count": 38,
   "id": "c7e1ee39",
   "metadata": {},
   "outputs": [],
   "source": [
    "#| export\n",
    "def _body_ellip(n: ast.AST): # only accept AST node\n",
    "    # keep the docstring if it's available\n",
    "    stidx = 1 if isinstance(n.body[0], ast.Expr) and isinstance(n.body[0].value, ast.Str) else 0\n",
    "    # replace the body with ...\n",
    "    n.body[stidx:] = [ast.Expr(ast.Constant(...))]"
   ]
  },
  {
   "cell_type": "code",
   "execution_count": 39,
   "id": "e47bfb08",
   "metadata": {},
   "outputs": [
    {
     "data": {
      "text/markdown": [
       "```python\n",
       "def f(a: int, b: str='a') -> str:\n",
       "    \"\"\"I am f\"\"\"\n",
       "    return 1\n",
       "```"
      ],
      "text/plain": [
       "def f(a: int, b: str='a') -> str:\n",
       "    \"\"\"I am f\"\"\"\n",
       "    return 1"
      ]
     },
     "execution_count": 39,
     "metadata": {},
     "output_type": "execute_result"
    },
    {
     "data": {
      "text/markdown": [
       "```python\n",
       "def f(a: int, b: str='a') -> str:\n",
       "    \"\"\"I am f\"\"\"\n",
       "    ...\n",
       "```"
      ],
      "text/plain": [
       "def f(a: int, b: str='a') -> str:\n",
       "    \"\"\"I am f\"\"\"\n",
       "    ..."
      ]
     },
     "execution_count": 39,
     "metadata": {},
     "output_type": "execute_result"
    }
   ],
   "source": [
    "node_func\n",
    "_body_ellip(node_func)\n",
    "node_func"
   ]
  },
  {
   "cell_type": "markdown",
   "id": "868b91a5",
   "metadata": {},
   "source": [
    "### `_update_func`: update each func/node \n",
    "- give advanced hinting symbols to each node\n",
    "- keep docstring and remove body content\n",
    "- remove delegates from decorator list for the node"
   ]
  },
  {
   "cell_type": "code",
   "execution_count": 40,
   "id": "078175ed",
   "metadata": {},
   "outputs": [
    {
     "data": {
      "text/plain": [
       "[]"
      ]
     },
     "execution_count": 40,
     "metadata": {},
     "output_type": "execute_result"
    },
    {
     "data": {
      "text/plain": [
       "[]"
      ]
     },
     "execution_count": 40,
     "metadata": {},
     "output_type": "execute_result"
    },
    {
     "data": {
      "text/plain": [
       "[delegates(f)]"
      ]
     },
     "execution_count": 40,
     "metadata": {},
     "output_type": "execute_result"
    },
    {
     "data": {
      "text/plain": [
       "[patch, delegates(j)]"
      ]
     },
     "execution_count": 40,
     "metadata": {},
     "output_type": "execute_result"
    },
    {
     "data": {
      "text/plain": [
       "[patch, delegates(j)]"
      ]
     },
     "execution_count": 40,
     "metadata": {},
     "output_type": "execute_result"
    },
    {
     "data": {
      "text/plain": [
       "[patch]"
      ]
     },
     "execution_count": 40,
     "metadata": {},
     "output_type": "execute_result"
    }
   ],
   "source": [
    "node_func.decorator_list # each node of AST keeps a decorator_list ✨✨✨✨\n",
    "node_class.decorator_list\n",
    "node_del.decorator_list\n",
    "node_pa.decorator_list\n",
    "node_pa2.decorator_list\n",
    "node_pa3.decorator_list"
   ]
  },
  {
   "cell_type": "code",
   "execution_count": 41,
   "id": "741c3d0b",
   "metadata": {},
   "outputs": [],
   "source": [
    "#| export\n",
    "def _update_func(node, sym):\n",
    "    \"\"\"Replace the parameter list of the source code of a function `f` with a different signature.\n",
    "    Replace the body of the function with just `pass`, and remove any decorators named 'delegates'\"\"\"\n",
    "    # give args in the form of mod to node of AST\n",
    "    node.args = ast_args(sym)\n",
    "    # keep the node's doc and replace body with ...\n",
    "    _body_ellip(node)\n",
    "    # remove delegates decorator from the node's decorator list\n",
    "    node.decorator_list = [d for d in node.decorator_list if _deco_id(d) != 'delegates']"
   ]
  },
  {
   "cell_type": "code",
   "execution_count": 42,
   "id": "accead33",
   "metadata": {},
   "outputs": [
    {
     "data": {
      "text/markdown": [
       "```python\n",
       "def f(a: int, b: str='a') -> str:\n",
       "    \"\"\"I am f\"\"\"\n",
       "    ...\n",
       "```"
      ],
      "text/plain": [
       "def f(a: int, b: str='a') -> str:\n",
       "    \"\"\"I am f\"\"\"\n",
       "    ..."
      ]
     },
     "execution_count": 42,
     "metadata": {},
     "output_type": "execute_result"
    },
    {
     "data": {
      "text/markdown": [
       "```python\n",
       "def f(a: int, b: str='a') -> str:\n",
       "    \"\"\"I am f\"\"\"\n",
       "    ...\n",
       "```"
      ],
      "text/plain": [
       "def f(a: int, b: str='a') -> str:\n",
       "    \"\"\"I am f\"\"\"\n",
       "    ..."
      ]
     },
     "execution_count": 42,
     "metadata": {},
     "output_type": "execute_result"
    },
    {
     "data": {
      "text/markdown": [
       "```python\n",
       "@delegates(f)\n",
       "def g(c, d: X, **kwargs) -> str:\n",
       "    \"\"\"I am g\"\"\"\n",
       "    return 2\n",
       "```"
      ],
      "text/plain": [
       "@delegates(f)\n",
       "def g(c, d: X, **kwargs) -> str:\n",
       "    \"\"\"I am g\"\"\"\n",
       "    return 2"
      ]
     },
     "execution_count": 42,
     "metadata": {},
     "output_type": "execute_result"
    },
    {
     "data": {
      "text/markdown": [
       "```python\n",
       "def g(c, d: test_py2pyi.X, *, b: str='a') -> str:\n",
       "    \"\"\"I am g\"\"\"\n",
       "    ...\n",
       "```"
      ],
      "text/plain": [
       "def g(c, d: test_py2pyi.X, *, b: str='a') -> str:\n",
       "    \"\"\"I am g\"\"\"\n",
       "    ..."
      ]
     },
     "execution_count": 42,
     "metadata": {},
     "output_type": "execute_result"
    },
    {
     "data": {
      "text/markdown": [
       "```python\n",
       "@patch\n",
       "@delegates(j)\n",
       "def k(self: (A, B), b: bool=False, **kwargs):\n",
       "    return 1\n",
       "```"
      ],
      "text/plain": [
       "@patch\n",
       "@delegates(j)\n",
       "def k(self: (A, B), b: bool=False, **kwargs):\n",
       "    return 1"
      ]
     },
     "execution_count": 42,
     "metadata": {},
     "output_type": "execute_result"
    },
    {
     "data": {
      "text/markdown": [
       "```python\n",
       "@patch\n",
       "def k(self: (test_py2pyi.A, test_py2pyi.B), b: bool=False, *, d: str='a'):\n",
       "    ...\n",
       "```"
      ],
      "text/plain": [
       "@patch\n",
       "def k(self: (test_py2pyi.A, test_py2pyi.B), b: bool=False, *, d: str='a'):\n",
       "    ..."
      ]
     },
     "execution_count": 42,
     "metadata": {},
     "output_type": "execute_result"
    },
    {
     "data": {
      "text/markdown": [
       "```python\n",
       "@patch\n",
       "@delegates(j)\n",
       "def m(self: A, b: bool=False, **kwargs):\n",
       "    return 1\n",
       "```"
      ],
      "text/plain": [
       "@patch\n",
       "@delegates(j)\n",
       "def m(self: A, b: bool=False, **kwargs):\n",
       "    return 1"
      ]
     },
     "execution_count": 42,
     "metadata": {},
     "output_type": "execute_result"
    },
    {
     "data": {
      "text/markdown": [
       "```python\n",
       "@patch\n",
       "def m(self: test_py2pyi.A, b: bool=False, *, d: str='a'):\n",
       "    ...\n",
       "```"
      ],
      "text/plain": [
       "@patch\n",
       "def m(self: test_py2pyi.A, b: bool=False, *, d: str='a'):\n",
       "    ..."
      ]
     },
     "execution_count": 42,
     "metadata": {},
     "output_type": "execute_result"
    },
    {
     "data": {
      "text/markdown": [
       "```python\n",
       "@patch\n",
       "def n(self: A, b: bool=False, **kwargs):\n",
       "    \"\"\"No delegates here mmm'k?\"\"\"\n",
       "    return 1\n",
       "```"
      ],
      "text/plain": [
       "@patch\n",
       "def n(self: A, b: bool=False, **kwargs):\n",
       "    \"\"\"No delegates here mmm'k?\"\"\"\n",
       "    return 1"
      ]
     },
     "execution_count": 42,
     "metadata": {},
     "output_type": "execute_result"
    },
    {
     "data": {
      "text/markdown": [
       "```python\n",
       "@patch\n",
       "def n(self: test_py2pyi.A, b: bool=False, **kwargs):\n",
       "    \"\"\"No delegates here mmm'k?\"\"\"\n",
       "    ...\n",
       "```"
      ],
      "text/plain": [
       "@patch\n",
       "def n(self: test_py2pyi.A, b: bool=False, **kwargs):\n",
       "    \"\"\"No delegates here mmm'k?\"\"\"\n",
       "    ..."
      ]
     },
     "execution_count": 42,
     "metadata": {},
     "output_type": "execute_result"
    }
   ],
   "source": [
    "node_func\n",
    "_update_func(node_func, sym_f)\n",
    "node_func\n",
    "\n",
    "# node_class.decorator_list ## to watch out for this part ✨✨✨✨\n",
    "# _update_func(node_class, sym_class)\n",
    "\n",
    "\n",
    "node_del\n",
    "_update_func(node_del, sym_g)\n",
    "node_del\n",
    "\n",
    "node_pa\n",
    "_update_func(node_pa, sym_k)\n",
    "node_pa\n",
    "\n",
    "node_pa2\n",
    "_update_func(node_pa2, sym_m)\n",
    "node_pa2\n",
    "\n",
    "node_pa3\n",
    "_update_func(node_pa3, sym_n)\n",
    "node_pa3"
   ]
  },
  {
   "cell_type": "markdown",
   "id": "fb11ea5a",
   "metadata": {},
   "source": [
    "### update all the processing functions"
   ]
  },
  {
   "cell_type": "code",
   "execution_count": 43,
   "id": "77c148b5",
   "metadata": {},
   "outputs": [],
   "source": [
    "#| export\n",
    "def _proc_body(node, mod): _body_ellip(node)\n",
    "# update _proc_body with _body_ellip ✨✨✨✨\n",
    "# keep doc and replace body of the node with ..."
   ]
  },
  {
   "cell_type": "code",
   "execution_count": 44,
   "id": "20a4bd05",
   "metadata": {},
   "outputs": [],
   "source": [
    "#| export\n",
    "def _proc_func(node, mod): \n",
    "    sym = getattr(mod, node.name)\n",
    "    _update_func(node, sym)\n",
    "\n",
    "# update _proc_func with _update_func ✨✨✨✨\n",
    "# to all normal functions and async functions\n",
    "# - update advanced type hinting\n",
    "# - keep doc and replace body of the node with ...\n",
    "# - remove delegates decorator from the node's decorator list"
   ]
  },
  {
   "cell_type": "code",
   "execution_count": 45,
   "id": "66ab006c",
   "metadata": {},
   "outputs": [
    {
     "name": "stdout",
     "output_type": "stream",
     "text": [
      "\u001b[0;31mSignature:\u001b[0m \u001b[0m_proc_mod\u001b[0m\u001b[0;34m(\u001b[0m\u001b[0mmod\u001b[0m\u001b[0;34m)\u001b[0m\u001b[0;34m\u001b[0m\u001b[0;34m\u001b[0m\u001b[0m\n",
      "\u001b[0;31mDocstring:\u001b[0m <no docstring>\n",
      "\u001b[0;31mSource:\u001b[0m   \n",
      "\u001b[0;32mdef\u001b[0m \u001b[0m_proc_mod\u001b[0m\u001b[0;34m(\u001b[0m\u001b[0mmod\u001b[0m\u001b[0;34m)\u001b[0m\u001b[0;34m:\u001b[0m\u001b[0;34m\u001b[0m\n",
      "\u001b[0;34m\u001b[0m    \u001b[0mtree\u001b[0m \u001b[0;34m=\u001b[0m \u001b[0m_get_tree\u001b[0m\u001b[0;34m(\u001b[0m\u001b[0mmod\u001b[0m\u001b[0;34m)\u001b[0m \u001b[0;31m# get AST tree from runtime mod\u001b[0m\u001b[0;34m\u001b[0m\n",
      "\u001b[0;34m\u001b[0m    \u001b[0m_proc_tree\u001b[0m\u001b[0;34m(\u001b[0m\u001b[0mtree\u001b[0m\u001b[0;34m,\u001b[0m \u001b[0mmod\u001b[0m\u001b[0;34m)\u001b[0m \u001b[0;31m# check every node of the tree, run the proper proc for each node\u001b[0m\u001b[0;34m\u001b[0m\n",
      "\u001b[0;34m\u001b[0m    \u001b[0;32mreturn\u001b[0m \u001b[0mtree\u001b[0m\u001b[0;34m\u001b[0m\u001b[0;34m\u001b[0m\u001b[0m\n",
      "\u001b[0;31mFile:\u001b[0m      /var/folders/gz/ch3n2mp51m9386sytqf97s6w0000gn/T/ipykernel_72664/1865813169.py\n",
      "\u001b[0;31mType:\u001b[0m      function"
     ]
    }
   ],
   "source": [
    "_proc_mod??\n"
   ]
  },
  {
   "cell_type": "code",
   "execution_count": 46,
   "id": "50cf5fff",
   "metadata": {},
   "outputs": [
    {
     "name": "stdout",
     "output_type": "stream",
     "text": [
      "\u001b[0;31mSignature:\u001b[0m \u001b[0m_proc_tree\u001b[0m\u001b[0;34m(\u001b[0m\u001b[0mtree\u001b[0m\u001b[0;34m,\u001b[0m \u001b[0mmod\u001b[0m\u001b[0;34m)\u001b[0m\u001b[0;34m\u001b[0m\u001b[0;34m\u001b[0m\u001b[0m\n",
      "\u001b[0;31mDocstring:\u001b[0m <no docstring>\n",
      "\u001b[0;31mSource:\u001b[0m   \n",
      "\u001b[0;32mdef\u001b[0m \u001b[0m_proc_tree\u001b[0m\u001b[0;34m(\u001b[0m\u001b[0mtree\u001b[0m\u001b[0;34m,\u001b[0m \u001b[0mmod\u001b[0m\u001b[0;34m)\u001b[0m\u001b[0;34m:\u001b[0m\u001b[0;34m\u001b[0m\n",
      "\u001b[0;34m\u001b[0m    \u001b[0;32mfor\u001b[0m \u001b[0mnode\u001b[0m \u001b[0;32min\u001b[0m \u001b[0mtree\u001b[0m\u001b[0;34m.\u001b[0m\u001b[0mbody\u001b[0m\u001b[0;34m:\u001b[0m\u001b[0;34m\u001b[0m\n",
      "\u001b[0;34m\u001b[0m        \u001b[0mproc\u001b[0m \u001b[0;34m=\u001b[0m \u001b[0m_get_proc\u001b[0m\u001b[0;34m(\u001b[0m\u001b[0mnode\u001b[0m\u001b[0;34m)\u001b[0m\u001b[0;34m\u001b[0m\n",
      "\u001b[0;34m\u001b[0m        \u001b[0;32mif\u001b[0m \u001b[0mproc\u001b[0m\u001b[0;34m:\u001b[0m \u001b[0mproc\u001b[0m\u001b[0;34m(\u001b[0m\u001b[0mnode\u001b[0m\u001b[0;34m,\u001b[0m \u001b[0mmod\u001b[0m\u001b[0;34m)\u001b[0m \u001b[0;31m# eventually bring node of AST and mod of runtime together ✨✨✨✨\u001b[0m\u001b[0;34m\u001b[0m\u001b[0;34m\u001b[0m\u001b[0m\n",
      "\u001b[0;31mFile:\u001b[0m      /var/folders/gz/ch3n2mp51m9386sytqf97s6w0000gn/T/ipykernel_72664/3378100334.py\n",
      "\u001b[0;31mType:\u001b[0m      function"
     ]
    }
   ],
   "source": [
    "_proc_tree??"
   ]
  },
  {
   "cell_type": "code",
   "execution_count": 47,
   "id": "47473351",
   "metadata": {},
   "outputs": [
    {
     "data": {
      "text/markdown": [
       "```python\n",
       "__all__ = ['f', 'g']\n",
       "from fastcore.meta import delegates\n",
       "from fastcore.utils import patch\n",
       "\n",
       "class X(int):\n",
       "    pass\n",
       "\n",
       "def f(a: int, b: str='a') -> str:\n",
       "    \"\"\"I am f\"\"\"\n",
       "    return 1\n",
       "\n",
       "@delegates(f)\n",
       "def g(c, d: X, **kwargs) -> str:\n",
       "    \"\"\"I am g\"\"\"\n",
       "    return 2\n",
       "\n",
       "def j(c: int, d: str='a') -> str:\n",
       "    \"\"\"I am j\"\"\"\n",
       "    return 1\n",
       "\n",
       "class A:\n",
       "\n",
       "    @delegates(j)\n",
       "    def h(self, b: bool=False, **kwargs):\n",
       "        a = 1\n",
       "        return a\n",
       "\n",
       "class B:\n",
       "    ...\n",
       "\n",
       "@patch\n",
       "@delegates(j)\n",
       "def k(self: (A, B), b: bool=False, **kwargs):\n",
       "    return 1\n",
       "\n",
       "@patch\n",
       "@delegates(j)\n",
       "def m(self: A, b: bool=False, **kwargs):\n",
       "    return 1\n",
       "\n",
       "@patch\n",
       "def n(self: A, b: bool=False, **kwargs):\n",
       "    \"\"\"No delegates here mmm'k?\"\"\"\n",
       "    return 1\n",
       "```"
      ],
      "text/plain": [
       "__all__ = ['f', 'g']\n",
       "from fastcore.meta import delegates\n",
       "from fastcore.utils import patch\n",
       "\n",
       "class X(int):\n",
       "    pass\n",
       "\n",
       "def f(a: int, b: str='a') -> str:\n",
       "    \"\"\"I am f\"\"\"\n",
       "    return 1\n",
       "\n",
       "@delegates(f)\n",
       "def g(c, d: X, **kwargs) -> str:\n",
       "    \"\"\"I am g\"\"\"\n",
       "    return 2\n",
       "\n",
       "def j(c: int, d: str='a') -> str:\n",
       "    \"\"\"I am j\"\"\"\n",
       "    return 1\n",
       "\n",
       "class A:\n",
       "\n",
       "    @delegates(j)\n",
       "    def h(self, b: bool=False, **kwargs):\n",
       "        a = 1\n",
       "        return a\n",
       "\n",
       "class B:\n",
       "    ...\n",
       "\n",
       "@patch\n",
       "@delegates(j)\n",
       "def k(self: (A, B), b: bool=False, **kwargs):\n",
       "    return 1\n",
       "\n",
       "@patch\n",
       "@delegates(j)\n",
       "def m(self: A, b: bool=False, **kwargs):\n",
       "    return 1\n",
       "\n",
       "@patch\n",
       "def n(self: A, b: bool=False, **kwargs):\n",
       "    \"\"\"No delegates here mmm'k?\"\"\"\n",
       "    return 1"
      ]
     },
     "execution_count": 47,
     "metadata": {},
     "output_type": "execute_result"
    },
    {
     "data": {
      "text/markdown": [
       "```python\n",
       "def f(a: int, b: str='a') -> str:\n",
       "    \"\"\"I am f\"\"\"\n",
       "    return 1\n",
       "```"
      ],
      "text/plain": [
       "def f(a: int, b: str='a') -> str:\n",
       "    \"\"\"I am f\"\"\"\n",
       "    return 1"
      ]
     },
     "execution_count": 47,
     "metadata": {},
     "output_type": "execute_result"
    },
    {
     "name": "stdout",
     "output_type": "stream",
     "text": [
      "_proc_class <class 'ast.ClassDef'> class X(int):\n",
      "    pass\n",
      "_proc_class <class 'ast.ClassDef'> class A:\n",
      "\n",
      "    @delegates(j)\n",
      "    def h(self, b: bool=False, **kwargs):\n",
      "        a = 1\n",
      "        return a\n",
      "_proc_class <class 'ast.ClassDef'> class B:\n",
      "    ...\n",
      "_proc_patched <class 'ast.FunctionDef'> @patch\n",
      "@delegates(j)\n",
      "def k(self: (A, B), b: bool=False, **kwargs):\n",
      "    return 1\n",
      "_proc_patched <class 'ast.FunctionDef'> @patch\n",
      "@delegates(j)\n",
      "def m(self: A, b: bool=False, **kwargs):\n",
      "    return 1\n"
     ]
    },
    {
     "data": {
      "text/markdown": [
       "```python\n",
       "def f(a: int, b: str='a') -> str:\n",
       "    \"\"\"I am f\"\"\"\n",
       "    ...\n",
       "```"
      ],
      "text/plain": [
       "def f(a: int, b: str='a') -> str:\n",
       "    \"\"\"I am f\"\"\"\n",
       "    ..."
      ]
     },
     "execution_count": 47,
     "metadata": {},
     "output_type": "execute_result"
    }
   ],
   "source": [
    "tree = _get_tree(mod)\n",
    "tree\n",
    "tree.body[4] # normal func without delegates or patch decorator\n",
    "tree = _proc_mod(mod)\n",
    "tree.body[4]"
   ]
  },
  {
   "cell_type": "markdown",
   "id": "f8ed1c88",
   "metadata": {},
   "source": [
    "## Patch"
   ]
  },
  {
   "cell_type": "code",
   "execution_count": 48,
   "id": "13193ab0",
   "metadata": {},
   "outputs": [
    {
     "data": {
      "text/markdown": [
       "```python\n",
       "__all__ = ['f', 'g']\n",
       "from fastcore.meta import delegates\n",
       "from fastcore.utils import patch\n",
       "\n",
       "class X(int):\n",
       "    pass\n",
       "\n",
       "def f(a: int, b: str='a') -> str:\n",
       "    \"\"\"I am f\"\"\"\n",
       "    ...\n",
       "\n",
       "def g(c, d: test_py2pyi.X, *, b: str='a') -> str:\n",
       "    \"\"\"I am g\"\"\"\n",
       "    ...\n",
       "\n",
       "def j(c: int, d: str='a') -> str:\n",
       "    \"\"\"I am j\"\"\"\n",
       "    ...\n",
       "\n",
       "class A:\n",
       "\n",
       "    @delegates(j)\n",
       "    def h(self, b: bool=False, **kwargs):\n",
       "        a = 1\n",
       "        return a\n",
       "\n",
       "class B:\n",
       "    ...\n",
       "\n",
       "@patch\n",
       "@delegates(j)\n",
       "def k(self: (A, B), b: bool=False, **kwargs):\n",
       "    return 1\n",
       "\n",
       "@patch\n",
       "@delegates(j)\n",
       "def m(self: A, b: bool=False, **kwargs):\n",
       "    return 1\n",
       "\n",
       "@patch\n",
       "def n(self: A, b: bool=False, **kwargs):\n",
       "    \"\"\"No delegates here mmm'k?\"\"\"\n",
       "    ...\n",
       "```"
      ],
      "text/plain": [
       "__all__ = ['f', 'g']\n",
       "from fastcore.meta import delegates\n",
       "from fastcore.utils import patch\n",
       "\n",
       "class X(int):\n",
       "    pass\n",
       "\n",
       "def f(a: int, b: str='a') -> str:\n",
       "    \"\"\"I am f\"\"\"\n",
       "    ...\n",
       "\n",
       "def g(c, d: test_py2pyi.X, *, b: str='a') -> str:\n",
       "    \"\"\"I am g\"\"\"\n",
       "    ...\n",
       "\n",
       "def j(c: int, d: str='a') -> str:\n",
       "    \"\"\"I am j\"\"\"\n",
       "    ...\n",
       "\n",
       "class A:\n",
       "\n",
       "    @delegates(j)\n",
       "    def h(self, b: bool=False, **kwargs):\n",
       "        a = 1\n",
       "        return a\n",
       "\n",
       "class B:\n",
       "    ...\n",
       "\n",
       "@patch\n",
       "@delegates(j)\n",
       "def k(self: (A, B), b: bool=False, **kwargs):\n",
       "    return 1\n",
       "\n",
       "@patch\n",
       "@delegates(j)\n",
       "def m(self: A, b: bool=False, **kwargs):\n",
       "    return 1\n",
       "\n",
       "@patch\n",
       "def n(self: A, b: bool=False, **kwargs):\n",
       "    \"\"\"No delegates here mmm'k?\"\"\"\n",
       "    ..."
      ]
     },
     "execution_count": 48,
     "metadata": {},
     "output_type": "execute_result"
    }
   ],
   "source": [
    "tree"
   ]
  },
  {
   "cell_type": "code",
   "execution_count": 49,
   "id": "3e8f3835",
   "metadata": {},
   "outputs": [
    {
     "data": {
      "text/markdown": [
       "```python\n",
       "@patch\n",
       "@delegates(j)\n",
       "def k(self: (A, B), b: bool=False, **kwargs):\n",
       "    return 1\n",
       "```"
      ],
      "text/plain": [
       "@patch\n",
       "@delegates(j)\n",
       "def k(self: (A, B), b: bool=False, **kwargs):\n",
       "    return 1"
      ]
     },
     "execution_count": 49,
     "metadata": {},
     "output_type": "execute_result"
    },
    {
     "data": {
      "text/plain": [
       "('mod.k: ', None)"
      ]
     },
     "execution_count": 49,
     "metadata": {},
     "output_type": "execute_result"
    },
    {
     "data": {
      "text/plain": [
       "<function test_py2pyi.A.k(self: (<class 'test_py2pyi.A'>, <class 'test_py2pyi.B'>), b: bool = False, *, d: str = 'a')>"
      ]
     },
     "execution_count": 49,
     "metadata": {},
     "output_type": "execute_result"
    },
    {
     "data": {
      "text/plain": [
       "(self: (A, B), b: bool=False, **kwargs,\n",
       " self: (test_py2pyi.A, test_py2pyi.B), b: bool=False, *, d: str='a')"
      ]
     },
     "execution_count": 49,
     "metadata": {},
     "output_type": "execute_result"
    }
   ],
   "source": [
    "node = tree.body[9]\n",
    "node\n",
    "# but how to extract class A's name programmatically ✨✨✨✨ (see next cell)\n",
    "\"mod.k: \", getattr(mod, node.name)\n",
    "sym = getattr(mod.__dict__[\"A\"], node.name)\n",
    "sym\n",
    "node.args, ast_args(sym)"
   ]
  },
  {
   "cell_type": "code",
   "execution_count": 50,
   "id": "a9ff7554",
   "metadata": {},
   "outputs": [
    {
     "data": {
      "text/plain": [
       "(self: (A, B), b: bool=False, **kwargs, ast.arguments)"
      ]
     },
     "execution_count": 50,
     "metadata": {},
     "output_type": "execute_result"
    },
    {
     "data": {
      "text/plain": [
       "([self: (A, B), b: bool], list)"
      ]
     },
     "execution_count": 50,
     "metadata": {},
     "output_type": "execute_result"
    },
    {
     "data": {
      "text/markdown": [
       "```python\n",
       "self: (A, B)\n",
       "```"
      ],
      "text/plain": [
       "self: (A, B)"
      ]
     },
     "execution_count": 50,
     "metadata": {},
     "output_type": "execute_result"
    },
    {
     "data": {
      "text/markdown": [
       "```python\n",
       "(A, B)\n",
       "```"
      ],
      "text/plain": [
       "(A, B)"
      ]
     },
     "execution_count": 50,
     "metadata": {},
     "output_type": "execute_result"
    },
    {
     "data": {
      "text/plain": [
       "[A, B]"
      ]
     },
     "execution_count": 50,
     "metadata": {},
     "output_type": "execute_result"
    },
    {
     "data": {
      "text/plain": [
       "(A, ast.Name)"
      ]
     },
     "execution_count": 50,
     "metadata": {},
     "output_type": "execute_result"
    },
    {
     "data": {
      "text/plain": [
       "('A', str)"
      ]
     },
     "execution_count": 50,
     "metadata": {},
     "output_type": "execute_result"
    }
   ],
   "source": [
    "node.args, type(node.args)\n",
    "node.args.args, type(node.args.args) # a list\n",
    "node.args.args[0]\n",
    "node.args.args[0].annotation\n",
    "node.args.args[0].annotation.elts\n",
    "node.args.args[0].annotation.elts[0], type(node.args.args[0].annotation.elts[0])\n",
    "className = node.args.args[0].annotation.elts[0]\n",
    "className.id, type(className.id)"
   ]
  },
  {
   "cell_type": "code",
   "execution_count": 51,
   "id": "dc01f0c4",
   "metadata": {},
   "outputs": [
    {
     "data": {
      "text/plain": [
       "'A'"
      ]
     },
     "execution_count": 51,
     "metadata": {},
     "output_type": "execute_result"
    }
   ],
   "source": [
    "# make the cell above programmable ✨✨✨✨\n",
    "ann = node.args.args[0].annotation\n",
    "if hasattr(ann, 'elts'): ann = ann.elts[0]\n",
    "nm = ann.id\n",
    "nm"
   ]
  },
  {
   "cell_type": "markdown",
   "id": "601c2790",
   "metadata": {},
   "source": [
    "### `cls_A` from `getattr(mod, 'A')` contains both h, k, m ✨✨✨✨✨"
   ]
  },
  {
   "cell_type": "code",
   "execution_count": 52,
   "id": "ee82124f",
   "metadata": {},
   "outputs": [
    {
     "data": {
      "text/markdown": [
       "```python\n",
       "class A:\n",
       "\n",
       "    @delegates(j)\n",
       "    def h(self, b: bool=False, **kwargs):\n",
       "        a = 1\n",
       "        return a\n",
       "```"
      ],
      "text/plain": [
       "class A:\n",
       "\n",
       "    @delegates(j)\n",
       "    def h(self, b: bool=False, **kwargs):\n",
       "        a = 1\n",
       "        return a"
      ]
     },
     "execution_count": 52,
     "metadata": {},
     "output_type": "execute_result"
    },
    {
     "data": {
      "text/plain": [
       "('node,',\n",
       " @patch\n",
       " @delegates(j)\n",
       " def k(self: (A, B), b: bool=False, **kwargs):\n",
       "     return 1)"
      ]
     },
     "execution_count": 52,
     "metadata": {},
     "output_type": "execute_result"
    },
    {
     "data": {
      "text/plain": [
       "('nm', 'A')"
      ]
     },
     "execution_count": 52,
     "metadata": {},
     "output_type": "execute_result"
    },
    {
     "data": {
      "text/plain": [
       "('cls', test_py2pyi.A)"
      ]
     },
     "execution_count": 52,
     "metadata": {},
     "output_type": "execute_result"
    },
    {
     "data": {
      "text/plain": [
       "(None,\n",
       " <function test_py2pyi.A.k(self: (<class 'test_py2pyi.A'>, <class 'test_py2pyi.B'>), b: bool = False, *, d: str = 'a')>,\n",
       " <function test_py2pyi.A.h(self, b: bool = False, *, d: str = 'a')>,\n",
       " <function test_py2pyi.A.m(self: test_py2pyi.A, b: bool = False, *, d: str = 'a')>,\n",
       " <function test_py2pyi.A.n(self: test_py2pyi.A, b: bool = False, **kwargs)>)"
      ]
     },
     "execution_count": 52,
     "metadata": {},
     "output_type": "execute_result"
    },
    {
     "data": {
      "text/markdown": [
       "```python\n",
       "self: (test_py2pyi.A, test_py2pyi.B), b: bool=False, *, d: str='a'\n",
       "```"
      ],
      "text/plain": [
       "self: (test_py2pyi.A, test_py2pyi.B), b: bool=False, *, d: str='a'"
      ]
     },
     "execution_count": 52,
     "metadata": {},
     "output_type": "execute_result"
    }
   ],
   "source": [
    "# tree\n",
    "node_classA = tree.body[7]\n",
    "node_classA\n",
    "\"node,\", node # k\n",
    "\"nm\", nm # A\n",
    "cls = getattr(mod, nm) # class A\n",
    "\"cls\", cls\n",
    "sym_mod_k = getattr(mod, node.name)\n",
    "sym_cls_k = getattr(cls, node.name)\n",
    "# sym_mod_h = getattr(mod, 'h') # error\n",
    "sym_cls_h = getattr(cls, 'h')\n",
    "sym_cls_m = getattr(cls, 'm')\n",
    "sym_cls_n = getattr(cls, 'n')\n",
    "sym_mod_k, sym_cls_k, sym_cls_h, sym_cls_m, sym_cls_n\n",
    "ast_args(sym)"
   ]
  },
  {
   "cell_type": "code",
   "execution_count": 53,
   "id": "3973e41c",
   "metadata": {},
   "outputs": [
    {
     "data": {
      "text/plain": [
       "\"(self: (test_py2pyi.A, test_py2pyi.B), b: bool = False, *, d: str = 'a')\""
      ]
     },
     "execution_count": 53,
     "metadata": {},
     "output_type": "execute_result"
    }
   ],
   "source": [
    "sig2str(signature(sym))"
   ]
  },
  {
   "cell_type": "code",
   "execution_count": 54,
   "id": "7c5f2e2a",
   "metadata": {},
   "outputs": [
    {
     "data": {
      "text/markdown": [
       "```python\n",
       "@patch\n",
       "@delegates(j)\n",
       "def k(self: (A, B), b: bool=False, **kwargs):\n",
       "    return 1\n",
       "```"
      ],
      "text/plain": [
       "@patch\n",
       "@delegates(j)\n",
       "def k(self: (A, B), b: bool=False, **kwargs):\n",
       "    return 1"
      ]
     },
     "execution_count": 54,
     "metadata": {},
     "output_type": "execute_result"
    },
    {
     "data": {
      "text/plain": [
       "('node.args: ', self: (A, B), b: bool=False, **kwargs)"
      ]
     },
     "execution_count": 54,
     "metadata": {},
     "output_type": "execute_result"
    },
    {
     "data": {
      "text/plain": [
       "('mod.k: ', None)"
      ]
     },
     "execution_count": 54,
     "metadata": {},
     "output_type": "execute_result"
    },
    {
     "data": {
      "text/plain": [
       "('mod.A.k: ',\n",
       " <function test_py2pyi.A.k(self: (<class 'test_py2pyi.A'>, <class 'test_py2pyi.B'>), b: bool = False, *, d: str = 'a')>)"
      ]
     },
     "execution_count": 54,
     "metadata": {},
     "output_type": "execute_result"
    }
   ],
   "source": [
    "tree = _get_tree(mod)\n",
    "node = tree.body[9]\n",
    "node\n",
    "\"node.args: \", node.args\n",
    "\"mod.k: \", getattr(mod, node.name)\n",
    "# \"mod.k: \", getattr(mod.k, node.name) # error\n",
    "\"mod.A.k: \", getattr(mod.__dict__[\"A\"], node.name)"
   ]
  },
  {
   "cell_type": "code",
   "execution_count": 55,
   "id": "83372276",
   "metadata": {},
   "outputs": [
    {
     "data": {
      "text/markdown": [
       "```python\n",
       "@patch\n",
       "@delegates(j)\n",
       "def k(self: (A, B), b: bool=False, **kwargs):\n",
       "    return 1\n",
       "```"
      ],
      "text/plain": [
       "@patch\n",
       "@delegates(j)\n",
       "def k(self: (A, B), b: bool=False, **kwargs):\n",
       "    return 1"
      ]
     },
     "execution_count": 55,
     "metadata": {},
     "output_type": "execute_result"
    },
    {
     "data": {
      "text/markdown": [
       "```python\n",
       "@patch\n",
       "def k(self: (test_py2pyi.A, test_py2pyi.B), b: bool=False, *, d: str='a'):\n",
       "    ...\n",
       "```"
      ],
      "text/plain": [
       "@patch\n",
       "def k(self: (test_py2pyi.A, test_py2pyi.B), b: bool=False, *, d: str='a'):\n",
       "    ..."
      ]
     },
     "execution_count": 55,
     "metadata": {},
     "output_type": "execute_result"
    }
   ],
   "source": [
    "sym = getattr(mod.__dict__[\"A\"], node.name)\n",
    "node\n",
    "_update_func(node, sym)\n",
    "node # delegates removed, body replaced with ..."
   ]
  },
  {
   "cell_type": "code",
   "execution_count": 56,
   "id": "c0743766",
   "metadata": {},
   "outputs": [],
   "source": [
    "#| export\n",
    "def _proc_patched(node, mod):\n",
    "    # patched method can get its class with 2 lines below\n",
    "    ann = node.args.args[0].annotation\n",
    "    if hasattr(ann, 'elts'): ann = ann.elts[0]\n",
    "    # get a mod class like A in cls\n",
    "    cls = getattr(mod, ann.id)\n",
    "    # get a method symbol or function from the class\n",
    "    sym = getattr(cls, node.name)\n",
    "    # remove its delegates decorator and update its signature, and replace its body with ...\n",
    "    _update_func(node, sym)"
   ]
  },
  {
   "cell_type": "code",
   "execution_count": 57,
   "id": "99504dc4",
   "metadata": {},
   "outputs": [
    {
     "data": {
      "text/markdown": [
       "```python\n",
       "@patch\n",
       "@delegates(j)\n",
       "def k(self: (A, B), b: bool=False, **kwargs):\n",
       "    return 1\n",
       "```"
      ],
      "text/plain": [
       "@patch\n",
       "@delegates(j)\n",
       "def k(self: (A, B), b: bool=False, **kwargs):\n",
       "    return 1"
      ]
     },
     "execution_count": 57,
     "metadata": {},
     "output_type": "execute_result"
    },
    {
     "data": {
      "text/markdown": [
       "```python\n",
       "@patch\n",
       "def k(self: (test_py2pyi.A, test_py2pyi.B), b: bool=False, *, d: str='a'):\n",
       "    ...\n",
       "```"
      ],
      "text/plain": [
       "@patch\n",
       "def k(self: (test_py2pyi.A, test_py2pyi.B), b: bool=False, *, d: str='a'):\n",
       "    ..."
      ]
     },
     "execution_count": 57,
     "metadata": {},
     "output_type": "execute_result"
    }
   ],
   "source": [
    "tree = _get_tree(mod)\n",
    "node = tree.body[9]\n",
    "node\n",
    "_proc_patched(node, mod)\n",
    "node"
   ]
  },
  {
   "cell_type": "code",
   "execution_count": 58,
   "id": "6fa82069",
   "metadata": {},
   "outputs": [],
   "source": [
    "# tree = _proc_mod(mod)\n",
    "# tree.body[9]"
   ]
  },
  {
   "cell_type": "markdown",
   "id": "2beb88d2",
   "metadata": {},
   "source": [
    "## Class and file"
   ]
  },
  {
   "cell_type": "code",
   "execution_count": 59,
   "id": "2cbba27f",
   "metadata": {},
   "outputs": [
    {
     "data": {
      "text/markdown": [
       "```python\n",
       "class A:\n",
       "\n",
       "    @delegates(j)\n",
       "    def h(self, b: bool=False, **kwargs):\n",
       "        a = 1\n",
       "        return a\n",
       "```"
      ],
      "text/plain": [
       "class A:\n",
       "\n",
       "    @delegates(j)\n",
       "    def h(self, b: bool=False, **kwargs):\n",
       "        a = 1\n",
       "        return a"
      ]
     },
     "execution_count": 59,
     "metadata": {},
     "output_type": "execute_result"
    }
   ],
   "source": [
    "tree = _get_tree(mod)\n",
    "node = tree.body[7]\n",
    "node"
   ]
  },
  {
   "cell_type": "code",
   "execution_count": 60,
   "id": "7b648a5e",
   "metadata": {},
   "outputs": [
    {
     "data": {
      "text/plain": [
       "('A',\n",
       " [@delegates(j)\n",
       "  def h(self, b: bool=False, **kwargs):\n",
       "      a = 1\n",
       "      return a])"
      ]
     },
     "execution_count": 60,
     "metadata": {},
     "output_type": "execute_result"
    },
    {
     "data": {
      "text/markdown": [
       "```python\n",
       "@delegates(j)\n",
       "def h(self, b: bool=False, **kwargs):\n",
       "    a = 1\n",
       "    return a\n",
       "```"
      ],
      "text/plain": [
       "@delegates(j)\n",
       "def h(self, b: bool=False, **kwargs):\n",
       "    a = 1\n",
       "    return a"
      ]
     },
     "execution_count": 60,
     "metadata": {},
     "output_type": "execute_result"
    },
    {
     "data": {
      "text/plain": [
       "'function'"
      ]
     },
     "execution_count": 60,
     "metadata": {},
     "output_type": "execute_result"
    },
    {
     "data": {
      "text/plain": [
       "<function test_py2pyi.A.h(self, b: bool = False, *, d: str = 'a')>"
      ]
     },
     "execution_count": 60,
     "metadata": {},
     "output_type": "execute_result"
    },
    {
     "data": {
      "text/plain": [
       "<function test_py2pyi.A.k(self: (<class 'test_py2pyi.A'>, <class 'test_py2pyi.B'>), b: bool = False, *, d: str = 'a')>"
      ]
     },
     "execution_count": 60,
     "metadata": {},
     "output_type": "execute_result"
    },
    {
     "data": {
      "text/plain": [
       "<function test_py2pyi.A.m(self: test_py2pyi.A, b: bool = False, *, d: str = 'a')>"
      ]
     },
     "execution_count": 60,
     "metadata": {},
     "output_type": "execute_result"
    },
    {
     "data": {
      "text/plain": [
       "<function test_py2pyi.A.n(self: test_py2pyi.A, b: bool = False, **kwargs)>"
      ]
     },
     "execution_count": 60,
     "metadata": {},
     "output_type": "execute_result"
    }
   ],
   "source": [
    "node.name, node.body\n",
    "\n",
    "for sub_node in node.body:\n",
    "    sub_node\n",
    "\n",
    "cls = getattr(mod, node.name)\n",
    "type(cls.k).__name__\n",
    "\n",
    "for sub_sym in cls.__dict__.values():\n",
    "     if type(sub_sym).__name__ == 'function':\n",
    "          sub_sym\n",
    "    "
   ]
  },
  {
   "cell_type": "code",
   "execution_count": 61,
   "id": "07ba304d",
   "metadata": {},
   "outputs": [],
   "source": [
    "#| export\n",
    "def _proc_class(node, mod): # redefine _proc_class with real processing function\n",
    "    # node is a class node\n",
    "    # get the class symbol from the mod with class name\n",
    "    cls = getattr(mod, node.name)\n",
    "    # loop through all nodes of the class\n",
    "    _proc_tree(node, cls)\n"
   ]
  },
  {
   "cell_type": "markdown",
   "id": "3a538709",
   "metadata": {},
   "source": [
    "# My solution with claude"
   ]
  },
  {
   "cell_type": "code",
   "execution_count": 63,
   "id": "93e984df",
   "metadata": {},
   "outputs": [],
   "source": [
    "#| export\n",
    "def _proc_class(node, mod): # node is a class node, mod is the module\n",
    "    # Get the runtime class object from the module\n",
    "    # important difference: runtime class object contains all patched methods, class node does not ✨✨✨✨✨\n",
    "    cls = getattr(mod, node.name)\n",
    "    \n",
    "    # Iterate through all attributes of the class\n",
    "    for name, member in cls.__dict__.items():\n",
    "        # Check if the attribute is a callable (method) and not a special method (i.e., doesn't start with __)\n",
    "        if callable(member) and not name.startswith('__'):\n",
    "            # Check if this method is not already in the AST node's body (ie., patched method)\n",
    "            if name not in [n.name for n in node.body if isinstance(n, ast.FunctionDef)]:\n",
    "                print(name, member)  # Debug print\n",
    "                # Add this (patched) method to the class AST node\n",
    "                _add_method_to_class(node, name, member)\n",
    "    \n",
    "    # Process other members of the class \n",
    "    _proc_tree(node, cls) # dive into the other sub nodes (normal class methods) inside the runtime class object of the module\n",
    "\n",
    "def _add_method_to_class(class_node, method_name, method_object):\n",
    "    # Create a new FunctionDef node for the method\n",
    "    method_ast = ast.FunctionDef(\n",
    "        name=method_name,\n",
    "        args=ast_args(method_object),  # Get the arguments of the method\n",
    "        body=[],  # Empty body for now\n",
    "        decorator_list=[],  # No decorators\n",
    "        lineno=1,  # Set line number (arbitrary)\n",
    "        col_offset=0,  # Set column offset (arbitrary)\n",
    "        end_lineno=1,  # Set end line number (arbitrary)\n",
    "        end_col_offset=0,  # Set end column offset (arbitrary)\n",
    "    )\n",
    "    \n",
    "    # Remove annotation for 'self' parameter if it exists\n",
    "    if method_ast.args.args and method_ast.args.args[0].arg == 'self':\n",
    "        method_ast.args.args[0].annotation = None\n",
    "    \n",
    "    # Add docstring to the method if it exists\n",
    "    doc = method_object.__doc__\n",
    "    if doc:\n",
    "        docstring = ast.Expr(value=ast.Constant(value=doc, kind=None))\n",
    "        method_ast.body.append(docstring)\n",
    "    \n",
    "    # Add ellipsis to the method body\n",
    "    _body_ellip(method_ast)\n",
    "\n",
    "    # Remove any existing ellipsis in the class body\n",
    "    class_node.body = [node for node in class_node.body \n",
    "                       if not (isinstance(node, ast.Expr) and \n",
    "                               isinstance(node.value, ast.Constant) and \n",
    "                               node.value.value is Ellipsis)]\n",
    "    \n",
    "    # Add the method to the class body\n",
    "    class_node.body.append(method_ast)\n",
    "\n",
    "def _body_ellip(n: ast.AST):\n",
    "    # Check if there's already an ellipsis in the body\n",
    "    has_ellipsis = any(\n",
    "        isinstance(node, ast.Expr) and \n",
    "        isinstance(node.value, ast.Constant) and \n",
    "        node.value.value is Ellipsis\n",
    "        for node in n.body\n",
    "    )\n",
    "    \n",
    "    if not has_ellipsis:\n",
    "        # Keep the docstring if it's available\n",
    "        stidx = 1 if n.body and isinstance(n.body[0], ast.Expr) and isinstance(n.body[0].value, ast.Constant) else 0\n",
    "        # Add a single ellipsis, preserving any existing docstring\n",
    "        n.body[stidx:] = [ast.Expr(ast.Constant(...))]\n",
    "\n",
    "def _proc_mod(mod):\n",
    "    # Get the AST for the entire module\n",
    "    tree = _get_tree(mod)\n",
    "    # Process the module tree\n",
    "    _proc_tree(tree, mod)\n",
    "    # Remove standalone patched functions from the module body\n",
    "    tree.body = [node for node in tree.body \n",
    "                 if not (isinstance(node, ast.FunctionDef) and has_deco(node, 'patch'))]\n",
    "    return tree\n",
    "\n",
    "def ast_args(func):\n",
    "    # Get the signature of the function\n",
    "    sig = signature(func)\n",
    "    \n",
    "    def clean_annotation(param_name, anno): \n",
    "        # The lines below are commented out to keep 'self' annotations\n",
    "        # if param_name == 'self':\n",
    "        #     return None\n",
    "        return anno  # Return the annotation as-is for now\n",
    "\n",
    "    # Create new parameters with cleaned annotations\n",
    "    cleaned_params = [\n",
    "        param.replace(annotation=clean_annotation(param.name, param.annotation))\n",
    "        for param in sig.parameters.values()\n",
    "    ]\n",
    "    \n",
    "    # Create a new signature with the cleaned parameters\n",
    "    cleaned_sig = sig.replace(parameters=cleaned_params)\n",
    "    # Convert the signature to an AST arguments node\n",
    "    return ast.parse(f\"def _{sig2str(cleaned_sig)}: ...\").body[0].args\n",
    "\n",
    "def sig2str(sig):\n",
    "    # Convert the signature to a string\n",
    "    s = str(sig)\n",
    "    # Replace class representations with just the class name\n",
    "    s = re.sub(r\"<class '(.*?)'>\", r'\\1', s)\n",
    "    # Remove module prefixes from type names\n",
    "    s = re.sub(r\"(\\w+\\.)+(\\w+)\", r'\\2', s)\n",
    "    # Remove 'dynamic_module.' prefix\n",
    "    s = re.sub(r\"dynamic_module\\.\", \"\", s)\n",
    "    return s\n",
    "\n",
    "def _proc_patched(node, mod):\n",
    "    # This function is now empty as patched methods are handled in _proc_class\n",
    "    pass\n"
   ]
  },
  {
   "cell_type": "code",
   "execution_count": 64,
   "id": "cde93a0c",
   "metadata": {},
   "outputs": [
    {
     "data": {
      "text/markdown": [
       "```python\n",
       "class A:\n",
       "\n",
       "    @delegates(j)\n",
       "    def h(self, b: bool=False, **kwargs):\n",
       "        a = 1\n",
       "        return a\n",
       "```"
      ],
      "text/plain": [
       "class A:\n",
       "\n",
       "    @delegates(j)\n",
       "    def h(self, b: bool=False, **kwargs):\n",
       "        a = 1\n",
       "        return a"
      ]
     },
     "execution_count": 64,
     "metadata": {},
     "output_type": "execute_result"
    },
    {
     "name": "stdout",
     "output_type": "stream",
     "text": [
      "k <function A.k at 0x11fe29360>\n",
      "m <function A.m at 0x11fe29480>\n",
      "n <function A.n at 0x11fe29510>\n"
     ]
    },
    {
     "data": {
      "text/markdown": [
       "```python\n",
       "class A:\n",
       "\n",
       "    def h(self, b: bool=False, *, d: str='a'):\n",
       "        ...\n",
       "\n",
       "    def k(self, b: bool=False, *, d: str='a'):\n",
       "        ...\n",
       "\n",
       "    def m(self, b: bool=False, *, d: str='a'):\n",
       "        ...\n",
       "\n",
       "    def n(self, b: bool=False, **kwargs):\n",
       "        \"\"\"No delegates here mmm'k?\"\"\"\n",
       "        ...\n",
       "```"
      ],
      "text/plain": [
       "class A:\n",
       "\n",
       "    def h(self, b: bool=False, *, d: str='a'):\n",
       "        ...\n",
       "\n",
       "    def k(self, b: bool=False, *, d: str='a'):\n",
       "        ...\n",
       "\n",
       "    def m(self, b: bool=False, *, d: str='a'):\n",
       "        ...\n",
       "\n",
       "    def n(self, b: bool=False, **kwargs):\n",
       "        \"\"\"No delegates here mmm'k?\"\"\"\n",
       "        ..."
      ]
     },
     "execution_count": 64,
     "metadata": {},
     "output_type": "execute_result"
    }
   ],
   "source": [
    "tree = _get_tree(mod)\n",
    "node = tree.body[7]\n",
    "\n",
    "node\n",
    "_proc_class(node, mod)\n",
    "node "
   ]
  },
  {
   "cell_type": "code",
   "execution_count": 65,
   "id": "d149d1a9",
   "metadata": {},
   "outputs": [],
   "source": [
    "#| export\n",
    "def create_pyi(fn, package=None):\n",
    "    \"Convert `fname.py` to `fname.pyi` by removing function bodies and expanding `delegates` kwargs\"\n",
    "    fn = Path(fn)\n",
    "    mod = imp_mod(fn, package=package)\n",
    "    tree = _proc_mod(mod)\n",
    "    res = unparse(tree)\n",
    "    fn.with_suffix('.pyi').write_text(res)"
   ]
  },
  {
   "cell_type": "code",
   "execution_count": 66,
   "id": "7a4e6fb3",
   "metadata": {},
   "outputs": [
    {
     "name": "stdout",
     "output_type": "stream",
     "text": [
      "k <function A.k at 0x11fe2b250>\n",
      "m <function A.m at 0x11fe2b370>\n",
      "n <function A.n at 0x11fe2b400>\n",
      "k <function B.k at 0x11fe2b2e0>\n",
      "f <function A.f at 0x11fe2b520>\n"
     ]
    }
   ],
   "source": [
    "create_pyi('test_py2pyi.py')\n",
    "create_pyi('simple-test.py')"
   ]
  },
  {
   "cell_type": "code",
   "execution_count": null,
   "id": "7067e29f",
   "metadata": {},
   "outputs": [],
   "source": [
    "# fn = Path('/Users/jhoward/git/fastcore/fastcore/docments.py')\n",
    "# create_pyi(fn, 'fastcore')"
   ]
  },
  {
   "cell_type": "markdown",
   "id": "075cf465",
   "metadata": {},
   "source": [
    "## Script"
   ]
  },
  {
   "cell_type": "code",
   "execution_count": null,
   "id": "365271bf",
   "metadata": {},
   "outputs": [],
   "source": [
    "#| export\n",
    "from fastcore.script import call_parse"
   ]
  },
  {
   "cell_type": "code",
   "execution_count": null,
   "id": "a08be00d",
   "metadata": {},
   "outputs": [],
   "source": [
    "#| export\n",
    "@call_parse\n",
    "def py2pyi(fname:str,  # The file name to convert\n",
    "           package:str=None  # The parent package\n",
    "          ):\n",
    "    \"Convert `fname.py` to `fname.pyi` by removing function bodies and expanding `delegates` kwargs\"\n",
    "    create_pyi(fname, package)"
   ]
  },
  {
   "cell_type": "code",
   "execution_count": null,
   "id": "fe8e3665",
   "metadata": {},
   "outputs": [],
   "source": [
    "#| export\n",
    "@call_parse\n",
    "def replace_wildcards(\n",
    "    # Path to the Python file to process\n",
    "    path: str):\n",
    "    \"Expand wildcard imports in the specified Python file.\"\n",
    "    path = Path(path)\n",
    "    path.write_text(expand_wildcards(path.read_text()))"
   ]
  },
  {
   "cell_type": "markdown",
   "id": "df973d4e",
   "metadata": {},
   "source": [
    "# Export -"
   ]
  },
  {
   "cell_type": "code",
   "execution_count": null,
   "id": "ad32b076",
   "metadata": {},
   "outputs": [],
   "source": [
    "#| hide\n",
    "import nbdev; nbdev.nbdev_export()"
   ]
  },
  {
   "cell_type": "code",
   "execution_count": null,
   "id": "dc0e8a0a",
   "metadata": {},
   "outputs": [],
   "source": []
  }
 ],
 "metadata": {
  "kernelspec": {
   "display_name": "python3",
   "language": "python",
   "name": "python3"
  },
  "language_info": {
   "codemirror_mode": {
    "name": "ipython",
    "version": 3
   },
   "file_extension": ".py",
   "mimetype": "text/x-python",
   "name": "python",
   "nbconvert_exporter": "python",
   "pygments_lexer": "ipython3",
   "version": "3.10.14"
  }
 },
 "nbformat": 4,
 "nbformat_minor": 5
}
