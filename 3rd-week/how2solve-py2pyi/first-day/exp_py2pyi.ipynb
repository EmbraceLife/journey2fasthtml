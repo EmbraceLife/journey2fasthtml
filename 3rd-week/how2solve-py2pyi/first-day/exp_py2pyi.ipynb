{
 "cells": [
  {
   "cell_type": "code",
   "execution_count": 1,
   "id": "aee49696",
   "metadata": {},
   "outputs": [],
   "source": [
    "#| default_exp py2pyi"
   ]
  },
  {
   "cell_type": "markdown",
   "id": "83a6b2d0",
   "metadata": {},
   "source": [
    "# Create delegated pyi"
   ]
  },
  {
   "cell_type": "markdown",
   "id": "5ab07e20",
   "metadata": {},
   "source": [
    "## Setup"
   ]
  },
  {
   "cell_type": "code",
   "execution_count": 2,
   "id": "3433906e",
   "metadata": {},
   "outputs": [],
   "source": [
    "#| export\n",
    "import ast, sys, inspect, re, os, importlib.util, importlib.machinery\n",
    "\n",
    "from ast import parse, unparse\n",
    "from inspect import signature, getsource\n",
    "from fastcore.utils import *\n",
    "from fastcore.meta import delegates\n",
    "from pprint import pprint"
   ]
  },
  {
   "cell_type": "markdown",
   "id": "65bfdfa1",
   "metadata": {},
   "source": [
    "## Basics"
   ]
  },
  {
   "cell_type": "code",
   "execution_count": 3,
   "id": "444ab985",
   "metadata": {},
   "outputs": [],
   "source": [
    "#| export\n",
    "def imp_mod(module_path, package=None):\n",
    "    \"Import dynamically the module referenced in `fn`\"\n",
    "    module_path = str(module_path)\n",
    "    module_name = os.path.splitext(os.path.basename(module_path))[0]\n",
    "    spec = importlib.machinery.ModuleSpec(module_name, None, origin=module_path)\n",
    "    module = importlib.util.module_from_spec(spec)\n",
    "    spec.loader = importlib.machinery.SourceFileLoader(module_name, module_path)\n",
    "    if package is not None: module.__package__ = package\n",
    "    module.__file__ = os.path.abspath(module_path)\n",
    "    spec.loader.exec_module(module)\n",
    "    return module"
   ]
  },
  {
   "cell_type": "code",
   "execution_count": 4,
   "id": "92ebf6b9",
   "metadata": {},
   "outputs": [],
   "source": [
    "fn = Path('test_py2pyi.py')"
   ]
  },
  {
   "cell_type": "code",
   "execution_count": 5,
   "id": "1aa9f23f",
   "metadata": {},
   "outputs": [
    {
     "data": {
      "text/plain": [
       "1"
      ]
     },
     "execution_count": 5,
     "metadata": {},
     "output_type": "execute_result"
    }
   ],
   "source": [
    "mod = imp_mod(fn)\n",
    "a = mod.A()\n",
    "a.h()"
   ]
  },
  {
   "cell_type": "code",
   "execution_count": 6,
   "id": "fa277c0b",
   "metadata": {},
   "outputs": [],
   "source": [
    "#| export\n",
    "def _get_tree(mod):\n",
    "    return parse(getsource(mod))"
   ]
  },
  {
   "cell_type": "code",
   "execution_count": 7,
   "id": "9751182f",
   "metadata": {},
   "outputs": [],
   "source": [
    "tree = _get_tree(mod)"
   ]
  },
  {
   "cell_type": "code",
   "execution_count": 8,
   "id": "852a4434",
   "metadata": {},
   "outputs": [
    {
     "data": {
      "text/plain": [
       "<ast.Module at 0x120d12320>"
      ]
     },
     "execution_count": 8,
     "metadata": {},
     "output_type": "execute_result"
    }
   ],
   "source": [
    "tree\n"
   ]
  },
  {
   "cell_type": "code",
   "execution_count": 9,
   "id": "b6f7a144",
   "metadata": {},
   "outputs": [
    {
     "name": "stdout",
     "output_type": "stream",
     "text": [
      "__all__ = ['f', 'g']\n",
      "from fastcore.meta import delegates\n",
      "from fastcore.utils import patch\n",
      "\n",
      "class X(int):\n",
      "    pass\n",
      "\n",
      "def f(a: int, b: str='a') -> str:\n",
      "    \"\"\"I am f\"\"\"\n",
      "    return 1\n",
      "\n",
      "@delegates(f)\n",
      "def g(c, d: X, **kwargs) -> str:\n",
      "    \"\"\"I am g\"\"\"\n",
      "    return 2\n",
      "\n",
      "def j(c: int, d: str='a') -> str:\n",
      "    \"\"\"I am j\"\"\"\n",
      "    return 1\n",
      "\n",
      "class A:\n",
      "\n",
      "    @delegates(j)\n",
      "    def h(self, b: bool=False, **kwargs):\n",
      "        a = 1\n",
      "        return a\n",
      "\n",
      "class B:\n",
      "    ...\n",
      "\n",
      "@patch\n",
      "@delegates(j)\n",
      "def k(self: (A, B), b: bool=False, **kwargs):\n",
      "    return 1\n",
      "\n",
      "@patch\n",
      "@delegates(j)\n",
      "def m(self: A, b: bool=False, **kwargs):\n",
      "    return 1\n",
      "\n",
      "@patch\n",
      "def n(self: A, b: bool=False, **kwargs):\n",
      "    \"\"\"No delegates here mmm'k?\"\"\"\n",
      "    return 1\n"
     ]
    }
   ],
   "source": [
    "print(unparse(tree)) # now I know what exactly is tree, and tree is from AST ✨✨✨✨"
   ]
  },
  {
   "cell_type": "code",
   "execution_count": 10,
   "id": "72cbc154",
   "metadata": {},
   "outputs": [],
   "source": [
    "#| export\n",
    "@patch\n",
    "def __repr__(self:ast.AST):\n",
    "    return unparse(self)\n",
    "\n",
    "@patch\n",
    "def _repr_markdown_(self:ast.AST):\n",
    "    return f\"\"\"```python\n",
    "{self!r}\n",
    "```\"\"\""
   ]
  },
  {
   "cell_type": "code",
   "execution_count": 11,
   "id": "6a61ebb2",
   "metadata": {},
   "outputs": [
    {
     "name": "stdout",
     "output_type": "stream",
     "text": [
      "(0, __all__ = ['f', 'g'])\n",
      "(1, from fastcore.meta import delegates)\n",
      "(2, from fastcore.utils import patch)\n",
      "(3, class X(int):\n",
      "    pass)\n",
      "(4, def f(a: int, b: str='a') -> str:\n",
      "    \"\"\"I am f\"\"\"\n",
      "    return 1)\n",
      "(5, @delegates(f)\n",
      "def g(c, d: X, **kwargs) -> str:\n",
      "    \"\"\"I am g\"\"\"\n",
      "    return 2)\n",
      "(6, def j(c: int, d: str='a') -> str:\n",
      "    \"\"\"I am j\"\"\"\n",
      "    return 1)\n",
      "(7, class A:\n",
      "\n",
      "    @delegates(j)\n",
      "    def h(self, b: bool=False, **kwargs):\n",
      "        a = 1\n",
      "        return a)\n",
      "(8, class B:\n",
      "    ...)\n",
      "(9, @patch\n",
      "@delegates(j)\n",
      "def k(self: (A, B), b: bool=False, **kwargs):\n",
      "    return 1)\n",
      "(10, @patch\n",
      "@delegates(j)\n",
      "def m(self: A, b: bool=False, **kwargs):\n",
      "    return 1)\n",
      "(11, @patch\n",
      "def n(self: A, b: bool=False, **kwargs):\n",
      "    \"\"\"No delegates here mmm'k?\"\"\"\n",
      "    return 1)\n"
     ]
    }
   ],
   "source": [
    "for o in enumerate(tree.body): print(o) # now I know what inside tree.body, and maybe each item is a node? ✨✨✨✨"
   ]
  },
  {
   "cell_type": "code",
   "execution_count": 20,
   "id": "ccb83c32",
   "metadata": {},
   "outputs": [
    {
     "data": {
      "text/markdown": [
       "```python\n",
       "def f(a: int, b: str='a') -> str:\n",
       "    \"\"\"I am f\"\"\"\n",
       "    return 1\n",
       "```"
      ],
      "text/plain": [
       "def f(a: int, b: str='a') -> str:\n",
       "    \"\"\"I am f\"\"\"\n",
       "    return 1"
      ]
     },
     "execution_count": 20,
     "metadata": {},
     "output_type": "execute_result"
    }
   ],
   "source": [
    "node_func = tree.body[4] # yes, Jeremy make each item as a node ✨✨✨✨\n",
    "node_func"
   ]
  },
  {
   "cell_type": "code",
   "execution_count": 21,
   "id": "6f971f40",
   "metadata": {},
   "outputs": [],
   "source": [
    "#| export\n",
    "functypes = (ast.FunctionDef,ast.AsyncFunctionDef) # consider both normal func and async func as functypes"
   ]
  },
  {
   "cell_type": "code",
   "execution_count": 22,
   "id": "c96ad101",
   "metadata": {},
   "outputs": [
    {
     "data": {
      "text/plain": [
       "True"
      ]
     },
     "execution_count": 22,
     "metadata": {},
     "output_type": "execute_result"
    }
   ],
   "source": [
    "isinstance(node_func, functypes)"
   ]
  },
  {
   "cell_type": "code",
   "execution_count": 15,
   "id": "a137fab9",
   "metadata": {},
   "outputs": [],
   "source": [
    "#| export\n",
    "def _deco_id(d:Union[ast.Name,ast.Attribute])->bool:\n",
    "    \"Get the id for AST node `d`\"\n",
    "    return d.id if isinstance(d, ast.Name) else d.func.ids\n",
    "\n",
    "def has_deco(node:Union[ast.FunctionDef,ast.AsyncFunctionDef], name:str)->bool:\n",
    "    \"Check if a function node `node` has a decorator named `name`\"\n",
    "    return any(_deco_id(d)==name for d in getattr(node, 'decorator_list', []))"
   ]
  },
  {
   "cell_type": "code",
   "execution_count": 23,
   "id": "a7dc103d",
   "metadata": {},
   "outputs": [
    {
     "data": {
      "text/plain": [
       "False"
      ]
     },
     "execution_count": 23,
     "metadata": {},
     "output_type": "execute_result"
    }
   ],
   "source": [
    "nm = 'delegates'\n",
    "has_deco(node_func, nm) \n",
    "# has_deco(node_pa, nm)# has_deco(node_pa, nm)"
   ]
  },
  {
   "cell_type": "code",
   "execution_count": 24,
   "id": "4e887842",
   "metadata": {},
   "outputs": [
    {
     "data": {
      "text/markdown": [
       "```python\n",
       "@delegates(f)\n",
       "def g(c, d: X, **kwargs) -> str:\n",
       "    \"\"\"I am g\"\"\"\n",
       "    return 2\n",
       "```"
      ],
      "text/plain": [
       "@delegates(f)\n",
       "def g(c, d: X, **kwargs) -> str:\n",
       "    \"\"\"I am g\"\"\"\n",
       "    return 2"
      ]
     },
     "execution_count": 24,
     "metadata": {},
     "output_type": "execute_result"
    }
   ],
   "source": [
    "node_del = tree.body[5]\n",
    "node_del"
   ]
  },
  {
   "cell_type": "code",
   "execution_count": 25,
   "id": "88d463f2",
   "metadata": {},
   "outputs": [
    {
     "ename": "AttributeError",
     "evalue": "'Name' object has no attribute 'ids'",
     "output_type": "error",
     "traceback": [
      "\u001b[0;31m---------------------------------------------------------------------------\u001b[0m",
      "\u001b[0;31mAttributeError\u001b[0m                            Traceback (most recent call last)",
      "Cell \u001b[0;32mIn[25], line 1\u001b[0m\n\u001b[0;32m----> 1\u001b[0m \u001b[43mhas_deco\u001b[49m\u001b[43m(\u001b[49m\u001b[43mnode_del\u001b[49m\u001b[43m,\u001b[49m\u001b[43m \u001b[49m\u001b[38;5;124;43m'\u001b[39;49m\u001b[38;5;124;43mdelegates\u001b[39;49m\u001b[38;5;124;43m'\u001b[39;49m\u001b[43m)\u001b[49m\n",
      "Cell \u001b[0;32mIn[15], line 8\u001b[0m, in \u001b[0;36mhas_deco\u001b[0;34m(node, name)\u001b[0m\n\u001b[1;32m      6\u001b[0m \u001b[38;5;28;01mdef\u001b[39;00m \u001b[38;5;21mhas_deco\u001b[39m(node:Union[ast\u001b[38;5;241m.\u001b[39mFunctionDef,ast\u001b[38;5;241m.\u001b[39mAsyncFunctionDef], name:\u001b[38;5;28mstr\u001b[39m)\u001b[38;5;241m-\u001b[39m\u001b[38;5;241m>\u001b[39m\u001b[38;5;28mbool\u001b[39m:\n\u001b[1;32m      7\u001b[0m     \u001b[38;5;124m\"\u001b[39m\u001b[38;5;124mCheck if a function node `node` has a decorator named `name`\u001b[39m\u001b[38;5;124m\"\u001b[39m\n\u001b[0;32m----> 8\u001b[0m     \u001b[38;5;28;01mreturn\u001b[39;00m \u001b[38;5;28;43many\u001b[39;49m\u001b[43m(\u001b[49m\u001b[43m_deco_id\u001b[49m\u001b[43m(\u001b[49m\u001b[43md\u001b[49m\u001b[43m)\u001b[49m\u001b[38;5;241;43m==\u001b[39;49m\u001b[43mname\u001b[49m\u001b[43m \u001b[49m\u001b[38;5;28;43;01mfor\u001b[39;49;00m\u001b[43m \u001b[49m\u001b[43md\u001b[49m\u001b[43m \u001b[49m\u001b[38;5;129;43;01min\u001b[39;49;00m\u001b[43m \u001b[49m\u001b[38;5;28;43mgetattr\u001b[39;49m\u001b[43m(\u001b[49m\u001b[43mnode\u001b[49m\u001b[43m,\u001b[49m\u001b[43m \u001b[49m\u001b[38;5;124;43m'\u001b[39;49m\u001b[38;5;124;43mdecorator_list\u001b[39;49m\u001b[38;5;124;43m'\u001b[39;49m\u001b[43m,\u001b[49m\u001b[43m \u001b[49m\u001b[43m[\u001b[49m\u001b[43m]\u001b[49m\u001b[43m)\u001b[49m\u001b[43m)\u001b[49m\n",
      "Cell \u001b[0;32mIn[15], line 8\u001b[0m, in \u001b[0;36m<genexpr>\u001b[0;34m(.0)\u001b[0m\n\u001b[1;32m      6\u001b[0m \u001b[38;5;28;01mdef\u001b[39;00m \u001b[38;5;21mhas_deco\u001b[39m(node:Union[ast\u001b[38;5;241m.\u001b[39mFunctionDef,ast\u001b[38;5;241m.\u001b[39mAsyncFunctionDef], name:\u001b[38;5;28mstr\u001b[39m)\u001b[38;5;241m-\u001b[39m\u001b[38;5;241m>\u001b[39m\u001b[38;5;28mbool\u001b[39m:\n\u001b[1;32m      7\u001b[0m     \u001b[38;5;124m\"\u001b[39m\u001b[38;5;124mCheck if a function node `node` has a decorator named `name`\u001b[39m\u001b[38;5;124m\"\u001b[39m\n\u001b[0;32m----> 8\u001b[0m     \u001b[38;5;28;01mreturn\u001b[39;00m \u001b[38;5;28many\u001b[39m(\u001b[43m_deco_id\u001b[49m\u001b[43m(\u001b[49m\u001b[43md\u001b[49m\u001b[43m)\u001b[49m\u001b[38;5;241m==\u001b[39mname \u001b[38;5;28;01mfor\u001b[39;00m d \u001b[38;5;129;01min\u001b[39;00m \u001b[38;5;28mgetattr\u001b[39m(node, \u001b[38;5;124m'\u001b[39m\u001b[38;5;124mdecorator_list\u001b[39m\u001b[38;5;124m'\u001b[39m, []))\n",
      "Cell \u001b[0;32mIn[15], line 4\u001b[0m, in \u001b[0;36m_deco_id\u001b[0;34m(d)\u001b[0m\n\u001b[1;32m      2\u001b[0m \u001b[38;5;28;01mdef\u001b[39;00m \u001b[38;5;21m_deco_id\u001b[39m(d:Union[ast\u001b[38;5;241m.\u001b[39mName,ast\u001b[38;5;241m.\u001b[39mAttribute])\u001b[38;5;241m-\u001b[39m\u001b[38;5;241m>\u001b[39m\u001b[38;5;28mbool\u001b[39m:\n\u001b[1;32m      3\u001b[0m     \u001b[38;5;124m\"\u001b[39m\u001b[38;5;124mGet the id for AST node `d`\u001b[39m\u001b[38;5;124m\"\u001b[39m\n\u001b[0;32m----> 4\u001b[0m     \u001b[38;5;28;01mreturn\u001b[39;00m d\u001b[38;5;241m.\u001b[39mid \u001b[38;5;28;01mif\u001b[39;00m \u001b[38;5;28misinstance\u001b[39m(d, ast\u001b[38;5;241m.\u001b[39mName) \u001b[38;5;28;01melse\u001b[39;00m \u001b[43md\u001b[49m\u001b[38;5;241;43m.\u001b[39;49m\u001b[43mfunc\u001b[49m\u001b[38;5;241;43m.\u001b[39;49m\u001b[43mids\u001b[49m\n",
      "\u001b[0;31mAttributeError\u001b[0m: 'Name' object has no attribute 'ids'"
     ]
    }
   ],
   "source": [
    "has_deco(node_del, 'delegates')"
   ]
  },
  {
   "cell_type": "markdown",
   "id": "d3f32ec7",
   "metadata": {},
   "source": [
    "## Function processing"
   ]
  },
  {
   "cell_type": "code",
   "execution_count": 17,
   "id": "ee690f4c",
   "metadata": {},
   "outputs": [],
   "source": [
    "def _proc_body   (node, mod): print('_proc_body', type(node))\n",
    "def _proc_func   (node, mod): print('_proc_func', type(node))\n",
    "def _proc_class  (node, mod): print('_proc_class', type(node))\n",
    "def _proc_patched(node, mod): print('_proc_patched', type(node))"
   ]
  },
  {
   "cell_type": "code",
   "execution_count": 18,
   "id": "8fd0818d",
   "metadata": {},
   "outputs": [],
   "source": [
    "#| export\n",
    "def _get_proc(node):\n",
    "    if isinstance(node, ast.ClassDef): return _proc_class\n",
    "    if not isinstance(node, functypes): return None\n",
    "    if not has_deco(node, 'delegates'): return _proc_body\n",
    "    if has_deco(node, 'patch'): return _proc_patched\n",
    "    return _proc_func"
   ]
  },
  {
   "cell_type": "code",
   "execution_count": 19,
   "id": "cc1a0b3f",
   "metadata": {},
   "outputs": [],
   "source": [
    "#| export\n",
    "def _proc_tree(tree, mod):\n",
    "    for node in tree.body:\n",
    "        proc = _get_proc(node)\n",
    "        if proc: proc(node, mod)"
   ]
  },
  {
   "cell_type": "code",
   "execution_count": 20,
   "id": "01816c3e",
   "metadata": {},
   "outputs": [],
   "source": [
    "#| export\n",
    "def _proc_mod(mod):\n",
    "       tree = _get_tree(mod)\n",
    "       _proc_tree(tree, mod)\n",
    "       # Remove standalone patched functions\n",
    "       tree.body = [node for node in tree.body \n",
    "                    if not (isinstance(node, ast.FunctionDef) and has_deco(node, 'patch'))]\n",
    "       return tree\n",
    "\n",
    "\n",
    "# def _proc_mod(mod):\n",
    "#     tree = _get_tree(mod)\n",
    "#     _proc_tree(tree, mod)\n",
    "#     return tree"
   ]
  },
  {
   "cell_type": "code",
   "execution_count": 21,
   "id": "2eee5c5a",
   "metadata": {},
   "outputs": [
    {
     "name": "stdout",
     "output_type": "stream",
     "text": [
      "_proc_class <class 'ast.ClassDef'>\n",
      "_proc_body <class 'ast.FunctionDef'>\n",
      "_proc_func <class 'ast.FunctionDef'>\n",
      "_proc_body <class 'ast.FunctionDef'>\n",
      "_proc_class <class 'ast.ClassDef'>\n",
      "_proc_class <class 'ast.ClassDef'>\n",
      "_proc_patched <class 'ast.FunctionDef'>\n",
      "_proc_patched <class 'ast.FunctionDef'>\n",
      "_proc_body <class 'ast.FunctionDef'>\n"
     ]
    }
   ],
   "source": [
    "_proc_mod(mod);"
   ]
  },
  {
   "cell_type": "code",
   "execution_count": 22,
   "id": "e38a0d6d",
   "metadata": {},
   "outputs": [
    {
     "data": {
      "text/plain": [
       "'g'"
      ]
     },
     "execution_count": 22,
     "metadata": {},
     "output_type": "execute_result"
    }
   ],
   "source": [
    "node.name"
   ]
  },
  {
   "cell_type": "code",
   "execution_count": 23,
   "id": "85c1187d",
   "metadata": {},
   "outputs": [
    {
     "data": {
      "text/plain": [
       "<function test_py2pyi.g(c, d: test_py2pyi.X, *, b: str = 'a') -> str>"
      ]
     },
     "execution_count": 23,
     "metadata": {},
     "output_type": "execute_result"
    }
   ],
   "source": [
    "sym = getattr(mod, node.name)\n",
    "sym"
   ]
  },
  {
   "cell_type": "code",
   "execution_count": 24,
   "id": "fdbbe50d",
   "metadata": {},
   "outputs": [
    {
     "name": "stdout",
     "output_type": "stream",
     "text": [
      "(c, d: test_py2pyi.X, *, b: str = 'a') -> str\n"
     ]
    }
   ],
   "source": [
    "sig = signature(sym)\n",
    "print(sig)"
   ]
  },
  {
   "cell_type": "code",
   "execution_count": 25,
   "id": "936f551a",
   "metadata": {},
   "outputs": [],
   "source": [
    "#| export\n",
    "def sig2str(sig):\n",
    "    s = str(sig)\n",
    "    s = re.sub(r\"<class '(.*?)'>\", r'\\1', s)\n",
    "    s = re.sub(r\"dynamic_module\\.\", \"\", s)\n",
    "    return s"
   ]
  },
  {
   "cell_type": "code",
   "execution_count": 26,
   "id": "f63b9ecd",
   "metadata": {},
   "outputs": [],
   "source": [
    "#| export\n",
    "def ast_args(func):\n",
    "    sig = signature(func)\n",
    "    return ast.parse(f\"def _{sig2str(sig)}: ...\").body[0].args"
   ]
  },
  {
   "cell_type": "code",
   "execution_count": 27,
   "id": "f32e1d00",
   "metadata": {},
   "outputs": [
    {
     "data": {
      "text/markdown": [
       "```python\n",
       "c, d: test_py2pyi.X, *, b: str='a'\n",
       "```"
      ],
      "text/plain": [
       "c, d: test_py2pyi.X, *, b: str='a'"
      ]
     },
     "execution_count": 27,
     "metadata": {},
     "output_type": "execute_result"
    }
   ],
   "source": [
    "newargs = ast_args(sym)\n",
    "newargs"
   ]
  },
  {
   "cell_type": "code",
   "execution_count": 28,
   "id": "1b343db0",
   "metadata": {},
   "outputs": [
    {
     "data": {
      "text/markdown": [
       "```python\n",
       "c, d: X, **kwargs\n",
       "```"
      ],
      "text/plain": [
       "c, d: X, **kwargs"
      ]
     },
     "execution_count": 28,
     "metadata": {},
     "output_type": "execute_result"
    }
   ],
   "source": [
    "node.args"
   ]
  },
  {
   "cell_type": "code",
   "execution_count": 29,
   "id": "d48fb797",
   "metadata": {},
   "outputs": [
    {
     "data": {
      "text/markdown": [
       "```python\n",
       "@delegates(f)\n",
       "def g(c, d: test_py2pyi.X, *, b: str='a') -> str:\n",
       "    \"\"\"I am g\"\"\"\n",
       "    return 2\n",
       "```"
      ],
      "text/plain": [
       "@delegates(f)\n",
       "def g(c, d: test_py2pyi.X, *, b: str='a') -> str:\n",
       "    \"\"\"I am g\"\"\"\n",
       "    return 2"
      ]
     },
     "execution_count": 29,
     "metadata": {},
     "output_type": "execute_result"
    }
   ],
   "source": [
    "node.args = newargs\n",
    "node"
   ]
  },
  {
   "cell_type": "code",
   "execution_count": 30,
   "id": "c7e1ee39",
   "metadata": {},
   "outputs": [],
   "source": [
    "#| export\n",
    "def _body_ellip(n: ast.AST):\n",
    "    stidx = 1 if isinstance(n.body[0], ast.Expr) and isinstance(n.body[0].value, ast.Str) else 0\n",
    "    n.body[stidx:] = [ast.Expr(ast.Constant(...))]"
   ]
  },
  {
   "cell_type": "code",
   "execution_count": 31,
   "id": "e47bfb08",
   "metadata": {},
   "outputs": [
    {
     "data": {
      "text/markdown": [
       "```python\n",
       "@delegates(f)\n",
       "def g(c, d: test_py2pyi.X, *, b: str='a') -> str:\n",
       "    \"\"\"I am g\"\"\"\n",
       "    ...\n",
       "```"
      ],
      "text/plain": [
       "@delegates(f)\n",
       "def g(c, d: test_py2pyi.X, *, b: str='a') -> str:\n",
       "    \"\"\"I am g\"\"\"\n",
       "    ..."
      ]
     },
     "execution_count": 31,
     "metadata": {},
     "output_type": "execute_result"
    }
   ],
   "source": [
    "_body_ellip(node)\n",
    "node"
   ]
  },
  {
   "cell_type": "code",
   "execution_count": 32,
   "id": "741c3d0b",
   "metadata": {},
   "outputs": [],
   "source": [
    "#| export\n",
    "def _update_func(node, sym):\n",
    "    \"\"\"Replace the parameter list of the source code of a function `f` with a different signature.\n",
    "    Replace the body of the function with just `pass`, and remove any decorators named 'delegates'\"\"\"\n",
    "    node.args = ast_args(sym)\n",
    "    _body_ellip(node)\n",
    "    node.decorator_list = [d for d in node.decorator_list if _deco_id(d) != 'delegates']"
   ]
  },
  {
   "cell_type": "code",
   "execution_count": 33,
   "id": "e8d675dd",
   "metadata": {},
   "outputs": [
    {
     "data": {
      "text/markdown": [
       "```python\n",
       "@delegates(f)\n",
       "def g(c, d: X, **kwargs) -> str:\n",
       "    \"\"\"I am g\"\"\"\n",
       "    return 2\n",
       "```"
      ],
      "text/plain": [
       "@delegates(f)\n",
       "def g(c, d: X, **kwargs) -> str:\n",
       "    \"\"\"I am g\"\"\"\n",
       "    return 2"
      ]
     },
     "execution_count": 33,
     "metadata": {},
     "output_type": "execute_result"
    }
   ],
   "source": [
    "tree = _get_tree(mod)\n",
    "node = tree.body[5]\n",
    "node"
   ]
  },
  {
   "cell_type": "code",
   "execution_count": 34,
   "id": "7f3c3f00",
   "metadata": {},
   "outputs": [
    {
     "data": {
      "text/markdown": [
       "```python\n",
       "def g(c, d: test_py2pyi.X, *, b: str='a') -> str:\n",
       "    \"\"\"I am g\"\"\"\n",
       "    ...\n",
       "```"
      ],
      "text/plain": [
       "def g(c, d: test_py2pyi.X, *, b: str='a') -> str:\n",
       "    \"\"\"I am g\"\"\"\n",
       "    ..."
      ]
     },
     "execution_count": 34,
     "metadata": {},
     "output_type": "execute_result"
    }
   ],
   "source": [
    "_update_func(node, sym)\n",
    "node"
   ]
  },
  {
   "cell_type": "code",
   "execution_count": 35,
   "id": "77c148b5",
   "metadata": {},
   "outputs": [],
   "source": [
    "#| export\n",
    "def _proc_body(node, mod): _body_ellip(node)"
   ]
  },
  {
   "cell_type": "code",
   "execution_count": 36,
   "id": "20a4bd05",
   "metadata": {},
   "outputs": [],
   "source": [
    "#| export\n",
    "def _proc_func(node, mod):\n",
    "    sym = getattr(mod, node.name)\n",
    "    _update_func(node, sym)"
   ]
  },
  {
   "cell_type": "code",
   "execution_count": 37,
   "id": "47473351",
   "metadata": {},
   "outputs": [
    {
     "name": "stdout",
     "output_type": "stream",
     "text": [
      "_proc_class <class 'ast.ClassDef'>\n",
      "_proc_class <class 'ast.ClassDef'>\n",
      "_proc_class <class 'ast.ClassDef'>\n",
      "_proc_patched <class 'ast.FunctionDef'>\n",
      "_proc_patched <class 'ast.FunctionDef'>\n"
     ]
    },
    {
     "data": {
      "text/markdown": [
       "```python\n",
       "def g(c, d: test_py2pyi.X, *, b: str='a') -> str:\n",
       "    \"\"\"I am g\"\"\"\n",
       "    ...\n",
       "```"
      ],
      "text/plain": [
       "def g(c, d: test_py2pyi.X, *, b: str='a') -> str:\n",
       "    \"\"\"I am g\"\"\"\n",
       "    ..."
      ]
     },
     "execution_count": 37,
     "metadata": {},
     "output_type": "execute_result"
    }
   ],
   "source": [
    "tree = _proc_mod(mod)\n",
    "tree.body[5]"
   ]
  },
  {
   "cell_type": "markdown",
   "id": "f8ed1c88",
   "metadata": {},
   "source": [
    "## Patch"
   ]
  },
  {
   "cell_type": "code",
   "execution_count": 42,
   "id": "3e8f3835",
   "metadata": {},
   "outputs": [
    {
     "data": {
      "text/markdown": [
       "```python\n",
       "class B:\n",
       "    ...\n",
       "```"
      ],
      "text/plain": [
       "class B:\n",
       "    ..."
      ]
     },
     "execution_count": 42,
     "metadata": {},
     "output_type": "execute_result"
    }
   ],
   "source": [
    "# node = tree.body[8]\n",
    "node = tree.body[9]\n",
    "node"
   ]
  },
  {
   "cell_type": "code",
   "execution_count": 43,
   "id": "a9ff7554",
   "metadata": {},
   "outputs": [
    {
     "ename": "AttributeError",
     "evalue": "'ClassDef' object has no attribute 'args'",
     "output_type": "error",
     "traceback": [
      "\u001b[0;31m---------------------------------------------------------------------------\u001b[0m",
      "\u001b[0;31mAttributeError\u001b[0m                            Traceback (most recent call last)",
      "Cell \u001b[0;32mIn[43], line 1\u001b[0m\n\u001b[0;32m----> 1\u001b[0m ann \u001b[38;5;241m=\u001b[39m \u001b[43mnode\u001b[49m\u001b[38;5;241;43m.\u001b[39;49m\u001b[43margs\u001b[49m\u001b[38;5;241m.\u001b[39margs[\u001b[38;5;241m0\u001b[39m]\u001b[38;5;241m.\u001b[39mannotation\n",
      "\u001b[0;31mAttributeError\u001b[0m: 'ClassDef' object has no attribute 'args'"
     ]
    }
   ],
   "source": [
    "ann = node.args.args[0].annotation"
   ]
  },
  {
   "cell_type": "code",
   "execution_count": null,
   "id": "dc01f0c4",
   "metadata": {},
   "outputs": [],
   "source": [
    "if hasattr(ann, 'elts'): ann = ann.elts[0]"
   ]
  },
  {
   "cell_type": "code",
   "execution_count": null,
   "id": "5832e546",
   "metadata": {},
   "outputs": [
    {
     "data": {
      "text/plain": [
       "'A'"
      ]
     },
     "execution_count": 41,
     "metadata": {},
     "output_type": "execute_result"
    }
   ],
   "source": [
    "nm = ann.id\n",
    "nm"
   ]
  },
  {
   "cell_type": "code",
   "execution_count": null,
   "id": "ee82124f",
   "metadata": {},
   "outputs": [],
   "source": [
    "cls = getattr(mod, nm)\n",
    "sym = getattr(cls, node.name)"
   ]
  },
  {
   "cell_type": "code",
   "execution_count": null,
   "id": "3973e41c",
   "metadata": {},
   "outputs": [
    {
     "data": {
      "text/plain": [
       "\"(self: (test_py2pyi.A, test_py2pyi.B), b: bool = False, *, d: str = 'a')\""
      ]
     },
     "execution_count": 43,
     "metadata": {},
     "output_type": "execute_result"
    }
   ],
   "source": [
    "sig2str(signature(sym))"
   ]
  },
  {
   "cell_type": "code",
   "execution_count": null,
   "id": "83372276",
   "metadata": {},
   "outputs": [],
   "source": [
    "_update_func(node, sym)"
   ]
  },
  {
   "cell_type": "code",
   "execution_count": null,
   "id": "6b7ec59e",
   "metadata": {},
   "outputs": [
    {
     "data": {
      "text/markdown": [
       "```python\n",
       "@patch\n",
       "def k(self: (test_py2pyi.A, test_py2pyi.B), b: bool=False, *, d: str='a'):\n",
       "    ...\n",
       "```"
      ],
      "text/plain": [
       "@patch\n",
       "def k(self: (test_py2pyi.A, test_py2pyi.B), b: bool=False, *, d: str='a'):\n",
       "    ..."
      ]
     },
     "execution_count": 45,
     "metadata": {},
     "output_type": "execute_result"
    }
   ],
   "source": [
    "node"
   ]
  },
  {
   "cell_type": "code",
   "execution_count": 44,
   "id": "c0743766",
   "metadata": {},
   "outputs": [],
   "source": [
    "#| export\n",
    "def _proc_patched(node, mod): pass\n",
    "\n",
    "# def _proc_patched(node, mod):\n",
    "#     ann = node.args.args[0].annotation\n",
    "#     if hasattr(ann, 'elts'): ann = ann.elts[0]\n",
    "#     cls = getattr(mod, ann.id)\n",
    "#     sym = getattr(cls, node.name)\n",
    "#     _update_func(node, sym)"
   ]
  },
  {
   "cell_type": "code",
   "execution_count": 45,
   "id": "6fa82069",
   "metadata": {},
   "outputs": [
    {
     "name": "stdout",
     "output_type": "stream",
     "text": [
      "_proc_class <class 'ast.ClassDef'>\n",
      "_proc_class <class 'ast.ClassDef'>\n",
      "_proc_class <class 'ast.ClassDef'>\n"
     ]
    },
    {
     "ename": "IndexError",
     "evalue": "list index out of range",
     "output_type": "error",
     "traceback": [
      "\u001b[0;31m---------------------------------------------------------------------------\u001b[0m",
      "\u001b[0;31mIndexError\u001b[0m                                Traceback (most recent call last)",
      "Cell \u001b[0;32mIn[45], line 2\u001b[0m\n\u001b[1;32m      1\u001b[0m tree \u001b[38;5;241m=\u001b[39m _proc_mod(mod)\n\u001b[0;32m----> 2\u001b[0m \u001b[43mtree\u001b[49m\u001b[38;5;241;43m.\u001b[39;49m\u001b[43mbody\u001b[49m\u001b[43m[\u001b[49m\u001b[38;5;241;43m9\u001b[39;49m\u001b[43m]\u001b[49m\n",
      "\u001b[0;31mIndexError\u001b[0m: list index out of range"
     ]
    }
   ],
   "source": [
    "tree = _proc_mod(mod)\n",
    "tree.body[9]"
   ]
  },
  {
   "cell_type": "markdown",
   "id": "2beb88d2",
   "metadata": {},
   "source": [
    "## Class and file"
   ]
  },
  {
   "cell_type": "code",
   "execution_count": null,
   "id": "2cbba27f",
   "metadata": {},
   "outputs": [
    {
     "data": {
      "text/markdown": [
       "```python\n",
       "class A:\n",
       "\n",
       "    @delegates(j)\n",
       "    def h(self, b: bool=False, **kwargs):\n",
       "        a = 1\n",
       "        return a\n",
       "```"
      ],
      "text/plain": [
       "class A:\n",
       "\n",
       "    @delegates(j)\n",
       "    def h(self, b: bool=False, **kwargs):\n",
       "        a = 1\n",
       "        return a"
      ]
     },
     "execution_count": 48,
     "metadata": {},
     "output_type": "execute_result"
    }
   ],
   "source": [
    "tree = _get_tree(mod)\n",
    "node = tree.body[7]\n",
    "node"
   ]
  },
  {
   "cell_type": "code",
   "execution_count": null,
   "id": "7b648a5e",
   "metadata": {},
   "outputs": [
    {
     "data": {
      "text/plain": [
       "[@delegates(j)\n",
       " def h(self, b: bool=False, **kwargs):\n",
       "     a = 1\n",
       "     return a]"
      ]
     },
     "execution_count": 49,
     "metadata": {},
     "output_type": "execute_result"
    }
   ],
   "source": [
    "node.body"
   ]
  },
  {
   "cell_type": "code",
   "execution_count": 46,
   "id": "f9259419",
   "metadata": {},
   "outputs": [],
   "source": [
    "def _add_method_to_class(class_node, method_name, method_object):\n",
    "       method_ast = ast.FunctionDef(\n",
    "           name=method_name,\n",
    "           args=ast_args(method_object),\n",
    "           body=[ast.Expr(ast.Constant(...))],\n",
    "           decorator_list=[]\n",
    "       )\n",
    "       class_node.body.append(method_ast) # presumably, class_node is from AST, method_object should be from runtime, and method_ast is a new AST node ✨✨✨✨✨"
   ]
  },
  {
   "cell_type": "code",
   "execution_count": 47,
   "id": "07ba304d",
   "metadata": {},
   "outputs": [],
   "source": [
    "#| export\n",
    "def _proc_class(node, mod):\n",
    "       cls = getattr(mod, node.name) # node from AST and mod from runtime? what is cls from? ✨✨✨✨✨\n",
    "       for name, member in cls.__dict__.items():\n",
    "           if callable(member) and not name.startswith('__'):\n",
    "               # This could be a patched method\n",
    "               if name not in [n.name for n in node.body if isinstance(n, ast.FunctionDef)]:\n",
    "                   # It's not in the original class body, so it's likely patched\n",
    "                   _add_method_to_class(node, name, member) # presumably, node is from AST, name and member are from runtime ✨✨✨✨✨\n",
    "       _proc_tree(node, cls)\n",
    "\n",
    "# def _proc_class(node, mod):\n",
    "#     cls = getattr(mod, node.name)\n",
    "#     _proc_tree(node, cls)"
   ]
  },
  {
   "cell_type": "code",
   "execution_count": 48,
   "id": "e896dcfa",
   "metadata": {},
   "outputs": [
    {
     "ename": "AttributeError",
     "evalue": "'FunctionDef' object has no attribute 'lineno'",
     "output_type": "error",
     "traceback": [
      "\u001b[0;31m---------------------------------------------------------------------------\u001b[0m",
      "\u001b[0;31mAttributeError\u001b[0m                            Traceback (most recent call last)",
      "File \u001b[0;32m~/mambaforge/lib/python3.10/site-packages/IPython/core/formatters.py:708\u001b[0m, in \u001b[0;36mPlainTextFormatter.__call__\u001b[0;34m(self, obj)\u001b[0m\n\u001b[1;32m    701\u001b[0m stream \u001b[38;5;241m=\u001b[39m StringIO()\n\u001b[1;32m    702\u001b[0m printer \u001b[38;5;241m=\u001b[39m pretty\u001b[38;5;241m.\u001b[39mRepresentationPrinter(stream, \u001b[38;5;28mself\u001b[39m\u001b[38;5;241m.\u001b[39mverbose,\n\u001b[1;32m    703\u001b[0m     \u001b[38;5;28mself\u001b[39m\u001b[38;5;241m.\u001b[39mmax_width, \u001b[38;5;28mself\u001b[39m\u001b[38;5;241m.\u001b[39mnewline,\n\u001b[1;32m    704\u001b[0m     max_seq_length\u001b[38;5;241m=\u001b[39m\u001b[38;5;28mself\u001b[39m\u001b[38;5;241m.\u001b[39mmax_seq_length,\n\u001b[1;32m    705\u001b[0m     singleton_pprinters\u001b[38;5;241m=\u001b[39m\u001b[38;5;28mself\u001b[39m\u001b[38;5;241m.\u001b[39msingleton_printers,\n\u001b[1;32m    706\u001b[0m     type_pprinters\u001b[38;5;241m=\u001b[39m\u001b[38;5;28mself\u001b[39m\u001b[38;5;241m.\u001b[39mtype_printers,\n\u001b[1;32m    707\u001b[0m     deferred_pprinters\u001b[38;5;241m=\u001b[39m\u001b[38;5;28mself\u001b[39m\u001b[38;5;241m.\u001b[39mdeferred_printers)\n\u001b[0;32m--> 708\u001b[0m \u001b[43mprinter\u001b[49m\u001b[38;5;241;43m.\u001b[39;49m\u001b[43mpretty\u001b[49m\u001b[43m(\u001b[49m\u001b[43mobj\u001b[49m\u001b[43m)\u001b[49m\n\u001b[1;32m    709\u001b[0m printer\u001b[38;5;241m.\u001b[39mflush()\n\u001b[1;32m    710\u001b[0m \u001b[38;5;28;01mreturn\u001b[39;00m stream\u001b[38;5;241m.\u001b[39mgetvalue()\n",
      "File \u001b[0;32m~/mambaforge/lib/python3.10/site-packages/IPython/lib/pretty.py:410\u001b[0m, in \u001b[0;36mRepresentationPrinter.pretty\u001b[0;34m(self, obj)\u001b[0m\n\u001b[1;32m    407\u001b[0m                         \u001b[38;5;28;01mreturn\u001b[39;00m meth(obj, \u001b[38;5;28mself\u001b[39m, cycle)\n\u001b[1;32m    408\u001b[0m                 \u001b[38;5;28;01mif\u001b[39;00m \u001b[38;5;28mcls\u001b[39m \u001b[38;5;129;01mis\u001b[39;00m \u001b[38;5;129;01mnot\u001b[39;00m \u001b[38;5;28mobject\u001b[39m \\\n\u001b[1;32m    409\u001b[0m                         \u001b[38;5;129;01mand\u001b[39;00m \u001b[38;5;28mcallable\u001b[39m(\u001b[38;5;28mcls\u001b[39m\u001b[38;5;241m.\u001b[39m\u001b[38;5;18m__dict__\u001b[39m\u001b[38;5;241m.\u001b[39mget(\u001b[38;5;124m'\u001b[39m\u001b[38;5;124m__repr__\u001b[39m\u001b[38;5;124m'\u001b[39m)):\n\u001b[0;32m--> 410\u001b[0m                     \u001b[38;5;28;01mreturn\u001b[39;00m \u001b[43m_repr_pprint\u001b[49m\u001b[43m(\u001b[49m\u001b[43mobj\u001b[49m\u001b[43m,\u001b[49m\u001b[43m \u001b[49m\u001b[38;5;28;43mself\u001b[39;49m\u001b[43m,\u001b[49m\u001b[43m \u001b[49m\u001b[43mcycle\u001b[49m\u001b[43m)\u001b[49m\n\u001b[1;32m    412\u001b[0m     \u001b[38;5;28;01mreturn\u001b[39;00m _default_pprint(obj, \u001b[38;5;28mself\u001b[39m, cycle)\n\u001b[1;32m    413\u001b[0m \u001b[38;5;28;01mfinally\u001b[39;00m:\n",
      "File \u001b[0;32m~/mambaforge/lib/python3.10/site-packages/IPython/lib/pretty.py:778\u001b[0m, in \u001b[0;36m_repr_pprint\u001b[0;34m(obj, p, cycle)\u001b[0m\n\u001b[1;32m    776\u001b[0m \u001b[38;5;250m\u001b[39m\u001b[38;5;124;03m\"\"\"A pprint that just redirects to the normal repr function.\"\"\"\u001b[39;00m\n\u001b[1;32m    777\u001b[0m \u001b[38;5;66;03m# Find newlines and replace them with p.break_()\u001b[39;00m\n\u001b[0;32m--> 778\u001b[0m output \u001b[38;5;241m=\u001b[39m \u001b[38;5;28;43mrepr\u001b[39;49m\u001b[43m(\u001b[49m\u001b[43mobj\u001b[49m\u001b[43m)\u001b[49m\n\u001b[1;32m    779\u001b[0m lines \u001b[38;5;241m=\u001b[39m output\u001b[38;5;241m.\u001b[39msplitlines()\n\u001b[1;32m    780\u001b[0m \u001b[38;5;28;01mwith\u001b[39;00m p\u001b[38;5;241m.\u001b[39mgroup():\n",
      "Cell \u001b[0;32mIn[8], line 4\u001b[0m, in \u001b[0;36m__repr__\u001b[0;34m(self)\u001b[0m\n\u001b[1;32m      2\u001b[0m \u001b[38;5;129m@patch\u001b[39m\n\u001b[1;32m      3\u001b[0m \u001b[38;5;28;01mdef\u001b[39;00m \u001b[38;5;21m__repr__\u001b[39m(\u001b[38;5;28mself\u001b[39m:ast\u001b[38;5;241m.\u001b[39mAST):\n\u001b[0;32m----> 4\u001b[0m     \u001b[38;5;28;01mreturn\u001b[39;00m \u001b[43munparse\u001b[49m\u001b[43m(\u001b[49m\u001b[38;5;28;43mself\u001b[39;49m\u001b[43m)\u001b[49m\n",
      "File \u001b[0;32m~/mambaforge/lib/python3.10/ast.py:1681\u001b[0m, in \u001b[0;36munparse\u001b[0;34m(ast_obj)\u001b[0m\n\u001b[1;32m   1679\u001b[0m \u001b[38;5;28;01mdef\u001b[39;00m \u001b[38;5;21munparse\u001b[39m(ast_obj):\n\u001b[1;32m   1680\u001b[0m     unparser \u001b[38;5;241m=\u001b[39m _Unparser()\n\u001b[0;32m-> 1681\u001b[0m     \u001b[38;5;28;01mreturn\u001b[39;00m \u001b[43munparser\u001b[49m\u001b[38;5;241;43m.\u001b[39;49m\u001b[43mvisit\u001b[49m\u001b[43m(\u001b[49m\u001b[43mast_obj\u001b[49m\u001b[43m)\u001b[49m\n",
      "File \u001b[0;32m~/mambaforge/lib/python3.10/ast.py:815\u001b[0m, in \u001b[0;36m_Unparser.visit\u001b[0;34m(self, node)\u001b[0m\n\u001b[1;32m    812\u001b[0m \u001b[38;5;250m\u001b[39m\u001b[38;5;124;03m\"\"\"Outputs a source code string that, if converted back to an ast\u001b[39;00m\n\u001b[1;32m    813\u001b[0m \u001b[38;5;124;03m(using ast.parse) will generate an AST equivalent to *node*\"\"\"\u001b[39;00m\n\u001b[1;32m    814\u001b[0m \u001b[38;5;28mself\u001b[39m\u001b[38;5;241m.\u001b[39m_source \u001b[38;5;241m=\u001b[39m []\n\u001b[0;32m--> 815\u001b[0m \u001b[38;5;28;43mself\u001b[39;49m\u001b[38;5;241;43m.\u001b[39;49m\u001b[43mtraverse\u001b[49m\u001b[43m(\u001b[49m\u001b[43mnode\u001b[49m\u001b[43m)\u001b[49m\n\u001b[1;32m    816\u001b[0m \u001b[38;5;28;01mreturn\u001b[39;00m \u001b[38;5;124m\"\u001b[39m\u001b[38;5;124m\"\u001b[39m\u001b[38;5;241m.\u001b[39mjoin(\u001b[38;5;28mself\u001b[39m\u001b[38;5;241m.\u001b[39m_source)\n",
      "File \u001b[0;32m~/mambaforge/lib/python3.10/ast.py:806\u001b[0m, in \u001b[0;36m_Unparser.traverse\u001b[0;34m(self, node)\u001b[0m\n\u001b[1;32m    804\u001b[0m         \u001b[38;5;28mself\u001b[39m\u001b[38;5;241m.\u001b[39mtraverse(item)\n\u001b[1;32m    805\u001b[0m \u001b[38;5;28;01melse\u001b[39;00m:\n\u001b[0;32m--> 806\u001b[0m     \u001b[38;5;28;43msuper\u001b[39;49m\u001b[43m(\u001b[49m\u001b[43m)\u001b[49m\u001b[38;5;241;43m.\u001b[39;49m\u001b[43mvisit\u001b[49m\u001b[43m(\u001b[49m\u001b[43mnode\u001b[49m\u001b[43m)\u001b[49m\n",
      "File \u001b[0;32m~/mambaforge/lib/python3.10/ast.py:418\u001b[0m, in \u001b[0;36mNodeVisitor.visit\u001b[0;34m(self, node)\u001b[0m\n\u001b[1;32m    416\u001b[0m method \u001b[38;5;241m=\u001b[39m \u001b[38;5;124m'\u001b[39m\u001b[38;5;124mvisit_\u001b[39m\u001b[38;5;124m'\u001b[39m \u001b[38;5;241m+\u001b[39m node\u001b[38;5;241m.\u001b[39m\u001b[38;5;18m__class__\u001b[39m\u001b[38;5;241m.\u001b[39m\u001b[38;5;18m__name__\u001b[39m\n\u001b[1;32m    417\u001b[0m visitor \u001b[38;5;241m=\u001b[39m \u001b[38;5;28mgetattr\u001b[39m(\u001b[38;5;28mself\u001b[39m, method, \u001b[38;5;28mself\u001b[39m\u001b[38;5;241m.\u001b[39mgeneric_visit)\n\u001b[0;32m--> 418\u001b[0m \u001b[38;5;28;01mreturn\u001b[39;00m \u001b[43mvisitor\u001b[49m\u001b[43m(\u001b[49m\u001b[43mnode\u001b[49m\u001b[43m)\u001b[49m\n",
      "File \u001b[0;32m~/mambaforge/lib/python3.10/ast.py:1009\u001b[0m, in \u001b[0;36m_Unparser.visit_ClassDef\u001b[0;34m(self, node)\u001b[0m\n\u001b[1;32m   1006\u001b[0m         \u001b[38;5;28mself\u001b[39m\u001b[38;5;241m.\u001b[39mtraverse(e)\n\u001b[1;32m   1008\u001b[0m \u001b[38;5;28;01mwith\u001b[39;00m \u001b[38;5;28mself\u001b[39m\u001b[38;5;241m.\u001b[39mblock():\n\u001b[0;32m-> 1009\u001b[0m     \u001b[38;5;28;43mself\u001b[39;49m\u001b[38;5;241;43m.\u001b[39;49m\u001b[43m_write_docstring_and_traverse_body\u001b[49m\u001b[43m(\u001b[49m\u001b[43mnode\u001b[49m\u001b[43m)\u001b[49m\n",
      "File \u001b[0;32m~/mambaforge/lib/python3.10/ast.py:823\u001b[0m, in \u001b[0;36m_Unparser._write_docstring_and_traverse_body\u001b[0;34m(self, node)\u001b[0m\n\u001b[1;32m    821\u001b[0m     \u001b[38;5;28mself\u001b[39m\u001b[38;5;241m.\u001b[39mtraverse(node\u001b[38;5;241m.\u001b[39mbody[\u001b[38;5;241m1\u001b[39m:])\n\u001b[1;32m    822\u001b[0m \u001b[38;5;28;01melse\u001b[39;00m:\n\u001b[0;32m--> 823\u001b[0m     \u001b[38;5;28;43mself\u001b[39;49m\u001b[38;5;241;43m.\u001b[39;49m\u001b[43mtraverse\u001b[49m\u001b[43m(\u001b[49m\u001b[43mnode\u001b[49m\u001b[38;5;241;43m.\u001b[39;49m\u001b[43mbody\u001b[49m\u001b[43m)\u001b[49m\n",
      "File \u001b[0;32m~/mambaforge/lib/python3.10/ast.py:804\u001b[0m, in \u001b[0;36m_Unparser.traverse\u001b[0;34m(self, node)\u001b[0m\n\u001b[1;32m    802\u001b[0m \u001b[38;5;28;01mif\u001b[39;00m \u001b[38;5;28misinstance\u001b[39m(node, \u001b[38;5;28mlist\u001b[39m):\n\u001b[1;32m    803\u001b[0m     \u001b[38;5;28;01mfor\u001b[39;00m item \u001b[38;5;129;01min\u001b[39;00m node:\n\u001b[0;32m--> 804\u001b[0m         \u001b[38;5;28;43mself\u001b[39;49m\u001b[38;5;241;43m.\u001b[39;49m\u001b[43mtraverse\u001b[49m\u001b[43m(\u001b[49m\u001b[43mitem\u001b[49m\u001b[43m)\u001b[49m\n\u001b[1;32m    805\u001b[0m \u001b[38;5;28;01melse\u001b[39;00m:\n\u001b[1;32m    806\u001b[0m     \u001b[38;5;28msuper\u001b[39m()\u001b[38;5;241m.\u001b[39mvisit(node)\n",
      "File \u001b[0;32m~/mambaforge/lib/python3.10/ast.py:806\u001b[0m, in \u001b[0;36m_Unparser.traverse\u001b[0;34m(self, node)\u001b[0m\n\u001b[1;32m    804\u001b[0m         \u001b[38;5;28mself\u001b[39m\u001b[38;5;241m.\u001b[39mtraverse(item)\n\u001b[1;32m    805\u001b[0m \u001b[38;5;28;01melse\u001b[39;00m:\n\u001b[0;32m--> 806\u001b[0m     \u001b[38;5;28;43msuper\u001b[39;49m\u001b[43m(\u001b[49m\u001b[43m)\u001b[49m\u001b[38;5;241;43m.\u001b[39;49m\u001b[43mvisit\u001b[49m\u001b[43m(\u001b[49m\u001b[43mnode\u001b[49m\u001b[43m)\u001b[49m\n",
      "File \u001b[0;32m~/mambaforge/lib/python3.10/ast.py:418\u001b[0m, in \u001b[0;36mNodeVisitor.visit\u001b[0;34m(self, node)\u001b[0m\n\u001b[1;32m    416\u001b[0m method \u001b[38;5;241m=\u001b[39m \u001b[38;5;124m'\u001b[39m\u001b[38;5;124mvisit_\u001b[39m\u001b[38;5;124m'\u001b[39m \u001b[38;5;241m+\u001b[39m node\u001b[38;5;241m.\u001b[39m\u001b[38;5;18m__class__\u001b[39m\u001b[38;5;241m.\u001b[39m\u001b[38;5;18m__name__\u001b[39m\n\u001b[1;32m    417\u001b[0m visitor \u001b[38;5;241m=\u001b[39m \u001b[38;5;28mgetattr\u001b[39m(\u001b[38;5;28mself\u001b[39m, method, \u001b[38;5;28mself\u001b[39m\u001b[38;5;241m.\u001b[39mgeneric_visit)\n\u001b[0;32m--> 418\u001b[0m \u001b[38;5;28;01mreturn\u001b[39;00m \u001b[43mvisitor\u001b[49m\u001b[43m(\u001b[49m\u001b[43mnode\u001b[49m\u001b[43m)\u001b[49m\n",
      "File \u001b[0;32m~/mambaforge/lib/python3.10/ast.py:1012\u001b[0m, in \u001b[0;36m_Unparser.visit_FunctionDef\u001b[0;34m(self, node)\u001b[0m\n\u001b[1;32m   1011\u001b[0m \u001b[38;5;28;01mdef\u001b[39;00m \u001b[38;5;21mvisit_FunctionDef\u001b[39m(\u001b[38;5;28mself\u001b[39m, node):\n\u001b[0;32m-> 1012\u001b[0m     \u001b[38;5;28;43mself\u001b[39;49m\u001b[38;5;241;43m.\u001b[39;49m\u001b[43m_function_helper\u001b[49m\u001b[43m(\u001b[49m\u001b[43mnode\u001b[49m\u001b[43m,\u001b[49m\u001b[43m \u001b[49m\u001b[38;5;124;43m\"\u001b[39;49m\u001b[38;5;124;43mdef\u001b[39;49m\u001b[38;5;124;43m\"\u001b[39;49m\u001b[43m)\u001b[49m\n",
      "File \u001b[0;32m~/mambaforge/lib/python3.10/ast.py:1029\u001b[0m, in \u001b[0;36m_Unparser._function_helper\u001b[0;34m(self, node, fill_suffix)\u001b[0m\n\u001b[1;32m   1027\u001b[0m     \u001b[38;5;28mself\u001b[39m\u001b[38;5;241m.\u001b[39mwrite(\u001b[38;5;124m\"\u001b[39m\u001b[38;5;124m -> \u001b[39m\u001b[38;5;124m\"\u001b[39m)\n\u001b[1;32m   1028\u001b[0m     \u001b[38;5;28mself\u001b[39m\u001b[38;5;241m.\u001b[39mtraverse(node\u001b[38;5;241m.\u001b[39mreturns)\n\u001b[0;32m-> 1029\u001b[0m \u001b[38;5;28;01mwith\u001b[39;00m \u001b[38;5;28mself\u001b[39m\u001b[38;5;241m.\u001b[39mblock(extra\u001b[38;5;241m=\u001b[39m\u001b[38;5;28;43mself\u001b[39;49m\u001b[38;5;241;43m.\u001b[39;49m\u001b[43mget_type_comment\u001b[49m\u001b[43m(\u001b[49m\u001b[43mnode\u001b[49m\u001b[43m)\u001b[49m):\n\u001b[1;32m   1030\u001b[0m     \u001b[38;5;28mself\u001b[39m\u001b[38;5;241m.\u001b[39m_write_docstring_and_traverse_body(node)\n",
      "File \u001b[0;32m~/mambaforge/lib/python3.10/ast.py:797\u001b[0m, in \u001b[0;36m_Unparser.get_type_comment\u001b[0;34m(self, node)\u001b[0m\n\u001b[1;32m    796\u001b[0m \u001b[38;5;28;01mdef\u001b[39;00m \u001b[38;5;21mget_type_comment\u001b[39m(\u001b[38;5;28mself\u001b[39m, node):\n\u001b[0;32m--> 797\u001b[0m     comment \u001b[38;5;241m=\u001b[39m \u001b[38;5;28mself\u001b[39m\u001b[38;5;241m.\u001b[39m_type_ignores\u001b[38;5;241m.\u001b[39mget(\u001b[43mnode\u001b[49m\u001b[38;5;241;43m.\u001b[39;49m\u001b[43mlineno\u001b[49m) \u001b[38;5;129;01mor\u001b[39;00m node\u001b[38;5;241m.\u001b[39mtype_comment\n\u001b[1;32m    798\u001b[0m     \u001b[38;5;28;01mif\u001b[39;00m comment \u001b[38;5;129;01mis\u001b[39;00m \u001b[38;5;129;01mnot\u001b[39;00m \u001b[38;5;28;01mNone\u001b[39;00m:\n\u001b[1;32m    799\u001b[0m         \u001b[38;5;28;01mreturn\u001b[39;00m \u001b[38;5;124mf\u001b[39m\u001b[38;5;124m\"\u001b[39m\u001b[38;5;124m # type: \u001b[39m\u001b[38;5;132;01m{\u001b[39;00mcomment\u001b[38;5;132;01m}\u001b[39;00m\u001b[38;5;124m\"\u001b[39m\n",
      "\u001b[0;31mAttributeError\u001b[0m: 'FunctionDef' object has no attribute 'lineno'"
     ]
    },
    {
     "ename": "AttributeError",
     "evalue": "'FunctionDef' object has no attribute 'lineno'",
     "output_type": "error",
     "traceback": [
      "\u001b[0;31m---------------------------------------------------------------------------\u001b[0m",
      "\u001b[0;31mAttributeError\u001b[0m                            Traceback (most recent call last)",
      "File \u001b[0;32m~/mambaforge/lib/python3.10/site-packages/IPython/core/formatters.py:344\u001b[0m, in \u001b[0;36mBaseFormatter.__call__\u001b[0;34m(self, obj)\u001b[0m\n\u001b[1;32m    342\u001b[0m     method \u001b[38;5;241m=\u001b[39m get_real_method(obj, \u001b[38;5;28mself\u001b[39m\u001b[38;5;241m.\u001b[39mprint_method)\n\u001b[1;32m    343\u001b[0m     \u001b[38;5;28;01mif\u001b[39;00m method \u001b[38;5;129;01mis\u001b[39;00m \u001b[38;5;129;01mnot\u001b[39;00m \u001b[38;5;28;01mNone\u001b[39;00m:\n\u001b[0;32m--> 344\u001b[0m         \u001b[38;5;28;01mreturn\u001b[39;00m \u001b[43mmethod\u001b[49m\u001b[43m(\u001b[49m\u001b[43m)\u001b[49m\n\u001b[1;32m    345\u001b[0m     \u001b[38;5;28;01mreturn\u001b[39;00m \u001b[38;5;28;01mNone\u001b[39;00m\n\u001b[1;32m    346\u001b[0m \u001b[38;5;28;01melse\u001b[39;00m:\n",
      "Cell \u001b[0;32mIn[8], line 8\u001b[0m, in \u001b[0;36m_repr_markdown_\u001b[0;34m(self)\u001b[0m\n\u001b[1;32m      6\u001b[0m \u001b[38;5;129m@patch\u001b[39m\n\u001b[1;32m      7\u001b[0m \u001b[38;5;28;01mdef\u001b[39;00m \u001b[38;5;21m_repr_markdown_\u001b[39m(\u001b[38;5;28mself\u001b[39m:ast\u001b[38;5;241m.\u001b[39mAST):\n\u001b[0;32m----> 8\u001b[0m     \u001b[38;5;28;01mreturn\u001b[39;00m \u001b[38;5;124mf\u001b[39m\u001b[38;5;124m\"\"\"\u001b[39m\u001b[38;5;124m```python\u001b[39m\n\u001b[1;32m      9\u001b[0m \u001b[38;5;132;01m{\u001b[39;00m\u001b[38;5;28mself\u001b[39m\u001b[38;5;132;01m!r}\u001b[39;00m\n\u001b[1;32m     10\u001b[0m \u001b[38;5;124m```\u001b[39m\u001b[38;5;124m\"\"\"\u001b[39m\n",
      "Cell \u001b[0;32mIn[8], line 4\u001b[0m, in \u001b[0;36m__repr__\u001b[0;34m(self)\u001b[0m\n\u001b[1;32m      2\u001b[0m \u001b[38;5;129m@patch\u001b[39m\n\u001b[1;32m      3\u001b[0m \u001b[38;5;28;01mdef\u001b[39;00m \u001b[38;5;21m__repr__\u001b[39m(\u001b[38;5;28mself\u001b[39m:ast\u001b[38;5;241m.\u001b[39mAST):\n\u001b[0;32m----> 4\u001b[0m     \u001b[38;5;28;01mreturn\u001b[39;00m \u001b[43munparse\u001b[49m\u001b[43m(\u001b[49m\u001b[38;5;28;43mself\u001b[39;49m\u001b[43m)\u001b[49m\n",
      "File \u001b[0;32m~/mambaforge/lib/python3.10/ast.py:1681\u001b[0m, in \u001b[0;36munparse\u001b[0;34m(ast_obj)\u001b[0m\n\u001b[1;32m   1679\u001b[0m \u001b[38;5;28;01mdef\u001b[39;00m \u001b[38;5;21munparse\u001b[39m(ast_obj):\n\u001b[1;32m   1680\u001b[0m     unparser \u001b[38;5;241m=\u001b[39m _Unparser()\n\u001b[0;32m-> 1681\u001b[0m     \u001b[38;5;28;01mreturn\u001b[39;00m \u001b[43munparser\u001b[49m\u001b[38;5;241;43m.\u001b[39;49m\u001b[43mvisit\u001b[49m\u001b[43m(\u001b[49m\u001b[43mast_obj\u001b[49m\u001b[43m)\u001b[49m\n",
      "File \u001b[0;32m~/mambaforge/lib/python3.10/ast.py:815\u001b[0m, in \u001b[0;36m_Unparser.visit\u001b[0;34m(self, node)\u001b[0m\n\u001b[1;32m    812\u001b[0m \u001b[38;5;250m\u001b[39m\u001b[38;5;124;03m\"\"\"Outputs a source code string that, if converted back to an ast\u001b[39;00m\n\u001b[1;32m    813\u001b[0m \u001b[38;5;124;03m(using ast.parse) will generate an AST equivalent to *node*\"\"\"\u001b[39;00m\n\u001b[1;32m    814\u001b[0m \u001b[38;5;28mself\u001b[39m\u001b[38;5;241m.\u001b[39m_source \u001b[38;5;241m=\u001b[39m []\n\u001b[0;32m--> 815\u001b[0m \u001b[38;5;28;43mself\u001b[39;49m\u001b[38;5;241;43m.\u001b[39;49m\u001b[43mtraverse\u001b[49m\u001b[43m(\u001b[49m\u001b[43mnode\u001b[49m\u001b[43m)\u001b[49m\n\u001b[1;32m    816\u001b[0m \u001b[38;5;28;01mreturn\u001b[39;00m \u001b[38;5;124m\"\u001b[39m\u001b[38;5;124m\"\u001b[39m\u001b[38;5;241m.\u001b[39mjoin(\u001b[38;5;28mself\u001b[39m\u001b[38;5;241m.\u001b[39m_source)\n",
      "File \u001b[0;32m~/mambaforge/lib/python3.10/ast.py:806\u001b[0m, in \u001b[0;36m_Unparser.traverse\u001b[0;34m(self, node)\u001b[0m\n\u001b[1;32m    804\u001b[0m         \u001b[38;5;28mself\u001b[39m\u001b[38;5;241m.\u001b[39mtraverse(item)\n\u001b[1;32m    805\u001b[0m \u001b[38;5;28;01melse\u001b[39;00m:\n\u001b[0;32m--> 806\u001b[0m     \u001b[38;5;28;43msuper\u001b[39;49m\u001b[43m(\u001b[49m\u001b[43m)\u001b[49m\u001b[38;5;241;43m.\u001b[39;49m\u001b[43mvisit\u001b[49m\u001b[43m(\u001b[49m\u001b[43mnode\u001b[49m\u001b[43m)\u001b[49m\n",
      "File \u001b[0;32m~/mambaforge/lib/python3.10/ast.py:418\u001b[0m, in \u001b[0;36mNodeVisitor.visit\u001b[0;34m(self, node)\u001b[0m\n\u001b[1;32m    416\u001b[0m method \u001b[38;5;241m=\u001b[39m \u001b[38;5;124m'\u001b[39m\u001b[38;5;124mvisit_\u001b[39m\u001b[38;5;124m'\u001b[39m \u001b[38;5;241m+\u001b[39m node\u001b[38;5;241m.\u001b[39m\u001b[38;5;18m__class__\u001b[39m\u001b[38;5;241m.\u001b[39m\u001b[38;5;18m__name__\u001b[39m\n\u001b[1;32m    417\u001b[0m visitor \u001b[38;5;241m=\u001b[39m \u001b[38;5;28mgetattr\u001b[39m(\u001b[38;5;28mself\u001b[39m, method, \u001b[38;5;28mself\u001b[39m\u001b[38;5;241m.\u001b[39mgeneric_visit)\n\u001b[0;32m--> 418\u001b[0m \u001b[38;5;28;01mreturn\u001b[39;00m \u001b[43mvisitor\u001b[49m\u001b[43m(\u001b[49m\u001b[43mnode\u001b[49m\u001b[43m)\u001b[49m\n",
      "File \u001b[0;32m~/mambaforge/lib/python3.10/ast.py:1009\u001b[0m, in \u001b[0;36m_Unparser.visit_ClassDef\u001b[0;34m(self, node)\u001b[0m\n\u001b[1;32m   1006\u001b[0m         \u001b[38;5;28mself\u001b[39m\u001b[38;5;241m.\u001b[39mtraverse(e)\n\u001b[1;32m   1008\u001b[0m \u001b[38;5;28;01mwith\u001b[39;00m \u001b[38;5;28mself\u001b[39m\u001b[38;5;241m.\u001b[39mblock():\n\u001b[0;32m-> 1009\u001b[0m     \u001b[38;5;28;43mself\u001b[39;49m\u001b[38;5;241;43m.\u001b[39;49m\u001b[43m_write_docstring_and_traverse_body\u001b[49m\u001b[43m(\u001b[49m\u001b[43mnode\u001b[49m\u001b[43m)\u001b[49m\n",
      "File \u001b[0;32m~/mambaforge/lib/python3.10/ast.py:823\u001b[0m, in \u001b[0;36m_Unparser._write_docstring_and_traverse_body\u001b[0;34m(self, node)\u001b[0m\n\u001b[1;32m    821\u001b[0m     \u001b[38;5;28mself\u001b[39m\u001b[38;5;241m.\u001b[39mtraverse(node\u001b[38;5;241m.\u001b[39mbody[\u001b[38;5;241m1\u001b[39m:])\n\u001b[1;32m    822\u001b[0m \u001b[38;5;28;01melse\u001b[39;00m:\n\u001b[0;32m--> 823\u001b[0m     \u001b[38;5;28;43mself\u001b[39;49m\u001b[38;5;241;43m.\u001b[39;49m\u001b[43mtraverse\u001b[49m\u001b[43m(\u001b[49m\u001b[43mnode\u001b[49m\u001b[38;5;241;43m.\u001b[39;49m\u001b[43mbody\u001b[49m\u001b[43m)\u001b[49m\n",
      "File \u001b[0;32m~/mambaforge/lib/python3.10/ast.py:804\u001b[0m, in \u001b[0;36m_Unparser.traverse\u001b[0;34m(self, node)\u001b[0m\n\u001b[1;32m    802\u001b[0m \u001b[38;5;28;01mif\u001b[39;00m \u001b[38;5;28misinstance\u001b[39m(node, \u001b[38;5;28mlist\u001b[39m):\n\u001b[1;32m    803\u001b[0m     \u001b[38;5;28;01mfor\u001b[39;00m item \u001b[38;5;129;01min\u001b[39;00m node:\n\u001b[0;32m--> 804\u001b[0m         \u001b[38;5;28;43mself\u001b[39;49m\u001b[38;5;241;43m.\u001b[39;49m\u001b[43mtraverse\u001b[49m\u001b[43m(\u001b[49m\u001b[43mitem\u001b[49m\u001b[43m)\u001b[49m\n\u001b[1;32m    805\u001b[0m \u001b[38;5;28;01melse\u001b[39;00m:\n\u001b[1;32m    806\u001b[0m     \u001b[38;5;28msuper\u001b[39m()\u001b[38;5;241m.\u001b[39mvisit(node)\n",
      "File \u001b[0;32m~/mambaforge/lib/python3.10/ast.py:806\u001b[0m, in \u001b[0;36m_Unparser.traverse\u001b[0;34m(self, node)\u001b[0m\n\u001b[1;32m    804\u001b[0m         \u001b[38;5;28mself\u001b[39m\u001b[38;5;241m.\u001b[39mtraverse(item)\n\u001b[1;32m    805\u001b[0m \u001b[38;5;28;01melse\u001b[39;00m:\n\u001b[0;32m--> 806\u001b[0m     \u001b[38;5;28;43msuper\u001b[39;49m\u001b[43m(\u001b[49m\u001b[43m)\u001b[49m\u001b[38;5;241;43m.\u001b[39;49m\u001b[43mvisit\u001b[49m\u001b[43m(\u001b[49m\u001b[43mnode\u001b[49m\u001b[43m)\u001b[49m\n",
      "File \u001b[0;32m~/mambaforge/lib/python3.10/ast.py:418\u001b[0m, in \u001b[0;36mNodeVisitor.visit\u001b[0;34m(self, node)\u001b[0m\n\u001b[1;32m    416\u001b[0m method \u001b[38;5;241m=\u001b[39m \u001b[38;5;124m'\u001b[39m\u001b[38;5;124mvisit_\u001b[39m\u001b[38;5;124m'\u001b[39m \u001b[38;5;241m+\u001b[39m node\u001b[38;5;241m.\u001b[39m\u001b[38;5;18m__class__\u001b[39m\u001b[38;5;241m.\u001b[39m\u001b[38;5;18m__name__\u001b[39m\n\u001b[1;32m    417\u001b[0m visitor \u001b[38;5;241m=\u001b[39m \u001b[38;5;28mgetattr\u001b[39m(\u001b[38;5;28mself\u001b[39m, method, \u001b[38;5;28mself\u001b[39m\u001b[38;5;241m.\u001b[39mgeneric_visit)\n\u001b[0;32m--> 418\u001b[0m \u001b[38;5;28;01mreturn\u001b[39;00m \u001b[43mvisitor\u001b[49m\u001b[43m(\u001b[49m\u001b[43mnode\u001b[49m\u001b[43m)\u001b[49m\n",
      "File \u001b[0;32m~/mambaforge/lib/python3.10/ast.py:1012\u001b[0m, in \u001b[0;36m_Unparser.visit_FunctionDef\u001b[0;34m(self, node)\u001b[0m\n\u001b[1;32m   1011\u001b[0m \u001b[38;5;28;01mdef\u001b[39;00m \u001b[38;5;21mvisit_FunctionDef\u001b[39m(\u001b[38;5;28mself\u001b[39m, node):\n\u001b[0;32m-> 1012\u001b[0m     \u001b[38;5;28;43mself\u001b[39;49m\u001b[38;5;241;43m.\u001b[39;49m\u001b[43m_function_helper\u001b[49m\u001b[43m(\u001b[49m\u001b[43mnode\u001b[49m\u001b[43m,\u001b[49m\u001b[43m \u001b[49m\u001b[38;5;124;43m\"\u001b[39;49m\u001b[38;5;124;43mdef\u001b[39;49m\u001b[38;5;124;43m\"\u001b[39;49m\u001b[43m)\u001b[49m\n",
      "File \u001b[0;32m~/mambaforge/lib/python3.10/ast.py:1029\u001b[0m, in \u001b[0;36m_Unparser._function_helper\u001b[0;34m(self, node, fill_suffix)\u001b[0m\n\u001b[1;32m   1027\u001b[0m     \u001b[38;5;28mself\u001b[39m\u001b[38;5;241m.\u001b[39mwrite(\u001b[38;5;124m\"\u001b[39m\u001b[38;5;124m -> \u001b[39m\u001b[38;5;124m\"\u001b[39m)\n\u001b[1;32m   1028\u001b[0m     \u001b[38;5;28mself\u001b[39m\u001b[38;5;241m.\u001b[39mtraverse(node\u001b[38;5;241m.\u001b[39mreturns)\n\u001b[0;32m-> 1029\u001b[0m \u001b[38;5;28;01mwith\u001b[39;00m \u001b[38;5;28mself\u001b[39m\u001b[38;5;241m.\u001b[39mblock(extra\u001b[38;5;241m=\u001b[39m\u001b[38;5;28;43mself\u001b[39;49m\u001b[38;5;241;43m.\u001b[39;49m\u001b[43mget_type_comment\u001b[49m\u001b[43m(\u001b[49m\u001b[43mnode\u001b[49m\u001b[43m)\u001b[49m):\n\u001b[1;32m   1030\u001b[0m     \u001b[38;5;28mself\u001b[39m\u001b[38;5;241m.\u001b[39m_write_docstring_and_traverse_body(node)\n",
      "File \u001b[0;32m~/mambaforge/lib/python3.10/ast.py:797\u001b[0m, in \u001b[0;36m_Unparser.get_type_comment\u001b[0;34m(self, node)\u001b[0m\n\u001b[1;32m    796\u001b[0m \u001b[38;5;28;01mdef\u001b[39;00m \u001b[38;5;21mget_type_comment\u001b[39m(\u001b[38;5;28mself\u001b[39m, node):\n\u001b[0;32m--> 797\u001b[0m     comment \u001b[38;5;241m=\u001b[39m \u001b[38;5;28mself\u001b[39m\u001b[38;5;241m.\u001b[39m_type_ignores\u001b[38;5;241m.\u001b[39mget(\u001b[43mnode\u001b[49m\u001b[38;5;241;43m.\u001b[39;49m\u001b[43mlineno\u001b[49m) \u001b[38;5;129;01mor\u001b[39;00m node\u001b[38;5;241m.\u001b[39mtype_comment\n\u001b[1;32m    798\u001b[0m     \u001b[38;5;28;01mif\u001b[39;00m comment \u001b[38;5;129;01mis\u001b[39;00m \u001b[38;5;129;01mnot\u001b[39;00m \u001b[38;5;28;01mNone\u001b[39;00m:\n\u001b[1;32m    799\u001b[0m         \u001b[38;5;28;01mreturn\u001b[39;00m \u001b[38;5;124mf\u001b[39m\u001b[38;5;124m\"\u001b[39m\u001b[38;5;124m # type: \u001b[39m\u001b[38;5;132;01m{\u001b[39;00mcomment\u001b[38;5;132;01m}\u001b[39;00m\u001b[38;5;124m\"\u001b[39m\n",
      "\u001b[0;31mAttributeError\u001b[0m: 'FunctionDef' object has no attribute 'lineno'"
     ]
    }
   ],
   "source": [
    "tree = _proc_mod(mod)\n",
    "tree.body[7]"
   ]
  },
  {
   "cell_type": "code",
   "execution_count": 49,
   "id": "d149d1a9",
   "metadata": {},
   "outputs": [],
   "source": [
    "#| export\n",
    "def create_pyi(fn, package=None):\n",
    "    \"Convert `fname.py` to `fname.pyi` by removing function bodies and expanding `delegates` kwargs\"\n",
    "    fn = Path(fn)\n",
    "    mod = imp_mod(fn, package=package)\n",
    "    tree = _proc_mod(mod)\n",
    "    res = unparse(tree)\n",
    "    fn.with_suffix('.pyi').write_text(res)"
   ]
  },
  {
   "cell_type": "code",
   "execution_count": 50,
   "id": "7a4e6fb3",
   "metadata": {},
   "outputs": [
    {
     "ename": "AttributeError",
     "evalue": "'FunctionDef' object has no attribute 'lineno'",
     "output_type": "error",
     "traceback": [
      "\u001b[0;31m---------------------------------------------------------------------------\u001b[0m",
      "\u001b[0;31mAttributeError\u001b[0m                            Traceback (most recent call last)",
      "Cell \u001b[0;32mIn[50], line 2\u001b[0m\n\u001b[1;32m      1\u001b[0m fn \u001b[38;5;241m=\u001b[39m \u001b[38;5;124m'\u001b[39m\u001b[38;5;124msimple-test.py\u001b[39m\u001b[38;5;124m'\u001b[39m\n\u001b[0;32m----> 2\u001b[0m \u001b[43mcreate_pyi\u001b[49m\u001b[43m(\u001b[49m\u001b[43mfn\u001b[49m\u001b[43m)\u001b[49m\n",
      "Cell \u001b[0;32mIn[49], line 7\u001b[0m, in \u001b[0;36mcreate_pyi\u001b[0;34m(fn, package)\u001b[0m\n\u001b[1;32m      5\u001b[0m mod \u001b[38;5;241m=\u001b[39m imp_mod(fn, package\u001b[38;5;241m=\u001b[39mpackage)\n\u001b[1;32m      6\u001b[0m tree \u001b[38;5;241m=\u001b[39m _proc_mod(mod)\n\u001b[0;32m----> 7\u001b[0m res \u001b[38;5;241m=\u001b[39m \u001b[43munparse\u001b[49m\u001b[43m(\u001b[49m\u001b[43mtree\u001b[49m\u001b[43m)\u001b[49m\n\u001b[1;32m      8\u001b[0m fn\u001b[38;5;241m.\u001b[39mwith_suffix(\u001b[38;5;124m'\u001b[39m\u001b[38;5;124m.pyi\u001b[39m\u001b[38;5;124m'\u001b[39m)\u001b[38;5;241m.\u001b[39mwrite_text(res)\n",
      "File \u001b[0;32m~/mambaforge/lib/python3.10/ast.py:1681\u001b[0m, in \u001b[0;36munparse\u001b[0;34m(ast_obj)\u001b[0m\n\u001b[1;32m   1679\u001b[0m \u001b[38;5;28;01mdef\u001b[39;00m \u001b[38;5;21munparse\u001b[39m(ast_obj):\n\u001b[1;32m   1680\u001b[0m     unparser \u001b[38;5;241m=\u001b[39m _Unparser()\n\u001b[0;32m-> 1681\u001b[0m     \u001b[38;5;28;01mreturn\u001b[39;00m \u001b[43munparser\u001b[49m\u001b[38;5;241;43m.\u001b[39;49m\u001b[43mvisit\u001b[49m\u001b[43m(\u001b[49m\u001b[43mast_obj\u001b[49m\u001b[43m)\u001b[49m\n",
      "File \u001b[0;32m~/mambaforge/lib/python3.10/ast.py:815\u001b[0m, in \u001b[0;36m_Unparser.visit\u001b[0;34m(self, node)\u001b[0m\n\u001b[1;32m    812\u001b[0m \u001b[38;5;250m\u001b[39m\u001b[38;5;124;03m\"\"\"Outputs a source code string that, if converted back to an ast\u001b[39;00m\n\u001b[1;32m    813\u001b[0m \u001b[38;5;124;03m(using ast.parse) will generate an AST equivalent to *node*\"\"\"\u001b[39;00m\n\u001b[1;32m    814\u001b[0m \u001b[38;5;28mself\u001b[39m\u001b[38;5;241m.\u001b[39m_source \u001b[38;5;241m=\u001b[39m []\n\u001b[0;32m--> 815\u001b[0m \u001b[38;5;28;43mself\u001b[39;49m\u001b[38;5;241;43m.\u001b[39;49m\u001b[43mtraverse\u001b[49m\u001b[43m(\u001b[49m\u001b[43mnode\u001b[49m\u001b[43m)\u001b[49m\n\u001b[1;32m    816\u001b[0m \u001b[38;5;28;01mreturn\u001b[39;00m \u001b[38;5;124m\"\u001b[39m\u001b[38;5;124m\"\u001b[39m\u001b[38;5;241m.\u001b[39mjoin(\u001b[38;5;28mself\u001b[39m\u001b[38;5;241m.\u001b[39m_source)\n",
      "File \u001b[0;32m~/mambaforge/lib/python3.10/ast.py:806\u001b[0m, in \u001b[0;36m_Unparser.traverse\u001b[0;34m(self, node)\u001b[0m\n\u001b[1;32m    804\u001b[0m         \u001b[38;5;28mself\u001b[39m\u001b[38;5;241m.\u001b[39mtraverse(item)\n\u001b[1;32m    805\u001b[0m \u001b[38;5;28;01melse\u001b[39;00m:\n\u001b[0;32m--> 806\u001b[0m     \u001b[38;5;28;43msuper\u001b[39;49m\u001b[43m(\u001b[49m\u001b[43m)\u001b[49m\u001b[38;5;241;43m.\u001b[39;49m\u001b[43mvisit\u001b[49m\u001b[43m(\u001b[49m\u001b[43mnode\u001b[49m\u001b[43m)\u001b[49m\n",
      "File \u001b[0;32m~/mambaforge/lib/python3.10/ast.py:418\u001b[0m, in \u001b[0;36mNodeVisitor.visit\u001b[0;34m(self, node)\u001b[0m\n\u001b[1;32m    416\u001b[0m method \u001b[38;5;241m=\u001b[39m \u001b[38;5;124m'\u001b[39m\u001b[38;5;124mvisit_\u001b[39m\u001b[38;5;124m'\u001b[39m \u001b[38;5;241m+\u001b[39m node\u001b[38;5;241m.\u001b[39m\u001b[38;5;18m__class__\u001b[39m\u001b[38;5;241m.\u001b[39m\u001b[38;5;18m__name__\u001b[39m\n\u001b[1;32m    417\u001b[0m visitor \u001b[38;5;241m=\u001b[39m \u001b[38;5;28mgetattr\u001b[39m(\u001b[38;5;28mself\u001b[39m, method, \u001b[38;5;28mself\u001b[39m\u001b[38;5;241m.\u001b[39mgeneric_visit)\n\u001b[0;32m--> 418\u001b[0m \u001b[38;5;28;01mreturn\u001b[39;00m \u001b[43mvisitor\u001b[49m\u001b[43m(\u001b[49m\u001b[43mnode\u001b[49m\u001b[43m)\u001b[49m\n",
      "File \u001b[0;32m~/mambaforge/lib/python3.10/ast.py:830\u001b[0m, in \u001b[0;36m_Unparser.visit_Module\u001b[0;34m(self, node)\u001b[0m\n\u001b[1;32m    825\u001b[0m \u001b[38;5;28;01mdef\u001b[39;00m \u001b[38;5;21mvisit_Module\u001b[39m(\u001b[38;5;28mself\u001b[39m, node):\n\u001b[1;32m    826\u001b[0m     \u001b[38;5;28mself\u001b[39m\u001b[38;5;241m.\u001b[39m_type_ignores \u001b[38;5;241m=\u001b[39m {\n\u001b[1;32m    827\u001b[0m         ignore\u001b[38;5;241m.\u001b[39mlineno: \u001b[38;5;124mf\u001b[39m\u001b[38;5;124m\"\u001b[39m\u001b[38;5;124mignore\u001b[39m\u001b[38;5;132;01m{\u001b[39;00mignore\u001b[38;5;241m.\u001b[39mtag\u001b[38;5;132;01m}\u001b[39;00m\u001b[38;5;124m\"\u001b[39m\n\u001b[1;32m    828\u001b[0m         \u001b[38;5;28;01mfor\u001b[39;00m ignore \u001b[38;5;129;01min\u001b[39;00m node\u001b[38;5;241m.\u001b[39mtype_ignores\n\u001b[1;32m    829\u001b[0m     }\n\u001b[0;32m--> 830\u001b[0m     \u001b[38;5;28;43mself\u001b[39;49m\u001b[38;5;241;43m.\u001b[39;49m\u001b[43m_write_docstring_and_traverse_body\u001b[49m\u001b[43m(\u001b[49m\u001b[43mnode\u001b[49m\u001b[43m)\u001b[49m\n\u001b[1;32m    831\u001b[0m     \u001b[38;5;28mself\u001b[39m\u001b[38;5;241m.\u001b[39m_type_ignores\u001b[38;5;241m.\u001b[39mclear()\n",
      "File \u001b[0;32m~/mambaforge/lib/python3.10/ast.py:823\u001b[0m, in \u001b[0;36m_Unparser._write_docstring_and_traverse_body\u001b[0;34m(self, node)\u001b[0m\n\u001b[1;32m    821\u001b[0m     \u001b[38;5;28mself\u001b[39m\u001b[38;5;241m.\u001b[39mtraverse(node\u001b[38;5;241m.\u001b[39mbody[\u001b[38;5;241m1\u001b[39m:])\n\u001b[1;32m    822\u001b[0m \u001b[38;5;28;01melse\u001b[39;00m:\n\u001b[0;32m--> 823\u001b[0m     \u001b[38;5;28;43mself\u001b[39;49m\u001b[38;5;241;43m.\u001b[39;49m\u001b[43mtraverse\u001b[49m\u001b[43m(\u001b[49m\u001b[43mnode\u001b[49m\u001b[38;5;241;43m.\u001b[39;49m\u001b[43mbody\u001b[49m\u001b[43m)\u001b[49m\n",
      "File \u001b[0;32m~/mambaforge/lib/python3.10/ast.py:804\u001b[0m, in \u001b[0;36m_Unparser.traverse\u001b[0;34m(self, node)\u001b[0m\n\u001b[1;32m    802\u001b[0m \u001b[38;5;28;01mif\u001b[39;00m \u001b[38;5;28misinstance\u001b[39m(node, \u001b[38;5;28mlist\u001b[39m):\n\u001b[1;32m    803\u001b[0m     \u001b[38;5;28;01mfor\u001b[39;00m item \u001b[38;5;129;01min\u001b[39;00m node:\n\u001b[0;32m--> 804\u001b[0m         \u001b[38;5;28;43mself\u001b[39;49m\u001b[38;5;241;43m.\u001b[39;49m\u001b[43mtraverse\u001b[49m\u001b[43m(\u001b[49m\u001b[43mitem\u001b[49m\u001b[43m)\u001b[49m\n\u001b[1;32m    805\u001b[0m \u001b[38;5;28;01melse\u001b[39;00m:\n\u001b[1;32m    806\u001b[0m     \u001b[38;5;28msuper\u001b[39m()\u001b[38;5;241m.\u001b[39mvisit(node)\n",
      "File \u001b[0;32m~/mambaforge/lib/python3.10/ast.py:806\u001b[0m, in \u001b[0;36m_Unparser.traverse\u001b[0;34m(self, node)\u001b[0m\n\u001b[1;32m    804\u001b[0m         \u001b[38;5;28mself\u001b[39m\u001b[38;5;241m.\u001b[39mtraverse(item)\n\u001b[1;32m    805\u001b[0m \u001b[38;5;28;01melse\u001b[39;00m:\n\u001b[0;32m--> 806\u001b[0m     \u001b[38;5;28;43msuper\u001b[39;49m\u001b[43m(\u001b[49m\u001b[43m)\u001b[49m\u001b[38;5;241;43m.\u001b[39;49m\u001b[43mvisit\u001b[49m\u001b[43m(\u001b[49m\u001b[43mnode\u001b[49m\u001b[43m)\u001b[49m\n",
      "File \u001b[0;32m~/mambaforge/lib/python3.10/ast.py:418\u001b[0m, in \u001b[0;36mNodeVisitor.visit\u001b[0;34m(self, node)\u001b[0m\n\u001b[1;32m    416\u001b[0m method \u001b[38;5;241m=\u001b[39m \u001b[38;5;124m'\u001b[39m\u001b[38;5;124mvisit_\u001b[39m\u001b[38;5;124m'\u001b[39m \u001b[38;5;241m+\u001b[39m node\u001b[38;5;241m.\u001b[39m\u001b[38;5;18m__class__\u001b[39m\u001b[38;5;241m.\u001b[39m\u001b[38;5;18m__name__\u001b[39m\n\u001b[1;32m    417\u001b[0m visitor \u001b[38;5;241m=\u001b[39m \u001b[38;5;28mgetattr\u001b[39m(\u001b[38;5;28mself\u001b[39m, method, \u001b[38;5;28mself\u001b[39m\u001b[38;5;241m.\u001b[39mgeneric_visit)\n\u001b[0;32m--> 418\u001b[0m \u001b[38;5;28;01mreturn\u001b[39;00m \u001b[43mvisitor\u001b[49m\u001b[43m(\u001b[49m\u001b[43mnode\u001b[49m\u001b[43m)\u001b[49m\n",
      "File \u001b[0;32m~/mambaforge/lib/python3.10/ast.py:1009\u001b[0m, in \u001b[0;36m_Unparser.visit_ClassDef\u001b[0;34m(self, node)\u001b[0m\n\u001b[1;32m   1006\u001b[0m         \u001b[38;5;28mself\u001b[39m\u001b[38;5;241m.\u001b[39mtraverse(e)\n\u001b[1;32m   1008\u001b[0m \u001b[38;5;28;01mwith\u001b[39;00m \u001b[38;5;28mself\u001b[39m\u001b[38;5;241m.\u001b[39mblock():\n\u001b[0;32m-> 1009\u001b[0m     \u001b[38;5;28;43mself\u001b[39;49m\u001b[38;5;241;43m.\u001b[39;49m\u001b[43m_write_docstring_and_traverse_body\u001b[49m\u001b[43m(\u001b[49m\u001b[43mnode\u001b[49m\u001b[43m)\u001b[49m\n",
      "File \u001b[0;32m~/mambaforge/lib/python3.10/ast.py:823\u001b[0m, in \u001b[0;36m_Unparser._write_docstring_and_traverse_body\u001b[0;34m(self, node)\u001b[0m\n\u001b[1;32m    821\u001b[0m     \u001b[38;5;28mself\u001b[39m\u001b[38;5;241m.\u001b[39mtraverse(node\u001b[38;5;241m.\u001b[39mbody[\u001b[38;5;241m1\u001b[39m:])\n\u001b[1;32m    822\u001b[0m \u001b[38;5;28;01melse\u001b[39;00m:\n\u001b[0;32m--> 823\u001b[0m     \u001b[38;5;28;43mself\u001b[39;49m\u001b[38;5;241;43m.\u001b[39;49m\u001b[43mtraverse\u001b[49m\u001b[43m(\u001b[49m\u001b[43mnode\u001b[49m\u001b[38;5;241;43m.\u001b[39;49m\u001b[43mbody\u001b[49m\u001b[43m)\u001b[49m\n",
      "File \u001b[0;32m~/mambaforge/lib/python3.10/ast.py:804\u001b[0m, in \u001b[0;36m_Unparser.traverse\u001b[0;34m(self, node)\u001b[0m\n\u001b[1;32m    802\u001b[0m \u001b[38;5;28;01mif\u001b[39;00m \u001b[38;5;28misinstance\u001b[39m(node, \u001b[38;5;28mlist\u001b[39m):\n\u001b[1;32m    803\u001b[0m     \u001b[38;5;28;01mfor\u001b[39;00m item \u001b[38;5;129;01min\u001b[39;00m node:\n\u001b[0;32m--> 804\u001b[0m         \u001b[38;5;28;43mself\u001b[39;49m\u001b[38;5;241;43m.\u001b[39;49m\u001b[43mtraverse\u001b[49m\u001b[43m(\u001b[49m\u001b[43mitem\u001b[49m\u001b[43m)\u001b[49m\n\u001b[1;32m    805\u001b[0m \u001b[38;5;28;01melse\u001b[39;00m:\n\u001b[1;32m    806\u001b[0m     \u001b[38;5;28msuper\u001b[39m()\u001b[38;5;241m.\u001b[39mvisit(node)\n",
      "File \u001b[0;32m~/mambaforge/lib/python3.10/ast.py:806\u001b[0m, in \u001b[0;36m_Unparser.traverse\u001b[0;34m(self, node)\u001b[0m\n\u001b[1;32m    804\u001b[0m         \u001b[38;5;28mself\u001b[39m\u001b[38;5;241m.\u001b[39mtraverse(item)\n\u001b[1;32m    805\u001b[0m \u001b[38;5;28;01melse\u001b[39;00m:\n\u001b[0;32m--> 806\u001b[0m     \u001b[38;5;28;43msuper\u001b[39;49m\u001b[43m(\u001b[49m\u001b[43m)\u001b[49m\u001b[38;5;241;43m.\u001b[39;49m\u001b[43mvisit\u001b[49m\u001b[43m(\u001b[49m\u001b[43mnode\u001b[49m\u001b[43m)\u001b[49m\n",
      "File \u001b[0;32m~/mambaforge/lib/python3.10/ast.py:418\u001b[0m, in \u001b[0;36mNodeVisitor.visit\u001b[0;34m(self, node)\u001b[0m\n\u001b[1;32m    416\u001b[0m method \u001b[38;5;241m=\u001b[39m \u001b[38;5;124m'\u001b[39m\u001b[38;5;124mvisit_\u001b[39m\u001b[38;5;124m'\u001b[39m \u001b[38;5;241m+\u001b[39m node\u001b[38;5;241m.\u001b[39m\u001b[38;5;18m__class__\u001b[39m\u001b[38;5;241m.\u001b[39m\u001b[38;5;18m__name__\u001b[39m\n\u001b[1;32m    417\u001b[0m visitor \u001b[38;5;241m=\u001b[39m \u001b[38;5;28mgetattr\u001b[39m(\u001b[38;5;28mself\u001b[39m, method, \u001b[38;5;28mself\u001b[39m\u001b[38;5;241m.\u001b[39mgeneric_visit)\n\u001b[0;32m--> 418\u001b[0m \u001b[38;5;28;01mreturn\u001b[39;00m \u001b[43mvisitor\u001b[49m\u001b[43m(\u001b[49m\u001b[43mnode\u001b[49m\u001b[43m)\u001b[49m\n",
      "File \u001b[0;32m~/mambaforge/lib/python3.10/ast.py:1012\u001b[0m, in \u001b[0;36m_Unparser.visit_FunctionDef\u001b[0;34m(self, node)\u001b[0m\n\u001b[1;32m   1011\u001b[0m \u001b[38;5;28;01mdef\u001b[39;00m \u001b[38;5;21mvisit_FunctionDef\u001b[39m(\u001b[38;5;28mself\u001b[39m, node):\n\u001b[0;32m-> 1012\u001b[0m     \u001b[38;5;28;43mself\u001b[39;49m\u001b[38;5;241;43m.\u001b[39;49m\u001b[43m_function_helper\u001b[49m\u001b[43m(\u001b[49m\u001b[43mnode\u001b[49m\u001b[43m,\u001b[49m\u001b[43m \u001b[49m\u001b[38;5;124;43m\"\u001b[39;49m\u001b[38;5;124;43mdef\u001b[39;49m\u001b[38;5;124;43m\"\u001b[39;49m\u001b[43m)\u001b[49m\n",
      "File \u001b[0;32m~/mambaforge/lib/python3.10/ast.py:1029\u001b[0m, in \u001b[0;36m_Unparser._function_helper\u001b[0;34m(self, node, fill_suffix)\u001b[0m\n\u001b[1;32m   1027\u001b[0m     \u001b[38;5;28mself\u001b[39m\u001b[38;5;241m.\u001b[39mwrite(\u001b[38;5;124m\"\u001b[39m\u001b[38;5;124m -> \u001b[39m\u001b[38;5;124m\"\u001b[39m)\n\u001b[1;32m   1028\u001b[0m     \u001b[38;5;28mself\u001b[39m\u001b[38;5;241m.\u001b[39mtraverse(node\u001b[38;5;241m.\u001b[39mreturns)\n\u001b[0;32m-> 1029\u001b[0m \u001b[38;5;28;01mwith\u001b[39;00m \u001b[38;5;28mself\u001b[39m\u001b[38;5;241m.\u001b[39mblock(extra\u001b[38;5;241m=\u001b[39m\u001b[38;5;28;43mself\u001b[39;49m\u001b[38;5;241;43m.\u001b[39;49m\u001b[43mget_type_comment\u001b[49m\u001b[43m(\u001b[49m\u001b[43mnode\u001b[49m\u001b[43m)\u001b[49m):\n\u001b[1;32m   1030\u001b[0m     \u001b[38;5;28mself\u001b[39m\u001b[38;5;241m.\u001b[39m_write_docstring_and_traverse_body(node)\n",
      "File \u001b[0;32m~/mambaforge/lib/python3.10/ast.py:797\u001b[0m, in \u001b[0;36m_Unparser.get_type_comment\u001b[0;34m(self, node)\u001b[0m\n\u001b[1;32m    796\u001b[0m \u001b[38;5;28;01mdef\u001b[39;00m \u001b[38;5;21mget_type_comment\u001b[39m(\u001b[38;5;28mself\u001b[39m, node):\n\u001b[0;32m--> 797\u001b[0m     comment \u001b[38;5;241m=\u001b[39m \u001b[38;5;28mself\u001b[39m\u001b[38;5;241m.\u001b[39m_type_ignores\u001b[38;5;241m.\u001b[39mget(\u001b[43mnode\u001b[49m\u001b[38;5;241;43m.\u001b[39;49m\u001b[43mlineno\u001b[49m) \u001b[38;5;129;01mor\u001b[39;00m node\u001b[38;5;241m.\u001b[39mtype_comment\n\u001b[1;32m    798\u001b[0m     \u001b[38;5;28;01mif\u001b[39;00m comment \u001b[38;5;129;01mis\u001b[39;00m \u001b[38;5;129;01mnot\u001b[39;00m \u001b[38;5;28;01mNone\u001b[39;00m:\n\u001b[1;32m    799\u001b[0m         \u001b[38;5;28;01mreturn\u001b[39;00m \u001b[38;5;124mf\u001b[39m\u001b[38;5;124m\"\u001b[39m\u001b[38;5;124m # type: \u001b[39m\u001b[38;5;132;01m{\u001b[39;00mcomment\u001b[38;5;132;01m}\u001b[39;00m\u001b[38;5;124m\"\u001b[39m\n",
      "\u001b[0;31mAttributeError\u001b[0m: 'FunctionDef' object has no attribute 'lineno'"
     ]
    }
   ],
   "source": [
    "fn = 'simple-test.py'\n",
    "create_pyi(fn)"
   ]
  },
  {
   "cell_type": "code",
   "execution_count": 55,
   "id": "7067e29f",
   "metadata": {},
   "outputs": [],
   "source": [
    "# fn = Path('/Users/jhoward/git/fastcore/fastcore/docments.py')\n",
    "# create_pyi(fn, 'fastcore')"
   ]
  },
  {
   "cell_type": "markdown",
   "id": "075cf465",
   "metadata": {},
   "source": [
    "## Script"
   ]
  },
  {
   "cell_type": "code",
   "execution_count": 56,
   "id": "365271bf",
   "metadata": {},
   "outputs": [],
   "source": [
    "#| export\n",
    "from fastcore.script import call_parse"
   ]
  },
  {
   "cell_type": "code",
   "execution_count": 57,
   "id": "a08be00d",
   "metadata": {},
   "outputs": [],
   "source": [
    "#| export\n",
    "@call_parse\n",
    "def py2pyi(fname:str,  # The file name to convert\n",
    "           package:str=None  # The parent package\n",
    "          ):\n",
    "    \"Convert `fname.py` to `fname.pyi` by removing function bodies and expanding `delegates` kwargs\"\n",
    "    create_pyi(fname, package)"
   ]
  },
  {
   "cell_type": "code",
   "execution_count": 58,
   "id": "fe8e3665",
   "metadata": {},
   "outputs": [],
   "source": [
    "#| export\n",
    "@call_parse\n",
    "def replace_wildcards(\n",
    "    # Path to the Python file to process\n",
    "    path: str):\n",
    "    \"Expand wildcard imports in the specified Python file.\"\n",
    "    path = Path(path)\n",
    "    path.write_text(expand_wildcards(path.read_text()))"
   ]
  },
  {
   "cell_type": "markdown",
   "id": "df973d4e",
   "metadata": {},
   "source": [
    "# Export -"
   ]
  },
  {
   "cell_type": "code",
   "execution_count": null,
   "id": "ad32b076",
   "metadata": {},
   "outputs": [],
   "source": [
    "#| hide\n",
    "import nbdev; nbdev.nbdev_export()"
   ]
  },
  {
   "cell_type": "code",
   "execution_count": null,
   "id": "dc0e8a0a",
   "metadata": {},
   "outputs": [],
   "source": []
  },
  {
   "cell_type": "markdown",
   "id": "09f94596",
   "metadata": {},
   "source": [
    "# simple-test.py experiment"
   ]
  },
  {
   "cell_type": "code",
   "execution_count": 61,
   "id": "2f4db142",
   "metadata": {},
   "outputs": [
    {
     "name": "stdout",
     "output_type": "stream",
     "text": [
      "module_path:  simple-test.py\n",
      "module_name:  simple-test\n",
      "spec:  ModuleSpec(name='simple-test', loader=None, origin='simple-test.py')\n",
      "module:  <module 'simple-test' (simple-test.py)>\n",
      "spec.loader:  <_frozen_importlib_external.SourceFileLoader object at 0x11f56a1a0>\n",
      "<module 'simple-test' (simple-test.py)>\n"
     ]
    }
   ],
   "source": [
    "from pprint import pprint\n",
    "fn = 'simple-test.py'\n",
    "\n",
    "# output: Path('simple-test.py')\n",
    "\n",
    "def create_pyi(fn, package=None):\n",
    "    \"Convert `fname.py` to `fname.pyi` by removing function bodies and expanding `delegates` kwargs\"\n",
    "    fn = Path(fn)\n",
    "\n",
    "    mod = imp_mod(fn, package=None)\n",
    "    tree = _proc_mod(mod)\n",
    "    res = unparse(tree)\n",
    "    fn.with_suffix('.pyi').write_text(res)\n",
    "\n",
    "\n",
    "def imp_mod(module_path, package=None):\n",
    "    \"Import dynamically the module referenced in `fn`\"\n",
    "    module_path = str(module_path)\n",
    "    print(\"module_path: \", module_path)\n",
    "    module_name = os.path.splitext(os.path.basename(module_path))[0]\n",
    "    print(\"module_name: \", module_name)\n",
    "    spec = importlib.machinery.ModuleSpec(module_name, None, origin=module_path)\n",
    "    print(\"spec: \", spec)\n",
    "    module = importlib.util.module_from_spec(spec)\n",
    "    print(\"module: \", module)\n",
    "    spec.loader = importlib.machinery.SourceFileLoader(module_name, module_path)\n",
    "    print(\"spec.loader: \", spec.loader)\n",
    "\n",
    "    if package is not None: module.__package__ = package\n",
    "    module.__file__ = os.path.abspath(module_path)\n",
    "    spec.loader.exec_module(module)\n",
    "    return module\n",
    "\n",
    "mod = imp_mod(fn, package=None)\n",
    "pprint(mod)\n"
   ]
  },
  {
   "cell_type": "code",
   "execution_count": 60,
   "id": "4280c42b",
   "metadata": {},
   "outputs": [],
   "source": [
    "#### commented without changes\n",
    "\n",
    "from pprint import pprint\n",
    "fn = 'simple-test.py'\n",
    "fn = Path(fn)\n",
    "fn\n",
    "# output: Path('simple-test.py')\n",
    "\n",
    "\n",
    "def imp_mod(module_path, package=None):\n",
    "    \"Import dynamically the module referenced in `fn`\"\n",
    "    module_path = str(module_path)\n",
    "    print(\"module_path: \", module_path)\n",
    "    module_name = os.path.splitext(os.path.basename(module_path))[0]\n",
    "    print(\"module_name: \", module_name)\n",
    "    spec = importlib.machinery.ModuleSpec(module_name, None, origin=module_path)\n",
    "    print(\"spec: \", spec)\n",
    "    module = importlib.util.module_from_spec(spec)\n",
    "    print(\"module: \", module)\n",
    "    spec.loader = importlib.machinery.SourceFileLoader(module_name, module_path)\n",
    "    print(\"spec.loader: \", spec.loader)\n",
    "    if package is not None: module.__package__ = package\n",
    "    module.__file__ = os.path.abspath(module_path)\n",
    "    spec.loader.exec_module(module)\n",
    "    return module\n",
    "\n",
    "mod = imp_mod(fn, package=None)\n",
    "pprint(mod)\n",
    "\n",
    "#| export\n",
    "# Function to process a module\n",
    "def _proc_mod(mod):\n",
    "    # Parse the module's source code into an abstract syntax tree (AST)\n",
    "    tree = _get_tree(mod)\n",
    "    # Process the AST\n",
    "    _proc_tree(tree, mod)\n",
    "    # Return the processed AST\n",
    "    return tree\n",
    "\n",
    "# Function to get the AST of a module\n",
    "def _get_tree(mod):\n",
    "    # Parse the source code of the module into an AST and return it\n",
    "    return parse(getsource(mod))\n",
    "\n",
    "# Function to process an AST\n",
    "def _proc_tree(tree, mod):\n",
    "    # Iterate over each node in the body of the tree\n",
    "    for node in tree.body:\n",
    "        # Get a processing function for the node\n",
    "        proc = _get_proc(node)\n",
    "        # If a processing function was returned, call it with the node and the module\n",
    "        if proc: proc(node, mod)\n",
    "\n",
    "# Function to process a class node\n",
    "def _proc_class(node, mod):\n",
    "    # Get the class object from the module\n",
    "    cls = getattr(mod, node.name)\n",
    "    # Process the class's AST\n",
    "    _proc_tree(node, cls)\n",
    "\n",
    "# Function to process a function or method node that doesn't have a 'delegates' decorator\n",
    "def _proc_body(node, mod): \n",
    "    # Replace the body of the function or method with an ellipsis\n",
    "    _body_ellip(node)\n",
    "\n",
    "# Function to process a function or method node that has a 'patch' decorator\n",
    "def _proc_patched(node, mod):\n",
    "    # Get the annotation of the first argument of the function or method\n",
    "    ann = node.args.args[0].annotation\n",
    "    # If the annotation has elements, get the first one\n",
    "    if hasattr(ann, 'elts'): ann = ann.elts[0]\n",
    "    # Get the class object from the module\n",
    "    cls = getattr(mod, ann.id)\n",
    "    # Get the symbol (function or method) from the class\n",
    "    sym = getattr(cls, node.name)\n",
    "    # Update the function or method node with the symbol's signature and remove any 'delegates' decorators\n",
    "    _update_func(node, sym)\n",
    "\n",
    "# Function to get the id of a decorator\n",
    "def _deco_id(d:Union[ast.Name,ast.Attribute])->bool:\n",
    "    # If the decorator is a name, return its id\n",
    "    # If the decorator is an attribute, return the id of its function\n",
    "    return d.id if isinstance(d, ast.Name) else d.func.id\n",
    "\n",
    "# Function to check if a function or method node has a specific decorator\n",
    "def has_deco(node:Union[ast.FunctionDef,ast.AsyncFunctionDef], name:str)->bool:\n",
    "    # Return True if any of the node's decorators have the specified name, False otherwise\n",
    "    return any(_deco_id(d)==name for d in getattr(node, 'decorator_list', []))\n",
    "\n",
    "# Function to update a function or method node\n",
    "def _update_func(node, sym):\n",
    "    # Replace the node's argument list with the symbol's signature\n",
    "    node.args = ast_args(sym)\n",
    "    # Replace the body of the node with an ellipsis\n",
    "    _body_ellip(node)\n",
    "    # Remove any 'delegates' decorators from the node\n",
    "    node.decorator_list = [d for d in node.decorator_list if _deco_id(d) != 'delegates']\n",
    "\n",
    "#| export\n",
    "# Function to get a processing function for a node\n",
    "def _get_proc(node):\n",
    "    # If the node is a class definition, return the class processing function\n",
    "    if isinstance(node, ast.ClassDef): return _proc_class\n",
    "    # If the node is not a function or method definition, return None\n",
    "    if not isinstance(node, functypes): return None\n",
    "    # If the node doesn't have a 'delegates' decorator, return the body processing function\n",
    "    if not has_deco(node, 'delegates'): return _proc_body\n",
    "    # If the node has a 'patch' decorator, return the patched processing function\n",
    "    if has_deco(node, 'patch'): return _proc_patched\n",
    "    # Otherwise, return the function processing function\n",
    "    return _proc_func"
   ]
  },
  {
   "cell_type": "code",
   "execution_count": null,
   "id": "9a8baed7",
   "metadata": {},
   "outputs": [],
   "source": [
    "# Function to process a module\n",
    "def _proc_mod(mod):\n",
    "    print(f\"Processing module: {mod}\")\n",
    "    tree = _get_tree(mod)\n",
    "    print(f\"AST of module: {tree}\")\n",
    "    _proc_tree(tree, mod)\n",
    "    return tree\n",
    "\n",
    "def _get_tree(mod):\n",
    "    print(f\"Getting AST for module: {mod}\")\n",
    "    return parse(getsource(mod))\n",
    "\n",
    "def _proc_tree(tree, mod):\n",
    "    print(f\"Processing AST: {tree} for module: {mod}\")\n",
    "    for node in tree.body:\n",
    "        proc = _get_proc(node)\n",
    "        if proc: \n",
    "            print(f\"Processing node: {node} with function: {proc}\")\n",
    "            proc(node, mod)\n",
    "\n",
    "def _proc_class(node, mod):\n",
    "    print(f\"Processing class node: {node} in module: {mod}\")\n",
    "    cls = getattr(mod, node.name)\n",
    "    _proc_tree(node, cls)\n",
    "\n",
    "def _proc_body(node, mod): \n",
    "    print(f\"Processing function/method node without 'delegates' decorator: {node} in module: {mod}\")\n",
    "    _body_ellip(node)\n",
    "\n",
    "def _proc_patched(node, mod):\n",
    "    print(f\"Processing function/method node with 'patch' decorator: {node} in module: {mod}\")\n",
    "    ann = node.args.args[0].annotation\n",
    "    if hasattr(ann, 'elts'): ann = ann.elts[0]\n",
    "    cls = getattr(mod, ann.id)\n",
    "    sym = getattr(cls, node.name)\n",
    "    _update_func(node, sym)\n",
    "\n",
    "def _deco_id(d:Union[ast.Name,ast.Attribute])->bool:\n",
    "    print(f\"Getting id for decorator: {d}\")\n",
    "    return d.id if isinstance(d, ast.Name) else d.func.id\n",
    "\n",
    "def has_deco(node:Union[ast.FunctionDef,ast.AsyncFunctionDef], name:str)->bool:\n",
    "    print(f\"Checking if node: {node} has decorator: {name}\")\n",
    "    return any(_deco_id(d)==name for d in getattr(node, 'decorator_list', []))\n",
    "\n",
    "def _update_func(node, sym):\n",
    "    print(f\"Updating function/method node: {node} with symbol: {sym}\")\n",
    "    node.args = ast_args(sym)\n",
    "    _body_ellip(node)\n",
    "    node.decorator_list = [d for d in node.decorator_list if _deco_id(d) != 'delegates']\n",
    "\n",
    "def _get_proc(node):\n",
    "    print(f\"Getting processing function for node: {node}\")\n",
    "    if isinstance(node, ast.ClassDef): return _proc_class\n",
    "    if not isinstance(node, functypes): return None\n",
    "    if not has_deco(node, 'delegates'): return _proc_body\n",
    "    if has_deco(node, 'patch'): return _proc_patched\n",
    "    return _proc_func\n"
   ]
  },
  {
   "cell_type": "code",
   "execution_count": 67,
   "id": "259014d5",
   "metadata": {},
   "outputs": [],
   "source": [
    "%%debug\n",
    "tree = _proc_mod(mod)\n",
    "pprint(tree)\n"
   ]
  },
  {
   "cell_type": "code",
   "execution_count": 64,
   "id": "cfec4619",
   "metadata": {},
   "outputs": [],
   "source": [
    "# #### changed solution\n",
    "\n",
    "# # Function to process a module\n",
    "# def _proc_mod(mod):\n",
    "#     # Parse the module's source code into an abstract syntax tree (AST)\n",
    "#     tree = _get_tree(mod)\n",
    "#     # Process the AST\n",
    "#     _proc_tree(tree, mod)\n",
    "#     # Return the processed AST\n",
    "#     return tree\n",
    "\n",
    "# # Function to get the AST of a module\n",
    "# def _get_tree(mod):\n",
    "#     # Parse the source code of the module into an AST and return it\n",
    "#     return parse(getsource(mod))\n",
    "\n",
    "# # Function to process an AST\n",
    "# def _proc_tree(tree, mod):\n",
    "#     # Iterate over each node in the body of the tree\n",
    "#     for node in tree.body:\n",
    "#         # Get a processing function for the node\n",
    "#         proc = _get_proc(node)\n",
    "#         # If a processing function was returned, call it with the node and the module\n",
    "#         if proc: proc(node, mod)\n",
    "\n",
    "#     # Move patched functions into their respective classes\n",
    "#     for node in tree.body:\n",
    "#         if isinstance(node, ast.FunctionDef) and has_deco(node, 'patch'):\n",
    "#             _proc_patched(node, mod)\n",
    "#             tree.body.remove(node)\n",
    "\n",
    "# # Function to process a class node\n",
    "# def _proc_class(node, mod):\n",
    "#     # Get the class object from the module\n",
    "#     cls = getattr(mod, node.name)\n",
    "#     # Process the class's AST\n",
    "#     _proc_tree(node, cls)\n",
    "\n",
    "# # Function to process a function or method node that doesn't have a 'delegates' decorator\n",
    "# def _proc_body(node, mod): \n",
    "#     # Replace the body of the function or method with an ellipsis\n",
    "#     _body_ellip(node)\n",
    "\n",
    "# # Function to process a function or method node that has a 'patch' decorator\n",
    "# def _proc_patched(node, mod):\n",
    "#     # Get the annotation of the first argument of the function or method\n",
    "#     ann = node.args.args[0].annotation\n",
    "#     # If the annotation has elements, get the first one\n",
    "#     if hasattr(ann, 'elts'): ann = ann.elts[0]\n",
    "#     # Get the class object from the module\n",
    "#     cls = getattr(mod, ann.id)\n",
    "#     # Get the symbol (function or method) from the class\n",
    "#     sym = getattr(cls, node.name)\n",
    "#     # Update the function or method node with the symbol's signature and remove any 'delegates' decorators\n",
    "#     _update_func(node, sym)\n",
    "\n",
    "#     # Remove the function from the module level\n",
    "#     mod.__dict__.pop(node.name, None)\n",
    "#     # Add the function to the class level\n",
    "#     setattr(cls, node.name, node)\n",
    "\n",
    "#     # Find the class node in the AST\n",
    "#     for class_node in tree.body:\n",
    "#         if isinstance(class_node, ast.ClassDef) and class_node.name == cls.__name__:\n",
    "#             # Add the function node to the body of the class node\n",
    "#             class_node.body.append(node)\n",
    "#             break\n",
    "\n",
    "# # Function to get the id of a decorator\n",
    "# def _deco_id(d:Union[ast.Name,ast.Attribute])->bool:\n",
    "#     # If the decorator is a name, return its id\n",
    "#     # If the decorator is an attribute, return the id of its function\n",
    "#     return d.id if isinstance(d, ast.Name) else d.func.id\n",
    "\n",
    "# # Function to check if a function or method node has a specific decorator\n",
    "# def has_deco(node:Union[ast.FunctionDef,ast.AsyncFunctionDef], name:str)->bool:\n",
    "#     # Return True if any of the node's decorators have the specified name, False otherwise\n",
    "#     return any(_deco_id(d)==name for d in getattr(node, 'decorator_list', []))\n",
    "\n",
    "# # Function to update a function or method node\n",
    "# def _update_func(node, sym):\n",
    "#     # Replace the node's argument list with the symbol's signature\n",
    "#     node.args = ast_args(sym)\n",
    "#     # Replace the body of the node with an ellipsis\n",
    "#     _body_ellip(node)\n",
    "#     # Remove any 'delegates' decorators from the node\n",
    "#     node.decorator_list = [d for d in node.decorator_list if _deco_id(d) != 'delegates']\n",
    "\n",
    "# #| export\n",
    "# # Function to get a processing function for a node\n",
    "# def _get_proc(node):\n",
    "#     # If the node is a class definition, return the class processing function\n",
    "#     if isinstance(node, ast.ClassDef): return _proc_class\n",
    "#     # If the node is not a function or method definition, return None\n",
    "#     if not isinstance(node, functypes): return None\n",
    "#     # If the node doesn't have a 'delegates' decorator, return the body processing function\n",
    "#     if not has_deco(node, 'delegates'): return _proc_body\n",
    "#     # If the node has a 'patch' decorator, return the patched processing function\n",
    "#     if has_deco(node, 'patch'): return _proc_patched\n",
    "#     # Otherwise, return the function processing function\n",
    "#     return _proc_func"
   ]
  },
  {
   "cell_type": "code",
   "execution_count": 65,
   "id": "b64c68ff",
   "metadata": {},
   "outputs": [
    {
     "ename": "TypeError",
     "evalue": "@patch\ndef f(self: simple - test.A):\n    ... is not a callable object",
     "output_type": "error",
     "traceback": [
      "\u001b[0;31m---------------------------------------------------------------------------\u001b[0m",
      "\u001b[0;31mTypeError\u001b[0m                                 Traceback (most recent call last)",
      "Cell \u001b[0;32mIn[65], line 1\u001b[0m\n\u001b[0;32m----> 1\u001b[0m tree \u001b[38;5;241m=\u001b[39m \u001b[43m_proc_mod\u001b[49m\u001b[43m(\u001b[49m\u001b[43mmod\u001b[49m\u001b[43m)\u001b[49m\n\u001b[1;32m      2\u001b[0m pprint(tree)\n",
      "Cell \u001b[0;32mIn[64], line 8\u001b[0m, in \u001b[0;36m_proc_mod\u001b[0;34m(mod)\u001b[0m\n\u001b[1;32m      6\u001b[0m tree \u001b[38;5;241m=\u001b[39m _get_tree(mod)\n\u001b[1;32m      7\u001b[0m \u001b[38;5;66;03m# Process the AST\u001b[39;00m\n\u001b[0;32m----> 8\u001b[0m \u001b[43m_proc_tree\u001b[49m\u001b[43m(\u001b[49m\u001b[43mtree\u001b[49m\u001b[43m,\u001b[49m\u001b[43m \u001b[49m\u001b[43mmod\u001b[49m\u001b[43m)\u001b[49m\n\u001b[1;32m      9\u001b[0m \u001b[38;5;66;03m# Return the processed AST\u001b[39;00m\n\u001b[1;32m     10\u001b[0m \u001b[38;5;28;01mreturn\u001b[39;00m tree\n",
      "Cell \u001b[0;32mIn[64], line 29\u001b[0m, in \u001b[0;36m_proc_tree\u001b[0;34m(tree, mod)\u001b[0m\n\u001b[1;32m     27\u001b[0m \u001b[38;5;28;01mfor\u001b[39;00m node \u001b[38;5;129;01min\u001b[39;00m tree\u001b[38;5;241m.\u001b[39mbody:\n\u001b[1;32m     28\u001b[0m     \u001b[38;5;28;01mif\u001b[39;00m \u001b[38;5;28misinstance\u001b[39m(node, ast\u001b[38;5;241m.\u001b[39mFunctionDef) \u001b[38;5;129;01mand\u001b[39;00m has_deco(node, \u001b[38;5;124m'\u001b[39m\u001b[38;5;124mpatch\u001b[39m\u001b[38;5;124m'\u001b[39m):\n\u001b[0;32m---> 29\u001b[0m         \u001b[43m_proc_patched\u001b[49m\u001b[43m(\u001b[49m\u001b[43mnode\u001b[49m\u001b[43m,\u001b[49m\u001b[43m \u001b[49m\u001b[43mmod\u001b[49m\u001b[43m)\u001b[49m\n\u001b[1;32m     30\u001b[0m         tree\u001b[38;5;241m.\u001b[39mbody\u001b[38;5;241m.\u001b[39mremove(node)\n",
      "Cell \u001b[0;32mIn[64], line 55\u001b[0m, in \u001b[0;36m_proc_patched\u001b[0;34m(node, mod)\u001b[0m\n\u001b[1;32m     53\u001b[0m sym \u001b[38;5;241m=\u001b[39m \u001b[38;5;28mgetattr\u001b[39m(\u001b[38;5;28mcls\u001b[39m, node\u001b[38;5;241m.\u001b[39mname)\n\u001b[1;32m     54\u001b[0m \u001b[38;5;66;03m# Update the function or method node with the symbol's signature and remove any 'delegates' decorators\u001b[39;00m\n\u001b[0;32m---> 55\u001b[0m \u001b[43m_update_func\u001b[49m\u001b[43m(\u001b[49m\u001b[43mnode\u001b[49m\u001b[43m,\u001b[49m\u001b[43m \u001b[49m\u001b[43msym\u001b[49m\u001b[43m)\u001b[49m\n\u001b[1;32m     57\u001b[0m \u001b[38;5;66;03m# Remove the function from the module level\u001b[39;00m\n\u001b[1;32m     58\u001b[0m mod\u001b[38;5;241m.\u001b[39m\u001b[38;5;18m__dict__\u001b[39m\u001b[38;5;241m.\u001b[39mpop(node\u001b[38;5;241m.\u001b[39mname, \u001b[38;5;28;01mNone\u001b[39;00m)\n",
      "Cell \u001b[0;32mIn[64], line 83\u001b[0m, in \u001b[0;36m_update_func\u001b[0;34m(node, sym)\u001b[0m\n\u001b[1;32m     81\u001b[0m \u001b[38;5;28;01mdef\u001b[39;00m \u001b[38;5;21m_update_func\u001b[39m(node, sym):\n\u001b[1;32m     82\u001b[0m     \u001b[38;5;66;03m# Replace the node's argument list with the symbol's signature\u001b[39;00m\n\u001b[0;32m---> 83\u001b[0m     node\u001b[38;5;241m.\u001b[39margs \u001b[38;5;241m=\u001b[39m \u001b[43mast_args\u001b[49m\u001b[43m(\u001b[49m\u001b[43msym\u001b[49m\u001b[43m)\u001b[49m\n\u001b[1;32m     84\u001b[0m     \u001b[38;5;66;03m# Replace the body of the node with an ellipsis\u001b[39;00m\n\u001b[1;32m     85\u001b[0m     _body_ellip(node)\n",
      "Cell \u001b[0;32mIn[26], line 3\u001b[0m, in \u001b[0;36mast_args\u001b[0;34m(func)\u001b[0m\n\u001b[1;32m      2\u001b[0m \u001b[38;5;28;01mdef\u001b[39;00m \u001b[38;5;21mast_args\u001b[39m(func):\n\u001b[0;32m----> 3\u001b[0m     sig \u001b[38;5;241m=\u001b[39m \u001b[43msignature\u001b[49m\u001b[43m(\u001b[49m\u001b[43mfunc\u001b[49m\u001b[43m)\u001b[49m\n\u001b[1;32m      4\u001b[0m     \u001b[38;5;28;01mreturn\u001b[39;00m ast\u001b[38;5;241m.\u001b[39mparse(\u001b[38;5;124mf\u001b[39m\u001b[38;5;124m\"\u001b[39m\u001b[38;5;124mdef _\u001b[39m\u001b[38;5;132;01m{\u001b[39;00msig2str(sig)\u001b[38;5;132;01m}\u001b[39;00m\u001b[38;5;124m: ...\u001b[39m\u001b[38;5;124m\"\u001b[39m)\u001b[38;5;241m.\u001b[39mbody[\u001b[38;5;241m0\u001b[39m]\u001b[38;5;241m.\u001b[39margs\n",
      "File \u001b[0;32m~/mambaforge/lib/python3.10/inspect.py:3254\u001b[0m, in \u001b[0;36msignature\u001b[0;34m(obj, follow_wrapped, globals, locals, eval_str)\u001b[0m\n\u001b[1;32m   3252\u001b[0m \u001b[38;5;28;01mdef\u001b[39;00m \u001b[38;5;21msignature\u001b[39m(obj, \u001b[38;5;241m*\u001b[39m, follow_wrapped\u001b[38;5;241m=\u001b[39m\u001b[38;5;28;01mTrue\u001b[39;00m, \u001b[38;5;28mglobals\u001b[39m\u001b[38;5;241m=\u001b[39m\u001b[38;5;28;01mNone\u001b[39;00m, \u001b[38;5;28mlocals\u001b[39m\u001b[38;5;241m=\u001b[39m\u001b[38;5;28;01mNone\u001b[39;00m, eval_str\u001b[38;5;241m=\u001b[39m\u001b[38;5;28;01mFalse\u001b[39;00m):\n\u001b[1;32m   3253\u001b[0m \u001b[38;5;250m    \u001b[39m\u001b[38;5;124;03m\"\"\"Get a signature object for the passed callable.\"\"\"\u001b[39;00m\n\u001b[0;32m-> 3254\u001b[0m     \u001b[38;5;28;01mreturn\u001b[39;00m \u001b[43mSignature\u001b[49m\u001b[38;5;241;43m.\u001b[39;49m\u001b[43mfrom_callable\u001b[49m\u001b[43m(\u001b[49m\u001b[43mobj\u001b[49m\u001b[43m,\u001b[49m\u001b[43m \u001b[49m\u001b[43mfollow_wrapped\u001b[49m\u001b[38;5;241;43m=\u001b[39;49m\u001b[43mfollow_wrapped\u001b[49m\u001b[43m,\u001b[49m\n\u001b[1;32m   3255\u001b[0m \u001b[43m                                   \u001b[49m\u001b[38;5;28;43mglobals\u001b[39;49m\u001b[38;5;241;43m=\u001b[39;49m\u001b[38;5;28;43mglobals\u001b[39;49m\u001b[43m,\u001b[49m\u001b[43m \u001b[49m\u001b[38;5;28;43mlocals\u001b[39;49m\u001b[38;5;241;43m=\u001b[39;49m\u001b[38;5;28;43mlocals\u001b[39;49m\u001b[43m,\u001b[49m\u001b[43m \u001b[49m\u001b[43meval_str\u001b[49m\u001b[38;5;241;43m=\u001b[39;49m\u001b[43meval_str\u001b[49m\u001b[43m)\u001b[49m\n",
      "File \u001b[0;32m~/mambaforge/lib/python3.10/inspect.py:3002\u001b[0m, in \u001b[0;36mSignature.from_callable\u001b[0;34m(cls, obj, follow_wrapped, globals, locals, eval_str)\u001b[0m\n\u001b[1;32m   2998\u001b[0m \u001b[38;5;129m@classmethod\u001b[39m\n\u001b[1;32m   2999\u001b[0m \u001b[38;5;28;01mdef\u001b[39;00m \u001b[38;5;21mfrom_callable\u001b[39m(\u001b[38;5;28mcls\u001b[39m, obj, \u001b[38;5;241m*\u001b[39m,\n\u001b[1;32m   3000\u001b[0m                   follow_wrapped\u001b[38;5;241m=\u001b[39m\u001b[38;5;28;01mTrue\u001b[39;00m, \u001b[38;5;28mglobals\u001b[39m\u001b[38;5;241m=\u001b[39m\u001b[38;5;28;01mNone\u001b[39;00m, \u001b[38;5;28mlocals\u001b[39m\u001b[38;5;241m=\u001b[39m\u001b[38;5;28;01mNone\u001b[39;00m, eval_str\u001b[38;5;241m=\u001b[39m\u001b[38;5;28;01mFalse\u001b[39;00m):\n\u001b[1;32m   3001\u001b[0m \u001b[38;5;250m    \u001b[39m\u001b[38;5;124;03m\"\"\"Constructs Signature for the given callable object.\"\"\"\u001b[39;00m\n\u001b[0;32m-> 3002\u001b[0m     \u001b[38;5;28;01mreturn\u001b[39;00m \u001b[43m_signature_from_callable\u001b[49m\u001b[43m(\u001b[49m\u001b[43mobj\u001b[49m\u001b[43m,\u001b[49m\u001b[43m \u001b[49m\u001b[43msigcls\u001b[49m\u001b[38;5;241;43m=\u001b[39;49m\u001b[38;5;28;43mcls\u001b[39;49m\u001b[43m,\u001b[49m\n\u001b[1;32m   3003\u001b[0m \u001b[43m                                    \u001b[49m\u001b[43mfollow_wrapper_chains\u001b[49m\u001b[38;5;241;43m=\u001b[39;49m\u001b[43mfollow_wrapped\u001b[49m\u001b[43m,\u001b[49m\n\u001b[1;32m   3004\u001b[0m \u001b[43m                                    \u001b[49m\u001b[38;5;28;43mglobals\u001b[39;49m\u001b[38;5;241;43m=\u001b[39;49m\u001b[38;5;28;43mglobals\u001b[39;49m\u001b[43m,\u001b[49m\u001b[43m \u001b[49m\u001b[38;5;28;43mlocals\u001b[39;49m\u001b[38;5;241;43m=\u001b[39;49m\u001b[38;5;28;43mlocals\u001b[39;49m\u001b[43m,\u001b[49m\u001b[43m \u001b[49m\u001b[43meval_str\u001b[49m\u001b[38;5;241;43m=\u001b[39;49m\u001b[43meval_str\u001b[49m\u001b[43m)\u001b[49m\n",
      "File \u001b[0;32m~/mambaforge/lib/python3.10/inspect.py:2396\u001b[0m, in \u001b[0;36m_signature_from_callable\u001b[0;34m(obj, follow_wrapper_chains, skip_bound_arg, globals, locals, eval_str, sigcls)\u001b[0m\n\u001b[1;32m   2387\u001b[0m _get_signature_of \u001b[38;5;241m=\u001b[39m functools\u001b[38;5;241m.\u001b[39mpartial(_signature_from_callable,\n\u001b[1;32m   2388\u001b[0m                             follow_wrapper_chains\u001b[38;5;241m=\u001b[39mfollow_wrapper_chains,\n\u001b[1;32m   2389\u001b[0m                             skip_bound_arg\u001b[38;5;241m=\u001b[39mskip_bound_arg,\n\u001b[0;32m   (...)\u001b[0m\n\u001b[1;32m   2392\u001b[0m                             sigcls\u001b[38;5;241m=\u001b[39msigcls,\n\u001b[1;32m   2393\u001b[0m                             eval_str\u001b[38;5;241m=\u001b[39meval_str)\n\u001b[1;32m   2395\u001b[0m \u001b[38;5;28;01mif\u001b[39;00m \u001b[38;5;129;01mnot\u001b[39;00m \u001b[38;5;28mcallable\u001b[39m(obj):\n\u001b[0;32m-> 2396\u001b[0m     \u001b[38;5;28;01mraise\u001b[39;00m \u001b[38;5;167;01mTypeError\u001b[39;00m(\u001b[38;5;124m'\u001b[39m\u001b[38;5;132;01m{!r}\u001b[39;00m\u001b[38;5;124m is not a callable object\u001b[39m\u001b[38;5;124m'\u001b[39m\u001b[38;5;241m.\u001b[39mformat(obj))\n\u001b[1;32m   2398\u001b[0m \u001b[38;5;28;01mif\u001b[39;00m \u001b[38;5;28misinstance\u001b[39m(obj, types\u001b[38;5;241m.\u001b[39mMethodType):\n\u001b[1;32m   2399\u001b[0m     \u001b[38;5;66;03m# In this case we skip the first parameter of the underlying\u001b[39;00m\n\u001b[1;32m   2400\u001b[0m     \u001b[38;5;66;03m# function (usually `self` or `cls`).\u001b[39;00m\n\u001b[1;32m   2401\u001b[0m     sig \u001b[38;5;241m=\u001b[39m _get_signature_of(obj\u001b[38;5;241m.\u001b[39m\u001b[38;5;18m__func__\u001b[39m)\n",
      "\u001b[0;31mTypeError\u001b[0m: @patch\ndef f(self: simple - test.A):\n    ... is not a callable object"
     ]
    }
   ],
   "source": [
    "tree = _proc_mod(mod)\n",
    "pprint(tree)\n"
   ]
  },
  {
   "cell_type": "code",
   "execution_count": 63,
   "id": "aa34c9a2",
   "metadata": {},
   "outputs": [],
   "source": [
    "res = unparse(tree)"
   ]
  },
  {
   "cell_type": "code",
   "execution_count": null,
   "id": "f845fcd5",
   "metadata": {},
   "outputs": [],
   "source": []
  },
  {
   "cell_type": "code",
   "execution_count": null,
   "id": "b84dda38",
   "metadata": {},
   "outputs": [],
   "source": []
  }
 ],
 "metadata": {
  "kernelspec": {
   "display_name": "python3",
   "language": "python",
   "name": "python3"
  },
  "language_info": {
   "codemirror_mode": {
    "name": "ipython",
    "version": 3
   },
   "file_extension": ".py",
   "mimetype": "text/x-python",
   "name": "python",
   "nbconvert_exporter": "python",
   "pygments_lexer": "ipython3",
   "version": "3.10.14"
  }
 },
 "nbformat": 4,
 "nbformat_minor": 5
}
