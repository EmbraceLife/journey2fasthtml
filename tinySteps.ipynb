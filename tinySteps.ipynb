{
 "cells": [
  {
   "cell_type": "markdown",
   "metadata": {},
   "source": [
    "# 00 Imports"
   ]
  },
  {
   "cell_type": "code",
   "execution_count": 1,
   "metadata": {},
   "outputs": [],
   "source": [
    "from fasthtml import common as fh \n",
    "from fasthtml.common import *\n",
    "\n",
    "from IPython.core.interactiveshell import InteractiveShell\n",
    "InteractiveShell.ast_node_interactivity = \"all\"\n",
    "\n",
    "import time\n",
    "\n",
    "from IPython import display\n",
    "from enum import Enum\n",
    "from pprint import pprint\n",
    "\n",
    "from fastcore.test import *\n",
    "from starlette.testclient import TestClient\n",
    "from starlette.requests import Headers\n",
    "from starlette.datastructures import UploadFile\n",
    "\n"
   ]
  },
  {
   "cell_type": "markdown",
   "metadata": {},
   "source": [
    "# initialization\n",
    "\n",
    "## what needed to start a web app\n",
    "\n",
    "- app: a server everything we need for a web app\n",
    "- rt: a router to manage the routes or paths to different pages in the app\n",
    "- todos: a database for the app\n",
    "- Todo: a data class for the todos\n",
    "\n",
    "## fast_app: what and how\n",
    "\n",
    "- fast_app: a function to initialize a web app by giving us all the above\n",
    "- 'todos1.db': specify the database file name\n",
    "- `live=True`: specify if the app is live mode or not\n",
    "- `id=int`, `title=str`, `done=bool` `pk='id'` are custom kwargs to specify the data types for each column of the database\n",
    "    - `id`, `title`, `done` are the columns of the database, \n",
    "    - and `id` is the primary key to uniquely identify each row"
   ]
  },
  {
   "cell_type": "markdown",
   "metadata": {},
   "source": [
    "## 01 initialize the app\n"
   ]
  },
  {
   "cell_type": "code",
   "execution_count": 2,
   "metadata": {},
   "outputs": [],
   "source": [
    "app, rt, todos, Todo = fast_app('todos1.db', live=True,      \n",
    "                                id=int,\n",
    "                                title=str,\n",
    "                                done=bool,\n",
    "                                pk='id')\n",
    "\n"
   ]
  },
  {
   "cell_type": "markdown",
   "metadata": {},
   "source": [
    "### inspect what inside them\n"
   ]
  },
  {
   "cell_type": "code",
   "execution_count": 3,
   "metadata": {},
   "outputs": [],
   "source": [
    "\n",
    "# app.\n",
    "# todos.\n",
    "# Todo.\n"
   ]
  },
  {
   "cell_type": "markdown",
   "metadata": {},
   "source": [
    "### 03 add initial data for database"
   ]
  },
  {
   "cell_type": "code",
   "execution_count": 32,
   "metadata": {},
   "outputs": [
    {
     "name": "stdout",
     "output_type": "stream",
     "text": [
      "Items(id=0, title='new todo', done=False)\n"
     ]
    },
    {
     "data": {
      "text/plain": [
       "<Table items (id, title, done)>"
      ]
     },
     "execution_count": 32,
     "metadata": {},
     "output_type": "execute_result"
    },
    {
     "data": {
      "text/plain": [
       "<Table items (id, title, done)>"
      ]
     },
     "execution_count": 32,
     "metadata": {},
     "output_type": "execute_result"
    },
    {
     "data": {
      "text/plain": [
       "<Table items (id, title, done)>"
      ]
     },
     "execution_count": 32,
     "metadata": {},
     "output_type": "execute_result"
    },
    {
     "data": {
      "text/plain": [
       "<Table items (id, title, done)>"
      ]
     },
     "execution_count": 32,
     "metadata": {},
     "output_type": "execute_result"
    },
    {
     "data": {
      "text/plain": [
       "<Table items (id, title, done)>"
      ]
     },
     "execution_count": 32,
     "metadata": {},
     "output_type": "execute_result"
    },
    {
     "data": {
      "text/plain": [
       "<Table items (id, title, done)>"
      ]
     },
     "execution_count": 32,
     "metadata": {},
     "output_type": "execute_result"
    },
    {
     "data": {
      "text/plain": [
       "<Table items (id, title, done)>"
      ]
     },
     "execution_count": 32,
     "metadata": {},
     "output_type": "execute_result"
    },
    {
     "data": {
      "text/plain": [
       "<Table items (id, title, done)>"
      ]
     },
     "execution_count": 32,
     "metadata": {},
     "output_type": "execute_result"
    },
    {
     "data": {
      "text/plain": [
       "<Table items (id, title, done)>"
      ]
     },
     "execution_count": 32,
     "metadata": {},
     "output_type": "execute_result"
    },
    {
     "data": {
      "text/plain": [
       "<Table items (id, title, done)>"
      ]
     },
     "execution_count": 32,
     "metadata": {},
     "output_type": "execute_result"
    },
    {
     "data": {
      "text/plain": [
       "<Table items (id, title, done)>"
      ]
     },
     "execution_count": 32,
     "metadata": {},
     "output_type": "execute_result"
    },
    {
     "data": {
      "text/plain": [
       "Items(id=1, title='First todo', done=1)"
      ]
     },
     "execution_count": 32,
     "metadata": {},
     "output_type": "execute_result"
    },
    {
     "data": {
      "text/plain": [
       "Items(id=2, title='Second todo', done=None)"
      ]
     },
     "execution_count": 32,
     "metadata": {},
     "output_type": "execute_result"
    },
    {
     "data": {
      "text/plain": [
       "Items(id=3, title='Third todo', done=1)"
      ]
     },
     "execution_count": 32,
     "metadata": {},
     "output_type": "execute_result"
    },
    {
     "name": "stdout",
     "output_type": "stream",
     "text": [
      "Row 0: {'id': 1, 'title': 'First todo', 'done': 1}\n",
      "Row 1: {'id': 2, 'title': 'Second todo', 'done': None}\n",
      "Row 2: {'id': 3, 'title': 'Third todo', 'done': 1}\n"
     ]
    }
   ],
   "source": [
    "app, rt, todos, Todo = fast_app('todos1.db', live=True,      \n",
    "                                id=int,\n",
    "                                title=str,\n",
    "                                done=bool,\n",
    "                                pk='id')\n",
    "\n",
    "pprint(Todo(id=0, title='new todo', done=False))\n",
    "\n",
    "# delete all rows\n",
    "for i, row in enumerate(todos.rows):\n",
    "    todos.delete(row['id'])\n",
    "\n",
    "# initialize with 3 rows\n",
    "todos.insert(title='First todo', done=True)\n",
    "todos.insert(title='Second todo')\n",
    "todos.insert(title='Third todo', done=True)\n",
    "\n",
    "# print all rows\n",
    "for i, row in enumerate(todos.rows):\n",
    "    print(f\"Row {i}: {row}\")\n",
    "    # todos.get(row['id'])\n",
    "\n",
    "\n"
   ]
  },
  {
   "cell_type": "markdown",
   "metadata": {},
   "source": [
    "# design root page"
   ]
  },
  {
   "cell_type": "markdown",
   "metadata": {},
   "source": [
    "### 04 display a text"
   ]
  },
  {
   "cell_type": "code",
   "execution_count": 5,
   "metadata": {},
   "outputs": [
    {
     "name": "stdout",
     "output_type": "stream",
     "text": [
      "'Hello World'\n"
     ]
    }
   ],
   "source": [
    "from fasthtml.common import *\n",
    "\n",
    "app, rt, todos, Todo = fast_app('todos1.db', live=True,      \n",
    "                                id=int,\n",
    "                                title=str,\n",
    "                                done=bool,\n",
    "                                pk='id')\n",
    "\n",
    "@rt('/')\n",
    "def get():\n",
    "    return 'Hello World'\n",
    "\n",
    "\n",
    "cli = TestClient(app)\n",
    "pprint(cli.get('/').text)\n",
    "# serve()"
   ]
  },
  {
   "cell_type": "markdown",
   "metadata": {},
   "source": [
    "#### 04.1 show the response only"
   ]
  },
  {
   "cell_type": "code",
   "execution_count": 6,
   "metadata": {},
   "outputs": [
    {
     "name": "stdout",
     "output_type": "stream",
     "text": [
      "'Hello World'\n"
     ]
    }
   ],
   "source": [
    "hxhdr = {'headers':{'hx-request':\"1\"}} # mock to remove the headers\n",
    "cli = TestClient(app)\n",
    "# pprint(cli.post('/getInputData', data={'title':'put in the end'}).text) \n",
    "pprint(cli.get('/', **hxhdr).text) # same to what displayed in the browser"
   ]
  },
  {
   "cell_type": "markdown",
   "metadata": {},
   "source": [
    "### 05 a Form to submit, a Ul to display\n",
    "\n",
    "basic but reasonable design for todo list"
   ]
  },
  {
   "cell_type": "code",
   "execution_count": 7,
   "metadata": {},
   "outputs": [
    {
     "name": "stdout",
     "output_type": "stream",
     "text": [
      "('<title>Todos</title>\\n'\n",
      " '\\n'\n",
      " '<main class=\"container\">\\n'\n",
      " '  <h1>Todos</h1>\\n'\n",
      " '  <form enctype=\"multipart/form-data\">\\n'\n",
      " '    <fieldset role=\"group\">\\n'\n",
      " '      <input placeholder=\"type your todo\" name=\"title\" id=\"todo-input\">\\n'\n",
      " '      <button>Add</button>\\n'\n",
      " '    </fieldset>\\n'\n",
      " '  </form>\\n'\n",
      " '</main>\\n')\n"
     ]
    }
   ],
   "source": [
    "from fasthtml.common import *\n",
    "\n",
    "app, rt, todos, Todo = fast_app('todos1.db', live=True,      \n",
    "                                id=int,\n",
    "                                title=str,\n",
    "                                done=bool,\n",
    "                                pk='id')\n",
    "\n",
    "@rt('/')\n",
    "def get():\n",
    "    out = Titled(\"Todos\",\n",
    "                 Form(Group(\n",
    "                     Input(placeholder='type your todo', name='title', id='todo-input'), \n",
    "                     Button('Add')))\n",
    "                 )\n",
    "    return out\n",
    "\n",
    "\n",
    "cli = TestClient(app)\n",
    "hxhdr = {'headers':{'hx-request':\"1\"}} # mock to remove the headers\n",
    "pprint(cli.get('/', **hxhdr).text) # same to what displayed in the browser\n",
    "# pprint(cli.get('/').text) # same to what displayed in the browser\n",
    "\n",
    "# serve()"
   ]
  },
  {
   "cell_type": "markdown",
   "metadata": {},
   "source": [
    "#### 05.1: Titled\n",
    "\n"
   ]
  },
  {
   "cell_type": "code",
   "execution_count": 11,
   "metadata": {},
   "outputs": [
    {
     "name": "stdout",
     "output_type": "stream",
     "text": [
      "'<title>Todos</title>\\n\\n<main class=\"container\">\\n  <h1>Todos</h1>\\n</main>\\n'\n"
     ]
    }
   ],
   "source": [
    "from fasthtml.common import *\n",
    "\n",
    "app, rt, todos, Todo = fast_app('todos1.db', live=True,      \n",
    "                                id=int,\n",
    "                                title=str,\n",
    "                                done=bool,\n",
    "                                pk='id')\n",
    "\n",
    "@rt('/')\n",
    "def get():\n",
    "    out = Titled(\"Todos\"), # step 1\n",
    "                #  Form(Group(\n",
    "                #      Input(placeholder='type your todo', name='title', id='todo-input'), \n",
    "                #      Button('Add')))\n",
    "                #  )\n",
    "    return out\n",
    "\n",
    "\n",
    "hxhdr = {'headers':{'hx-request':\"1\"}} # mock to remove the headers\n",
    "cli = TestClient(app)\n",
    "# pprint(cli.post('/getInputData', data={'title':'put in the end'}).text) \n",
    "pprint(cli.get('/', **hxhdr).text) # same to what displayed in the browser\n",
    "\n",
    "# serve()"
   ]
  },
  {
   "cell_type": "markdown",
   "metadata": {},
   "source": [
    "#### 05.2: Input"
   ]
  },
  {
   "cell_type": "code",
   "execution_count": 10,
   "metadata": {},
   "outputs": [
    {
     "name": "stdout",
     "output_type": "stream",
     "text": [
      "('<title>Todos</title>\\n'\n",
      " '\\n'\n",
      " '<main class=\"container\">\\n'\n",
      " '  <h1>Todos</h1>\\n'\n",
      " '  <input placeholder=\"type your todo\" name=\"title\" id=\"todo-input\">\\n'\n",
      " '</main>\\n')\n"
     ]
    }
   ],
   "source": [
    "from fasthtml.common import *\n",
    "\n",
    "app, rt, todos, Todo = fast_app('todos1.db', live=True,      \n",
    "                                id=int,\n",
    "                                title=str,\n",
    "                                done=bool,\n",
    "                                pk='id')\n",
    "\n",
    "@rt('/')\n",
    "def get():\n",
    "    out = Titled(\"Todos\",\n",
    "                     Input(placeholder='type your todo', name='title', id='todo-input'),\n",
    "    ) \n",
    "                #      Button('Add')))\n",
    "                #  )\n",
    "    return out\n",
    "\n",
    "\n",
    "hxhdr = {'headers':{'hx-request':\"1\"}} # mock to remove the headers\n",
    "cli = TestClient(app)\n",
    "# pprint(cli.post('/getInputData', data={'title':'put in the end'}).text) \n",
    "pprint(cli.get('/', **hxhdr).text) # same to what displayed in the browser\n",
    "\n",
    "# serve()"
   ]
  },
  {
   "cell_type": "markdown",
   "metadata": {},
   "source": [
    "#### 05.3: Button"
   ]
  },
  {
   "cell_type": "code",
   "execution_count": 12,
   "metadata": {},
   "outputs": [
    {
     "name": "stdout",
     "output_type": "stream",
     "text": [
      "('<title>Todos</title>\\n'\n",
      " '\\n'\n",
      " '<main class=\"container\">\\n'\n",
      " '  <h1>Todos</h1>\\n'\n",
      " '  <input placeholder=\"type your todo\" name=\"title\" id=\"todo-input\">\\n'\n",
      " '  <button>Add</button>\\n'\n",
      " '</main>\\n')\n"
     ]
    }
   ],
   "source": [
    "from fasthtml.common import *\n",
    "\n",
    "app, rt, todos, Todo = fast_app('todos1.db', live=True,      \n",
    "                                id=int,\n",
    "                                title=str,\n",
    "                                done=bool,\n",
    "                                pk='id')\n",
    "\n",
    "@rt('/')\n",
    "def get():\n",
    "    out = Titled(\"Todos\",\n",
    "                     Input(placeholder='type your todo', name='title', id='todo-input'),\n",
    "                     Button('Add'))\n",
    "                #  )\n",
    "    return out\n",
    "\n",
    "\n",
    "hxhdr = {'headers':{'hx-request':\"1\"}} # mock to remove the headers\n",
    "cli = TestClient(app)\n",
    "# pprint(cli.post('/getInputData', data={'title':'put in the end'}).text) \n",
    "pprint(cli.get('/', **hxhdr).text) # same to what displayed in the browser\n",
    "\n",
    "# serve()"
   ]
  },
  {
   "cell_type": "markdown",
   "metadata": {},
   "source": [
    "#### 05.4: Group"
   ]
  },
  {
   "cell_type": "code",
   "execution_count": 13,
   "metadata": {},
   "outputs": [
    {
     "name": "stdout",
     "output_type": "stream",
     "text": [
      "('<title>Todos</title>\\n'\n",
      " '\\n'\n",
      " '<main class=\"container\">\\n'\n",
      " '  <h1>Todos</h1>\\n'\n",
      " '  <fieldset role=\"group\">\\n'\n",
      " '    <input placeholder=\"type your todo\" name=\"title\" id=\"todo-input\">\\n'\n",
      " '    <button>Add</button>\\n'\n",
      " '  </fieldset>\\n'\n",
      " '</main>\\n')\n"
     ]
    }
   ],
   "source": [
    "from fasthtml.common import *\n",
    "\n",
    "app, rt, todos, Todo = fast_app('todos1.db', live=True,      \n",
    "                                id=int,\n",
    "                                title=str,\n",
    "                                done=bool,\n",
    "                                pk='id')\n",
    "\n",
    "@rt('/')\n",
    "def get():\n",
    "    out = Titled(\"Todos\",\n",
    "                     Group(\n",
    "                        Input(placeholder='type your todo', name='title', id='todo-input'),\n",
    "                        Button('Add'))\n",
    "                 )\n",
    "    return out\n",
    "\n",
    "hxhdr = {'headers':{'hx-request':\"1\"}} # mock to remove the headers\n",
    "cli = TestClient(app)\n",
    "# pprint(cli.post('/getInputData', data={'title':'put in the end'}).text) \n",
    "pprint(cli.get('/', **hxhdr).text) # same to what displayed in the browser\n",
    "\n",
    "# serve()"
   ]
  },
  {
   "cell_type": "markdown",
   "metadata": {},
   "source": [
    "#### 05.5: Ul"
   ]
  },
  {
   "cell_type": "code",
   "execution_count": 14,
   "metadata": {},
   "outputs": [
    {
     "name": "stdout",
     "output_type": "stream",
     "text": [
      "('<title>Todos</title>\\n'\n",
      " '\\n'\n",
      " '<main class=\"container\">\\n'\n",
      " '  <h1>Todos</h1>\\n'\n",
      " '  <fieldset role=\"group\">\\n'\n",
      " '    <input placeholder=\"type your todo\" name=\"title\" id=\"todo-input\">\\n'\n",
      " '    <button>Add</button>\\n'\n",
      " '  </fieldset>\\n'\n",
      " '  <ul>\\n'\n",
      " \"Items(id=1, title='First todo', done=1)\\n\"\n",
      " \"Items(id=2, title='Second todo', done=None)\\n\"\n",
      " \"Items(id=3, title='Third todo', done=1)\\n\"\n",
      " '  </ul>\\n'\n",
      " '</main>\\n')\n"
     ]
    }
   ],
   "source": [
    "from fasthtml.common import *\n",
    "\n",
    "app, rt, todos, Todo = fast_app('todos1.db', live=True,      \n",
    "                                id=int,\n",
    "                                title=str,\n",
    "                                done=bool,\n",
    "                                pk='id')\n",
    "\n",
    "@rt('/')\n",
    "def get():\n",
    "    out = Titled(\"Todos\",\n",
    "                     Group(\n",
    "                        Input(placeholder='type your todo', name='title', id='todo-input'),\n",
    "                        Button('Add')),\n",
    "                    Ul(*todos())\n",
    "                 )\n",
    "    return out\n",
    "\n",
    "hxhdr = {'headers':{'hx-request':\"1\"}} # mock to remove the headers\n",
    "cli = TestClient(app)\n",
    "# pprint(cli.post('/getInputData', data={'title':'put in the end'}).text) \n",
    "pprint(cli.get('/', **hxhdr).text) # same to what displayed in the browser\n",
    "\n",
    "# serve()"
   ]
  },
  {
   "cell_type": "markdown",
   "metadata": {},
   "source": [
    "#### 05.6: Li"
   ]
  },
  {
   "cell_type": "code",
   "execution_count": 15,
   "metadata": {},
   "outputs": [
    {
     "name": "stdout",
     "output_type": "stream",
     "text": [
      "('<title>Todos</title>\\n'\n",
      " '\\n'\n",
      " '<main class=\"container\">\\n'\n",
      " '  <h1>Todos</h1>\\n'\n",
      " '  <fieldset role=\"group\">\\n'\n",
      " '    <input placeholder=\"type your todo\" name=\"title\" id=\"todo-input\">\\n'\n",
      " '    <button>Add</button>\\n'\n",
      " '  </fieldset>\\n'\n",
      " '  <ul>\\n'\n",
      " \"    <li>Items(id=1, title='First todo', done=1)</li>\\n\"\n",
      " \"    <li>Items(id=2, title='Second todo', done=None)</li>\\n\"\n",
      " \"    <li>Items(id=3, title='Third todo', done=1)</li>\\n\"\n",
      " '  </ul>\\n'\n",
      " '</main>\\n')\n"
     ]
    }
   ],
   "source": [
    "from fasthtml.common import *\n",
    "\n",
    "app, rt, todos, Todo = fast_app('todos1.db', live=True,      \n",
    "                                id=int,\n",
    "                                title=str,\n",
    "                                done=bool,\n",
    "                                pk='id')\n",
    "\n",
    "@rt('/')\n",
    "def get():\n",
    "    out = Titled(\"Todos\",\n",
    "                     Group(\n",
    "                        Input(placeholder='type your todo', name='title', id='todo-input'),\n",
    "                        Button('Add')),\n",
    "                    Ul(Li(t) for t in todos())\n",
    "                 )\n",
    "    return out\n",
    "\n",
    "\n",
    "hxhdr = {'headers':{'hx-request':\"1\"}} # mock to remove the headers\n",
    "cli = TestClient(app)\n",
    "# pprint(cli.post('/getInputData', data={'title':'put in the end'}).text) \n",
    "pprint(cli.get('/', **hxhdr).text) # same to what displayed in the browser\n",
    "# serve()"
   ]
  },
  {
   "cell_type": "markdown",
   "metadata": {},
   "source": [
    "#### But why nothing happens when typing inside Input?"
   ]
  },
  {
   "cell_type": "markdown",
   "metadata": {},
   "source": [
    "#### 05.7: Form\n",
    "\n",
    "##### Because Input collect, Form send data\n",
    "\n",
    "The `<input>` tag in HTML is used to collect user inputs. However, without a surrounding `<form>` tag, the data entered into the `<input>` field will not be sent anywhere when the user presses enter or clicks a submit button.\n",
    "\n",
    "The `<form>` tag is necessary because it provides the URL (in the `action` attribute) where the form data should be sent, and the method (`GET` or `POST`) of how to send the data.\n",
    "\n",
    "When a form is submitted using the `GET` method, the form data is appended to the URL in the address bar, which is why you see `http://localhost:5001/?title=this+is`.\n",
    "\n",
    "Without a `<form>` tag, the browser has no instructions on where to send the data or how to append it to the URL, so you just see `http://localhost:5001/` in the address bar.\n",
    "\n"
   ]
  },
  {
   "cell_type": "markdown",
   "metadata": {},
   "source": [
    "\n",
    "\n",
    "##### **Form: `enctype`, `method`**\n",
    "\n",
    "- `enctype = 'multipart/form-data'`: to work with `<input>` with default `type=file`.\n",
    "\n",
    "- `method=GET` is default [method](https://developer.mozilla.org/en-US/docs/Web/HTML/Element/form#method) "
   ]
  },
  {
   "cell_type": "markdown",
   "metadata": {},
   "source": [
    "\n",
    "#### 05.8 How `GET` and `POST` differ\n",
    "\n",
    "When you submit a form in a web page, the form data can be sent to the server either via the URL (known as a GET request) or in the body of the HTTP request (known as a POST request).\n",
    "\n",
    "If the form's method is GET, the form data is encoded in the URL, typically after a ?. For example, http://localhost:5001/?title=this+is. This is useful for non-sensitive data and when you want the results to be bookmarkable or shareable.\n",
    "\n",
    "If the form's method is POST, the form data is included in the body of the HTTP request, not in the URL. This is useful for sensitive data like passwords, or for large amounts of data."
   ]
  },
  {
   "cell_type": "code",
   "execution_count": 17,
   "metadata": {},
   "outputs": [
    {
     "name": "stdout",
     "output_type": "stream",
     "text": [
      "('<title>Todos</title>\\n'\n",
      " '\\n'\n",
      " '<main class=\"container\">\\n'\n",
      " '  <h1>Todos</h1>\\n'\n",
      " '  <form enctype=\"multipart/form-data\">\\n'\n",
      " '    <fieldset role=\"group\">\\n'\n",
      " '      <input placeholder=\"type your todo\" name=\"title\" id=\"todo-input\">\\n'\n",
      " '      <button>Add</button>\\n'\n",
      " '    </fieldset>\\n'\n",
      " '  </form>\\n'\n",
      " '  <ul>\\n'\n",
      " \"    <li>Items(id=1, title='First todo', done=1)</li>\\n\"\n",
      " \"    <li>Items(id=2, title='Second todo', done=None)</li>\\n\"\n",
      " \"    <li>Items(id=3, title='Third todo', done=1)</li>\\n\"\n",
      " '  </ul>\\n'\n",
      " '</main>\\n')\n"
     ]
    }
   ],
   "source": [
    "from fasthtml.common import *\n",
    "\n",
    "app, rt, todos, Todo = fast_app('todos1.db', live=True,      \n",
    "                                id=int,\n",
    "                                title=str,\n",
    "                                done=bool,\n",
    "                                pk='id')\n",
    "\n",
    "@rt('/')\n",
    "def get():\n",
    "    out = Titled(\"Todos\",\n",
    "                    Form(Group(\n",
    "                        Input(placeholder='type your todo', name='title', id='todo-input'),\n",
    "                        Button('Add'))),\n",
    "                    Ul(Li(t) for t in todos())\n",
    "                 )\n",
    "    return out\n",
    "\n",
    "\n",
    "hxhdr = {'headers':{'hx-request':\"1\"}} \n",
    "cli = TestClient(app)\n",
    "pprint(cli.get('/', **hxhdr).text) \n",
    "\n",
    "\n",
    "# serve() # type into the input and enter to see the url change"
   ]
  },
  {
   "cell_type": "markdown",
   "metadata": {},
   "source": [
    "# How to pass data from Form to Server"
   ]
  },
  {
   "cell_type": "markdown",
   "metadata": {},
   "source": [
    "#### hx_post vs hx_get\n",
    "\n",
    "- Don't worry about `method='POST'` or `method='GET'` in Form, not used here\n",
    "- only consider `hx_post` or `hx_get` in Form, which is used to send data to the server\n",
    "- as this is single page app, we won't go to other path or page, so we can choose a arbitrary path for `hx_get`, such as `hx_get('/tryInputData')`\n",
    "- so does `hx_post`, such as `hx_post('/tryInputData')`\n",
    "- only `hx_post` can receive data from Form, not `hx_get`"
   ]
  },
  {
   "cell_type": "markdown",
   "metadata": {},
   "source": [
    "##### 06 `hx_get`: only get response from server\n",
    "\n",
    "- it has nothing to do with sending data from Form to server"
   ]
  },
  {
   "cell_type": "code",
   "execution_count": 20,
   "metadata": {},
   "outputs": [
    {
     "name": "stdout",
     "output_type": "stream",
     "text": [
      "'Hello World'\n"
     ]
    }
   ],
   "source": [
    "from fasthtml.common import *\n",
    "\n",
    "app, rt, todos, Todo = fast_app('todos1.db', live=True,      \n",
    "                                id=int,\n",
    "                                title=str,\n",
    "                                done=bool,\n",
    "                                pk='id')\n",
    "\n",
    "@rt('/')\n",
    "def get():\n",
    "    out = Titled(\"Todos\",\n",
    "                    Form(Group(\n",
    "                        Input(placeholder='type your todo', name='title', id='todo-input'),\n",
    "                        Button('Add')),\n",
    "                        hx_get='/getInputData', # when Form is triggered, the browser will send a GET request to the server with the url '/getInputData'\n",
    "                        ),\n",
    "                    Ul(Li(t) for t in todos())\n",
    "                 )\n",
    "    return out\n",
    "\n",
    "@rt('/getInputData') # at page /getInputData, there is a web page with 'Hello World' as the content\n",
    "def get(): # usually no parameter for get\n",
    "    return 'Hello World' # server pass this response as the content of the Form\n",
    "                         # data through Form can't get here\n",
    "\n",
    "\n",
    "\n",
    "hxhdr = {'headers':{'hx-request':\"1\"}} \n",
    "cli = TestClient(app)\n",
    "pprint(cli.get('/getInputData', **hxhdr).text) \n",
    "\n",
    "\n",
    "# serve() # no typed input displayed on the url bar"
   ]
  },
  {
   "cell_type": "code",
   "execution_count": 21,
   "metadata": {},
   "outputs": [
    {
     "name": "stdout",
     "output_type": "stream",
     "text": [
      "'Items(id=None, title=None, done=None)'\n"
     ]
    }
   ],
   "source": [
    "from fasthtml.common import *\n",
    "\n",
    "app, rt, todos, Todo = fast_app('todos1.db', live=True,      \n",
    "                                id=int,\n",
    "                                title=str,\n",
    "                                done=bool,\n",
    "                                pk='id')\n",
    "\n",
    "@rt('/')\n",
    "def get():\n",
    "    out = Titled(\"Todos\",\n",
    "                    Form(Group(\n",
    "                        Input(placeholder='type your todo', name='title', id='todo-input'),\n",
    "                        Button('Add')),\n",
    "                        hx_get='/getInputData'),\n",
    "                    Ul(Li(t) for t in todos())\n",
    "                 )\n",
    "    return out\n",
    "\n",
    "\n",
    "@rt('/getInputData')\n",
    "def get(todo:Todo): # no error if you add a parameter here\n",
    "                    # because we give it a type Todo, the todo is an empty Todo object\n",
    "                    # but it will always be an empty Todo object\n",
    "                    # data from Input or Form can't get here\n",
    "    return todo\n",
    "\n",
    "hxhdr = {'headers':{'hx-request':\"1\"}} \n",
    "cli = TestClient(app)\n",
    "pprint(cli.get('/getInputData', **hxhdr).text) \n",
    "\n",
    "\n",
    "# serve()"
   ]
  },
  {
   "cell_type": "markdown",
   "metadata": {},
   "source": [
    "##### 07 `hx_post`: pass data from Form to server\n"
   ]
  },
  {
   "cell_type": "code",
   "execution_count": 22,
   "metadata": {},
   "outputs": [
    {
     "name": "stdout",
     "output_type": "stream",
     "text": [
      "\"Items(id=0, title='me', done=0)\"\n"
     ]
    }
   ],
   "source": [
    "from fasthtml.common import *\n",
    "\n",
    "app, rt, todos, Todo = fast_app('todos1.db', live=True,      \n",
    "                                id=int,\n",
    "                                title=str,\n",
    "                                done=bool,\n",
    "                                pk='id')\n",
    "\n",
    "@rt('/')\n",
    "def get():\n",
    "    out = Titled(\"Todos\",\n",
    "                    Form(Group(\n",
    "                        Input(placeholder='type your todo', name='title', id='todo-input'),\n",
    "                        Button('Add')),\n",
    "                        hx_post='/getInputData'),\n",
    "                    Ul(Li(t) for t in todos())\n",
    "                 )\n",
    "    return out\n",
    "\n",
    "@rt('/getInputData')\n",
    "def post(todo:Todo):\n",
    "    return todo # the todos is not updated with the new todo, only pass it as the content of the Form\n",
    "\n",
    "hxhdr = {'headers':{'hx-request':\"1\"}} \n",
    "cli = TestClient(app)\n",
    "pprint(cli.post('/getInputData', data={'id':0, 'title':'me', 'done':0}, **hxhdr).text) \n",
    "\n",
    "\n",
    "\n",
    "# serve()"
   ]
  },
  {
   "cell_type": "code",
   "execution_count": 23,
   "metadata": {},
   "outputs": [
    {
     "name": "stdout",
     "output_type": "stream",
     "text": [
      "\"Items(id=0, title='me', done=0)\"\n"
     ]
    }
   ],
   "source": [
    "from fasthtml.common import *\n",
    "\n",
    "app, rt, todos, Todo = fast_app('todos1.db', live=True,      \n",
    "                                id=int,\n",
    "                                title=str,\n",
    "                                done=bool,\n",
    "                                pk='id')\n",
    "\n",
    "@rt('/')\n",
    "def get():\n",
    "    out = Titled(\"Todos\",\n",
    "                    Form(Group(\n",
    "                        Input(placeholder='type your todo', name='title', id='todo-input'),\n",
    "                        Button('Add')),\n",
    "                        hx_post='/getInputData'),\n",
    "                    Ul(Li(t) for t in todos())\n",
    "                 )\n",
    "    return out\n",
    "\n",
    "@rt('/getInputData')\n",
    "def post(todo:Todo):\n",
    "    return todos.insert(todo) # add new todo from Form to the database, and return the new todo with a new id from the database\n",
    "\n",
    "hxhdr = {'headers':{'hx-request':\"1\"}} \n",
    "cli = TestClient(app)\n",
    "pprint(cli.post('/getInputData', data={'id':0, 'title':'me', 'done':0}, **hxhdr).text) \n",
    "\n",
    "\n",
    "# serve()"
   ]
  },
  {
   "cell_type": "markdown",
   "metadata": {},
   "source": [
    "# How to pass the todo elsewhere than the Form?"
   ]
  },
  {
   "cell_type": "markdown",
   "metadata": {},
   "source": [
    "#### 08 `target_id` and `hx_swap`\n",
    "\n",
    "- `target_id`: specify which element we shall pass the response to\n",
    "- `hx_swap`: specify where exactly to put in relation to the element\n"
   ]
  },
  {
   "cell_type": "markdown",
   "metadata": {},
   "source": [
    "\n",
    "#### 08.1 all possible values for `hx_swap`\n",
    "\n",
    "- innerHTML - Replace the inner html of the target element\n",
    "- outerHTML - Replace the entire target element with the response\n",
    "- textContent - Replace the text content of the target element, without parsing the response as HTML\n",
    "- beforebegin - Insert the response before the target element\n",
    "- afterbegin - Insert the response before the first child of the target element\n",
    "- beforeend - Insert the response after the last child of the target element\n",
    "- afterend - Insert the response after the target element\n",
    "- delete - Deletes the target element regardless of the response\n",
    "- none- Does not append content from response (out of band items will still be processed)."
   ]
  },
  {
   "cell_type": "markdown",
   "metadata": {},
   "source": [
    "#### 08.2 default `hx-swap='innerHTML'`"
   ]
  },
  {
   "cell_type": "code",
   "execution_count": 25,
   "metadata": {},
   "outputs": [
    {
     "name": "stdout",
     "output_type": "stream",
     "text": [
      "('<title>Todos</title>\\n'\n",
      " '\\n'\n",
      " '<main class=\"container\">\\n'\n",
      " '  <h1>Todos</h1>\\n'\n",
      " '  <form enctype=\"multipart/form-data\" hx-post=\"/getInputData\" '\n",
      " 'hx-target=\"#todo-list\">\\n'\n",
      " '    <fieldset role=\"group\">\\n'\n",
      " '      <input placeholder=\"type your todo\" name=\"title\" id=\"todo-input\">\\n'\n",
      " '      <button>Add</button>\\n'\n",
      " '    </fieldset>\\n'\n",
      " '  </form>\\n'\n",
      " '  <ul id=\"todo-list\">\\n'\n",
      " \"    <li>Items(id=0, title='me', done=0)</li>\\n\"\n",
      " \"    <li>Items(id=1, title='First todo', done=1)</li>\\n\"\n",
      " \"    <li>Items(id=2, title='Second todo', done=None)</li>\\n\"\n",
      " \"    <li>Items(id=3, title='Third todo', done=1)</li>\\n\"\n",
      " '  </ul>\\n'\n",
      " '</main>\\n')\n"
     ]
    }
   ],
   "source": [
    "from fasthtml.common import *\n",
    "\n",
    "app, rt, todos, Todo = fast_app('todos1.db', live=True,      \n",
    "                                id=int,\n",
    "                                title=str,\n",
    "                                done=bool,\n",
    "                                pk='id')\n",
    "\n",
    "@rt('/')\n",
    "def get():\n",
    "    out = Titled(\"Todos\",\n",
    "                    Form(Group(\n",
    "                        Input(placeholder='type your todo', name='title', id='todo-input'),\n",
    "                        Button('Add')),\n",
    "                        hx_post='/getInputData',\n",
    "                        target_id='todo-list'),# give the response to one with the id\n",
    "                        # see the cell output below: target_id is hx_target\n",
    "                        # by default, the response replace the content of the element.\n",
    "                        # in other words, hx_swap='innerHTML'\n",
    "                    Ul(*[Li(t) for t in todos()],\n",
    "                        id='todo-list') # the one with the id 'todo-list' is Ul\n",
    "                 )\n",
    "    return out\n",
    "\n",
    "@rt('/getInputData')\n",
    "def post(todo:Todo):\n",
    "    return todos.insert(todo) \n",
    "\n",
    "hxhdr = {'headers':{'hx-request':\"1\"}} \n",
    "cli = TestClient(app)\n",
    "# pprint(cli.post('/getInputData', data={'id':0, 'title':'me', 'done':0}, **hxhdr).text) \n",
    "pprint(cli.get('/', **hxhdr).text)\n",
    "\n",
    "\n",
    "# serve()"
   ]
  },
  {
   "cell_type": "markdown",
   "metadata": {},
   "source": [
    "#### 08.3 `hx-swap='beforeend'`"
   ]
  },
  {
   "cell_type": "code",
   "execution_count": 26,
   "metadata": {},
   "outputs": [
    {
     "name": "stdout",
     "output_type": "stream",
     "text": [
      "('<title>Todos</title>\\n'\n",
      " '\\n'\n",
      " '<main class=\"container\">\\n'\n",
      " '  <h1>Todos</h1>\\n'\n",
      " '  <form enctype=\"multipart/form-data\" hx-post=\"/getInputData\" '\n",
      " 'hx-swap=\"beforeend\" hx-target=\"#todo-list\">\\n'\n",
      " '    <fieldset role=\"group\">\\n'\n",
      " '      <input placeholder=\"type your todo\" name=\"title\" id=\"todo-input\">\\n'\n",
      " '      <button>Add</button>\\n'\n",
      " '    </fieldset>\\n'\n",
      " '  </form>\\n'\n",
      " '  <ul id=\"todo-list\">\\n'\n",
      " \"    <li>Items(id=0, title='me', done=0)</li>\\n\"\n",
      " \"    <li>Items(id=1, title='First todo', done=1)</li>\\n\"\n",
      " \"    <li>Items(id=2, title='Second todo', done=None)</li>\\n\"\n",
      " \"    <li>Items(id=3, title='Third todo', done=1)</li>\\n\"\n",
      " \"    <li>Items(id=4, title='this is one for all', done=None)</li>\\n\"\n",
      " '  </ul>\\n'\n",
      " '</main>\\n')\n"
     ]
    }
   ],
   "source": [
    "from fasthtml.common import *\n",
    "\n",
    "app, rt, todos, Todo = fast_app('todos1.db', live=True,      \n",
    "                                id=int,\n",
    "                                title=str,\n",
    "                                done=bool,\n",
    "                                pk='id')\n",
    "\n",
    "@rt('/')\n",
    "def get():\n",
    "    out = Titled(\"Todos\",\n",
    "                    Form(Group(\n",
    "                        Input(placeholder='type your todo', name='title', id='todo-input'),\n",
    "                        Button('Add')),\n",
    "                        hx_post='/getInputData',\n",
    "                        target_id='todo-list',\n",
    "                        hx_swap='beforeend'),# beforeend - Insert the response after the last child of the target element\n",
    "                    Ul(*[Li(t) for t in todos()],\n",
    "                        id='todo-list') # next step: to give the new todo or every todo a better look\n",
    "                 )\n",
    "    return out\n",
    "\n",
    "@rt('/getInputData')\n",
    "def post(todo:Todo):\n",
    "    return todos.insert(todo) \n",
    "\n",
    "hxhdr = {'headers':{'hx-request':\"1\"}} \n",
    "cli = TestClient(app)\n",
    "# pprint(cli.post('/getInputData', data={'id':0, 'title':'me', 'done':0}, **hxhdr).text) \n",
    "pprint(cli.get('/', **hxhdr).text)\n",
    "\n",
    "\n",
    "# serve()"
   ]
  },
  {
   "cell_type": "code",
   "execution_count": 27,
   "metadata": {},
   "outputs": [
    {
     "name": "stdout",
     "output_type": "stream",
     "text": [
      "Row 0: {'id': 0, 'title': 'me', 'done': 0}\n",
      "Row 1: {'id': 1, 'title': 'First todo', 'done': 1}\n",
      "Row 2: {'id': 2, 'title': 'Second todo', 'done': None}\n",
      "Row 3: {'id': 3, 'title': 'Third todo', 'done': 1}\n",
      "Row 4: {'id': 4, 'title': 'this is one for all', 'done': None}\n"
     ]
    }
   ],
   "source": [
    "for i, row in enumerate(todos.rows):\n",
    "    print(f\"Row {i}: {row}\")"
   ]
  },
  {
   "cell_type": "markdown",
   "metadata": {},
   "source": [
    "##### [clean the data](#03-add-initial-data-for-database)"
   ]
  },
  {
   "cell_type": "markdown",
   "metadata": {},
   "source": [
    "# How to clear Input or Form after submitting?\n"
   ]
  },
  {
   "cell_type": "markdown",
   "metadata": {},
   "source": [
    "\n",
    "#### 08.1 `hx_swap_oob` \n",
    "\n",
    "**use case**\n",
    "\n",
    "- when returning multiple elements as a response from the server to the `target_id` element, \n",
    "- and want the second element to be swapped as a replacement for the element (or elements both `Input` and `Button` in the example below) with the same `id`, and will not end up in the target.\n",
    "\n",
    "\n",
    "htmx [reference](https://htmx.org/attributes/hx-swap-oob/)\n",
    "\n",
    "- `id` and `hx_swap_oob` together to clear the input after submitting\n",
    "- together the response will be swapped in as a replacement for the element with the id, and will not end up in the target.\n",
    "- if the value is true or outerHTML (which are equivalent) the element will be swapped inline."
   ]
  },
  {
   "cell_type": "code",
   "execution_count": 29,
   "metadata": {},
   "outputs": [
    {
     "name": "stdout",
     "output_type": "stream",
     "text": [
      "('<title>Todos</title>\\n'\n",
      " '\\n'\n",
      " '<main class=\"container\">\\n'\n",
      " '  <h1>Todos</h1>\\n'\n",
      " '  <form enctype=\"multipart/form-data\" hx-post=\"/getInputData\" '\n",
      " 'hx-swap=\"beforeend\" hx-target=\"#todo-list\">\\n'\n",
      " '    <fieldset role=\"group\">\\n'\n",
      " '      <input placeholder=\"type your todo\" name=\"title\" hx-swap-oob=\"true\" '\n",
      " 'id=\"input\">\\n'\n",
      " '      <button hx-swap-oob=\"true\" id=\"input\" name=\"input\">Add</button>\\n'\n",
      " '    </fieldset>\\n'\n",
      " '  </form>\\n'\n",
      " '  <ul id=\"todo-list\">\\n'\n",
      " \"    <li>Items(id=0, title='me', done=0)</li>\\n\"\n",
      " \"    <li>Items(id=1, title='First todo', done=1)</li>\\n\"\n",
      " \"    <li>Items(id=2, title='Second todo', done=None)</li>\\n\"\n",
      " \"    <li>Items(id=3, title='Third todo', done=1)</li>\\n\"\n",
      " \"    <li>Items(id=4, title='this is one for all', done=None)</li>\\n\"\n",
      " '  </ul>\\n'\n",
      " '</main>\\n')\n"
     ]
    }
   ],
   "source": [
    "from fasthtml.common import *\n",
    "\n",
    "app, rt, todos, Todo = fast_app('todos1.db', live=True,      \n",
    "                                id=int,\n",
    "                                title=str,\n",
    "                                done=bool,\n",
    "                                pk='id')\n",
    "\n",
    "@rt('/')\n",
    "def get():\n",
    "    out = Titled(\"Todos\",\n",
    "                    Form(Group(\n",
    "                        Input(placeholder='type your todo', name='title', \n",
    "                              id='input', # id is for hx-swap-oob\n",
    "                              hx_swap_oob=\"true\"), # going to where the id is, not to the target_id\n",
    "                        Button('Add', \n",
    "                                id='input', # going to antoher element with the same id\n",
    "                                hx_swap_oob=\"true\")), \n",
    "                        hx_post='/getInputData',\n",
    "                        target_id='todo-list',\n",
    "                        hx_swap='beforeend'),\n",
    "                    Ul(*[Li(t) for t in todos()],\n",
    "                        id='todo-list') \n",
    "                 )\n",
    "    return out\n",
    "\n",
    "@rt('/getInputData')\n",
    "def post(todo:Todo):\n",
    "    return (\n",
    "            Input(placeholder='I am reborn', name='title', \n",
    "                  id='input', # id is for hx-swap-oob\n",
    "                  hx_swap_oob=\"true\"), # going to where the input is, not to the target_id \n",
    "            todos.insert(todo)) # no matter the order of the elements to be returned\n",
    "\n",
    "hxhdr = {'headers':{'hx-request':\"1\"}} \n",
    "cli = TestClient(app)\n",
    "# pprint(cli.post('/getInputData', data={'id':0, 'title':'me', 'done':0}, **hxhdr).text) \n",
    "pprint(cli.get('/', **hxhdr).text)\n",
    "\n",
    "\n",
    "# serve()"
   ]
  },
  {
   "cell_type": "markdown",
   "metadata": {},
   "source": [
    "# Why `name='input` is auto added to `Button` when set `id='input'`?\n",
    "\n",
    "- basically, fastHTML make it a auto process: when `id` is set, `name` is set to the same value\n",
    "- But when it is used for `Button`, nothing really matters. \n",
    "- It is actually designed to use for `Input` where `name` is to pair with value to send data to server, \n",
    "- but `Button` can't provide value for that purpose."
   ]
  },
  {
   "cell_type": "markdown",
   "metadata": {},
   "source": [
    "# How to make each todo look pretty?"
   ]
  },
  {
   "cell_type": "markdown",
   "metadata": {},
   "source": [
    "# rending each todo"
   ]
  },
  {
   "cell_type": "markdown",
   "metadata": {},
   "source": [
    "## the origin of render function\n",
    "\n",
    "- basically, we define render function to render each Todo class object. \n",
    "- we pass such render function to fast_app code below\n",
    "```python\n",
    "def fast_app(...):\n",
    "\n",
    "    ...\n",
    "\n",
    "    db = database(db_file)\n",
    "    if not tbls: tbls={}\n",
    "    if kwargs:\n",
    "        if isinstance(first(kwargs.values()), dict): tbls = kwargs\n",
    "        else:\n",
    "            kwargs['render'] = render\n",
    "            tbls['items'] = kwargs\n",
    "    dbtbls = [get_tbl(db.t, k, v) for k,v in tbls.items()]\n",
    "```\n",
    "\n",
    "- then `render` is passed to `get_tbl` function as below\n",
    "\n",
    "```python\n",
    "def get_tbl(dt, nm, schema):\n",
    "    render = schema.pop('render', None)\n",
    "    tbl = dt[nm]\n",
    "    if tbl not in dt: tbl.create(**schema)\n",
    "    else: tbl.create(**schema, transform=True)\n",
    "    dc = tbl.dataclass()\n",
    "    if render: dc.__ft__ = render\n",
    "    return tbl,dc\n",
    "```\n",
    "\n",
    "`tbl.dataclass()`\n",
    "\n",
    "- Purpose: The dataclass() method automatically generates a Python dataclass based on the *schema* of the table. This dataclass includes attributes corresponding to the table's columns.\n",
    "- Functionality: The dataclass allows you to instantiate objects that represent rows in the database table. These objects can be easily manipulated in Python and then saved back to the database.\n",
    "\n",
    "`dc.__ft__ = render`\n",
    "\n",
    "- Purpose: The assignment dc.__ft__ = render attaches the custom render function to the generated dataclass.\n",
    "- Functionality: When instances of this dataclass are converted into FastHTML components (likely when rendering HTML), the render function is used. This enables customized, user-defined HTML rendering of each table row based on its data."
   ]
  },
  {
   "cell_type": "markdown",
   "metadata": {},
   "source": [
    "#### 09 render function"
   ]
  },
  {
   "cell_type": "code",
   "execution_count": 30,
   "metadata": {},
   "outputs": [
    {
     "data": {
      "text/plain": [
       "Items(id=1, title='First todo', done=1)"
      ]
     },
     "execution_count": 30,
     "metadata": {},
     "output_type": "execute_result"
    },
    {
     "data": {
      "text/markdown": [
       "```html\n",
       "<li>First todo ✅</li>\n",
       "\n",
       "```"
      ],
      "text/plain": [
       "['li', ('First todo ✅',), {}]"
      ]
     },
     "execution_count": 30,
     "metadata": {},
     "output_type": "execute_result"
    }
   ],
   "source": [
    "def render(todo):\n",
    "    return todo\n",
    "\n",
    "render(todos.get(1))\n",
    "\n",
    "def render(todo):\n",
    "    return Li(todo.title + (' ✅' if todo.done else ''))\n",
    "\n",
    "render(todos.get(1))"
   ]
  },
  {
   "cell_type": "code",
   "execution_count": 31,
   "metadata": {},
   "outputs": [
    {
     "name": "stdout",
     "output_type": "stream",
     "text": [
      "('<title>Todos</title>\\n'\n",
      " '\\n'\n",
      " '<main class=\"container\">\\n'\n",
      " '  <h1>Todos</h1>\\n'\n",
      " '  <form enctype=\"multipart/form-data\" hx-post=\"/getInputData\" '\n",
      " 'hx-swap=\"beforeend\" hx-target=\"#todo-list\">\\n'\n",
      " '    <fieldset role=\"group\">\\n'\n",
      " '      <input placeholder=\"type your todo\" name=\"title\" hx-swap-oob=\"true\" '\n",
      " 'id=\"user-input\">\\n'\n",
      " '      <button>Add</button>\\n'\n",
      " '    </fieldset>\\n'\n",
      " '  </form>\\n'\n",
      " '  <ul id=\"todo-list\">\\n'\n",
      " '    <li>me</li>\\n'\n",
      " '    <li>First todo ✅</li>\\n'\n",
      " '    <li>Second todo</li>\\n'\n",
      " '    <li>Third todo ✅</li>\\n'\n",
      " '    <li>this is one for all</li>\\n'\n",
      " '    <li>this is her</li>\\n'\n",
      " '    <li>this is me again</li>\\n'\n",
      " '    <li></li>\\n'\n",
      " '    <li></li>\\n'\n",
      " '  </ul>\\n'\n",
      " '</main>\\n')\n"
     ]
    }
   ],
   "source": [
    "from fasthtml.common import *\n",
    "\n",
    "def render(todo): # it is added to Todo class and auto render every instance of Todo\n",
    "    return Li(todo.title + (' ✅' if todo.done else ''))\n",
    "\n",
    "app, rt, todos, Todo = fast_app('todos1.db', live=True, render=render,      \n",
    "                                id=int,\n",
    "                                title=str,\n",
    "                                done=bool,\n",
    "                                pk='id')\n",
    "\n",
    "@rt('/')\n",
    "def get():\n",
    "    out = Titled(\"Todos\",\n",
    "                    Form(Group(\n",
    "                        Input(placeholder='type your todo', name='title', id='user-input', hx_swap_oob=\"true\"),\n",
    "                        Button('Add')),\n",
    "                        hx_post='/getInputData',\n",
    "                        target_id='todo-list',\n",
    "                        hx_swap='beforeend'),\n",
    "                    # Ul(*[Li(t) for t in todos()], # each todo is already rendered as a Li\n",
    "                    Ul(*todos(), # now todos() is a generator of multiple todo which auto renders as Li already\n",
    "                        id='todo-list') \n",
    "                    )\n",
    "                 \n",
    "    return out\n",
    "\n",
    "@rt('/getInputData')\n",
    "def post(todo:Todo):\n",
    "    return (todos.insert(todo), \n",
    "            Input(placeholder='add a todo here', name='title', id='user-input', hx_swap_oob=\"true\"))\n",
    "\n",
    "cli = TestClient(app)\n",
    "hxhdr = {'headers':{'hx-request':\"1\"}} # mock to remove the headers\n",
    "# pprint(cli.post('/getInputData', data={'title':'put in the end'}).text) \n",
    "pprint(cli.get('/', **hxhdr).text) # same to what displayed in the browser\n",
    "\n",
    "\n",
    "# serve()"
   ]
  },
  {
   "cell_type": "markdown",
   "metadata": {},
   "source": [
    "# Add toggle link to each todo"
   ]
  },
  {
   "cell_type": "markdown",
   "metadata": {},
   "source": [
    "#### 10.1 What does the todo with a link look like?"
   ]
  },
  {
   "cell_type": "code",
   "execution_count": 35,
   "metadata": {},
   "outputs": [
    {
     "data": {
      "text/markdown": [
       "```html\n",
       "<li>\n",
       "  <a href=\"#\">toggle</a>\n",
       "First todo ✅\n",
       "</li>\n",
       "\n",
       "```"
      ],
      "text/plain": [
       "['li', (['a', ('toggle',), {'href': '#'}], 'First todo ✅'), {}]"
      ]
     },
     "execution_count": 35,
     "metadata": {},
     "output_type": "execute_result"
    },
    {
     "data": {
      "text/html": [
       "<li>\n",
       "  <a href=\"#\">toggle</a>\n",
       "First todo ✅\n",
       "</li>\n"
      ],
      "text/plain": [
       "<IPython.core.display.HTML object>"
      ]
     },
     "execution_count": 35,
     "metadata": {},
     "output_type": "execute_result"
    }
   ],
   "source": [
    "def render(todo):\n",
    "    return Li(A('toggle'), todo.title + (' ✅' if todo.done else ''))\n",
    "\n",
    "render(todos.get(1))\n",
    "show(render(todos.get(1)))"
   ]
  },
  {
   "cell_type": "code",
   "execution_count": null,
   "metadata": {},
   "outputs": [],
   "source": [
    "from fasthtml.common import *\n",
    "\n",
    "def render(todo): # it is added to Todo class and auto render every instance of Todo\n",
    "    return Li(A('toggle'), todo.title + (' ✅' if todo.done else ''))\n",
    "\n",
    "app, rt, todos, Todo = fast_app('todos1.db', live=True, render=render,      \n",
    "                                id=int,\n",
    "                                title=str,\n",
    "                                done=bool,\n",
    "                                pk='id')\n",
    "\n",
    "@rt('/')\n",
    "def get():\n",
    "    out = Titled(\"Todos\",\n",
    "                    Form(Group(\n",
    "                        Input(placeholder='type your todo', name='title', id='user-input', hx_swap_oob=\"true\"),\n",
    "                        Button('Add')),\n",
    "                        hx_post='/getInputData',\n",
    "                        target_id='todo-list',\n",
    "                        hx_swap='beforeend'),\n",
    "                    # Ul(*[Li(t) for t in todos()], # each todo is already rendered as a Li\n",
    "                    Ul(*todos(), # now todos() is a generator of multiple todo which auto renders as Li already\n",
    "                        id='todo-list') \n",
    "                    )\n",
    "                 \n",
    "    return out\n",
    "\n",
    "@rt('/getInputData')\n",
    "def post(todo:Todo):\n",
    "    return (todos.insert(todo), \n",
    "            Input(placeholder='add a todo here', name='title', id='user-input', hx_swap_oob=\"true\"))\n",
    "\n",
    "cli = TestClient(app)\n",
    "hxhdr = {'headers':{'hx-request':\"1\"}} # mock to remove the headers\n",
    "# pprint(cli.post('/getInputData', data={'title':'put in the end'}).text) \n",
    "pprint(cli.get('/', **hxhdr).text) # same to what displayed in the browser\n",
    "\n",
    "\n",
    "# serve()"
   ]
  },
  {
   "cell_type": "markdown",
   "metadata": {},
   "source": [
    "# click the toggle link to change done  status\n",
    "\n",
    "#### what make the A tag suitable for all todos?\n",
    "\n",
    "- `hx_get=f'/todo-{todo.id}'`: an unique path using its id for each todo\n",
    "- `target_id=f'todo-{todo.id}`: give response to the todo with its unique id\n",
    "- `hx_swap='outerHTML'`: replace the entire todo with the response\n",
    "\n",
    "#### How to give each todo a unique url to call the same function?\n",
    "\n",
    "- `hx_get=f'/todo-{todo.id}'`: an unique path using its id for each todo\n",
    "- `@rt('/todo-{todoId}')`: a route to handle the unique path"
   ]
  },
  {
   "cell_type": "markdown",
   "metadata": {},
   "source": [
    "The `f'/todo-{todoId}'` syntax is used for string formatting in Python, where `todoId` is a variable that has a value. It's used when you want to include the value of `todoId` in the string.\n",
    "\n",
    "However, in the route decorator `@rt('/todo-{todoId}')`, `todoId` is not a variable with a value. Instead, it's a placeholder in the URL pattern that will be replaced by the actual value when a request is made.\n",
    "\n",
    "When you define a route like `@rt('/todo-{todoId}')`, you're telling the web framework to match any URL that follows the pattern `/todo-<some value>`, and to pass that `<some value>` as an argument to the associated function (`get` in this case).\n",
    "\n",
    "So, you don't use `f'/todo-{todoId}'` because you're not trying to include the value of `todoId` in the string. Instead, you're defining a URL pattern with a placeholder that will be filled in with the actual value when a request is made."
   ]
  },
  {
   "cell_type": "markdown",
   "metadata": {},
   "source": [
    "#### 10.2 toggle the done status"
   ]
  },
  {
   "cell_type": "code",
   "execution_count": 37,
   "metadata": {},
   "outputs": [
    {
     "name": "stdout",
     "output_type": "stream",
     "text": [
      "('<li id=\"todo-1\">\\n'\n",
      " '  <a href=\"#\" hx-get=\"/todo-1\" hx-swap=\"outerHTML\" '\n",
      " 'hx-target=\"#todo-1\">toggle</a>\\n'\n",
      " 'First todo\\n'\n",
      " '</li>\\n')\n"
     ]
    }
   ],
   "source": [
    "from fasthtml.common import *\n",
    "\n",
    "def render(todo): # it is added to Todo class and auto render every instance of Todo\n",
    "\n",
    "    return Li(A('toggle', \n",
    "                hx_get=f'/todo-{todo.id}', # give each todo a unique url for toggling\n",
    "                target_id=f'todo-{todo.id}', # give the response to one with the id\n",
    "                hx_swap='outerHTML'), # replace the whole element with the response\n",
    "              todo.title + (' ✅' if todo.done else ''),\n",
    "              id=f'todo-{todo.id}') # give each todo a unique id\n",
    "\n",
    "app, rt, todos, Todo = fast_app('todos1.db', live=True, render=render,      \n",
    "                                id=int,\n",
    "                                title=str,\n",
    "                                done=bool,\n",
    "                                pk='id')\n",
    "\n",
    "@rt('/todo-{todoId}') # why not use f'/todo-{todoId}'? how does it know todoId?\n",
    "def get(todoId:int):\n",
    "    todo = todos.get(todoId)\n",
    "    todo.done = not todo.done\n",
    "    return todos.update(todo)\n",
    "\n",
    "\n",
    "@rt('/')\n",
    "def get():\n",
    "    out = Titled(\"Todos\",\n",
    "                    Form(Group(\n",
    "                        Input(placeholder='type your todo', name='title', id='user-input', hx_swap_oob=\"true\"),\n",
    "                        Button('Add')),\n",
    "                        hx_post='/getInputData',\n",
    "                        target_id='todo-list',\n",
    "                        hx_swap='beforeend'),\n",
    "                    # Ul(*[Li(t) for t in todos()], # each todo is already rendered as a Li\n",
    "                    Ul(*todos(), # now todos() is a generator of multiple todo which auto renders as Li already\n",
    "                        id='todo-list') \n",
    "                    )\n",
    "                 \n",
    "    return out\n",
    "\n",
    "@rt('/getInputData')\n",
    "def post(todo:Todo):\n",
    "    return (todos.insert(todo), \n",
    "            Input(placeholder='add a todo here', name='title', id='user-input', hx_swap_oob=\"true\"))\n",
    "\n",
    "cli = TestClient(app)\n",
    "hxhdr = {'headers':{'hx-request':\"1\"}} # mock to remove the headers\n",
    "# pprint(cli.post('/getInputData', data={'title':'put in the end'}).text) \n",
    "pprint(cli.get('/todo-1', **hxhdr).text) # same to what displayed in the browser\n",
    "\n",
    "\n",
    "# serve()"
   ]
  },
  {
   "cell_type": "markdown",
   "metadata": {},
   "source": [
    "# add a delete link to each todo\n",
    "\n",
    "- add a simple link with 'delete' first\n",
    "- `hx_delete` to delete the todo with a unique url"
   ]
  },
  {
   "cell_type": "code",
   "execution_count": null,
   "metadata": {},
   "outputs": [],
   "source": [
    "from fasthtml.common import *\n",
    "\n",
    "def render(todo): # it is added to Todo class and auto render every instance of Todo\n",
    "\n",
    "    return Li(A('toggle', \n",
    "                hx_get=f'/todo-{todo.id}',\n",
    "                target_id=f'todo-{todo.id}', \n",
    "                hx_swap='outerHTML'), \n",
    "\n",
    "              A('delete',\n",
    "                hx_delete=f'/todo-{todo.id}', # give each todo a unique url for deleting\n",
    "                target_id=f'todo-{todo.id}', # give response to the A tag but the Li element\n",
    "                hx_swap='outerHTML', # replace the whole element with the response\n",
    "                \n",
    "                ),\n",
    "\n",
    "              todo.title + (' ✅' if todo.done else ''),\n",
    "\n",
    "              id=f'todo-{todo.id}') \n",
    "\n",
    "app, rt, todos, Todo = fast_app('todos1.db', live=True, render=render,      \n",
    "                                id=int,\n",
    "                                title=str,\n",
    "                                done=bool,\n",
    "                                pk='id')\n",
    "\n",
    "@rt('/todo-{todoId}')\n",
    "def delete(todoId:int):\n",
    "    todos.delete(todoId)\n",
    "    # return # no return is needed\n",
    "\n",
    "@rt('/todo-{todoId}') \n",
    "def get(todoId:int):\n",
    "    todo = todos.get(todoId)\n",
    "    todo.done = not todo.done\n",
    "    return todos.update(todo)\n",
    "\n",
    "\n",
    "@rt('/')\n",
    "def get():\n",
    "    out = Titled(\"Todos\",\n",
    "                    Form(Group(\n",
    "                        Input(placeholder='type your todo', name='title', id='user-input', hx_swap_oob=\"true\"),\n",
    "                        Button('Add')),\n",
    "                        hx_post='/getInputData',\n",
    "                        target_id='todo-list',\n",
    "                        hx_swap='beforeend'),\n",
    "                    # Ul(*[Li(t) for t in todos()], # each todo is already rendered as a Li\n",
    "                    Ul(*todos(), # now todos() is a generator of multiple todo which auto renders as Li already\n",
    "                        id='todo-list') \n",
    "                    )\n",
    "                 \n",
    "    return out\n",
    "\n",
    "@rt('/getInputData')\n",
    "def post(todo:Todo):\n",
    "    return (todos.insert(todo), \n",
    "            Input(placeholder='add a todo here', name='title', id='user-input', hx_swap_oob=\"true\"))\n",
    "\n",
    "cli = TestClient(app)\n",
    "hxhdr = {'headers':{'hx-request':\"1\"}} # mock to remove the headers\n",
    "# pprint(cli.post('/getInputData', data={'title':'put in the end'}).text) \n",
    "pprint(cli.get('/todo-1', **hxhdr).text) # same to what displayed in the browser\n",
    "\n",
    "\n",
    "# serve()"
   ]
  },
  {
   "cell_type": "markdown",
   "metadata": {},
   "source": [
    "#  ========="
   ]
  },
  {
   "cell_type": "markdown",
   "metadata": {},
   "source": [
    "# Create a html page"
   ]
  },
  {
   "cell_type": "code",
   "execution_count": null,
   "metadata": {},
   "outputs": [
    {
     "name": "stdout",
     "output_type": "stream",
     "text": [
      "['html',\n",
      " (['head', (['title', ('Some page',), {}],), {}],\n",
      "  ['body',\n",
      "   (['div',\n",
      "     ('Some text, ',\n",
      "      ['a', ('A link',), {'href': 'https://example.com'}],\n",
      "      ['img', (), {'src': 'https://placehold.co/200'}]),\n",
      "     {'class': 'myclass'}],),\n",
      "   {}]),\n",
      " {}]\n",
      "====================\n",
      "<html>\n",
      "  <head>\n",
      "    <title>Some page</title>\n",
      "  </head>\n",
      "  <body>\n",
      "    <div class=\"myclass\">\n",
      "Some text, \n",
      "      <a href=\"https://example.com\">A link</a>\n",
      "      <img src=\"https://placehold.co/200\">\n",
      "    </div>\n",
      "  </body>\n",
      "</html>\n",
      "\n",
      "====================\n"
     ]
    },
    {
     "data": {
      "text/html": [
       "<html>\n",
       "  <head>\n",
       "    <title>Some page</title>\n",
       "  </head>\n",
       "  <body>\n",
       "    <div class=\"myclass\">\n",
       "Some text, \n",
       "      <a href=\"https://example.com\">A link</a>\n",
       "      <img src=\"https://placehold.co/200\">\n",
       "    </div>\n",
       "  </body>\n",
       "</html>\n"
      ],
      "text/plain": [
       "<IPython.core.display.HTML object>"
      ]
     },
     "metadata": {},
     "output_type": "display_data"
    }
   ],
   "source": [
    "from fasthtml.common import *\n",
    "\n",
    "page = Html(\n",
    "    Head(Title('Some page')),\n",
    "    Body(\n",
    "        Div('Some text, ', \n",
    "            A('A link', href='https://example.com'), \n",
    "            Img(src=\"https://placehold.co/200\"), \n",
    "            cls='myclass')))\n",
    "\n",
    "pprint(page) # page: is about FT\n",
    "print(\"====================\")\n",
    "print(to_xml(page)) # xml format\n",
    "print(\"====================\")\n",
    "show(page) # actual html page"
   ]
  },
  {
   "cell_type": "code",
   "execution_count": null,
   "metadata": {},
   "outputs": [
    {
     "name": "stdout",
     "output_type": "stream",
     "text": [
      "('<div>\\n'\n",
      " '  <h1>Hello, World</h1>\\n'\n",
      " '  <p>Some text</p>\\n'\n",
      " '  <p>Some more text</p>\\n'\n",
      " '</div>\\n')\n"
     ]
    }
   ],
   "source": [
    "app = FastHTML()\n",
    "\n",
    "@app.get(\"/\")\n",
    "def home():\n",
    "    return Div(\n",
    "                H1('Hello, World'), \n",
    "                P('Some text'), \n",
    "                P('Some more text'))\n",
    "\n",
    "\n",
    "hxhdr = {'headers':{'hx-request':\"1\"}} # mock to remove the headers\n",
    "client = TestClient(app)\n",
    "pprint(client.get(\"/\", **hxhdr).text)"
   ]
  },
  {
   "cell_type": "markdown",
   "metadata": {},
   "source": [
    "# Style with `Main` and `cls=\"container\"`\n",
    "\n",
    "In HTML, the `<main>` tag is used to wrap the main content of the body of a document or an application. The content inside the `<main>` tag should be unique to the document, excluding content that is repeated across a set of documents such as site navigation links, header or footer information.\n",
    "\n",
    "When the statement says \"we put all of our content inside a `<main>` tag with a class of `container`\", it means that all the primary content of the webpage is wrapped inside a `<main>` tag. The `class=\"container\"` attribute is used to apply specific CSS styling to this `<main>` element.\n",
    "\n",
    "In many CSS frameworks like Bootstrap or PicoCSS, the `container` class is used to center the content and handle the layout in a certain way, often providing a responsive design. The exact styling applied by the `container` class can vary depending on the CSS rules defined in the linked stylesheets.\n",
    "\n",
    "In the provided Python code, `Main(H1('Hello, World'), cls=\"container\")` is creating a `<main>` HTML element with the class `container`, and inside this `<main>` element, it's placing an `<h1>` element with the text 'Hello, World'."
   ]
  },
  {
   "cell_type": "code",
   "execution_count": null,
   "metadata": {},
   "outputs": [
    {
     "name": "stdout",
     "output_type": "stream",
     "text": [
      "('<title>Hello World</title>\\n'\n",
      " '\\n'\n",
      " '<main class=\"container\">\\n'\n",
      " '  <h1>Hello, World</h1>\\n'\n",
      " '</main>\\n')\n"
     ]
    }
   ],
   "source": [
    "from fasthtml.common import *\n",
    "\n",
    "css = Style(':root { --pico-font-size: 100%; --pico-font-family: Pacifico, cursive;}')\n",
    "app = FastHTML(hdrs=(picolink, css)) # custom styling to override the pico defaults\n",
    "\n",
    "@app.route(\"/\")\n",
    "def get():\n",
    "    op1 = Title(\"Hello World\"), Main(H1('Hello, World'), cls=\"container\") \n",
    "    op2  = Titled('Hello World') #exactly the same as above, and no need to worry about cls=\"container\"\n",
    "    return op2\n",
    "\n",
    "# hxhdr = {'headers':{'hx-request':\"1\"}} # mock to remove the headers\n",
    "# client = TestClient(app)\n",
    "# pprint(client.get(\"/\", **hxhdr).text)\n",
    "\n",
    "serve()"
   ]
  },
  {
   "cell_type": "markdown",
   "metadata": {},
   "source": [
    "# Form send data without htmx\n",
    "\n",
    "## use`action='/'`, `method='POST'` for Form\n"
   ]
  },
  {
   "cell_type": "markdown",
   "metadata": {},
   "source": [
    "# How to multi-page app"
   ]
  },
  {
   "cell_type": "code",
   "execution_count": null,
   "metadata": {},
   "outputs": [],
   "source": [
    "from fasthtml.common import *\n",
    "\n",
    "app = FastHTML()\n",
    "messages = [\"This is a message, which will get rendered as a paragraph\"]\n",
    "\n",
    "@app.get(\"/\")\n",
    "def home():\n",
    "    return Main(H1('Messages'), \n",
    "                *[P(msg) for msg in messages], # spread the list of messages as P elements\n",
    "                A(\"Link to Page 2 (to add messages)\", \n",
    "                  href=\"/page2\")) # go to a new page\n",
    "\n",
    "@app.get(\"/page2\")\n",
    "def page2():\n",
    "    return Main(P(\"Add a message with the form below:\"),\n",
    "                Form(Input(type=\"text\", \n",
    "                           name=\"data\"), # create a (name:value) pair, which is \"data\":<input>\n",
    "                     Button(\"Submit\"),\n",
    "                     action=\"/\", method=\"post\"))\n",
    "\n",
    "@app.post(\"/\")\n",
    "def add_message(data:str): # here we can access the data from the form\n",
    "    messages.append(data)\n",
    "    return home()\n",
    "\n",
    "serve()"
   ]
  },
  {
   "cell_type": "markdown",
   "metadata": {},
   "source": [
    "\n",
    "# `hx_target='#count'` is the same  `target_id='count'`\n",
    "\n",
    "# `global`: how use `count` across all pages"
   ]
  },
  {
   "cell_type": "code",
   "execution_count": 1,
   "metadata": {},
   "outputs": [],
   "source": [
    "from fasthtml.common import *\n",
    "\n",
    "app = FastHTML()\n",
    "\n",
    "count = 0\n",
    "\n",
    "@app.get(\"/\")\n",
    "def home():\n",
    "    return Title(\"Count Demo\"), Main(\n",
    "        H1(\"Count Demo\"),\n",
    "        P(f\"Count is set to {count}\", id=\"count\"),\n",
    "        Button(\"Increment\", \n",
    "            #    hx_get=\"/increment\", \n",
    "               hx_post=\"/increment\",\n",
    "            #    hx_target=\"#count\", \n",
    "               target_id=\"count\",\n",
    "               hx_swap=\"innerHTML\")\n",
    "    )\n",
    "\n",
    "# @app.get(\"/increment\")\n",
    "@app.post(\"/increment\")\n",
    "def increment():\n",
    "    print(\"incrementing\") # debug print into the terminal\n",
    "    global count # access the global variable count\n",
    "    count += 1\n",
    "    return f\"Count is set to {count}\" # return it as the content of the P with id \"count\"\n",
    "\n",
    "# serve()"
   ]
  },
  {
   "cell_type": "markdown",
   "metadata": {},
   "source": [
    "# create empty database and empty table"
   ]
  },
  {
   "cell_type": "code",
   "execution_count": 16,
   "metadata": {},
   "outputs": [
    {
     "name": "stdout",
     "output_type": "stream",
     "text": [
      "'db.t = '\n",
      "<Table items (does not exist yet)>\n",
      "<Table items (does not exist yet)>\n"
     ]
    }
   ],
   "source": [
    "from fasthtml.common import *\n",
    "db = database('data/todos.db') # empty database\n",
    "todos = db.t.items # empty table\n",
    "\n",
    "pprint(f'db.t = {db.t}')\n",
    "pprint(db.t.items)\n",
    "pprint(todos)\n"
   ]
  },
  {
   "cell_type": "markdown",
   "metadata": {},
   "source": [
    "# Fill empty table with column names and types"
   ]
  },
  {
   "cell_type": "code",
   "execution_count": 19,
   "metadata": {},
   "outputs": [
    {
     "name": "stdout",
     "output_type": "stream",
     "text": [
      "'db.t = items'\n",
      "<Table items (id, title, done)>\n",
      "<Table items (id, title, done)>\n",
      "<Table items (id, title, done)>\n"
     ]
    }
   ],
   "source": [
    "if todos not in db.t: todos.create(id=int, title=str, done=bool, pk='id')\n",
    "\n",
    "pprint(f'db.t = {db.t}')\n",
    "pprint(db.t.items)\n",
    "pprint(todos)\n",
    "pprint(db.tables[0])"
   ]
  },
  {
   "cell_type": "markdown",
   "metadata": {},
   "source": [
    "# Add data to the table and list all rows"
   ]
  },
  {
   "cell_type": "code",
   "execution_count": 21,
   "metadata": {},
   "outputs": [
    {
     "data": {
      "text/plain": [
       "{'id': 1, 'title': 'A todo', 'done': 0}"
      ]
     },
     "execution_count": 21,
     "metadata": {},
     "output_type": "execute_result"
    },
    {
     "data": {
      "text/plain": [
       "{'id': 2, 'title': 'Another one', 'done': 1}"
      ]
     },
     "execution_count": 21,
     "metadata": {},
     "output_type": "execute_result"
    },
    {
     "data": {
      "text/plain": [
       "[{'id': 1, 'title': 'A todo', 'done': 0},\n",
       " {'id': 2, 'title': 'Another one', 'done': 1}]"
      ]
     },
     "execution_count": 21,
     "metadata": {},
     "output_type": "execute_result"
    }
   ],
   "source": [
    "# add rows to the table\n",
    "todos.insert(title='A todo', done=False)\n",
    "todos.insert(title='Another one', done=True)\n",
    "\n",
    "todos() # list all rows of the table"
   ]
  },
  {
   "cell_type": "markdown",
   "metadata": {},
   "source": [
    "# Create a class for the table row"
   ]
  },
  {
   "cell_type": "code",
   "execution_count": 22,
   "metadata": {},
   "outputs": [
    {
     "data": {
      "text/plain": [
       "Items(id=None, title='From a dataclass', done=False)"
      ]
     },
     "execution_count": 22,
     "metadata": {},
     "output_type": "execute_result"
    },
    {
     "data": {
      "text/plain": [
       "Items(id=3, title='From a dataclass', done=0)"
      ]
     },
     "execution_count": 22,
     "metadata": {},
     "output_type": "execute_result"
    }
   ],
   "source": [
    "Todo = todos.dataclass()\n",
    "Todo(title='From a dataclass', done=False)\n",
    "todos.insert(Todo(title='From a dataclass', done=False)) # id auto added and done to 0 or 1 not true or false"
   ]
  },
  {
   "cell_type": "markdown",
   "metadata": {},
   "source": [
    "# all rows into unordered list"
   ]
  },
  {
   "cell_type": "code",
   "execution_count": 30,
   "metadata": {},
   "outputs": [
    {
     "data": {
      "text/plain": [
       "[['li', ('A todo ',), {}]]"
      ]
     },
     "execution_count": 30,
     "metadata": {},
     "output_type": "execute_result"
    },
    {
     "data": {
      "text/plain": [
       "[['li', ('A todo ',), {}],\n",
       " ['li', ('Another one ✅',), {}],\n",
       " ['li', ('From a dataclass ',), {}]]"
      ]
     },
     "execution_count": 30,
     "metadata": {},
     "output_type": "execute_result"
    }
   ],
   "source": [
    "[Li(f'{o.title} {\"✅\" if o.done else \"\"}') for o in todos()[:1]]\n",
    "[Li(f'{o.title} {\"✅\" if o.done else \"\"}') for o in todos()] # can't be rendered into html, but just FT objects or lists"
   ]
  },
  {
   "cell_type": "code",
   "execution_count": 31,
   "metadata": {},
   "outputs": [
    {
     "data": {
      "text/markdown": [
       "```html\n",
       "<ul>\n",
       "  <li>A todo </li>\n",
       "  <li>Another one ✅</li>\n",
       "  <li>From a dataclass </li>\n",
       "</ul>\n",
       "\n",
       "```"
      ],
      "text/plain": [
       "['ul',\n",
       " (['li', ('A todo ',), {}],\n",
       "  ['li', ('Another one ✅',), {}],\n",
       "  ['li', ('From a dataclass ',), {}]),\n",
       " {}]"
      ]
     },
     "execution_count": 31,
     "metadata": {},
     "output_type": "execute_result"
    }
   ],
   "source": [
    "todolist = Ul(*[Li(f'{o.title} {\"✅\" if o.done else \"\"}') for o in todos()])\n",
    "todolist # rendered into html literal"
   ]
  },
  {
   "cell_type": "markdown",
   "metadata": {},
   "source": [
    "# style notebook with pico"
   ]
  },
  {
   "cell_type": "code",
   "execution_count": 32,
   "metadata": {},
   "outputs": [
    {
     "data": {
      "text/html": [
       "<link rel=\"stylesheet\" href=\"https://cdn.jsdelivr.net/npm/@picocss/pico@latest/css/pico.conditional.min.css\">\n",
       "\n",
       "<style>:root { --pico-font-size: 100%; }</style>\n"
      ],
      "text/plain": [
       "<IPython.core.display.HTML object>"
      ]
     },
     "execution_count": 32,
     "metadata": {},
     "output_type": "execute_result"
    }
   ],
   "source": [
    "show(picocondlink)"
   ]
  },
  {
   "cell_type": "markdown",
   "metadata": {},
   "source": [
    "```python xtend.py\n",
    "picocss = \"https://cdn.jsdelivr.net/npm/@picocss/pico@latest/css/pico.min.css\"\n",
    "picolink = (Link(rel=\"stylesheet\", href=picocss),\n",
    "            Style(\":root { --pico-font-size: 100%; }\"))\n",
    "picocondcss = \"https://cdn.jsdelivr.net/npm/@picocss/pico@latest/css/pico.conditional.min.css\"\n",
    "picocondlink = (Link(rel=\"stylesheet\", href=picocondcss),\n",
    "                Style(\":root { --pico-font-size: 100%; }\"))\n",
    "```"
   ]
  },
  {
   "cell_type": "code",
   "execution_count": 34,
   "metadata": {},
   "outputs": [
    {
     "data": {
      "application/javascript": "var sel = '.cell-output, .output_area';\ndocument.querySelectorAll(sel).forEach(e => e.classList.add('pico'));\n\nnew MutationObserver(ms => {\n  ms.forEach(m => {\n    m.addedNodes.forEach(n => {\n      if (n.nodeType === 1) {\n        var nc = n.classList;\n        if (nc && (nc.contains('cell-output') || nc.contains('output_area'))) nc.add('pico');\n        n.querySelectorAll(sel).forEach(e => e.classList.add('pico'));\n      }\n    });\n  });\n}).observe(document.body, { childList: true, subtree: true });",
      "text/plain": [
       "<IPython.core.display.Javascript object>"
      ]
     },
     "execution_count": 34,
     "metadata": {},
     "output_type": "execute_result"
    }
   ],
   "source": [
    "set_pico_cls() # apply pico to notebook cells"
   ]
  },
  {
   "cell_type": "markdown",
   "metadata": {},
   "source": [
    "```python xtend.py\n",
    "def set_pico_cls():\n",
    "    js = \"\"\"var sel = '.cell-output, .output_area';\n",
    "document.querySelectorAll(sel).forEach(e => e.classList.add('pico'));\n",
    "\n",
    "new MutationObserver(ms => {\n",
    "  ms.forEach(m => {\n",
    "    m.addedNodes.forEach(n => {\n",
    "      if (n.nodeType === 1) {\n",
    "        var nc = n.classList;\n",
    "        if (nc && (nc.contains('cell-output') || nc.contains('output_area'))) nc.add('pico');\n",
    "        n.querySelectorAll(sel).forEach(e => e.classList.add('pico'));\n",
    "      }\n",
    "    });\n",
    "  });\n",
    "}).observe(document.body, { childList: true, subtree: true });\"\"\"\n",
    "    return display.Javascript(js)\n",
    "```"
   ]
  },
  {
   "cell_type": "code",
   "execution_count": 36,
   "metadata": {},
   "outputs": [
    {
     "data": {
      "text/markdown": [
       "```html\n",
       "<article>\n",
       "  <header>head</header>\n",
       "  <ul>\n",
       "    <li>A todo </li>\n",
       "    <li>Another one ✅</li>\n",
       "    <li>From a dataclass </li>\n",
       "  </ul>\n",
       "  <footer>foot</footer>\n",
       "</article>\n",
       "\n",
       "```"
      ],
      "text/plain": [
       "['article',\n",
       " (['header', ('head',), {}],\n",
       "  ['ul',\n",
       "   (['li', ('A todo ',), {}],\n",
       "    ['li', ('Another one ✅',), {}],\n",
       "    ['li', ('From a dataclass ',), {}]),\n",
       "   {}],\n",
       "  ['footer', ('foot',), {}]),\n",
       " {}]"
      ]
     },
     "execution_count": 36,
     "metadata": {},
     "output_type": "execute_result"
    },
    {
     "data": {
      "text/html": [
       "<article>\n",
       "  <header>head</header>\n",
       "  <ul>\n",
       "    <li>A todo </li>\n",
       "    <li>Another one ✅</li>\n",
       "    <li>From a dataclass </li>\n",
       "  </ul>\n",
       "  <footer>foot</footer>\n",
       "</article>\n"
      ],
      "text/plain": [
       "<IPython.core.display.HTML object>"
      ]
     },
     "execution_count": 36,
     "metadata": {},
     "output_type": "execute_result"
    }
   ],
   "source": [
    "Card(todolist, header=\"head\", footer=\"foot\")\n",
    "show(Card(todolist, header=\"head\", footer=\"foot\"))"
   ]
  },
  {
   "cell_type": "code",
   "execution_count": 37,
   "metadata": {},
   "outputs": [
    {
     "data": {
      "text/markdown": [
       "```html\n",
       "<form enctype=\"multipart/form-data\">\n",
       "  <fieldset role=\"group\">\n",
       "    <input id=\"title\" name=\"title\">\n",
       "    <button>Save</button>\n",
       "  </fieldset>\n",
       "  <label>\n",
       "    <input type=\"checkbox\" value=\"1\" id=\"done\" name=\"done\">\n",
       "Done\n",
       "  </label>\n",
       "</form>\n",
       "\n",
       "```"
      ],
      "text/plain": [
       "['form',\n",
       " (['fieldset',\n",
       "   (['input', (), {'id': 'title', 'name': 'title'}],\n",
       "    ['button', ('Save',), {}]),\n",
       "   {'role': 'group'}],\n",
       "  ['label',\n",
       "   (['input',\n",
       "     (),\n",
       "     {'type': 'checkbox', 'value': '1', 'id': 'done', 'name': 'done'}],\n",
       "    'Done'),\n",
       "   {}]),\n",
       " {'enctype': 'multipart/form-data'}]"
      ]
     },
     "execution_count": 37,
     "metadata": {},
     "output_type": "execute_result"
    }
   ],
   "source": [
    "frm = Form(Group(Input(id=\"title\"), Button(\"Save\")),\n",
    "           Checkbox(id=\"done\", label='Done'))\n",
    "frm"
   ]
  },
  {
   "cell_type": "code",
   "execution_count": 38,
   "metadata": {},
   "outputs": [
    {
     "data": {
      "text/html": [
       "<form enctype=\"multipart/form-data\">\n",
       "  <fieldset role=\"group\">\n",
       "    <input id=\"title\" name=\"title\">\n",
       "    <button>Save</button>\n",
       "  </fieldset>\n",
       "  <label>\n",
       "    <input type=\"checkbox\" value=\"1\" id=\"done\" name=\"done\">\n",
       "Done\n",
       "  </label>\n",
       "</form>\n"
      ],
      "text/plain": [
       "<IPython.core.display.HTML object>"
      ]
     },
     "execution_count": 38,
     "metadata": {},
     "output_type": "execute_result"
    }
   ],
   "source": [
    "show(frm)"
   ]
  },
  {
   "cell_type": "markdown",
   "metadata": {},
   "source": [
    "# Page vs Titled, multi-page with htmx"
   ]
  },
  {
   "cell_type": "code",
   "execution_count": null,
   "metadata": {},
   "outputs": [],
   "source": [
    "from fasthtml.common import *\n",
    "\n",
    "app,rt = fast_app()\n",
    "\n",
    "\n",
    "@rt(\"/\")\n",
    "def get():\n",
    "    contents = Div(\n",
    "        A('Link', hx_get='/page'),\n",
    "    )\n",
    "    return Page('Home', contents) # Page is very similar to Titled, get many attrs get up.\n",
    "\n",
    "@rt(\"/page\")\n",
    "def get():\n",
    "    contents = Div(\n",
    "        A('Home', hx_get='/'),\n",
    "    )\n",
    "    return Page('Page', contents)\n",
    "\n",
    "\n",
    "serve()"
   ]
  },
  {
   "cell_type": "markdown",
   "metadata": {},
   "source": [
    "# todo project: simple to fancy\n",
    "\n",
    "### multi-page, htmx, database"
   ]
  },
  {
   "cell_type": "code",
   "execution_count": 40,
   "metadata": {},
   "outputs": [],
   "source": [
    "from fasthtml.fastapp import *\n",
    "\n",
    "app,rt, todos,Todo = fast_app('data/todos.db', id=int, title=str, done=bool, pk='id')\n",
    "\n",
    "\n",
    "@rt(\"/\")\n",
    "def get():\n",
    "    todo_list = [\n",
    "        Li(\n",
    "            A(todo.title, \n",
    "              hx_get=f'/todos/{todo.id}'),\n",
    "            (' (done)' if todo.done else ''),\n",
    "            id=f'todo-{todo.id}'\n",
    "        ) for todo in todos()\n",
    "    ]\n",
    "    card = Card(\n",
    "                Ul(*todo_list, id='todo-list'),\n",
    "                header=add,\n",
    "                footer=Div(id='current-todo')\n",
    "            )\n",
    "    return Page('Todo list', card) # force to create a new page\n",
    "\n",
    "@rt(\"/todos/{id}\")\n",
    "def get(id:int):\n",
    "    contents = Div(\n",
    "        Div(todos[id].title),\n",
    "        Button('Back', hx_get='/')\n",
    "    )\n",
    "    return Page('Todo details', contents) # force to create a new page\n",
    "\n",
    "serve()"
   ]
  },
  {
   "cell_type": "markdown",
   "metadata": {},
   "source": [
    "### add Form to post data"
   ]
  },
  {
   "cell_type": "code",
   "execution_count": null,
   "metadata": {},
   "outputs": [],
   "source": [
    "from fasthtml.fastapp import *\n",
    "\n",
    "app,rt, todos,Todo = fast_app('data/todos.db', id=int, title=str, done=bool, pk='id')\n",
    "\n",
    "def TodoRow(todo): # it's like a render function\n",
    "    return Li(\n",
    "        A(todo.title, \n",
    "          hx_get=f'/todos/{todo.id}'),\n",
    "        (' (done)' if todo.done else ''),\n",
    "        id=f'todo-{todo.id}' # give each todo a unique id\n",
    "    )\n",
    "\n",
    "\n",
    "def home():\n",
    "    add = Form(\n",
    "            Group(\n",
    "                Input(name=\"title\", \n",
    "                      placeholder=\"New Todo\"),\n",
    "                Button(\"Add\")\n",
    "            ), \n",
    "            hx_post=\"/\"\n",
    "        )\n",
    "    card = Card(\n",
    "                Ul(*map(TodoRow, todos()), # actually rendering all todos\n",
    "                   id='todo-list'),\n",
    "                header=add, # put the form in the header of the Card\n",
    "                footer=Div(id='current-todo') # empty div as the footer\n",
    "            )\n",
    "    return Page('Todo list', card)\n",
    "\n",
    "@rt(\"/\")\n",
    "def get(): return home()\n",
    "\n",
    "@rt(\"/\")\n",
    "def post(todo:Todo):\n",
    "    todos.insert(todo)\n",
    "    return home() # this is bad, to update the home page is a waste of resources; of course, the only good thing is that Input is also refreshed.\n",
    "\n",
    "@rt(\"/todos/{id}\")\n",
    "def get(id:int):\n",
    "    contents = Div(\n",
    "        Div(todos[id].title),\n",
    "        Button('Back', hx_get='/')\n",
    "    )\n",
    "    return Page('Todo details', contents) # return a new page, also kind of waste\n",
    "\n",
    "serve()"
   ]
  },
  {
   "cell_type": "markdown",
   "metadata": {},
   "source": [
    "# `name:value` pair & `hx_delete` in Button"
   ]
  },
  {
   "cell_type": "code",
   "execution_count": null,
   "metadata": {},
   "outputs": [],
   "source": [
    "from fasthtml.fastapp import *\n",
    "\n",
    "app,rt,todos,Todo = fast_app('data/todos.db', id=int, title=str, done=bool, pk='id')\n",
    "\n",
    "\n",
    "def TodoRow(todo): # rendering the todo as a Li\n",
    "    return Li(\n",
    "        A(todo.title, hx_get=f'/todos/{todo.id}'),\n",
    "        (' (done)' if todo.done else '') + ' | ',\n",
    "        A('edit',     \n",
    "          hx_get=f'/edit/{todo.id}'), # click to run the edit page\n",
    "        id=f'todo-{todo.id}'\n",
    "    )\n",
    "\n",
    "\n",
    "@rt(\"/todos/{id}\") # run the edit page for the todo with the id\n",
    "def get(id:int):\n",
    "    contents = Div(\n",
    "        Div(todos[id].title),\n",
    "        Button('Delete', \n",
    "               hx_delete='/', # click the button to delete the todo\n",
    "               value=id,  # create a hidden input with the value of the id\n",
    "               name=\"id\"), # give the hidden input a name\n",
    "        Button('Back', hx_get='/') # click the button to go back the home page\n",
    "    )\n",
    "    return Page('Todo details', contents)\n",
    "\n",
    "@rt(\"/\")\n",
    "def delete(id:int): \n",
    "    todos.delete(id)\n",
    "    return home()\n",
    "\n",
    "def home():\n",
    "    add = Form(\n",
    "            Group(\n",
    "                Input(name=\"title\", placeholder=\"New Todo\"),\n",
    "                Button(\"Add\")\n",
    "            ), hx_post=\"/\"\n",
    "        )\n",
    "    card = Card(\n",
    "                Ul(*map(TodoRow, todos()), id='todo-list'),\n",
    "                header=add,\n",
    "                footer=Div(id='current-todo')\n",
    "            )\n",
    "    return Page('Todo list', card)\n",
    "\n",
    "@rt(\"/\")\n",
    "def get(): return home()\n",
    "\n",
    "@rt(\"/\")\n",
    "def post(todo:Todo):\n",
    "    todos.insert(todo)\n",
    "    return home()\n",
    "\n",
    "@rt(\"/edit/{id}\")\n",
    "def get(id:int):\n",
    "    res = Form(\n",
    "            Group(\n",
    "                Input(id=\"title\"),\n",
    "                Button(\"Save\")\n",
    "            ),\n",
    "            Hidden(id=\"id\"),\n",
    "            Checkbox(id=\"done\", label='Done'),\n",
    "            Button('Back', \n",
    "                   hx_get='/'), # click the button to return the home page\n",
    "            hx_put=\"/\",  # click edit to update the todo and return the home page\n",
    "            id=\"edit\"\n",
    "        )\n",
    "    frm = fill_form(res, todos[id])\n",
    "    return Page('Edit Todo', frm)\n",
    "\n",
    "@rt(\"/\")\n",
    "def put(todo: Todo):\n",
    "    todos.update(todo)\n",
    "    return home()\n",
    "\n",
    "\n",
    "serve()"
   ]
  },
  {
   "cell_type": "markdown",
   "metadata": {},
   "source": [
    "# `name:value` pair & `hx_get='/delete'` in Button"
   ]
  },
  {
   "cell_type": "code",
   "execution_count": null,
   "metadata": {},
   "outputs": [],
   "source": [
    "from fasthtml.fastapp import *\n",
    "\n",
    "app,rt,todos,Todo = fast_app('data/todos.db', id=int, title=str, done=bool, pk='id')\n",
    "\n",
    "\n",
    "def TodoRow(todo): # rendering the todo as a Li\n",
    "    return Li(\n",
    "        A(todo.title, \n",
    "          hx_get=f'/todos/{todo.id}'),\n",
    "\n",
    "        (' (done)' if todo.done else '') + ' | ',\n",
    "\n",
    "        A('edit',     \n",
    "          hx_get=f'/edit/{todo.id}'), \n",
    "\n",
    "        id=f'todo-{todo.id}'\n",
    "    )\n",
    "\n",
    "\n",
    "@rt(\"/todos/{id}\") \n",
    "def get(id:int):\n",
    "    contents = Div(\n",
    "        Div(todos[id].title),\n",
    "        Button('Delete', \n",
    "               hx_get='/delete', # click the button to delete the todo\n",
    "                                 # hx_get='/' won't work\n",
    "                                 # probably because there will be two get function under '/' route\n",
    "               value=id, \n",
    "               name=\"id\"), \n",
    "        Button('Back', hx_get='/') \n",
    "    )\n",
    "    return Page('Todo details', contents) \n",
    "\n",
    "@rt(\"/delete\")\n",
    "def get(id:int): \n",
    "    todos.delete(id)\n",
    "    return home()\n",
    "\n",
    "def home():\n",
    "    add = Form(\n",
    "            Group(\n",
    "                Input(name=\"title\", placeholder=\"New Todo\"),\n",
    "                Button(\"Add\")\n",
    "            ), hx_post=\"/\"\n",
    "        )\n",
    "    card = Card(\n",
    "                Ul(*map(TodoRow, todos()), id='todo-list'),\n",
    "                header=add,\n",
    "                footer=Div(id='current-todo')\n",
    "            )\n",
    "    return Page('Todo list', card)\n",
    "\n",
    "@rt(\"/\")\n",
    "def get(): return home()\n",
    "\n",
    "@rt(\"/\")\n",
    "def post(todo:Todo):\n",
    "    todos.insert(todo)\n",
    "    return home()\n",
    "\n",
    "\n",
    "\n",
    "\n",
    "\n",
    "@rt(\"/edit/{id}\")\n",
    "def get(id:int):\n",
    "    res = Form(\n",
    "            Group(\n",
    "                Input(id=\"title\"),\n",
    "                Button(\"Save\")\n",
    "            ),\n",
    "            Hidden(id=\"id\"),\n",
    "            Checkbox(id=\"done\", label='Done'),\n",
    "            Button('Back', \n",
    "                   hx_get='/'), # click the button to return the home page\n",
    "            hx_put=\"/\",  # click edit to update the todo and return the home page\n",
    "            id=\"edit\"\n",
    "        )\n",
    "    frm = fill_form(res, todos[id])\n",
    "    return Page('Edit Todo', frm)\n",
    "\n",
    "@rt(\"/\")\n",
    "def put(todo: Todo):\n",
    "    todos.update(todo)\n",
    "    return home()\n",
    "\n",
    "\n",
    "serve()"
   ]
  },
  {
   "cell_type": "markdown",
   "metadata": {},
   "source": [
    "# how htmx make multi-page app easy\n",
    "\n",
    "- `Main(..., hx_swap_oob='true', id='main')` is the key\n",
    "\n",
    "\n",
    "```python \n",
    "@delegates(ft_hx, keep=True)\n",
    "def Titled(title:str=\"FastHTML app\", *args, **kwargs)->FT:\n",
    "    \"An HTML partial containing a `Title`, and `H1`, and any provided children\"\n",
    "    return Title(title), Main(H1(title), *args, cls=\"container\", **kwargs)\n",
    "\n",
    "def Page(title, *con): return Title(title), ContainerX(H1(title), *con)\n",
    "def ContainerX(*cs, **kwargs): return Main(*cs, **kwargs, cls='container', hx_push_url='true', hx_swap_oob='true', id='main')\n",
    "```\n",
    "\n"
   ]
  },
  {
   "cell_type": "code",
   "execution_count": null,
   "metadata": {},
   "outputs": [],
   "source": [
    "from fasthtml.fastapp import *\n",
    "\n",
    "# experiment the Page setting\n",
    "def Page(title, *con): return Title(title), ContainerX(H1(title), *con)\n",
    "def ContainerX(*cs, **kwargs): return Main(*cs, **kwargs, cls='container', \n",
    "                                           hx_push_url='true', \n",
    "                                           hx_swap_oob='true', \n",
    "                                           id='main')\n",
    "\n",
    "\n",
    "\n",
    "app,rt,todos,Todo = fast_app('data/todos.db', id=int, title=str, done=bool, pk='id')\n",
    "\n",
    "\n",
    "def TodoRow(todo): # rendering the todo as a Li\n",
    "    return Li(\n",
    "        A(todo.title, \n",
    "          hx_get=f'/todos/{todo.id}'),\n",
    "\n",
    "        (' (done)' if todo.done else '') + ' | ',\n",
    "\n",
    "        A('edit',     \n",
    "          hx_get=f'/edit/{todo.id}'), \n",
    "\n",
    "        id=f'todo-{todo.id}'\n",
    "    )\n",
    "\n",
    "\n",
    "@rt(\"/todos/{id}\") \n",
    "def get(id:int):\n",
    "    contents = Div(\n",
    "        Div(todos[id].title),\n",
    "        Button('Delete', \n",
    "               hx_get='/delete', \n",
    "                                 \n",
    "                                 \n",
    "               value=id, \n",
    "               name=\"id\"), \n",
    "        Button('Back', hx_get='/') \n",
    "    )\n",
    "    return Titled('Todo details', Main(contents, \n",
    "                                       cls=\"container\",\n",
    "                                       hx_push_url=\"true\", \n",
    "                                       hx_swap_oob=\"true\", # same in Page's Main\n",
    "                                       id='main')) # same in Page's Main\n",
    "            # so this response is not to replace the A tag, but to the whole page\n",
    "\n",
    "@rt(\"/delete\")\n",
    "def get(id:int): \n",
    "    todos.delete(id)\n",
    "    return home()\n",
    "\n",
    "def home():\n",
    "    add = Form(\n",
    "            Group(\n",
    "                Input(name=\"title\", placeholder=\"New Todo\"),\n",
    "                Button(\"Add\")\n",
    "            ), hx_post=\"/\"\n",
    "        )\n",
    "    card = Card(\n",
    "                Ul(*map(TodoRow, todos()), id='todo-list'),\n",
    "                header=add,\n",
    "                footer=Div(id='current-todo')\n",
    "            )\n",
    "    return Page('Todo list', card)\n",
    "\n",
    "@rt(\"/\")\n",
    "def get(): return home()\n",
    "\n",
    "@rt(\"/\")\n",
    "def post(todo:Todo):\n",
    "    todos.insert(todo)\n",
    "    return home()\n",
    "\n",
    "\n",
    "@rt(\"/edit/{id}\")\n",
    "def get(id:int):\n",
    "    res = Form(\n",
    "            Group(\n",
    "                Input(id=\"title\"),\n",
    "                Button(\"Save\")\n",
    "            ),\n",
    "            Hidden(id=\"id\"),\n",
    "            Checkbox(id=\"done\", label='Done'),\n",
    "            Button('Back', \n",
    "                   hx_get='/'), # click the button to return the home page\n",
    "            hx_put=\"/\",  # click edit to update the todo and return the home page\n",
    "            id=\"edit\"\n",
    "        )\n",
    "    frm = fill_form(res, todos[id])\n",
    "    return Page('Edit Todo', frm)\n",
    "\n",
    "@rt(\"/\")\n",
    "def put(todo: Todo):\n",
    "    todos.update(todo)\n",
    "    return home()\n",
    "\n",
    "\n",
    "serve()"
   ]
  },
  {
   "cell_type": "markdown",
   "metadata": {},
   "source": [
    "#  add url history and push the url\n",
    "- `hx_push_url=\"true\"` is the key"
   ]
  },
  {
   "cell_type": "code",
   "execution_count": null,
   "metadata": {},
   "outputs": [],
   "source": [
    "from fasthtml.fastapp import *\n",
    "\n",
    "# experiment the Page setting\n",
    "def Page(title, *con): return Title(title), ContainerX(H1(title), *con)\n",
    "def ContainerX(*cs, **kwargs): return Main(*cs, **kwargs, cls='container', \n",
    "                                           hx_push_url='true', \n",
    "                                           hx_swap_oob='true', \n",
    "                                           id='main')\n",
    "\n",
    "\n",
    "\n",
    "app,rt,todos,Todo = fast_app('data/todos.db', id=int, title=str, done=bool, pk='id')\n",
    "\n",
    "\n",
    "def TodoRow(todo): # rendering the todo as a Li\n",
    "    return Li(\n",
    "        A(todo.title, \n",
    "          hx_get=f'/todos/{todo.id}'),\n",
    "\n",
    "        (' (done)' if todo.done else '') + ' | ',\n",
    "\n",
    "        A('edit',     \n",
    "          hx_get=f'/edit/{todo.id}'), \n",
    "\n",
    "        id=f'todo-{todo.id}'\n",
    "    )\n",
    "\n",
    "\n",
    "@rt(\"/todos/{id}\") \n",
    "def get(id:int):\n",
    "    contents = Div(\n",
    "        Div(todos[id].title),\n",
    "        Button('Delete', \n",
    "               hx_get='/delete', \n",
    "               value=id, \n",
    "               name=\"id\"), \n",
    "        Button('Back', hx_get='/') \n",
    "    )\n",
    "    return Titled('Todo details', Main(contents, \n",
    "                                       cls=\"container\", # get the css right with main and cls\n",
    "                                       hx_push_url=\"true\", # add url history and push the url\n",
    "                                       hx_swap_oob=\"true\", \n",
    "                                       id='main')) \n",
    "\n",
    "@rt(\"/delete\")\n",
    "def get(id:int): \n",
    "    todos.delete(id)\n",
    "    return home()\n",
    "\n",
    "def home():\n",
    "    add = Form(\n",
    "            Group(\n",
    "                Input(name=\"title\", placeholder=\"New Todo\"),\n",
    "                Button(\"Add\")\n",
    "            ), hx_post=\"/\"\n",
    "        )\n",
    "    card = Card(\n",
    "                Ul(*map(TodoRow, todos()), id='todo-list'),\n",
    "                header=add,\n",
    "                footer=Div(id='current-todo')\n",
    "            )\n",
    "    return Page('Todo list', card)\n",
    "\n",
    "@rt(\"/\")\n",
    "def get(): return home()\n",
    "\n",
    "@rt(\"/\")\n",
    "def post(todo:Todo):\n",
    "    todos.insert(todo)\n",
    "    return home()\n",
    "\n",
    "\n",
    "@rt(\"/edit/{id}\")\n",
    "def get(id:int):\n",
    "    res = Form(\n",
    "            Group(\n",
    "                Input(id=\"title\"),\n",
    "                Button(\"Save\")\n",
    "            ),\n",
    "            Hidden(id=\"id\"),\n",
    "            Checkbox(id=\"done\", label='Done'),\n",
    "            Button('Back', \n",
    "                   hx_get='/'), # click the button to return the home page\n",
    "            hx_put=\"/\",  # click edit to update the todo and return the home page\n",
    "            id=\"edit\"\n",
    "        )\n",
    "    frm = fill_form(res, todos[id])\n",
    "    return Page('Edit Todo', frm)\n",
    "\n",
    "@rt(\"/\")\n",
    "def put(todo: Todo):\n",
    "    todos.update(todo)\n",
    "    return home()\n",
    "\n",
    "\n",
    "serve()"
   ]
  },
  {
   "cell_type": "markdown",
   "metadata": {},
   "source": [
    "# fill data to the form and update data from the form"
   ]
  },
  {
   "cell_type": "code",
   "execution_count": null,
   "metadata": {},
   "outputs": [],
   "source": [
    "from fasthtml.fastapp import *\n",
    "\n",
    "# experiment the Page setting\n",
    "def Page(title, *con): return Title(title), ContainerX(H1(title), *con)\n",
    "def ContainerX(*cs, **kwargs): return Main(*cs, **kwargs, cls='container', \n",
    "                                           hx_push_url='true', \n",
    "                                           hx_swap_oob='true', \n",
    "                                           id='main')\n",
    "\n",
    "\n",
    "\n",
    "app,rt,todos,Todo = fast_app('data/todos.db', id=int, title=str, done=bool, pk='id')\n",
    "\n",
    "\n",
    "def TodoRow(todo): # rendering the todo as a Li\n",
    "    return Li(\n",
    "        A(todo.title, \n",
    "          hx_get=f'/todos/{todo.id}'),\n",
    "\n",
    "        (' (done)' if todo.done else '') + ' | ',\n",
    "\n",
    "        A('edit',     \n",
    "          hx_get=f'/edit/{todo.id}'), \n",
    "\n",
    "        id=f'todo-{todo.id}'\n",
    "    )\n",
    "\n",
    "\n",
    "@rt(\"/todos/{id}\") \n",
    "def get(id:int):\n",
    "    contents = Div(\n",
    "        Div(todos[id].title),\n",
    "        Button('Delete', \n",
    "               hx_get='/delete', \n",
    "               value=id, \n",
    "               name=\"id\"), \n",
    "        Button('Back', hx_get='/') \n",
    "    )\n",
    "    return Titled('Todo details', Main(contents, \n",
    "                                       cls=\"container\", # get the css right with main and cls\n",
    "                                       hx_push_url=\"true\", # add url history and push the url\n",
    "                                       hx_swap_oob=\"true\", \n",
    "                                       id='main')) \n",
    "\n",
    "@rt(\"/delete\")\n",
    "def get(id:int): \n",
    "    todos.delete(id)\n",
    "    return home()\n",
    "\n",
    "def home():\n",
    "    add = Form(\n",
    "            Group(\n",
    "                Input(name=\"title\", # name is for the form data\n",
    "                      placeholder=\"New Todo\"), # value is the user input data for Input bar\n",
    "                Button(\"Add\")\n",
    "            ), \n",
    "            hx_post=\"/\" # post form data to server\n",
    "        )\n",
    "    card = Card(\n",
    "                Ul(*map(TodoRow, todos()), id='todo-list'),\n",
    "                header=add,\n",
    "                footer=Div(id='current-todo')\n",
    "            )\n",
    "    return Page('Todo list', card)\n",
    "\n",
    "@rt(\"/\")\n",
    "def get(): return home()\n",
    "\n",
    "@rt(\"/\")\n",
    "def post(todo:Todo):\n",
    "    todos.insert(todo)\n",
    "    return home()\n",
    "\n",
    "\n",
    "@rt(\"/edit/{id}\")\n",
    "def get(id:int):\n",
    "    res = Form(\n",
    "            Group(\n",
    "                Input(id=\"title\",\n",
    "                      name=\"title\", # name is for the form data\n",
    "                      ),\n",
    "                Button(\"Save\")\n",
    "            ),\n",
    "            Hidden(id=\"id\"), # to fill in the id of the todo ========================\n",
    "            Checkbox(id=\"done\", label='Done'),\n",
    "            Button('Back', \n",
    "                   hx_get='/'), # click the button to return the home page\n",
    "            hx_put=\"/\",  # click to update the todo from Input for title, Hidden for id, Checkbox for done\n",
    "            id=\"edit\"\n",
    "        )\n",
    "    frm = fill_form(res, todos[id]) # fill the form with the todo data\n",
    "    return Page('Edit Todo', frm)\n",
    "\n",
    "@rt(\"/\")\n",
    "def put(todo: Todo):\n",
    "    todos.update(todo)\n",
    "    return home()\n",
    "\n",
    "\n",
    "serve()"
   ]
  }
 ],
 "metadata": {
  "kernelspec": {
   "display_name": "base",
   "language": "python",
   "name": "python3"
  },
  "language_info": {
   "codemirror_mode": {
    "name": "ipython",
    "version": 3
   },
   "file_extension": ".py",
   "mimetype": "text/x-python",
   "name": "python",
   "nbconvert_exporter": "python",
   "pygments_lexer": "ipython3",
   "version": "3.10.14"
  }
 },
 "nbformat": 4,
 "nbformat_minor": 2
}
